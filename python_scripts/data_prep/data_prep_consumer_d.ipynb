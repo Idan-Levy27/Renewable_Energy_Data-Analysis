{
  "cells": [
    {
      "cell_type": "markdown",
      "source": [
        "### **<h1>Data Consumer D - (נתוני צריכה צרכן ד)</h1>**"
      ],
      "metadata": {
        "id": "W2NZ0_te5kuG"
      },
      "id": "W2NZ0_te5kuG"
    },
    {
      "cell_type": "code",
      "execution_count": 18,
      "id": "aae30132-6f05-4c16-8f58-d1b77c118a06",
      "metadata": {
        "tags": [],
        "colab": {
          "base_uri": "https://localhost:8080/"
        },
        "id": "aae30132-6f05-4c16-8f58-d1b77c118a06",
        "outputId": "d3d09aae-52b3-4610-e967-dd7ea38f63ec"
      },
      "outputs": [
        {
          "output_type": "stream",
          "name": "stdout",
          "text": [
            "Mounted at /content/drive\n"
          ]
        }
      ],
      "source": [
        "# imports\n",
        "import pandas as pd\n",
        "import plotly.graph_objects as go\n",
        "\n",
        "#Permission to access my Google Drive\n",
        "from google.colab import drive\n",
        "drive.mount('/content/drive', force_remount=True)\n",
        "\n",
        "FILE_PATH = \"/content/drive/MyDrive/Doral_Energy/data/raw_data/נתוני צריכה צרכן ד.xlsx\"\n",
        "\n",
        "  "
      ]
    },
    {
      "cell_type": "markdown",
      "source": [
        "# Load the data"
      ],
      "metadata": {
        "id": "9c8GfasE4SRs"
      },
      "id": "9c8GfasE4SRs"
    },
    {
      "cell_type": "code",
      "source": [
        "df = pd.read_excel(FILE_PATH)\n",
        "df"
      ],
      "metadata": {
        "colab": {
          "base_uri": "https://localhost:8080/",
          "height": 424
        },
        "id": "crrDNfhrcjCN",
        "outputId": "9bfb37f1-a82e-4dd9-8b11-86300832c2a6"
      },
      "id": "crrDNfhrcjCN",
      "execution_count": 19,
      "outputs": [
        {
          "output_type": "execute_result",
          "data": {
            "text/plain": [
              "      Unnamed: 0 Unnamed: 1  Unnamed: 2\n",
              "0     2022-01-01   00:00:00         593\n",
              "1     2022-01-01   00:30:00         593\n",
              "2     2022-01-01   01:00:00         542\n",
              "3     2022-01-01   01:30:00         546\n",
              "4     2022-01-01   02:00:00         516\n",
              "...          ...        ...         ...\n",
              "17515 2021-12-31   21:30:00         622\n",
              "17516 2021-12-31   22:00:00         617\n",
              "17517 2021-12-31   22:30:00         606\n",
              "17518 2021-12-31   23:00:00         601\n",
              "17519 2021-12-31   23:30:00         603\n",
              "\n",
              "[17520 rows x 3 columns]"
            ],
            "text/html": [
              "\n",
              "  <div id=\"df-cc15bde3-7ce1-430c-ad5b-8ae08a52d82f\">\n",
              "    <div class=\"colab-df-container\">\n",
              "      <div>\n",
              "<style scoped>\n",
              "    .dataframe tbody tr th:only-of-type {\n",
              "        vertical-align: middle;\n",
              "    }\n",
              "\n",
              "    .dataframe tbody tr th {\n",
              "        vertical-align: top;\n",
              "    }\n",
              "\n",
              "    .dataframe thead th {\n",
              "        text-align: right;\n",
              "    }\n",
              "</style>\n",
              "<table border=\"1\" class=\"dataframe\">\n",
              "  <thead>\n",
              "    <tr style=\"text-align: right;\">\n",
              "      <th></th>\n",
              "      <th>Unnamed: 0</th>\n",
              "      <th>Unnamed: 1</th>\n",
              "      <th>Unnamed: 2</th>\n",
              "    </tr>\n",
              "  </thead>\n",
              "  <tbody>\n",
              "    <tr>\n",
              "      <th>0</th>\n",
              "      <td>2022-01-01</td>\n",
              "      <td>00:00:00</td>\n",
              "      <td>593</td>\n",
              "    </tr>\n",
              "    <tr>\n",
              "      <th>1</th>\n",
              "      <td>2022-01-01</td>\n",
              "      <td>00:30:00</td>\n",
              "      <td>593</td>\n",
              "    </tr>\n",
              "    <tr>\n",
              "      <th>2</th>\n",
              "      <td>2022-01-01</td>\n",
              "      <td>01:00:00</td>\n",
              "      <td>542</td>\n",
              "    </tr>\n",
              "    <tr>\n",
              "      <th>3</th>\n",
              "      <td>2022-01-01</td>\n",
              "      <td>01:30:00</td>\n",
              "      <td>546</td>\n",
              "    </tr>\n",
              "    <tr>\n",
              "      <th>4</th>\n",
              "      <td>2022-01-01</td>\n",
              "      <td>02:00:00</td>\n",
              "      <td>516</td>\n",
              "    </tr>\n",
              "    <tr>\n",
              "      <th>...</th>\n",
              "      <td>...</td>\n",
              "      <td>...</td>\n",
              "      <td>...</td>\n",
              "    </tr>\n",
              "    <tr>\n",
              "      <th>17515</th>\n",
              "      <td>2021-12-31</td>\n",
              "      <td>21:30:00</td>\n",
              "      <td>622</td>\n",
              "    </tr>\n",
              "    <tr>\n",
              "      <th>17516</th>\n",
              "      <td>2021-12-31</td>\n",
              "      <td>22:00:00</td>\n",
              "      <td>617</td>\n",
              "    </tr>\n",
              "    <tr>\n",
              "      <th>17517</th>\n",
              "      <td>2021-12-31</td>\n",
              "      <td>22:30:00</td>\n",
              "      <td>606</td>\n",
              "    </tr>\n",
              "    <tr>\n",
              "      <th>17518</th>\n",
              "      <td>2021-12-31</td>\n",
              "      <td>23:00:00</td>\n",
              "      <td>601</td>\n",
              "    </tr>\n",
              "    <tr>\n",
              "      <th>17519</th>\n",
              "      <td>2021-12-31</td>\n",
              "      <td>23:30:00</td>\n",
              "      <td>603</td>\n",
              "    </tr>\n",
              "  </tbody>\n",
              "</table>\n",
              "<p>17520 rows × 3 columns</p>\n",
              "</div>\n",
              "      <button class=\"colab-df-convert\" onclick=\"convertToInteractive('df-cc15bde3-7ce1-430c-ad5b-8ae08a52d82f')\"\n",
              "              title=\"Convert this dataframe to an interactive table.\"\n",
              "              style=\"display:none;\">\n",
              "        \n",
              "  <svg xmlns=\"http://www.w3.org/2000/svg\" height=\"24px\"viewBox=\"0 0 24 24\"\n",
              "       width=\"24px\">\n",
              "    <path d=\"M0 0h24v24H0V0z\" fill=\"none\"/>\n",
              "    <path d=\"M18.56 5.44l.94 2.06.94-2.06 2.06-.94-2.06-.94-.94-2.06-.94 2.06-2.06.94zm-11 1L8.5 8.5l.94-2.06 2.06-.94-2.06-.94L8.5 2.5l-.94 2.06-2.06.94zm10 10l.94 2.06.94-2.06 2.06-.94-2.06-.94-.94-2.06-.94 2.06-2.06.94z\"/><path d=\"M17.41 7.96l-1.37-1.37c-.4-.4-.92-.59-1.43-.59-.52 0-1.04.2-1.43.59L10.3 9.45l-7.72 7.72c-.78.78-.78 2.05 0 2.83L4 21.41c.39.39.9.59 1.41.59.51 0 1.02-.2 1.41-.59l7.78-7.78 2.81-2.81c.8-.78.8-2.07 0-2.86zM5.41 20L4 18.59l7.72-7.72 1.47 1.35L5.41 20z\"/>\n",
              "  </svg>\n",
              "      </button>\n",
              "      \n",
              "  <style>\n",
              "    .colab-df-container {\n",
              "      display:flex;\n",
              "      flex-wrap:wrap;\n",
              "      gap: 12px;\n",
              "    }\n",
              "\n",
              "    .colab-df-convert {\n",
              "      background-color: #E8F0FE;\n",
              "      border: none;\n",
              "      border-radius: 50%;\n",
              "      cursor: pointer;\n",
              "      display: none;\n",
              "      fill: #1967D2;\n",
              "      height: 32px;\n",
              "      padding: 0 0 0 0;\n",
              "      width: 32px;\n",
              "    }\n",
              "\n",
              "    .colab-df-convert:hover {\n",
              "      background-color: #E2EBFA;\n",
              "      box-shadow: 0px 1px 2px rgba(60, 64, 67, 0.3), 0px 1px 3px 1px rgba(60, 64, 67, 0.15);\n",
              "      fill: #174EA6;\n",
              "    }\n",
              "\n",
              "    [theme=dark] .colab-df-convert {\n",
              "      background-color: #3B4455;\n",
              "      fill: #D2E3FC;\n",
              "    }\n",
              "\n",
              "    [theme=dark] .colab-df-convert:hover {\n",
              "      background-color: #434B5C;\n",
              "      box-shadow: 0px 1px 3px 1px rgba(0, 0, 0, 0.15);\n",
              "      filter: drop-shadow(0px 1px 2px rgba(0, 0, 0, 0.3));\n",
              "      fill: #FFFFFF;\n",
              "    }\n",
              "  </style>\n",
              "\n",
              "      <script>\n",
              "        const buttonEl =\n",
              "          document.querySelector('#df-cc15bde3-7ce1-430c-ad5b-8ae08a52d82f button.colab-df-convert');\n",
              "        buttonEl.style.display =\n",
              "          google.colab.kernel.accessAllowed ? 'block' : 'none';\n",
              "\n",
              "        async function convertToInteractive(key) {\n",
              "          const element = document.querySelector('#df-cc15bde3-7ce1-430c-ad5b-8ae08a52d82f');\n",
              "          const dataTable =\n",
              "            await google.colab.kernel.invokeFunction('convertToInteractive',\n",
              "                                                     [key], {});\n",
              "          if (!dataTable) return;\n",
              "\n",
              "          const docLinkHtml = 'Like what you see? Visit the ' +\n",
              "            '<a target=\"_blank\" href=https://colab.research.google.com/notebooks/data_table.ipynb>data table notebook</a>'\n",
              "            + ' to learn more about interactive tables.';\n",
              "          element.innerHTML = '';\n",
              "          dataTable['output_type'] = 'display_data';\n",
              "          await google.colab.output.renderOutput(dataTable, element);\n",
              "          const docLink = document.createElement('div');\n",
              "          docLink.innerHTML = docLinkHtml;\n",
              "          element.appendChild(docLink);\n",
              "        }\n",
              "      </script>\n",
              "    </div>\n",
              "  </div>\n",
              "  "
            ]
          },
          "metadata": {},
          "execution_count": 19
        }
      ]
    },
    {
      "cell_type": "markdown",
      "source": [
        "# Change column names"
      ],
      "metadata": {
        "id": "0nSBAJow7FI5"
      },
      "id": "0nSBAJow7FI5"
    },
    {
      "cell_type": "code",
      "execution_count": 20,
      "id": "ea59425b-8d5c-4848-8e88-7561cc63cadd",
      "metadata": {
        "colab": {
          "base_uri": "https://localhost:8080/",
          "height": 206
        },
        "id": "ea59425b-8d5c-4848-8e88-7561cc63cadd",
        "outputId": "6bee9ffb-8dbc-4b71-b046-02b74a5873c0"
      },
      "outputs": [
        {
          "output_type": "execute_result",
          "data": {
            "text/plain": [
              "        date      hour  kWh_amount\n",
              "0 2022-01-01  00:00:00         593\n",
              "1 2022-01-01  00:30:00         593\n",
              "2 2022-01-01  01:00:00         542\n",
              "3 2022-01-01  01:30:00         546\n",
              "4 2022-01-01  02:00:00         516"
            ],
            "text/html": [
              "\n",
              "  <div id=\"df-bba4ad4c-66db-4bdb-9c68-9ab162426583\">\n",
              "    <div class=\"colab-df-container\">\n",
              "      <div>\n",
              "<style scoped>\n",
              "    .dataframe tbody tr th:only-of-type {\n",
              "        vertical-align: middle;\n",
              "    }\n",
              "\n",
              "    .dataframe tbody tr th {\n",
              "        vertical-align: top;\n",
              "    }\n",
              "\n",
              "    .dataframe thead th {\n",
              "        text-align: right;\n",
              "    }\n",
              "</style>\n",
              "<table border=\"1\" class=\"dataframe\">\n",
              "  <thead>\n",
              "    <tr style=\"text-align: right;\">\n",
              "      <th></th>\n",
              "      <th>date</th>\n",
              "      <th>hour</th>\n",
              "      <th>kWh_amount</th>\n",
              "    </tr>\n",
              "  </thead>\n",
              "  <tbody>\n",
              "    <tr>\n",
              "      <th>0</th>\n",
              "      <td>2022-01-01</td>\n",
              "      <td>00:00:00</td>\n",
              "      <td>593</td>\n",
              "    </tr>\n",
              "    <tr>\n",
              "      <th>1</th>\n",
              "      <td>2022-01-01</td>\n",
              "      <td>00:30:00</td>\n",
              "      <td>593</td>\n",
              "    </tr>\n",
              "    <tr>\n",
              "      <th>2</th>\n",
              "      <td>2022-01-01</td>\n",
              "      <td>01:00:00</td>\n",
              "      <td>542</td>\n",
              "    </tr>\n",
              "    <tr>\n",
              "      <th>3</th>\n",
              "      <td>2022-01-01</td>\n",
              "      <td>01:30:00</td>\n",
              "      <td>546</td>\n",
              "    </tr>\n",
              "    <tr>\n",
              "      <th>4</th>\n",
              "      <td>2022-01-01</td>\n",
              "      <td>02:00:00</td>\n",
              "      <td>516</td>\n",
              "    </tr>\n",
              "  </tbody>\n",
              "</table>\n",
              "</div>\n",
              "      <button class=\"colab-df-convert\" onclick=\"convertToInteractive('df-bba4ad4c-66db-4bdb-9c68-9ab162426583')\"\n",
              "              title=\"Convert this dataframe to an interactive table.\"\n",
              "              style=\"display:none;\">\n",
              "        \n",
              "  <svg xmlns=\"http://www.w3.org/2000/svg\" height=\"24px\"viewBox=\"0 0 24 24\"\n",
              "       width=\"24px\">\n",
              "    <path d=\"M0 0h24v24H0V0z\" fill=\"none\"/>\n",
              "    <path d=\"M18.56 5.44l.94 2.06.94-2.06 2.06-.94-2.06-.94-.94-2.06-.94 2.06-2.06.94zm-11 1L8.5 8.5l.94-2.06 2.06-.94-2.06-.94L8.5 2.5l-.94 2.06-2.06.94zm10 10l.94 2.06.94-2.06 2.06-.94-2.06-.94-.94-2.06-.94 2.06-2.06.94z\"/><path d=\"M17.41 7.96l-1.37-1.37c-.4-.4-.92-.59-1.43-.59-.52 0-1.04.2-1.43.59L10.3 9.45l-7.72 7.72c-.78.78-.78 2.05 0 2.83L4 21.41c.39.39.9.59 1.41.59.51 0 1.02-.2 1.41-.59l7.78-7.78 2.81-2.81c.8-.78.8-2.07 0-2.86zM5.41 20L4 18.59l7.72-7.72 1.47 1.35L5.41 20z\"/>\n",
              "  </svg>\n",
              "      </button>\n",
              "      \n",
              "  <style>\n",
              "    .colab-df-container {\n",
              "      display:flex;\n",
              "      flex-wrap:wrap;\n",
              "      gap: 12px;\n",
              "    }\n",
              "\n",
              "    .colab-df-convert {\n",
              "      background-color: #E8F0FE;\n",
              "      border: none;\n",
              "      border-radius: 50%;\n",
              "      cursor: pointer;\n",
              "      display: none;\n",
              "      fill: #1967D2;\n",
              "      height: 32px;\n",
              "      padding: 0 0 0 0;\n",
              "      width: 32px;\n",
              "    }\n",
              "\n",
              "    .colab-df-convert:hover {\n",
              "      background-color: #E2EBFA;\n",
              "      box-shadow: 0px 1px 2px rgba(60, 64, 67, 0.3), 0px 1px 3px 1px rgba(60, 64, 67, 0.15);\n",
              "      fill: #174EA6;\n",
              "    }\n",
              "\n",
              "    [theme=dark] .colab-df-convert {\n",
              "      background-color: #3B4455;\n",
              "      fill: #D2E3FC;\n",
              "    }\n",
              "\n",
              "    [theme=dark] .colab-df-convert:hover {\n",
              "      background-color: #434B5C;\n",
              "      box-shadow: 0px 1px 3px 1px rgba(0, 0, 0, 0.15);\n",
              "      filter: drop-shadow(0px 1px 2px rgba(0, 0, 0, 0.3));\n",
              "      fill: #FFFFFF;\n",
              "    }\n",
              "  </style>\n",
              "\n",
              "      <script>\n",
              "        const buttonEl =\n",
              "          document.querySelector('#df-bba4ad4c-66db-4bdb-9c68-9ab162426583 button.colab-df-convert');\n",
              "        buttonEl.style.display =\n",
              "          google.colab.kernel.accessAllowed ? 'block' : 'none';\n",
              "\n",
              "        async function convertToInteractive(key) {\n",
              "          const element = document.querySelector('#df-bba4ad4c-66db-4bdb-9c68-9ab162426583');\n",
              "          const dataTable =\n",
              "            await google.colab.kernel.invokeFunction('convertToInteractive',\n",
              "                                                     [key], {});\n",
              "          if (!dataTable) return;\n",
              "\n",
              "          const docLinkHtml = 'Like what you see? Visit the ' +\n",
              "            '<a target=\"_blank\" href=https://colab.research.google.com/notebooks/data_table.ipynb>data table notebook</a>'\n",
              "            + ' to learn more about interactive tables.';\n",
              "          element.innerHTML = '';\n",
              "          dataTable['output_type'] = 'display_data';\n",
              "          await google.colab.output.renderOutput(dataTable, element);\n",
              "          const docLink = document.createElement('div');\n",
              "          docLink.innerHTML = docLinkHtml;\n",
              "          element.appendChild(docLink);\n",
              "        }\n",
              "      </script>\n",
              "    </div>\n",
              "  </div>\n",
              "  "
            ]
          },
          "metadata": {},
          "execution_count": 20
        }
      ],
      "source": [
        "df.rename(columns={'Unnamed: 0': 'date', 'Unnamed: 1': 'hour', 'Unnamed: 2': 'kWh_amount' }, inplace=True)\n",
        "df.head()"
      ]
    },
    {
      "cell_type": "markdown",
      "source": [
        "# Check the types"
      ],
      "metadata": {
        "id": "wPMlMQFM7PR8"
      },
      "id": "wPMlMQFM7PR8"
    },
    {
      "cell_type": "code",
      "execution_count": 21,
      "id": "f711b4c9-7619-4b83-99f7-d0ec7f586055",
      "metadata": {
        "tags": [],
        "colab": {
          "base_uri": "https://localhost:8080/"
        },
        "id": "f711b4c9-7619-4b83-99f7-d0ec7f586055",
        "outputId": "01dcd7e5-30b4-4927-d173-09c049b7fad8"
      },
      "outputs": [
        {
          "output_type": "stream",
          "name": "stdout",
          "text": [
            "<class 'pandas.core.frame.DataFrame'>\n",
            "RangeIndex: 17520 entries, 0 to 17519\n",
            "Data columns (total 3 columns):\n",
            " #   Column      Non-Null Count  Dtype         \n",
            "---  ------      --------------  -----         \n",
            " 0   date        17520 non-null  datetime64[ns]\n",
            " 1   hour        17520 non-null  object        \n",
            " 2   kWh_amount  17520 non-null  int64         \n",
            "dtypes: datetime64[ns](1), int64(1), object(1)\n",
            "memory usage: 410.8+ KB\n"
          ]
        }
      ],
      "source": [
        "df.info()"
      ]
    },
    {
      "cell_type": "markdown",
      "source": [
        "# Convert date format and convert kwh_amount from int to float"
      ],
      "metadata": {
        "id": "0lLFGN6uC16R"
      },
      "id": "0lLFGN6uC16R"
    },
    {
      "cell_type": "code",
      "execution_count": 22,
      "id": "25c3536b-4b22-4f9d-b286-36fd8ace9255",
      "metadata": {
        "id": "25c3536b-4b22-4f9d-b286-36fd8ace9255"
      },
      "outputs": [],
      "source": [
        "df['date'] = df['date'].dt.strftime('%d/%m/%Y')\n",
        "df['kWh_amount'] = df['kWh_amount'].astype(float)"
      ]
    },
    {
      "cell_type": "markdown",
      "source": [
        "#Get some understanding about the range of Kwh\n"
      ],
      "metadata": {
        "id": "-3NbCDIr7t2o"
      },
      "id": "-3NbCDIr7t2o"
    },
    {
      "cell_type": "code",
      "execution_count": 23,
      "id": "e946905d-10c1-4a6f-8d07-f6a0a2bede3a",
      "metadata": {
        "colab": {
          "base_uri": "https://localhost:8080/",
          "height": 300
        },
        "id": "e946905d-10c1-4a6f-8d07-f6a0a2bede3a",
        "outputId": "9b4f50ce-a87f-4cb2-ff77-b3314500d299"
      },
      "outputs": [
        {
          "output_type": "execute_result",
          "data": {
            "text/plain": [
              "         kWh_amount\n",
              "count  17520.000000\n",
              "mean    1508.531164\n",
              "std      866.728666\n",
              "min        0.000000\n",
              "25%      689.000000\n",
              "50%     1307.000000\n",
              "75%     2119.000000\n",
              "max     3633.000000"
            ],
            "text/html": [
              "\n",
              "  <div id=\"df-bc43c56c-0c27-4b27-8fc3-1b9213988de8\">\n",
              "    <div class=\"colab-df-container\">\n",
              "      <div>\n",
              "<style scoped>\n",
              "    .dataframe tbody tr th:only-of-type {\n",
              "        vertical-align: middle;\n",
              "    }\n",
              "\n",
              "    .dataframe tbody tr th {\n",
              "        vertical-align: top;\n",
              "    }\n",
              "\n",
              "    .dataframe thead th {\n",
              "        text-align: right;\n",
              "    }\n",
              "</style>\n",
              "<table border=\"1\" class=\"dataframe\">\n",
              "  <thead>\n",
              "    <tr style=\"text-align: right;\">\n",
              "      <th></th>\n",
              "      <th>kWh_amount</th>\n",
              "    </tr>\n",
              "  </thead>\n",
              "  <tbody>\n",
              "    <tr>\n",
              "      <th>count</th>\n",
              "      <td>17520.000000</td>\n",
              "    </tr>\n",
              "    <tr>\n",
              "      <th>mean</th>\n",
              "      <td>1508.531164</td>\n",
              "    </tr>\n",
              "    <tr>\n",
              "      <th>std</th>\n",
              "      <td>866.728666</td>\n",
              "    </tr>\n",
              "    <tr>\n",
              "      <th>min</th>\n",
              "      <td>0.000000</td>\n",
              "    </tr>\n",
              "    <tr>\n",
              "      <th>25%</th>\n",
              "      <td>689.000000</td>\n",
              "    </tr>\n",
              "    <tr>\n",
              "      <th>50%</th>\n",
              "      <td>1307.000000</td>\n",
              "    </tr>\n",
              "    <tr>\n",
              "      <th>75%</th>\n",
              "      <td>2119.000000</td>\n",
              "    </tr>\n",
              "    <tr>\n",
              "      <th>max</th>\n",
              "      <td>3633.000000</td>\n",
              "    </tr>\n",
              "  </tbody>\n",
              "</table>\n",
              "</div>\n",
              "      <button class=\"colab-df-convert\" onclick=\"convertToInteractive('df-bc43c56c-0c27-4b27-8fc3-1b9213988de8')\"\n",
              "              title=\"Convert this dataframe to an interactive table.\"\n",
              "              style=\"display:none;\">\n",
              "        \n",
              "  <svg xmlns=\"http://www.w3.org/2000/svg\" height=\"24px\"viewBox=\"0 0 24 24\"\n",
              "       width=\"24px\">\n",
              "    <path d=\"M0 0h24v24H0V0z\" fill=\"none\"/>\n",
              "    <path d=\"M18.56 5.44l.94 2.06.94-2.06 2.06-.94-2.06-.94-.94-2.06-.94 2.06-2.06.94zm-11 1L8.5 8.5l.94-2.06 2.06-.94-2.06-.94L8.5 2.5l-.94 2.06-2.06.94zm10 10l.94 2.06.94-2.06 2.06-.94-2.06-.94-.94-2.06-.94 2.06-2.06.94z\"/><path d=\"M17.41 7.96l-1.37-1.37c-.4-.4-.92-.59-1.43-.59-.52 0-1.04.2-1.43.59L10.3 9.45l-7.72 7.72c-.78.78-.78 2.05 0 2.83L4 21.41c.39.39.9.59 1.41.59.51 0 1.02-.2 1.41-.59l7.78-7.78 2.81-2.81c.8-.78.8-2.07 0-2.86zM5.41 20L4 18.59l7.72-7.72 1.47 1.35L5.41 20z\"/>\n",
              "  </svg>\n",
              "      </button>\n",
              "      \n",
              "  <style>\n",
              "    .colab-df-container {\n",
              "      display:flex;\n",
              "      flex-wrap:wrap;\n",
              "      gap: 12px;\n",
              "    }\n",
              "\n",
              "    .colab-df-convert {\n",
              "      background-color: #E8F0FE;\n",
              "      border: none;\n",
              "      border-radius: 50%;\n",
              "      cursor: pointer;\n",
              "      display: none;\n",
              "      fill: #1967D2;\n",
              "      height: 32px;\n",
              "      padding: 0 0 0 0;\n",
              "      width: 32px;\n",
              "    }\n",
              "\n",
              "    .colab-df-convert:hover {\n",
              "      background-color: #E2EBFA;\n",
              "      box-shadow: 0px 1px 2px rgba(60, 64, 67, 0.3), 0px 1px 3px 1px rgba(60, 64, 67, 0.15);\n",
              "      fill: #174EA6;\n",
              "    }\n",
              "\n",
              "    [theme=dark] .colab-df-convert {\n",
              "      background-color: #3B4455;\n",
              "      fill: #D2E3FC;\n",
              "    }\n",
              "\n",
              "    [theme=dark] .colab-df-convert:hover {\n",
              "      background-color: #434B5C;\n",
              "      box-shadow: 0px 1px 3px 1px rgba(0, 0, 0, 0.15);\n",
              "      filter: drop-shadow(0px 1px 2px rgba(0, 0, 0, 0.3));\n",
              "      fill: #FFFFFF;\n",
              "    }\n",
              "  </style>\n",
              "\n",
              "      <script>\n",
              "        const buttonEl =\n",
              "          document.querySelector('#df-bc43c56c-0c27-4b27-8fc3-1b9213988de8 button.colab-df-convert');\n",
              "        buttonEl.style.display =\n",
              "          google.colab.kernel.accessAllowed ? 'block' : 'none';\n",
              "\n",
              "        async function convertToInteractive(key) {\n",
              "          const element = document.querySelector('#df-bc43c56c-0c27-4b27-8fc3-1b9213988de8');\n",
              "          const dataTable =\n",
              "            await google.colab.kernel.invokeFunction('convertToInteractive',\n",
              "                                                     [key], {});\n",
              "          if (!dataTable) return;\n",
              "\n",
              "          const docLinkHtml = 'Like what you see? Visit the ' +\n",
              "            '<a target=\"_blank\" href=https://colab.research.google.com/notebooks/data_table.ipynb>data table notebook</a>'\n",
              "            + ' to learn more about interactive tables.';\n",
              "          element.innerHTML = '';\n",
              "          dataTable['output_type'] = 'display_data';\n",
              "          await google.colab.output.renderOutput(dataTable, element);\n",
              "          const docLink = document.createElement('div');\n",
              "          docLink.innerHTML = docLinkHtml;\n",
              "          element.appendChild(docLink);\n",
              "        }\n",
              "      </script>\n",
              "    </div>\n",
              "  </div>\n",
              "  "
            ]
          },
          "metadata": {},
          "execution_count": 23
        }
      ],
      "source": [
        "df.describe()"
      ]
    },
    {
      "cell_type": "markdown",
      "source": [
        "# Check if there are missing values\n"
      ],
      "metadata": {
        "id": "unJMqJDkcVcm"
      },
      "id": "unJMqJDkcVcm"
    },
    {
      "cell_type": "code",
      "source": [
        "df.isna().any(axis=1).sum()"
      ],
      "metadata": {
        "colab": {
          "base_uri": "https://localhost:8080/"
        },
        "id": "YlQunPM67y4O",
        "outputId": "fff7cd27-584a-4e79-c650-0a8af3c8d1f0"
      },
      "id": "YlQunPM67y4O",
      "execution_count": 24,
      "outputs": [
        {
          "output_type": "execute_result",
          "data": {
            "text/plain": [
              "0"
            ]
          },
          "metadata": {},
          "execution_count": 24
        }
      ]
    },
    {
      "cell_type": "markdown",
      "source": [
        "# Are there any duplicates?\n"
      ],
      "metadata": {
        "id": "G7qCRVYkcbU8"
      },
      "id": "G7qCRVYkcbU8"
    },
    {
      "cell_type": "code",
      "execution_count": 25,
      "id": "2d8ac5d4-f542-4d15-9e90-38975aebbef1",
      "metadata": {
        "tags": [],
        "colab": {
          "base_uri": "https://localhost:8080/"
        },
        "id": "2d8ac5d4-f542-4d15-9e90-38975aebbef1",
        "outputId": "4747830a-5cc4-45e3-fb62-216574f3e426"
      },
      "outputs": [
        {
          "output_type": "execute_result",
          "data": {
            "text/plain": [
              "0"
            ]
          },
          "metadata": {},
          "execution_count": 25
        }
      ],
      "source": [
        "df.duplicated().sum()"
      ]
    },
    {
      "cell_type": "code",
      "source": [
        "# group by date and hour, and check if there are rows with different kmh amount values\n",
        "grouped_df = df.groupby([df['date'], df['hour']])\n",
        "has_diff_kwh = grouped_df['kWh_amount'].nunique() > 1\n",
        "\n",
        "grouped_df = df.groupby([df['date'], df['hour']]).filter(lambda x: has_diff_kwh[x.name])\n",
        "grouped_df\n"
      ],
      "metadata": {
        "colab": {
          "base_uri": "https://localhost:8080/",
          "height": 49
        },
        "id": "GKZgpOSM_r6G",
        "outputId": "7d983b17-ef8e-4af1-b6a1-25ec5a10a7f4"
      },
      "id": "GKZgpOSM_r6G",
      "execution_count": 26,
      "outputs": [
        {
          "output_type": "execute_result",
          "data": {
            "text/plain": [
              "Empty DataFrame\n",
              "Columns: [date, hour, kWh_amount]\n",
              "Index: []"
            ],
            "text/html": [
              "\n",
              "  <div id=\"df-0c8a093d-6774-4969-8226-d1310e77da5b\">\n",
              "    <div class=\"colab-df-container\">\n",
              "      <div>\n",
              "<style scoped>\n",
              "    .dataframe tbody tr th:only-of-type {\n",
              "        vertical-align: middle;\n",
              "    }\n",
              "\n",
              "    .dataframe tbody tr th {\n",
              "        vertical-align: top;\n",
              "    }\n",
              "\n",
              "    .dataframe thead th {\n",
              "        text-align: right;\n",
              "    }\n",
              "</style>\n",
              "<table border=\"1\" class=\"dataframe\">\n",
              "  <thead>\n",
              "    <tr style=\"text-align: right;\">\n",
              "      <th></th>\n",
              "      <th>date</th>\n",
              "      <th>hour</th>\n",
              "      <th>kWh_amount</th>\n",
              "    </tr>\n",
              "  </thead>\n",
              "  <tbody>\n",
              "  </tbody>\n",
              "</table>\n",
              "</div>\n",
              "      <button class=\"colab-df-convert\" onclick=\"convertToInteractive('df-0c8a093d-6774-4969-8226-d1310e77da5b')\"\n",
              "              title=\"Convert this dataframe to an interactive table.\"\n",
              "              style=\"display:none;\">\n",
              "        \n",
              "  <svg xmlns=\"http://www.w3.org/2000/svg\" height=\"24px\"viewBox=\"0 0 24 24\"\n",
              "       width=\"24px\">\n",
              "    <path d=\"M0 0h24v24H0V0z\" fill=\"none\"/>\n",
              "    <path d=\"M18.56 5.44l.94 2.06.94-2.06 2.06-.94-2.06-.94-.94-2.06-.94 2.06-2.06.94zm-11 1L8.5 8.5l.94-2.06 2.06-.94-2.06-.94L8.5 2.5l-.94 2.06-2.06.94zm10 10l.94 2.06.94-2.06 2.06-.94-2.06-.94-.94-2.06-.94 2.06-2.06.94z\"/><path d=\"M17.41 7.96l-1.37-1.37c-.4-.4-.92-.59-1.43-.59-.52 0-1.04.2-1.43.59L10.3 9.45l-7.72 7.72c-.78.78-.78 2.05 0 2.83L4 21.41c.39.39.9.59 1.41.59.51 0 1.02-.2 1.41-.59l7.78-7.78 2.81-2.81c.8-.78.8-2.07 0-2.86zM5.41 20L4 18.59l7.72-7.72 1.47 1.35L5.41 20z\"/>\n",
              "  </svg>\n",
              "      </button>\n",
              "      \n",
              "  <style>\n",
              "    .colab-df-container {\n",
              "      display:flex;\n",
              "      flex-wrap:wrap;\n",
              "      gap: 12px;\n",
              "    }\n",
              "\n",
              "    .colab-df-convert {\n",
              "      background-color: #E8F0FE;\n",
              "      border: none;\n",
              "      border-radius: 50%;\n",
              "      cursor: pointer;\n",
              "      display: none;\n",
              "      fill: #1967D2;\n",
              "      height: 32px;\n",
              "      padding: 0 0 0 0;\n",
              "      width: 32px;\n",
              "    }\n",
              "\n",
              "    .colab-df-convert:hover {\n",
              "      background-color: #E2EBFA;\n",
              "      box-shadow: 0px 1px 2px rgba(60, 64, 67, 0.3), 0px 1px 3px 1px rgba(60, 64, 67, 0.15);\n",
              "      fill: #174EA6;\n",
              "    }\n",
              "\n",
              "    [theme=dark] .colab-df-convert {\n",
              "      background-color: #3B4455;\n",
              "      fill: #D2E3FC;\n",
              "    }\n",
              "\n",
              "    [theme=dark] .colab-df-convert:hover {\n",
              "      background-color: #434B5C;\n",
              "      box-shadow: 0px 1px 3px 1px rgba(0, 0, 0, 0.15);\n",
              "      filter: drop-shadow(0px 1px 2px rgba(0, 0, 0, 0.3));\n",
              "      fill: #FFFFFF;\n",
              "    }\n",
              "  </style>\n",
              "\n",
              "      <script>\n",
              "        const buttonEl =\n",
              "          document.querySelector('#df-0c8a093d-6774-4969-8226-d1310e77da5b button.colab-df-convert');\n",
              "        buttonEl.style.display =\n",
              "          google.colab.kernel.accessAllowed ? 'block' : 'none';\n",
              "\n",
              "        async function convertToInteractive(key) {\n",
              "          const element = document.querySelector('#df-0c8a093d-6774-4969-8226-d1310e77da5b');\n",
              "          const dataTable =\n",
              "            await google.colab.kernel.invokeFunction('convertToInteractive',\n",
              "                                                     [key], {});\n",
              "          if (!dataTable) return;\n",
              "\n",
              "          const docLinkHtml = 'Like what you see? Visit the ' +\n",
              "            '<a target=\"_blank\" href=https://colab.research.google.com/notebooks/data_table.ipynb>data table notebook</a>'\n",
              "            + ' to learn more about interactive tables.';\n",
              "          element.innerHTML = '';\n",
              "          dataTable['output_type'] = 'display_data';\n",
              "          await google.colab.output.renderOutput(dataTable, element);\n",
              "          const docLink = document.createElement('div');\n",
              "          docLink.innerHTML = docLinkHtml;\n",
              "          element.appendChild(docLink);\n",
              "        }\n",
              "      </script>\n",
              "    </div>\n",
              "  </div>\n",
              "  "
            ]
          },
          "metadata": {},
          "execution_count": 26
        }
      ]
    },
    {
      "cell_type": "markdown",
      "source": [
        "**There are no duplicates for the same date and hour with different values**"
      ],
      "metadata": {
        "id": "EQyn-_7wZQUl"
      },
      "id": "EQyn-_7wZQUl"
    },
    {
      "cell_type": "markdown",
      "source": [
        "# Outliers Detection"
      ],
      "metadata": {
        "id": "MoBdGdsLWHBS"
      },
      "id": "MoBdGdsLWHBS"
    },
    {
      "cell_type": "code",
      "source": [
        "fig = go.Figure()\n",
        "fig.add_trace(go.Box(name='kWh Amount', y=df.kWh_amount, boxmean='sd'))\n",
        "\n",
        "fig.update_traces(\n",
        "    marker=dict(\n",
        "        color='rgb(8,81,156)',\n",
        "        outliercolor='rgba(219, 64, 82, 0.6)',\n",
        "        line=dict(\n",
        "            outliercolor='rgba(219, 64, 82, 0.6)',\n",
        "            outlierwidth=2)),\n",
        "    line_color='rgb(8,81,156)'\n",
        ")\n",
        "fig.show()"
      ],
      "metadata": {
        "colab": {
          "base_uri": "https://localhost:8080/",
          "height": 542
        },
        "id": "jHAYWuGKWTL_",
        "outputId": "1ace7784-e38b-4e93-f5a7-711434d62295"
      },
      "id": "jHAYWuGKWTL_",
      "execution_count": 27,
      "outputs": [
        {
          "output_type": "display_data",
          "data": {
            "text/html": [
              "<html>\n",
              "<head><meta charset=\"utf-8\" /></head>\n",
              "<body>\n",
              "    <div>            <script src=\"https://cdnjs.cloudflare.com/ajax/libs/mathjax/2.7.5/MathJax.js?config=TeX-AMS-MML_SVG\"></script><script type=\"text/javascript\">if (window.MathJax) {MathJax.Hub.Config({SVG: {font: \"STIX-Web\"}});}</script>                <script type=\"text/javascript\">window.PlotlyConfig = {MathJaxConfig: 'local'};</script>\n",
              "        <script src=\"https://cdn.plot.ly/plotly-2.8.3.min.js\"></script>                <div id=\"75b47941-6db0-4ff9-8fc4-b81bb14fde3a\" class=\"plotly-graph-div\" style=\"height:525px; width:100%;\"></div>            <script type=\"text/javascript\">                                    window.PLOTLYENV=window.PLOTLYENV || {};                                    if (document.getElementById(\"75b47941-6db0-4ff9-8fc4-b81bb14fde3a\")) {                    Plotly.newPlot(                        \"75b47941-6db0-4ff9-8fc4-b81bb14fde3a\",                        [{\"boxmean\":\"sd\",\"name\":\"kWh Amount\",\"y\":[593.0,593.0,542.0,546.0,516.0,483.0,472.0,466.0,478.0,475.0,473.0,473.0,542.0,524.0,509.0,535.0,574.0,598.0,764.0,798.0,863.0,868.0,865.0,862.0,863.0,868.0,859.0,874.0,859.0,870.0,877.0,878.0,948.0,956.0,1036.0,1233.0,1499.0,1633.0,1702.0,1716.0,1737.0,1760.0,1755.0,1729.0,1605.0,1256.0,908.0,781.0,558.0,533.0,503.0,500.0,491.0,489.0,478.0,475.0,474.0,483.0,496.0,524.0,864.0,924.0,994.0,1124.0,1302.0,1406.0,1540.0,1703.0,1795.0,1806.0,1806.0,1814.0,1822.0,1846.0,1876.0,1896.0,1899.0,1898.0,1923.0,1927.0,1935.0,1930.0,1923.0,1941.0,1955.0,1921.0,1923.0,1914.0,1985.0,2082.0,1688.0,1430.0,998.0,808.0,652.0,619.0,602.0,605.0,592.0,608.0,600.0,595.0,585.0,582.0,601.0,595.0,607.0,649.0,970.0,985.0,1071.0,1240.0,1444.0,1660.0,1703.0,1849.0,1980.0,1940.0,1952.0,1948.0,1936.0,1913.0,1921.0,1944.0,1980.0,1954.0,2006.0,2061.0,2067.0,2062.0,2034.0,2049.0,2022.0,1990.0,1993.0,1987.0,1947.0,1889.0,1527.0,1308.0,924.0,764.0,680.0,636.0,616.0,560.0,527.0,534.0,521.0,522.0,523.0,521.0,534.0,522.0,516.0,570.0,814.0,878.0,1035.0,1177.0,1328.0,1417.0,1599.0,1807.0,1931.0,1966.0,2002.0,2006.0,2050.0,2025.0,2077.0,2078.0,2034.0,2019.0,2011.0,2009.0,2003.0,1990.0,2001.0,1995.0,1996.0,1994.0,1983.0,1967.0,1896.0,1856.0,1563.0,1298.0,882.0,721.0,650.0,626.0,606.0,526.0,490.0,489.0,497.0,494.0,493.0,490.0,479.0,488.0,490.0,536.0,800.0,895.0,1007.0,1223.0,1369.0,1556.0,1713.0,1878.0,1965.0,1955.0,1905.0,1792.0,1807.0,1833.0,1834.0,1865.0,1935.0,1934.0,1925.0,1962.0,1982.0,1957.0,1958.0,1956.0,1968.0,1953.0,1952.0,1933.0,1891.0,1813.0,1545.0,1249.0,872.0,710.0,622.0,550.0,520.0,493.0,478.0,485.0,487.0,479.0,470.0,478.0,476.0,472.0,494.0,525.0,775.0,830.0,932.0,1204.0,1425.0,1548.0,1645.0,1766.0,1858.0,1896.0,1944.0,1948.0,1982.0,2103.0,2148.0,2162.0,2071.0,2032.0,2022.0,2000.0,2028.0,2078.0,2024.0,1994.0,2060.0,2074.0,2026.0,2012.0,1947.0,1891.0,1579.0,1289.0,1092.0,936.0,838.0,809.0,675.0,656.0,554.0,509.0,498.0,497.0,517.0,518.0,509.0,520.0,558.0,564.0,818.0,882.0,1005.0,1083.0,1271.0,1655.0,1834.0,1804.0,1806.0,1803.0,1809.0,1844.0,1842.0,1826.0,1840.0,1841.0,1733.0,1486.0,1144.0,1031.0,821.0,772.0,740.0,726.0,712.0,694.0,698.0,692.0,679.0,673.0,668.0,674.0,678.0,669.0,664.0,654.0,635.0,631.0,605.0,596.0,574.0,550.0,544.0,550.0,565.0,547.0,556.0,544.0,576.0,571.0,573.0,596.0,620.0,650.0,799.0,809.0,886.0,929.0,939.0,907.0,854.0,855.0,861.0,869.0,865.0,881.0,881.0,903.0,947.0,979.0,1087.0,1286.0,1526.0,1697.0,1742.0,1743.0,1776.0,1757.0,1726.0,1742.0,1616.0,1192.0,885.0,827.0,621.0,599.0,562.0,572.0,565.0,551.0,552.0,548.0,560.0,566.0,576.0,605.0,867.0,928.0,1054.0,1188.0,1346.0,1464.0,1577.0,1751.0,1906.0,1926.0,1926.0,1930.0,1922.0,1934.0,1966.0,2015.0,2033.0,1983.0,1995.0,2018.0,2039.0,2021.0,1942.0,1961.0,1927.0,1960.0,1955.0,1925.0,1873.0,1835.0,1504.0,1276.0,871.0,719.0,625.0,611.0,564.0,504.0,490.0,505.0,499.0,499.0,497.0,494.0,495.0,497.0,500.0,540.0,830.0,944.0,1030.0,1162.0,1409.0,1509.0,1621.0,1771.0,1889.0,1903.0,1930.0,1924.0,1958.0,1960.0,1898.0,1901.0,1896.0,1909.0,1938.0,1928.0,1936.0,1937.0,1962.0,1969.0,1945.0,1955.0,1920.0,1932.0,1859.0,1828.0,1526.0,1232.0,829.0,677.0,617.0,575.0,517.0,488.0,478.0,490.0,479.0,475.0,468.0,468.0,476.0,492.0,496.0,527.0,826.0,919.0,1026.0,1172.0,1369.0,1477.0,1590.0,1727.0,1850.0,1887.0,1905.0,1901.0,1898.0,1888.0,1876.0,1880.0,1900.0,1914.0,1916.0,1890.0,1914.0,1922.0,1945.0,1956.0,1965.0,1968.0,1944.0,1911.0,1849.0,1789.0,1484.0,1229.0,820.0,678.0,610.0,578.0,536.0,478.0,470.0,486.0,482.0,482.0,480.0,478.0,480.0,488.0,493.0,527.0,826.0,910.0,990.0,1151.0,1340.0,1477.0,1559.0,1727.0,1833.0,1833.0,1822.0,1770.0,1790.0,1807.0,1822.0,1859.0,1906.0,1961.0,1955.0,1952.0,1963.0,1929.0,1934.0,1927.0,1909.0,1908.0,1907.0,1913.0,1855.0,1807.0,1481.0,1291.0,966.0,783.0,691.0,630.0,614.0,559.0,557.0,562.0,542.0,542.0,540.0,519.0,503.0,514.0,524.0,540.0,833.0,919.0,1026.0,1164.0,1353.0,1471.0,1586.0,1758.0,1852.0,1852.0,1860.0,1910.0,1861.0,1887.0,1930.0,1963.0,1947.0,1931.0,1926.0,1941.0,1932.0,1942.0,1918.0,1908.0,1892.0,1923.0,1920.0,1934.0,1810.0,1541.0,1380.0,1212.0,1050.0,935.0,815.0,778.0,632.0,630.0,538.0,498.0,479.0,488.0,493.0,494.0,492.0,502.0,544.0,545.0,781.0,854.0,956.0,1120.0,1306.0,1554.0,1775.0,1795.0,1841.0,1824.0,1843.0,1847.0,1849.0,1847.0,1785.0,1840.0,1750.0,1471.0,1120.0,945.0,754.0,724.0,692.0,688.0,662.0,658.0,643.0,628.0,614.0,619.0,646.0,654.0,651.0,653.0,641.0,639.0,628.0,628.0,573.0,561.0,540.0,487.0,470.0,471.0,479.0,478.0,472.0,470.0,520.0,520.0,527.0,541.0,557.0,580.0,712.0,716.0,794.0,821.0,837.0,849.0,841.0,841.0,838.0,845.0,858.0,851.0,856.0,861.0,908.0,939.0,1013.0,1152.0,1410.0,1576.0,1632.0,1624.0,1599.0,1613.0,1610.0,1613.0,1502.0,1211.0,854.0,776.0,568.0,509.0,495.0,503.0,497.0,495.0,485.0,480.0,490.0,508.0,509.0,531.0,798.0,1056.0,954.0,1144.0,1349.0,1483.0,1606.0,1750.0,1814.0,1821.0,1836.0,1832.0,1832.0,1831.0,1835.0,1869.0,1884.0,1885.0,1894.0,1877.0,1896.0,1882.0,1899.0,1887.0,1890.0,1889.0,1885.0,1858.0,1795.0,1727.0,1495.0,1225.0,867.0,687.0,610.0,568.0,546.0,504.0,482.0,495.0,487.0,489.0,487.0,482.0,486.0,498.0,494.0,555.0,819.0,852.0,976.0,1110.0,1312.0,1471.0,1604.0,1729.0,1798.0,1812.0,1803.0,1805.0,1824.0,1830.0,1830.0,1848.0,1814.0,1890.0,1868.0,1884.0,1944.0,1952.0,1928.0,1914.0,1959.0,1947.0,1936.0,1926.0,1862.0,1791.0,1528.0,1345.0,984.0,822.0,700.0,660.0,637.0,568.0,546.0,554.0,544.0,520.0,507.0,499.0,503.0,512.0,512.0,554.0,811.0,875.0,972.0,1185.0,1374.0,1488.0,1617.0,1755.0,1847.0,1807.0,1801.0,1789.0,1828.0,1838.0,1901.0,1921.0,1912.0,1894.0,1877.0,1869.0,1845.0,1847.0,1854.0,1865.0,1870.0,1887.0,1886.0,1868.0,1812.0,1725.0,1479.0,1298.0,949.0,743.0,651.0,626.0,564.0,492.0,472.0,484.0,476.0,474.0,472.0,471.0,478.0,476.0,478.0,525.0,856.0,897.0,1021.0,1192.0,1330.0,1449.0,1555.0,1700.0,1807.0,1793.0,1796.0,1804.0,1822.0,1844.0,2018.0,2007.0,1984.0,1961.0,1936.0,1926.0,1934.0,1932.0,1925.0,1941.0,1946.0,1955.0,1911.0,1899.0,1835.0,1776.0,1542.0,1375.0,1060.0,799.0,686.0,637.0,552.0,466.0,452.0,479.0,470.0,470.0,474.0,468.0,474.0,488.0,489.0,521.0,830.0,861.0,969.0,1164.0,1300.0,1441.0,1525.0,1698.0,1826.0,1859.0,1923.0,1922.0,1898.0,1882.0,1864.0,1907.0,1891.0,1886.0,1876.0,1868.0,1869.0,1937.0,1968.0,1986.0,1933.0,1953.0,1938.0,1915.0,1883.0,1802.0,1575.0,1447.0,1266.0,1076.0,950.0,920.0,710.0,595.0,526.0,509.0,496.0,490.0,486.0,486.0,504.0,506.0,580.0,640.0,831.0,870.0,1020.0,1124.0,1278.0,1501.0,1670.0,1676.0,1691.0,1687.0,1692.0,1702.0,1664.0,1673.0,1665.0,1658.0,1602.0,1465.0,1169.0,1017.0,864.0,834.0,811.0,801.0,772.0,758.0,749.0,735.0,735.0,738.0,740.0,742.0,730.0,704.0,704.0,690.0,690.0,686.0,613.0,523.0,501.0,489.0,488.0,489.0,492.0,488.0,486.0,489.0,528.0,534.0,535.0,543.0,567.0,583.0,726.0,841.0,912.0,921.0,914.0,920.0,926.0,924.0,910.0,912.0,907.0,917.0,916.0,924.0,967.0,973.0,1038.0,1201.0,1457.0,1597.0,1646.0,1645.0,1642.0,1650.0,1638.0,1632.0,1532.0,1251.0,901.0,820.0,608.0,514.0,484.0,490.0,482.0,476.0,473.0,469.0,486.0,482.0,496.0,532.0,847.0,908.0,1042.0,1182.0,1297.0,1257.0,1427.0,1607.0,1739.0,1768.0,1772.0,1740.0,1705.0,1679.0,1725.0,1743.0,1799.0,1835.0,1847.0,1859.0,1842.0,1851.0,1881.0,1868.0,1858.0,1914.0,1899.0,1871.0,1828.0,1719.0,1516.0,1255.0,893.0,747.0,674.0,640.0,589.0,497.0,489.0,497.0,486.0,482.0,478.0,478.0,488.0,496.0,495.0,531.0,840.0,886.0,989.0,1121.0,1305.0,1425.0,1546.0,1686.0,1794.0,1806.0,1814.0,1789.0,1854.0,1907.0,1890.0,1913.0,1899.0,1898.0,1880.0,1874.0,1910.0,1914.0,1912.0,1901.0,1877.0,1880.0,1854.0,1849.0,1789.0,1717.0,1492.0,1295.0,928.0,784.0,702.0,664.0,642.0,513.0,510.0,492.0,475.0,468.0,462.0,464.0,470.0,479.0,479.0,518.0,842.0,863.0,983.0,1102.0,1313.0,1423.0,1513.0,1669.0,1775.0,1798.0,1791.0,1782.0,1784.0,1787.0,1804.0,1845.0,1876.0,1866.0,1854.0,1860.0,1832.0,1830.0,1832.0,1819.0,1834.0,1813.0,1791.0,1773.0,1727.0,1655.0,1428.0,1228.0,888.0,716.0,617.0,565.0,545.0,531.0,480.0,472.0,467.0,455.0,452.0,456.0,468.0,477.0,473.0,502.0,819.0,889.0,1000.0,1132.0,1314.0,1420.0,1536.0,1687.0,1821.0,1820.0,1820.0,1805.0,1808.0,1809.0,1802.0,1819.0,1833.0,1840.0,1830.0,1847.0,1796.0,1809.0,1806.0,1803.0,1787.0,1810.0,1792.0,1752.0,1697.0,1633.0,1379.0,1213.0,890.0,744.0,676.0,640.0,630.0,578.0,512.0,510.0,510.0,504.0,472.0,470.0,484.0,487.0,482.0,519.0,802.0,858.0,982.0,1148.0,1310.0,1414.0,1549.0,1709.0,1810.0,1796.0,1815.0,1820.0,1811.0,1814.0,1814.0,1865.0,1879.0,1878.0,1875.0,1881.0,1912.0,1929.0,1941.0,1942.0,1926.0,1910.0,1890.0,1848.0,1805.0,1719.0,1496.0,1334.0,1168.0,904.0,842.0,812.0,664.0,591.0,499.0,504.0,492.0,491.0,499.0,493.0,498.0,491.0,599.0,625.0,806.0,844.0,985.0,1128.0,1278.0,1463.0,1657.0,1695.0,1740.0,1734.0,1716.0,1712.0,1702.0,1680.0,1666.0,1650.0,1673.0,1499.0,1155.0,999.0,853.0,799.0,785.0,769.0,742.0,728.0,700.0,701.0,683.0,690.0,682.0,679.0,679.0,671.0,665.0,667.0,673.0,657.0,632.0,629.0,505.0,455.0,453.0,453.0,464.0,461.0,460.0,463.0,513.0,509.0,492.0,513.0,545.0,560.0,707.0,749.0,896.0,946.0,930.0,912.0,913.0,910.0,920.0,926.0,927.0,928.0,918.0,923.0,935.0,938.0,975.0,1129.0,1342.0,1526.0,1607.0,1595.0,1620.0,1612.0,1599.0,1595.0,1529.0,1257.0,877.0,786.0,564.0,485.0,464.0,470.0,470.0,458.0,445.0,451.0,459.0,467.0,474.0,498.0,758.0,818.0,968.0,1155.0,1287.0,1386.0,1514.0,1672.0,1731.0,1735.0,1734.0,1789.0,1771.0,1828.0,1878.0,1886.0,1868.0,1836.0,1836.0,1844.0,1853.0,1823.0,1779.0,1781.0,1804.0,1766.0,1768.0,1738.0,1689.0,1631.0,1402.0,1162.0,820.0,728.0,696.0,644.0,608.0,530.0,528.0,530.0,531.0,512.0,480.0,476.0,481.0,484.0,484.0,585.0,805.0,850.0,1008.0,1115.0,1235.0,1335.0,1439.0,1619.0,1715.0,1717.0,1730.0,1738.0,1718.0,1697.0,1718.0,1728.0,1795.0,1770.0,1741.0,1739.0,1760.0,1752.0,1785.0,1818.0,1815.0,1807.0,1826.0,1916.0,1854.0,1745.0,1536.0,1278.0,909.0,778.0,707.0,655.0,543.0,525.0,518.0,511.0,513.0,484.0,469.0,467.0,478.0,471.0,469.0,573.0,801.0,857.0,995.0,1116.0,1242.0,1406.0,1540.0,1653.0,1740.0,1731.0,1704.0,1750.0,1750.0,1809.0,1812.0,1820.0,1798.0,1789.0,1794.0,1834.0,1830.0,1828.0,1835.0,1849.0,1827.0,1825.0,1812.0,1782.0,1733.0,1673.0,1445.0,1261.0,864.0,762.0,691.0,641.0,580.0,517.0,511.0,514.0,507.0,503.0,493.0,495.0,504.0,516.0,490.0,562.0,732.0,767.0,894.0,1011.0,1113.0,1243.0,1362.0,1468.0,1580.0,1567.0,1568.0,1551.0,1555.0,1563.0,1543.0,1589.0,1613.0,1611.0,1608.0,1622.0,1632.0,1614.0,1614.0,1612.0,1599.0,1603.0,1585.0,1585.0,1530.0,1490.0,1263.0,1143.0,840.0,712.0,648.0,613.0,497.0,486.0,480.0,483.0,475.0,477.0,469.0,470.0,478.0,488.0,491.0,527.0,712.0,750.0,878.0,984.0,1107.0,1274.0,1428.0,1545.0,1575.0,1561.0,1562.0,1559.0,1559.0,1555.0,1575.0,1590.0,1584.0,1576.0,1544.0,1532.0,1542.0,1542.0,1556.0,1570.0,1562.0,1569.0,1551.0,1528.0,1492.0,1457.0,1231.0,1101.0,930.0,811.0,757.0,751.0,612.0,571.0,550.0,555.0,545.0,513.0,512.0,514.0,506.0,504.0,566.0,576.0,708.0,782.0,894.0,966.0,1104.0,1317.0,1561.0,1590.0,1580.0,1592.0,1604.0,1588.0,1574.0,1549.0,1549.0,1546.0,1509.0,1316.0,985.0,824.0,692.0,660.0,629.0,625.0,606.0,614.0,606.0,588.0,576.0,557.0,557.0,554.0,558.0,554.0,556.0,567.0,559.0,552.0,543.0,534.0,510.0,492.0,483.0,479.0,470.0,485.0,483.0,500.0,498.0,498.0,509.0,509.0,545.0,556.0,701.0,719.0,757.0,778.0,805.0,808.0,830.0,849.0,841.0,844.0,825.0,835.0,834.0,842.0,868.0,872.0,926.0,1103.0,1223.0,1423.0,1481.0,1473.0,1457.0,1439.0,1446.0,1442.0,1399.0,1128.0,891.0,783.0,543.0,526.0,505.0,495.0,490.0,483.0,478.0,487.0,498.0,495.0,486.0,542.0,794.0,826.0,958.0,1050.0,1137.0,1235.0,1265.0,1339.0,1419.0,1390.0,1391.0,1414.0,1458.0,1476.0,1423.0,1469.0,1450.0,1450.0,1446.0,1444.0,1468.0,1488.0,1513.0,1520.0,1521.0,1528.0,1548.0,1610.0,1551.0,1481.0,1276.0,1107.0,877.0,766.0,704.0,687.0,621.0,584.0,575.0,567.0,534.0,522.0,518.0,518.0,542.0,548.0,542.0,586.0,758.0,786.0,869.0,948.0,1047.0,1127.0,1253.0,1264.0,1402.0,1433.0,1469.0,1448.0,1438.0,1434.0,1434.0,1484.0,1470.0,1430.0,1487.0,1494.0,1502.0,1479.0,1494.0,1502.0,1488.0,1488.0,1460.0,1443.0,1417.0,1390.0,1216.0,1062.0,880.0,749.0,674.0,648.0,632.0,543.0,526.0,522.0,518.0,514.0,520.0,488.0,495.0,500.0,499.0,552.0,678.0,700.0,785.0,883.0,994.0,1094.0,1203.0,1348.0,1487.0,1540.0,1560.0,1620.0,1521.0,1484.0,1553.0,1588.0,1602.0,1614.0,1646.0,1670.0,1666.0,1677.0,1687.0,1704.0,1684.0,1602.0,1570.0,1546.0,1498.0,1455.0,1242.0,1071.0,824.0,673.0,617.0,598.0,500.0,466.0,458.0,472.0,462.0,462.0,461.0,462.0,470.0,480.0,487.0,514.0,747.0,799.0,852.0,968.0,1104.0,1250.0,1364.0,1565.0,1688.0,1715.0,1697.0,1711.0,1630.0,1640.0,1659.0,1717.0,1733.0,1766.0,1796.0,1799.0,1802.0,1790.0,1750.0,1760.0,1746.0,1744.0,1736.0,1728.0,1676.0,1648.0,1468.0,1294.0,986.0,710.0,650.0,616.0,529.0,495.0,486.0,496.0,494.0,490.0,490.0,492.0,500.0,499.0,503.0,544.0,849.0,869.0,962.0,1059.0,1245.0,1370.0,1506.0,1620.0,1733.0,1743.0,1756.0,1774.0,1819.0,1821.0,1810.0,1830.0,1840.0,1877.0,1877.0,1897.0,1895.0,1868.0,1862.0,1830.0,1828.0,1833.0,1806.0,1791.0,1746.0,1672.0,1499.0,1331.0,1149.0,1015.0,900.0,856.0,706.0,596.0,536.0,554.0,507.0,494.0,497.0,503.0,497.0,500.0,558.0,570.0,770.0,810.0,911.0,1059.0,1246.0,1480.0,1632.0,1672.0,1720.0,1700.0,1691.0,1693.0,1661.0,1664.0,1662.0,1645.0,1590.0,1404.0,1064.0,897.0,743.0,708.0,740.0,728.0,694.0,688.0,684.0,680.0,682.0,676.0,684.0,680.0,681.0,666.0,663.0,669.0,664.0,661.0,617.0,612.0,579.0,480.0,462.0,463.0,473.0,474.0,477.0,481.0,536.0,530.0,532.0,538.0,572.0,582.0,752.0,782.0,831.0,851.0,859.0,870.0,886.0,886.0,889.0,887.0,879.0,879.0,883.0,881.0,909.0,928.0,957.0,1066.0,1262.0,1525.0,1637.0,1627.0,1624.0,1635.0,1622.0,1611.0,1584.0,1293.0,959.0,844.0,633.0,533.0,518.0,506.0,498.0,495.0,494.0,500.0,510.0,510.0,523.0,565.0,855.0,943.0,1025.0,1074.0,1198.0,1324.0,1437.0,1612.0,1739.0,1745.0,1725.0,1730.0,1727.0,1729.0,1740.0,1688.0,1682.0,1734.0,1695.0,1699.0,1737.0,1731.0,1739.0,1743.0,1794.0,1891.0,1947.0,1866.0,1780.0,1653.0,1424.0,1159.0,817.0,673.0,579.0,561.0,534.0,527.0,518.0,517.0,494.0,473.0,479.0,480.0,496.0,502.0,496.0,532.0,834.0,898.0,996.0,1140.0,1241.0,1397.0,1557.0,1683.0,1770.0,1786.0,1764.0,1721.0,1734.0,1718.0,1717.0,1724.0,1731.0,1729.0,1752.0,1776.0,1764.0,1764.0,1756.0,1762.0,1748.0,1754.0,1724.0,1712.0,1684.0,1642.0,1424.0,1223.0,844.0,742.0,653.0,616.0,599.0,564.0,553.0,560.0,525.0,513.0,508.0,516.0,534.0,532.0,530.0,618.0,827.0,885.0,1026.0,1178.0,1285.0,1395.0,1529.0,1679.0,1755.0,1695.0,1692.0,1718.0,1730.0,1766.0,1768.0,1778.0,1787.0,1782.0,1779.0,1762.0,1784.0,1750.0,1765.0,1770.0,1777.0,1783.0,1799.0,1760.0,1708.0,1665.0,1435.0,1178.0,860.0,718.0,611.0,586.0,561.0,538.0,530.0,514.0,504.0,492.0,506.0,512.0,524.0,556.0,573.0,615.0,803.0,838.0,951.0,1108.0,1214.0,1333.0,1448.0,1593.0,1676.0,1666.0,1664.0,1678.0,1733.0,1717.0,1724.0,1739.0,1762.0,1743.0,1722.0,1732.0,1741.0,1723.0,1708.0,1726.0,1716.0,1715.0,1713.0,1704.0,1660.0,1676.0,1446.0,1190.0,820.0,658.0,585.0,517.0,506.0,485.0,477.0,480.0,468.0,464.0,460.0,468.0,490.0,491.0,491.0,533.0,749.0,816.0,979.0,1117.0,1220.0,1322.0,1476.0,1695.0,1773.0,1762.0,1764.0,1777.0,1801.0,1792.0,1772.0,1796.0,1866.0,1860.0,1846.0,1845.0,1865.0,1898.0,1914.0,1878.0,1873.0,1849.0,1851.0,1816.0,1778.0,1735.0,1478.0,1292.0,1096.0,948.0,873.0,749.0,588.0,558.0,542.0,538.0,528.0,521.0,501.0,490.0,488.0,494.0,537.0,581.0,790.0,828.0,963.0,1163.0,1293.0,1484.0,1643.0,1680.0,1696.0,1694.0,1704.0,1696.0,1682.0,1635.0,1631.0,1638.0,1608.0,1430.0,1088.0,874.0,703.0,667.0,636.0,627.0,617.0,596.0,589.0,576.0,568.0,559.0,565.0,565.0,571.0,565.0,564.0,559.0,555.0,547.0,500.0,498.0,471.0,450.0,443.0,446.0,457.0,451.0,448.0,459.0,493.0,487.0,492.0,500.0,607.0,650.0,736.0,746.0,808.0,815.0,820.0,818.0,814.0,816.0,818.0,814.0,830.0,856.0,857.0,879.0,893.0,891.0,936.0,1048.0,1212.0,1434.0,1585.0,1624.0,1625.0,1618.0,1618.0,1570.0,1488.0,1192.0,834.0,744.0,534.0,496.0,486.0,481.0,469.0,460.0,457.0,467.0,468.0,468.0,471.0,502.0,721.0,807.0,914.0,1107.0,1275.0,1436.0,1626.0,1728.0,1833.0,1814.0,1850.0,1892.0,1934.0,1920.0,1888.0,1872.0,1888.0,1899.0,1877.0,1908.0,1914.0,1890.0,1897.0,1923.0,1940.0,1929.0,1918.0,1879.0,1823.0,1761.0,1515.0,1237.0,880.0,740.0,669.0,631.0,566.0,539.0,526.0,527.0,526.0,524.0,533.0,529.0,502.0,507.0,603.0,648.0,861.0,957.0,1028.0,1208.0,1310.0,1412.0,1525.0,1651.0,1717.0,1733.0,1742.0,1770.0,1784.0,1792.0,1812.0,1788.0,1837.0,1829.0,1824.0,1870.0,1873.0,1856.0,1880.0,1889.0,1880.0,1886.0,1860.0,1843.0,1804.0,1757.0,1486.0,1272.0,897.0,745.0,666.0,633.0,572.0,539.0,529.0,533.0,527.0,527.0,529.0,531.0,535.0,547.0,551.0,594.0,874.0,962.0,1057.0,1234.0,1360.0,1420.0,1500.0,1642.0,1728.0,1776.0,1801.0,1786.0,1797.0,1793.0,1807.0,1805.0,1803.0,1808.0,1808.0,1804.0,1801.0,1859.0,1899.0,1922.0,1921.0,1937.0,1922.0,1882.0,1843.0,1784.0,1576.0,1352.0,922.0,728.0,640.0,585.0,502.0,495.0,488.0,486.0,488.0,491.0,489.0,487.0,486.0,479.0,495.0,544.0,851.0,946.0,1044.0,1198.0,1295.0,1361.0,1468.0,1646.0,1724.0,1749.0,1771.0,1778.0,1786.0,1811.0,1821.0,1845.0,1841.0,1844.0,1848.0,1877.0,1894.0,1859.0,1854.0,1868.0,1898.0,1884.0,1878.0,1852.0,1796.0,1760.0,1520.0,1283.0,843.0,644.0,576.0,546.0,524.0,512.0,502.0,506.0,498.0,501.0,499.0,499.0,501.0,505.0,510.0,567.0,854.0,957.0,1039.0,1202.0,1330.0,1404.0,1521.0,1708.0,1797.0,1864.0,1908.0,1921.0,1948.0,1945.0,1993.0,1993.0,1980.0,1981.0,1975.0,2014.0,2008.0,2018.0,1991.0,2003.0,2009.0,2025.0,2004.0,1984.0,1922.0,1884.0,1614.0,1424.0,1185.0,1027.0,932.0,899.0,728.0,728.0,654.0,618.0,547.0,536.0,525.0,511.0,510.0,526.0,577.0,585.0,844.0,904.0,1001.0,1163.0,1318.0,1553.0,1714.0,1755.0,1765.0,1789.0,1780.0,1780.0,1768.0,1772.0,1769.0,1765.0,1682.0,1473.0,1127.0,979.0,772.0,719.0,688.0,680.0,644.0,634.0,625.0,605.0,602.0,607.0,605.0,594.0,588.0,576.0,579.0,589.0,582.0,578.0,514.0,510.0,490.0,480.0,468.0,468.0,472.0,470.0,467.0,474.0,529.0,542.0,528.0,537.0,576.0,588.0,724.0,761.0,812.0,838.0,849.0,844.0,838.0,839.0,818.0,839.0,845.0,847.0,852.0,839.0,871.0,937.0,1020.0,1137.0,1281.0,1529.0,1671.0,1702.0,1687.0,1695.0,1688.0,1678.0,1623.0,1307.0,923.0,805.0,533.0,507.0,487.0,476.0,473.0,469.0,467.0,478.0,478.0,500.0,496.0,528.0,786.0,864.0,999.0,1089.0,1270.0,1386.0,1526.0,1668.0,1762.0,1791.0,1789.0,1774.0,1812.0,1806.0,1809.0,1831.0,1820.0,1816.0,1862.0,1972.0,1903.0,1903.0,1894.0,1880.0,1896.0,1906.0,1906.0,1883.0,1833.0,1744.0,1483.0,1265.0,876.0,698.0,628.0,570.0,552.0,545.0,539.0,546.0,543.0,520.0,503.0,500.0,514.0,508.0,509.0,582.0,813.0,882.0,995.0,1117.0,1254.0,1422.0,1539.0,1655.0,1736.0,1774.0,1798.0,1800.0,1786.0,1813.0,1825.0,1828.0,1829.0,1844.0,1933.0,1882.0,1862.0,1836.0,1852.0,1872.0,1868.0,1869.0,1875.0,1839.0,1787.0,1742.0,1474.0,1220.0,918.0,726.0,646.0,598.0,548.0,541.0,535.0,523.0,528.0,508.0,485.0,477.0,487.0,488.0,480.0,536.0,786.0,861.0,999.0,1139.0,1279.0,1360.0,1488.0,1632.0,1748.0,1757.0,1801.0,1796.0,1803.0,1823.0,1833.0,1833.0,1836.0,1812.0,1809.0,1780.0,1785.0,1794.0,1808.0,1933.0,1927.0,1876.0,1832.0,1806.0,1759.0,1717.0,1452.0,1219.0,845.0,658.0,584.0,551.0,497.0,492.0,487.0,490.0,496.0,499.0,496.0,486.0,494.0,486.0,503.0,545.0,804.0,867.0,975.0,1132.0,1244.0,1344.0,1468.0,1650.0,1768.0,1783.0,1867.0,1896.0,1864.0,1844.0,1882.0,1870.0,1869.0,1911.0,1901.0,1901.0,1942.0,1943.0,1945.0,1962.0,1996.0,1987.0,1941.0,1926.0,1914.0,1816.0,1563.0,1300.0,887.0,668.0,587.0,535.0,522.0,511.0,503.0,504.0,498.0,498.0,494.0,486.0,494.0,496.0,510.0,538.0,811.0,933.0,954.0,1094.0,1343.0,1490.0,1580.0,1734.0,1862.0,1855.0,1927.0,1935.0,1946.0,1952.0,1944.0,1937.0,1925.0,1958.0,1967.0,1967.0,1978.0,1934.0,1923.0,1919.0,1916.0,1934.0,1924.0,1952.0,1936.0,1858.0,1555.0,1363.0,1176.0,956.0,859.0,830.0,681.0,676.0,601.0,557.0,539.0,509.0,500.0,492.0,489.0,489.0,545.0,570.0,786.0,855.0,977.0,1114.0,1344.0,1543.0,1755.0,1778.0,1823.0,1857.0,1830.0,1828.0,1819.0,1826.0,1792.0,1762.0,1688.0,1501.0,1129.0,936.0,749.0,713.0,678.0,665.0,651.0,633.0,632.0,633.0,611.0,615.0,608.0,616.0,615.0,613.0,591.0,593.0,578.0,575.0,539.0,526.0,496.0,484.0,476.0,474.0,478.0,476.0,474.0,477.0,512.0,525.0,532.0,540.0,576.0,587.0,719.0,742.0,780.0,790.0,804.0,803.0,793.0,801.0,805.0,797.0,809.0,813.0,818.0,817.0,854.0,873.0,915.0,1034.0,1179.0,1438.0,1652.0,1651.0,1707.0,1745.0,1716.0,1667.0,1542.0,1211.0,875.0,760.0,528.0,501.0,494.0,480.0,480.0,480.0,476.0,474.0,482.0,487.0,482.0,531.0,796.0,886.0,1018.0,1129.0,1257.0,1428.0,1684.0,1780.0,1894.0,1896.0,1908.0,1914.0,1914.0,1909.0,1923.0,1900.0,1911.0,1939.0,1924.0,1930.0,1967.0,1969.0,1960.0,1992.0,1984.0,2016.0,2002.0,1964.0,1923.0,1869.0,1540.0,1249.0,859.0,754.0,654.0,620.0,602.0,612.0,601.0,587.0,582.0,583.0,593.0,578.0,566.0,553.0,561.0,620.0,860.0,906.0,1026.0,1155.0,1310.0,1487.0,1604.0,1758.0,1851.0,1847.0,1875.0,1911.0,1915.0,1911.0,1923.0,1939.0,1936.0,1911.0,1924.0,1948.0,1942.0,1913.0,1957.0,1969.0,1997.0,1998.0,2003.0,1978.0,1898.0,1810.0,1521.0,1237.0,776.0,660.0,584.0,546.0,511.0,509.0,502.0,496.0,492.0,501.0,503.0,497.0,501.0,492.0,506.0,550.0,800.0,932.0,1049.0,1121.0,1305.0,1512.0,1766.0,1800.0,1931.0,1934.0,1952.0,1976.0,1978.0,1982.0,2035.0,2031.0,2024.0,2004.0,1997.0,2023.0,2028.0,2018.0,2023.0,2024.0,1997.0,2023.0,2023.0,2011.0,1983.0,1919.0,1607.0,1286.0,887.0,779.0,710.0,678.0,650.0,602.0,550.0,538.0,518.0,490.0,487.0,489.0,504.0,513.0,534.0,558.0,801.0,867.0,946.0,1125.0,1260.0,1538.0,1729.0,1784.0,1904.0,1914.0,1945.0,1946.0,1946.0,1981.0,1967.0,1992.0,1990.0,1994.0,1984.0,1976.0,1996.0,1987.0,2003.0,1990.0,2008.0,1999.0,2006.0,1977.0,1928.0,1885.0,1549.0,1228.0,838.0,684.0,602.0,550.0,529.0,511.0,503.0,502.0,503.0,499.0,501.0,496.0,513.0,511.0,510.0,545.0,776.0,845.0,962.0,1078.0,1263.0,1477.0,1739.0,1753.0,1883.0,1900.0,1917.0,1904.0,1936.0,1934.0,1948.0,2014.0,2058.0,2043.0,2029.0,2016.0,2035.0,2035.0,2040.0,2062.0,2062.0,2058.0,2060.0,2036.0,1970.0,1915.0,1601.0,1334.0,1115.0,957.0,863.0,817.0,659.0,647.0,616.0,556.0,541.0,513.0,491.0,491.0,502.0,512.0,564.0,567.0,762.0,855.0,926.0,1058.0,1198.0,1432.0,1662.0,1680.0,1712.0,1716.0,1904.0,1862.0,1790.0,1775.0,1754.0,1811.0,1723.0,1499.0,1144.0,982.0,788.0,743.0,735.0,721.0,702.0,679.0,678.0,671.0,672.0,662.0,643.0,650.0,648.0,636.0,640.0,635.0,607.0,608.0,613.0,622.0,585.0,538.0,532.0,521.0,523.0,528.0,529.0,526.0,530.0,531.0,544.0,552.0,585.0,601.0,750.0,802.0,866.0,896.0,918.0,923.0,927.0,915.0,906.0,914.0,921.0,926.0,918.0,912.0,946.0,949.0,997.0,1116.0,1250.0,1428.0,1616.0,1656.0,1669.0,1672.0,1671.0,1664.0,1598.0,1312.0,976.0,830.0,649.0,621.0,582.0,545.0,530.0,527.0,518.0,520.0,526.0,536.0,540.0,590.0,820.0,884.0,1056.0,1224.0,1392.0,1540.0,1655.0,1793.0,1895.0,1901.0,1946.0,1944.0,1924.0,1905.0,1903.0,1928.0,1981.0,1980.0,1977.0,1970.0,1960.0,1900.0,1900.0,1898.0,1872.0,1869.0,1865.0,1845.0,1792.0,1755.0,1539.0,1323.0,988.0,882.0,768.0,710.0,574.0,558.0,534.0,530.0,523.0,523.0,518.0,522.0,547.0,539.0,542.0,582.0,887.0,941.0,1070.0,1219.0,1348.0,1517.0,1620.0,1828.0,1994.0,1993.0,1968.0,1982.0,1978.0,1960.0,2021.0,2042.0,2010.0,2008.0,1994.0,1977.0,1938.0,1943.0,1930.0,1912.0,1893.0,1884.0,1893.0,1878.0,1833.0,1796.0,1536.0,1327.0,1023.0,825.0,752.0,684.0,589.0,571.0,568.0,562.0,536.0,534.0,524.0,522.0,510.0,504.0,504.0,550.0,938.0,1009.0,1111.0,1235.0,1395.0,1484.0,1590.0,1772.0,1859.0,1885.0,1932.0,1984.0,1978.0,1974.0,1976.0,2007.0,2012.0,1983.0,2031.0,2069.0,2038.0,2014.0,2026.0,2022.0,2036.0,2032.0,2008.0,1971.0,1845.0,1742.0,1522.0,1336.0,1024.0,788.0,709.0,680.0,581.0,530.0,510.0,516.0,511.0,504.0,489.0,486.0,506.0,508.0,513.0,599.0,925.0,974.0,1081.0,1240.0,1400.0,1492.0,1606.0,1771.0,1941.0,1939.0,1950.0,1981.0,2013.0,2029.0,2012.0,2035.0,2035.0,1986.0,1971.0,1955.0,1949.0,1938.0,1891.0,1886.0,1887.0,1863.0,1844.0,1819.0,1767.0,1734.0,1523.0,1337.0,1020.0,813.0,721.0,862.0,622.0,542.0,516.0,516.0,515.0,509.0,504.0,502.0,524.0,517.0,519.0,563.0,865.0,970.0,1087.0,1226.0,1414.0,1503.0,1652.0,1778.0,1925.0,1942.0,1942.0,2001.0,1992.0,1992.0,1986.0,1963.0,1925.0,1923.0,1945.0,1946.0,1933.0,1938.0,1919.0,1960.0,1938.0,1944.0,1944.0,1915.0,1873.0,1841.0,1622.0,1440.0,1269.0,1066.0,942.0,897.0,760.0,751.0,592.0,579.0,571.0,578.0,564.0,546.0,527.0,509.0,562.0,582.0,805.0,868.0,979.0,1144.0,1295.0,1482.0,1663.0,1707.0,1739.0,1749.0,1773.0,1799.0,1810.0,1798.0,1779.0,1792.0,1765.0,1561.0,1208.0,1039.0,854.0,826.0,795.0,778.0,749.0,736.0,739.0,742.0,690.0,689.0,689.0,687.0,693.0,678.0,672.0,661.0,659.0,664.0,584.0,578.0,534.0,487.0,478.0,480.0,495.0,487.0,484.0,485.0,578.0,580.0,560.0,582.0,607.0,621.0,840.0,876.0,918.0,927.0,927.0,928.0,916.0,905.0,896.0,903.0,892.0,886.0,885.0,895.0,907.0,917.0,988.0,1084.0,1158.0,1292.0,1529.0,1617.0,1640.0,1671.0,1665.0,1616.0,1576.0,1222.0,897.0,815.0,584.0,509.0,499.0,500.0,495.0,490.0,484.0,487.0,500.0,490.0,484.0,540.0,904.0,960.0,1063.0,1209.0,1364.0,1456.0,1594.0,1738.0,1842.0,1846.0,1847.0,1849.0,1836.0,1866.0,1914.0,1878.0,1862.0,1864.0,1880.0,1883.0,1894.0,1903.0,1902.0,1953.0,2004.0,1969.0,1933.0,1912.0,1839.0,1782.0,1496.0,1268.0,972.0,780.0,704.0,660.0,626.0,562.0,564.0,574.0,568.0,564.0,552.0,546.0,530.0,527.0,521.0,580.0,926.0,951.0,1061.0,1274.0,1439.0,1526.0,1620.0,1760.0,1890.0,1915.0,1980.0,1942.0,1950.0,1964.0,1954.0,1915.0,1918.0,1911.0,1890.0,1892.0,1878.0,1844.0,1861.0,1872.0,1862.0,1854.0,1847.0,1832.0,1780.0,1733.0,1508.0,1297.0,985.0,796.0,716.0,687.0,672.0,581.0,560.0,568.0,552.0,549.0,548.0,550.0,534.0,527.0,523.0,568.0,946.0,977.0,1069.0,1236.0,1371.0,1480.0,1597.0,1727.0,1849.0,1853.0,1859.0,1879.0,1868.0,1886.0,1847.0,1872.0,1992.0,2005.0,1987.0,1960.0,1949.0,1955.0,1944.0,1938.0,1952.0,1948.0,1924.0,1913.0,1890.0,1835.0,1591.0,1357.0,1024.0,803.0,716.0,690.0,543.0,527.0,510.0,511.0,504.0,499.0,487.0,487.0,505.0,510.0,512.0,566.0,910.0,946.0,1086.0,1226.0,1393.0,1481.0,1588.0,1765.0,1866.0,1891.0,1951.0,1917.0,1927.0,1923.0,1945.0,1943.0,1950.0,1935.0,1911.0,1917.0,1899.0,1882.0,1884.0,1852.0,1854.0,1851.0,1847.0,1834.0,1823.0,1763.0,1535.0,1347.0,989.0,775.0,698.0,619.0,588.0,557.0,504.0,507.0,509.0,502.0,502.0,500.0,518.0,508.0,502.0,592.0,918.0,937.0,1045.0,1230.0,1402.0,1498.0,1598.0,1740.0,1850.0,1910.0,1937.0,1977.0,1952.0,1930.0,1930.0,1939.0,1965.0,1948.0,1959.0,1935.0,1956.0,1976.0,1998.0,2020.0,1992.0,1982.0,1951.0,1879.0,1830.0,1794.0,1596.0,1418.0,1230.0,1070.0,972.0,930.0,736.0,664.0,592.0,595.0,0.0,0.0,579.0,572.0,574.0,579.0,581.0,596.0,863.0,913.0,1036.0,1156.0,1307.0,1556.0,1760.0,1799.0,1810.0,1797.0,1807.0,1800.0,1788.0,1756.0,1686.0,1677.0,1666.0,1623.0,1248.0,1052.0,828.0,788.0,761.0,728.0,713.0,710.0,674.0,726.0,714.0,720.0,722.0,728.0,718.0,720.0,724.0,709.0,702.0,685.0,618.0,608.0,521.0,514.0,501.0,498.0,496.0,490.0,498.0,494.0,562.0,578.0,569.0,564.0,606.0,623.0,741.0,800.0,929.0,946.0,978.0,974.0,984.0,980.0,943.0,937.0,940.0,958.0,944.0,948.0,949.0,959.0,980.0,1031.0,1081.0,1151.0,1227.0,1402.0,1564.0,1614.0,1600.0,1614.0,1586.0,1518.0,1107.0,849.0,527.0,493.0,484.0,479.0,483.0,495.0,487.0,479.0,499.0,488.0,492.0,512.0,881.0,951.0,1042.0,1196.0,1312.0,1428.0,1591.0,1705.0,1746.0,1810.0,1846.0,1835.0,1837.0,1856.0,1848.0,1864.0,1880.0,1868.0,1860.0,1858.0,1862.0,1850.0,1848.0,1856.0,1862.0,1897.0,1865.0,1814.0,1783.0,1759.0,1654.0,1356.0,972.0,759.0,680.0,620.0,553.0,538.0,529.0,535.0,536.0,535.0,511.0,518.0,522.0,512.0,493.0,525.0,906.0,949.0,1055.0,1224.0,1361.0,1477.0,1565.0,1675.0,1768.0,1814.0,1810.0,1814.0,1824.0,1817.0,1845.0,1840.0,1842.0,1821.0,1877.0,1922.0,1921.0,1917.0,1914.0,1911.0,1907.0,1912.0,1906.0,1896.0,1839.0,1829.0,1734.0,1380.0,955.0,768.0,665.0,605.0,516.0,501.0,486.0,497.0,497.0,488.0,480.0,492.0,492.0,487.0,493.0,524.0,915.0,957.0,1056.0,1203.0,1337.0,1468.0,1564.0,1696.0,1803.0,1825.0,1828.0,1786.0,1770.0,1790.0,1795.0,1808.0,1805.0,1812.0,1810.0,1826.0,1816.0,1806.0,1806.0,1814.0,1802.0,1781.0,1775.0,1788.0,1731.0,1709.0,1656.0,1326.0,910.0,698.0,602.0,544.0,385.0,353.0,368.0,436.0,489.0,367.0,428.0,442.0,470.0,466.0,458.0,505.0,729.0,839.0,1028.0,1159.0,1312.0,1380.0,1505.0,1631.0,1762.0,1824.0,1857.0,1869.0,1865.0,1880.0,1895.0,1880.0,1872.0,1866.0,1849.0,1854.0,1891.0,1871.0,1875.0,1850.0,1860.0,1868.0,1856.0,1850.0,1802.0,1750.0,1696.0,1353.0,957.0,696.0,604.0,564.0,548.0,532.0,524.0,532.0,531.0,533.0,512.0,494.0,496.0,483.0,473.0,528.0,842.0,882.0,985.0,1107.0,1279.0,1380.0,1501.0,1632.0,1793.0,1781.0,1805.0,1816.0,1841.0,1860.0,1886.0,1922.0,1903.0,1910.0,1895.0,1904.0,1916.0,1893.0,1864.0,1878.0,1876.0,1889.0,1892.0,1894.0,1858.0,1815.0,1731.0,1416.0,1136.0,968.0,867.0,821.0,662.0,654.0,554.0,543.0,530.0,545.0,549.0,545.0,534.0,544.0,578.0,570.0,795.0,860.0,962.0,1111.0,1270.0,1460.0,1673.0,1685.0,1725.0,1738.0,1765.0,1776.0,1782.0,1801.0,1787.0,1767.0,1775.0,1738.0,1366.0,1088.0,828.0,786.0,753.0,721.0,686.0,682.0,671.0,670.0,640.0,636.0,643.0,642.0,650.0,638.0,639.0,631.0,613.0,603.0,518.0,516.0,487.0,495.0,501.0,491.0,494.0,486.0,476.0,482.0,590.0,576.0,561.0,587.0,618.0,636.0,758.0,779.0,835.0,856.0,875.0,885.0,883.0,871.0,868.0,904.0,894.0,894.0,900.0,914.0,926.0,920.0,924.0,988.0,1040.0,1065.0,1108.0,1345.0,1676.0,1706.0,1746.0,1716.0,1677.0,1549.0,1055.0,839.0,548.0,496.0,481.0,493.0,474.0,476.0,489.0,482.0,489.0,495.0,493.0,535.0,851.0,886.0,984.0,1130.0,1281.0,1395.0,1522.0,1700.0,1808.0,1825.0,1871.0,1898.0,1889.0,1891.0,1892.0,1936.0,1918.0,1924.0,1910.0,1934.0,1940.0,1910.0,1912.0,1898.0,1894.0,1908.0,1872.0,1903.0,1848.0,1821.0,1763.0,1431.0,960.0,738.0,614.0,590.0,555.0,544.0,533.0,540.0,532.0,530.0,540.0,528.0,529.0,514.0,508.0,553.0,864.0,884.0,988.0,1176.0,1354.0,1468.0,1577.0,1711.0,1830.0,1866.0,1928.0,1980.0,2021.0,2085.0,2085.0,2067.0,2068.0,2068.0,2066.0,2090.0,2106.0,2088.0,2082.0,2062.0,2040.0,2030.0,2010.0,2005.0,1931.0,1918.0,1800.0,1526.0,1086.0,814.0,708.0,676.0,624.0,608.0,610.0,617.0,562.0,564.0,555.0,563.0,562.0,555.0,545.0,615.0,920.0,964.0,1062.0,1232.0,1369.0,1470.0,1665.0,1850.0,1966.0,1991.0,2014.0,2044.0,2041.0,2092.0,2113.0,2132.0,2131.0,2090.0,2093.0,2103.0,2133.0,2190.0,2159.0,2146.0,2136.0,2127.0,2110.0,2088.0,2037.0,2023.0,1945.0,1602.0,1100.0,796.0,668.0,617.0,571.0,570.0,566.0,579.0,571.0,564.0,577.0,590.0,585.0,575.0,568.0,608.0,920.0,961.0,1088.0,1261.0,1436.0,1561.0,1720.0,1956.0,2144.0,2158.0,2178.0,2199.0,2197.0,2210.0,2226.0,2269.0,2244.0,2210.0,2195.0,2207.0,2238.0,2184.0,2185.0,2244.0,2257.0,2253.0,2241.0,2235.0,2176.0,2168.0,2056.0,1638.0,1096.0,751.0,646.0,599.0,570.0,567.0,547.0,561.0,554.0,552.0,557.0,574.0,560.0,558.0,574.0,648.0,912.0,983.0,1051.0,1234.0,1484.0,1649.0,1879.0,2028.0,2180.0,2204.0,2220.0,2239.0,2261.0,2276.0,2277.0,2341.0,2322.0,2324.0,2316.0,2304.0,2288.0,2319.0,2336.0,2268.0,2271.0,2268.0,2213.0,2221.0,2174.0,2134.0,2021.0,1576.0,1314.0,1093.0,914.0,847.0,693.0,690.0,566.0,572.0,556.0,545.0,556.0,542.0,547.0,546.0,594.0,612.0,860.0,918.0,1098.0,1284.0,1498.0,1820.0,2126.0,2190.0,2275.0,2306.0,2315.0,2293.0,2278.0,2311.0,2298.0,2280.0,2233.0,2145.0,1615.0,1300.0,910.0,853.0,792.0,760.0,734.0,726.0,702.0,715.0,695.0,668.0,676.0,684.0,688.0,685.0,672.0,673.0,642.0,645.0,551.0,548.0,530.0,524.0,538.0,536.0,530.0,520.0,513.0,517.0,616.0,634.0,596.0,628.0,668.0,692.0,823.0,848.0,899.0,915.0,941.0,944.0,942.0,938.0,939.0,949.0,949.0,917.0,930.0,937.0,941.0,942.0,993.0,1116.0,1257.0,1264.0,1303.0,1516.0,1907.0,2058.0,2072.0,2084.0,2051.0,1886.0,1299.0,968.0,588.0,556.0,530.0,526.0,514.0,518.0,526.0,532.0,537.0,521.0,540.0,587.0,877.0,920.0,1022.0,1188.0,1392.0,1552.0,1784.0,1964.0,2140.0,2124.0,2165.0,2189.0,2183.0,2207.0,2186.0,2208.0,2227.0,2198.0,2233.0,2228.0,2245.0,2245.0,2210.0,2201.0,2185.0,2208.0,2200.0,2198.0,2154.0,2110.0,2012.0,1618.0,1096.0,806.0,696.0,668.0,635.0,623.0,598.0,557.0,543.0,540.0,539.0,547.0,564.0,556.0,548.0,588.0,903.0,933.0,1035.0,1235.0,1382.0,1540.0,1686.0,1905.0,2057.0,2110.0,2141.0,2149.0,2159.0,2171.0,2194.0,2208.0,2178.0,2160.0,2159.0,2186.0,2207.0,2190.0,2173.0,2149.0,2129.0,2142.0,2120.0,2133.0,2063.0,2037.0,1980.0,1626.0,1110.0,806.0,665.0,637.0,582.0,570.0,553.0,565.0,568.0,561.0,535.0,542.0,528.0,525.0,517.0,568.0,854.0,901.0,1040.0,1196.0,1357.0,1488.0,1696.0,1884.0,2046.0,2061.0,2083.0,2087.0,2085.0,2148.0,2167.0,2153.0,2118.0,2093.0,2093.0,2106.0,2103.0,2100.0,2102.0,2063.0,2077.0,2088.0,2076.0,2051.0,2004.0,1959.0,1867.0,1608.0,1120.0,845.0,714.0,666.0,618.0,589.0,583.0,539.0,535.0,525.0,529.0,523.0,545.0,539.0,534.0,577.0,871.0,896.0,1049.0,1229.0,1384.0,1496.0,1634.0,1822.0,1963.0,2002.0,2025.0,2081.0,2071.0,2094.0,2107.0,2113.0,2106.0,2082.0,2088.0,2111.0,2091.0,2068.0,2062.0,2072.0,2055.0,2089.0,2046.0,2048.0,1996.0,1938.0,1879.0,1613.0,1130.0,852.0,688.0,622.0,580.0,554.0,534.0,527.0,532.0,534.0,540.0,539.0,545.0,531.0,516.0,570.0,854.0,905.0,1039.0,1194.0,1350.0,1454.0,1621.0,1794.0,1921.0,1966.0,2012.0,2061.0,2108.0,2075.0,2122.0,2108.0,2107.0,2095.0,2084.0,2076.0,2116.0,2109.0,2105.0,2081.0,2097.0,2090.0,2068.0,2053.0,2026.0,1977.0,1887.0,1645.0,1345.0,1183.0,985.0,887.0,715.0,691.0,594.0,593.0,593.0,581.0,592.0,567.0,562.0,558.0,546.0,578.0,810.0,891.0,1016.0,1208.0,1376.0,1645.0,1843.0,1929.0,1940.0,1914.0,1942.0,2004.0,1992.0,2018.0,2014.0,2005.0,1931.0,1780.0,1362.0,1039.0,770.0,707.0,668.0,684.0,638.0,632.0,641.0,627.0,602.0,604.0,596.0,598.0,600.0,598.0,606.0,593.0,589.0,575.0,504.0,515.0,498.0,499.0,496.0,497.0,504.0,499.0,504.0,507.0,599.0,593.0,575.0,584.0,629.0,634.0,794.0,797.0,853.0,863.0,857.0,878.0,884.0,877.0,874.0,883.0,866.0,864.0,864.0,881.0,863.0,848.0,874.0,963.0,1050.0,1066.0,1109.0,1262.0,1428.0,1578.0,1588.0,1562.0,1559.0,1482.0,1051.0,816.0,546.0,508.0,512.0,521.0,510.0,512.0,505.0,498.0,495.0,490.0,490.0,537.0,805.0,875.0,990.0,1110.0,1254.0,1410.0,1542.0,1717.0,1921.0,1978.0,1998.0,2036.0,2046.0,2052.0,2044.0,2096.0,2112.0,2098.0,2140.0,2143.0,2111.0,2155.0,2124.0,2112.0,2115.0,2113.0,2119.0,2083.0,2031.0,1996.0,1922.0,1588.0,1070.0,759.0,654.0,601.0,569.0,557.0,538.0,538.0,534.0,524.0,518.0,530.0,520.0,526.0,530.0,569.0,891.0,903.0,1026.0,1222.0,1337.0,1490.0,1676.0,1939.0,2105.0,2130.0,2213.0,2227.0,2202.0,2258.0,2283.0,2261.0,2254.0,2286.0,2272.0,2293.0,2256.0,2245.0,2246.0,2230.0,2225.0,2201.0,2171.0,2221.0,2149.0,2133.0,2043.0,1679.0,1154.0,855.0,750.0,673.0,625.0,607.0,588.0,580.0,586.0,574.0,571.0,571.0,570.0,541.0,539.0,580.0,876.0,964.0,1058.0,1230.0,1380.0,1584.0,1792.0,2004.0,2214.0,2219.0,2213.0,2226.0,2200.0,2220.0,2210.0,2203.0,2220.0,2237.0,2259.0,2275.0,2294.0,2298.0,2276.0,2277.0,2233.0,2197.0,2205.0,2208.0,2126.0,2098.0,1967.0,1599.0,1036.0,807.0,679.0,617.0,571.0,552.0,522.0,512.0,514.0,513.0,508.0,516.0,521.0,518.0,507.0,561.0,846.0,884.0,997.0,1151.0,1307.0,1511.0,1705.0,1894.0,2135.0,2171.0,2168.0,2179.0,2189.0,2221.0,2198.0,2190.0,2197.0,2169.0,2162.0,2175.0,2189.0,2200.0,2168.0,2169.0,2131.0,2103.0,2125.0,2156.0,2090.0,2036.0,1930.0,1597.0,1067.0,782.0,664.0,608.0,657.0,669.0,536.0,521.0,523.0,520.0,512.0,529.0,539.0,540.0,531.0,611.0,854.0,878.0,1007.0,1210.0,1373.0,1680.0,1955.0,2037.0,2056.0,2030.0,2032.0,2064.0,2067.0,2065.0,2058.0,2062.0,2015.0,1899.0,1447.0,1194.0,881.0,800.0,740.0,724.0,713.0,729.0,720.0,727.0,720.0,700.0,696.0,695.0,695.0,651.0,668.0,636.0,616.0,611.0,505.0,515.0,502.0,511.0,518.0,505.0,509.0,493.0,497.0,495.0,591.0,609.0,597.0,638.0,663.0,671.0,820.0,838.0,892.0,896.0,920.0,914.0,912.0,907.0,895.0,918.0,908.0,894.0,898.0,898.0,896.0,834.0,726.0,678.0,688.0,671.0,671.0,689.0,695.0,665.0,666.0,678.0,656.0,638.0,653.0,644.0,625.0,621.0,550.0,552.0,525.0,528.0,517.0,504.0,512.0,504.0,506.0,519.0,612.0,610.0,601.0,600.0,644.0,666.0,800.0,830.0,887.0,901.0,916.0,932.0,922.0,906.0,922.0,914.0,926.0,916.0,906.0,920.0,912.0,921.0,950.0,1019.0,1066.0,1076.0,1098.0,1205.0,1304.0,1440.0,1481.0,1459.0,1429.0,1298.0,1029.0,900.0,583.0,562.0,552.0,560.0,581.0,568.0,580.0,577.0,588.0,588.0,571.0,625.0,916.0,918.0,1047.0,1198.0,1405.0,1509.0,1657.0,1918.0,2096.0,2109.0,2125.0,2152.0,2164.0,2154.0,2189.0,2223.0,2240.0,2186.0,2206.0,2226.0,2242.0,2273.0,2293.0,2257.0,2233.0,2226.0,2216.0,2152.0,2080.0,2042.0,1977.0,1557.0,1069.0,779.0,674.0,622.0,605.0,594.0,573.0,598.0,594.0,594.0,570.0,549.0,545.0,544.0,532.0,594.0,939.0,979.0,1083.0,1271.0,1468.0,1644.0,1808.0,2058.0,2246.0,2257.0,2251.0,2340.0,2358.0,2331.0,2311.0,2313.0,2334.0,2328.0,2368.0,2311.0,2344.0,2324.0,2310.0,2287.0,2231.0,2196.0,2230.0,2236.0,2161.0,2152.0,2035.0,1640.0,1093.0,845.0,759.0,677.0,615.0,606.0,579.0,584.0,586.0,568.0,558.0,554.0,560.0,552.0,548.0,584.0,882.0,941.0,1095.0,1296.0,1443.0,1580.0,1785.0,2022.0,2260.0,2278.0,2281.0,2295.0,2312.0,2313.0,2313.0,2284.0,2289.0,2297.0,2297.0,2279.0,2300.0,2306.0,2336.0,2296.0,2276.0,2285.0,2268.0,2263.0,2205.0,2145.0,2022.0,1614.0,1102.0,844.0,731.0,651.0,598.0,569.0,563.0,571.0,563.0,557.0,575.0,574.0,590.0,546.0,540.0,582.0,888.0,976.0,1028.0,1194.0,1428.0,1622.0,1870.0,2068.0,2264.0,2244.0,2274.0,2258.0,2230.0,2214.0,2194.0,2194.0,2192.0,2182.0,2172.0,2168.0,2171.0,2104.0,2071.0,2001.0,1656.0,1341.0,1198.0,1149.0,1104.0,1082.0,1041.0,964.0,763.0,624.0,561.0,531.0,533.0,526.0,535.0,543.0,542.0,532.0,534.0,537.0,545.0,530.0,530.0,571.0,921.0,928.0,1034.0,1247.0,1413.0,1572.0,1774.0,2009.0,2145.0,2188.0,2169.0,2182.0,2193.0,2239.0,2224.0,2236.0,2208.0,2201.0,2221.0,2204.0,2242.0,2223.0,2182.0,2153.0,2170.0,2157.0,2152.0,2169.0,2129.0,2091.0,1995.0,1640.0,1322.0,1169.0,1018.0,915.0,708.0,706.0,598.0,585.0,547.0,536.0,538.0,542.0,551.0,560.0,600.0,586.0,859.0,917.0,1030.0,1213.0,1462.0,1784.0,2098.0,2150.0,2200.0,2205.0,2178.0,2239.0,2218.0,2203.0,2189.0,2200.0,2156.0,2076.0,1603.0,1301.0,960.0,872.0,806.0,773.0,744.0,733.0,710.0,724.0,712.0,704.0,694.0,728.0,720.0,730.0,714.0,700.0,681.0,673.0,586.0,581.0,551.0,526.0,528.0,534.0,529.0,528.0,529.0,532.0,640.0,662.0,624.0,624.0,660.0,686.0,820.0,841.0,928.0,943.0,989.0,992.0,991.0,996.0,1002.0,1000.0,998.0,1004.0,986.0,1011.0,1000.0,1029.0,1043.0,1159.0,1273.0,1329.0,1356.0,1512.0,1831.0,2134.0,2164.0,2181.0,2160.0,2004.0,1370.0,1050.0,655.0,584.0,548.0,543.0,530.0,518.0,536.0,531.0,533.0,529.0,533.0,562.0,866.0,917.0,1065.0,1254.0,1442.0,1602.0,1829.0,2071.0,2221.0,2266.0,2295.0,2280.0,2278.0,2236.0,2246.0,2303.0,2404.0,2332.0,2337.0,2364.0,2366.0,2356.0,2338.0,2332.0,2308.0,2296.0,2278.0,2268.0,2199.0,2171.0,2058.0,1660.0,1110.0,826.0,718.0,645.0,599.0,554.0,562.0,559.0,555.0,562.0,556.0,535.0,533.0,537.0,535.0,571.0,879.0,940.0,1043.0,1256.0,1451.0,1612.0,1789.0,2015.0,2207.0,2231.0,2258.0,2298.0,2312.0,2261.0,2269.0,2284.0,2349.0,2313.0,2346.0,2358.0,2346.0,2328.0,2330.0,2326.0,2280.0,2254.0,2255.0,2242.0,2187.0,2168.0,2093.0,1660.0,1085.0,826.0,736.0,654.0,606.0,565.0,574.0,534.0,531.0,526.0,508.0,520.0,523.0,541.0,535.0,575.0,856.0,968.0,1055.0,1253.0,1488.0,1672.0,1882.0,2066.0,2281.0,2315.0,2281.0,2277.0,2326.0,2314.0,2296.0,2290.0,2282.0,2238.0,2200.0,2264.0,2252.0,2238.0,1962.0,1566.0,1420.0,1266.0,1162.0,1159.0,1129.0,1104.0,1076.0,1009.0,775.0,615.0,575.0,544.0,630.0,658.0,541.0,537.0,543.0,541.0,562.0,550.0,546.0,544.0,597.0,628.0,909.0,969.0,1078.0,1367.0,1583.0,1872.0,2259.0,2338.0,2331.0,2295.0,2322.0,2329.0,2295.0,2271.0,2261.0,2212.0,2158.0,2050.0,1558.0,1240.0,928.0,854.0,830.0,808.0,792.0,824.0,794.0,806.0,794.0,769.0,767.0,752.0,735.0,712.0,669.0,637.0,613.0,618.0,537.0,539.0,525.0,533.0,533.0,539.0,546.0,518.0,522.0,542.0,644.0,680.0,656.0,688.0,712.0,776.0,924.0,936.0,1024.0,1042.0,1060.0,1047.0,1065.0,1070.0,1066.0,1081.0,1063.0,1060.0,1058.0,1066.0,1074.0,1058.0,1054.0,1115.0,1165.0,1238.0,1292.0,1351.0,1385.0,1402.0,1402.0,1370.0,1353.0,1260.0,1031.0,924.0,727.0,705.0,589.0,581.0,568.0,544.0,535.0,533.0,562.0,582.0,585.0,575.0,856.0,896.0,1037.0,1249.0,1448.0,1777.0,2121.0,2209.0,2243.0,2242.0,2284.0,2277.0,2309.0,2270.0,2254.0,2240.0,2176.0,2067.0,1618.0,1284.0,987.0,888.0,817.0,803.0,752.0,752.0,738.0,731.0,719.0,694.0,714.0,718.0,714.0,713.0,703.0,698.0,664.0,670.0,576.0,572.0,544.0,534.0,528.0,513.0,522.0,511.0,506.0,512.0,608.0,634.0,606.0,632.0,668.0,672.0,825.0,839.0,931.0,981.0,980.0,990.0,986.0,982.0,991.0,1000.0,1005.0,1004.0,1010.0,1014.0,1028.0,1024.0,1033.0,1127.0,1231.0,1265.0,1338.0,1460.0,1762.0,2033.0,2075.0,2049.0,2017.0,1888.0,1237.0,969.0,633.0,567.0,530.0,536.0,546.0,528.0,540.0,552.0,534.0,526.0,529.0,563.0,884.0,940.0,1057.0,1214.0,1406.0,1553.0,1759.0,1945.0,2082.0,2072.0,2146.0,2140.0,2158.0,2139.0,2147.0,2165.0,2136.0,2131.0,2140.0,2179.0,2215.0,2217.0,2222.0,2190.0,2213.0,2190.0,2171.0,2185.0,2136.0,2084.0,1985.0,1561.0,1072.0,792.0,709.0,636.0,615.0,586.0,578.0,585.0,580.0,546.0,533.0,533.0,548.0,545.0,530.0,568.0,880.0,960.0,1076.0,1207.0,1395.0,1574.0,1756.0,1974.0,2160.0,2154.0,2164.0,2186.0,2179.0,2175.0,2192.0,2242.0,2238.0,2216.0,2229.0,2217.0,2303.0,2265.0,2247.0,2260.0,2289.0,2256.0,2200.0,2188.0,2162.0,2120.0,2024.0,1628.0,1132.0,872.0,726.0,650.0,618.0,591.0,578.0,587.0,591.0,534.0,561.0,562.0,566.0,558.0,555.0,593.0,915.0,971.0,1073.0,1228.0,1479.0,1682.0,1819.0,2039.0,2216.0,2255.0,2285.0,2344.0,2308.0,2281.0,2276.0,2343.0,2327.0,2349.0,2333.0,2401.0,2347.0,2322.0,2292.0,2281.0,2293.0,2283.0,2236.0,2246.0,2164.0,2152.0,2049.0,1624.0,1087.0,791.0,702.0,663.0,624.0,598.0,572.0,560.0,536.0,535.0,535.0,555.0,562.0,553.0,556.0,578.0,874.0,954.0,1066.0,1256.0,1489.0,1663.0,1866.0,1984.0,2129.0,2144.0,2171.0,2163.0,2160.0,2171.0,2186.0,2222.0,2227.0,2202.0,2189.0,2260.0,2269.0,2256.0,2234.0,2229.0,2246.0,2226.0,2196.0,2200.0,2152.0,2127.0,2025.0,1638.0,1120.0,781.0,665.0,616.0,608.0,575.0,549.0,554.0,551.0,542.0,540.0,557.0,556.0,554.0,559.0,594.0,938.0,977.0,1066.0,1258.0,1523.0,1649.0,1832.0,2008.0,2186.0,2226.0,2171.0,2175.0,2211.0,2233.0,2244.0,2358.0,2294.0,2306.0,2277.0,2255.0,2240.0,2230.0,2213.0,2219.0,2240.0,2239.0,2222.0,2209.0,2194.0,2134.0,2035.0,1665.0,1348.0,1163.0,1040.0,976.0,769.0,746.0,628.0,616.0,608.0,604.0,592.0,573.0,569.0,573.0,615.0,605.0,887.0,960.0,1070.0,1270.0,1474.0,1755.0,2061.0,2132.0,2154.0,2170.0,2132.0,2180.0,2136.0,2126.0,2136.0,2166.0,2138.0,2046.0,1586.0,1293.0,978.0,895.0,850.0,819.0,797.0,784.0,774.0,784.0,738.0,756.0,763.0,757.0,740.0,718.0,739.0,734.0,687.0,678.0,590.0,580.0,548.0,548.0,548.0,548.0,542.0,534.0,528.0,522.0,652.0,676.0,620.0,645.0,691.0,733.0,852.0,876.0,995.0,1020.0,1034.0,1040.0,1066.0,1060.0,1050.0,1055.0,1055.0,1033.0,1044.0,1058.0,1061.0,1066.0,1056.0,1210.0,1252.0,1210.0,1282.0,1412.0,1673.0,2055.0,2104.0,2132.0,2080.0,1966.0,1329.0,1057.0,622.0,596.0,556.0,548.0,544.0,537.0,557.0,563.0,565.0,556.0,550.0,586.0,932.0,976.0,1124.0,1352.0,1524.0,1739.0,1917.0,2072.0,2255.0,2314.0,2299.0,2305.0,2261.0,2292.0,2336.0,2266.0,2290.0,2303.0,2312.0,2278.0,2293.0,2307.0,2263.0,2306.0,2286.0,2271.0,2267.0,2272.0,2184.0,2139.0,2053.0,1620.0,1074.0,762.0,683.0,642.0,591.0,571.0,565.0,572.0,569.0,567.0,558.0,580.0,590.0,579.0,585.0,628.0,948.0,995.0,1117.0,1292.0,1492.0,1688.0,1844.0,2034.0,2248.0,2262.0,2290.0,2226.0,2235.0,2235.0,2271.0,2272.0,2265.0,2244.0,2231.0,2259.0,2271.0,2245.0,2267.0,2250.0,2208.0,2236.0,2266.0,2225.0,2212.0,2128.0,2024.0,1632.0,1110.0,792.0,689.0,637.0,605.0,584.0,585.0,593.0,588.0,571.0,538.0,537.0,539.0,550.0,560.0,598.0,911.0,1015.0,1108.0,1322.0,1571.0,1743.0,1875.0,2109.0,2275.0,2253.0,2294.0,2302.0,2326.0,2322.0,2340.0,2309.0,2346.0,2336.0,2261.0,2308.0,2338.0,2334.0,2298.0,2330.0,2295.0,2317.0,2306.0,2305.0,2265.0,2168.0,2065.0,1668.0,1065.0,761.0,660.0,614.0,587.0,566.0,556.0,566.0,552.0,554.0,560.0,554.0,568.0,562.0,578.0,590.0,910.0,1024.0,1120.0,1280.0,1488.0,1684.0,1819.0,1986.0,2226.0,2209.0,2266.0,2236.0,2256.0,2248.0,2284.0,2283.0,2272.0,2300.0,2339.0,2370.0,2343.0,2295.0,2303.0,2326.0,2280.0,2265.0,2270.0,2274.0,2246.0,2175.0,2048.0,1625.0,1078.0,744.0,660.0,610.0,599.0,572.0,548.0,552.0,552.0,549.0,562.0,554.0,566.0,562.0,568.0,619.0,939.0,1004.0,1068.0,1278.0,1602.0,1755.0,1889.0,2090.0,2249.0,2277.0,2230.0,2208.0,2240.0,2317.0,2569.0,2572.0,2480.0,2463.0,2375.0,2344.0,2468.0,2524.0,2422.0,2393.0,2385.0,2379.0,2351.0,2347.0,2291.0,2255.0,2179.0,1748.0,1398.0,1243.0,1069.0,992.0,822.0,772.0,729.0,741.0,722.0,721.0,723.0,722.0,716.0,716.0,746.0,752.0,953.0,1003.0,1184.0,1388.0,1568.0,1902.0,2158.0,2259.0,2306.0,2293.0,2298.0,2334.0,2358.0,2336.0,2338.0,2324.0,2332.0,2254.0,1719.0,1313.0,989.0,889.0,842.0,830.0,775.0,757.0,750.0,794.0,774.0,756.0,745.0,751.0,740.0,722.0,721.0,703.0,713.0,719.0,642.0,652.0,617.0,610.0,589.0,592.0,597.0,591.0,598.0,584.0,644.0,628.0,614.0,652.0,694.0,716.0,844.0,881.0,1016.0,1041.0,1038.0,1023.0,1072.0,1049.0,1052.0,1054.0,1086.0,1068.0,1066.0,1064.0,1086.0,1072.0,1072.0,1176.0,1261.0,1311.0,1289.0,1363.0,1592.0,1952.0,2145.0,2149.0,2112.0,1959.0,1309.0,992.0,628.0,615.0,624.0,639.0,618.0,616.0,616.0,620.0,633.0,633.0,638.0,658.0,934.0,1005.0,1142.0,1317.0,1542.0,1762.0,1904.0,2080.0,2302.0,2294.0,2260.0,2245.0,2249.0,2262.0,2306.0,2352.0,2377.0,2348.0,2343.0,2382.0,2398.0,2352.0,2347.0,2301.0,2352.0,2313.0,2281.0,2270.0,2216.0,2170.0,2055.0,1633.0,1110.0,786.0,680.0,622.0,603.0,587.0,582.0,595.0,575.0,570.0,574.0,566.0,548.0,534.0,540.0,571.0,908.0,1034.0,1081.0,1291.0,1545.0,1669.0,1911.0,2119.0,2269.0,2322.0,2353.0,2382.0,2423.0,2391.0,2507.0,2463.0,2459.0,2462.0,2414.0,2412.0,2418.0,2380.0,2370.0,2368.0,2334.0,2312.0,2264.0,2280.0,2236.0,2206.0,2073.0,1672.0,1125.0,816.0,706.0,637.0,615.0,594.0,585.0,593.0,579.0,583.0,564.0,543.0,549.0,551.0,565.0,582.0,896.0,1064.0,1132.0,1247.0,1537.0,1758.0,1914.0,2144.0,2343.0,2435.0,2502.0,2592.0,2566.0,2404.0,2393.0,2349.0,2389.0,2694.0,2651.0,2600.0,2586.0,2545.0,2544.0,2516.0,2465.0,2458.0,2462.0,2361.0,2343.0,2320.0,2224.0,1768.0,1144.0,899.0,787.0,744.0,710.0,677.0,666.0,652.0,653.0,658.0,642.0,646.0,648.0,638.0,652.0,688.0,936.0,1004.0,1104.0,1285.0,1535.0,1960.0,2108.0,2202.0,2386.0,2393.0,2386.0,2455.0,2436.0,2448.0,2439.0,2548.0,2610.0,2559.0,2494.0,2528.0,2532.0,2518.0,2527.0,2487.0,2440.0,2461.0,2431.0,2436.0,2403.0,2335.0,2222.0,1658.0,1048.0,823.0,753.0,702.0,674.0,657.0,643.0,638.0,633.0,623.0,622.0,623.0,645.0,634.0,647.0,694.0,913.0,987.0,1091.0,1386.0,1770.0,1985.0,2106.0,2324.0,2523.0,2540.0,2521.0,2501.0,2456.0,2436.0,2496.0,2503.0,2526.0,2523.0,2520.0,2559.0,2576.0,2541.0,2540.0,2556.0,2515.0,2510.0,2459.0,2452.0,2412.0,2382.0,2300.0,1769.0,1441.0,1214.0,1071.0,1039.0,902.0,888.0,752.0,743.0,745.0,735.0,721.0,684.0,642.0,625.0,679.0,688.0,948.0,1030.0,1147.0,1429.0,1671.0,2001.0,2326.0,2400.0,2438.0,2450.0,2454.0,2470.0,2422.0,2427.0,2414.0,2433.0,2382.0,2278.0,1722.0,1360.0,1024.0,958.0,934.0,919.0,859.0,861.0,846.0,845.0,837.0,835.0,829.0,826.0,828.0,816.0,821.0,833.0,812.0,795.0,690.0,682.0,642.0,628.0,618.0,628.0,636.0,632.0,630.0,620.0,694.0,737.0,718.0,719.0,776.0,776.0,900.0,942.0,1060.0,1133.0,1156.0,1152.0,1147.0,1148.0,1154.0,1154.0,1131.0,1121.0,1124.0,1160.0,1142.0,1145.0,1154.0,1291.0,1336.0,1347.0,1352.0,1431.0,1640.0,2060.0,2280.0,2294.0,2190.0,2001.0,1353.0,1086.0,688.0,636.0,616.0,624.0,619.0,617.0,609.0,601.0,602.0,610.0,614.0,658.0,980.0,1119.0,1221.0,1388.0,1682.0,1789.0,1975.0,2236.0,2484.0,2494.0,2519.0,2531.0,2540.0,2586.0,2546.0,2518.0,2473.0,2470.0,2453.0,2438.0,2499.0,2488.0,2458.0,2445.0,2474.0,2456.0,2362.0,2361.0,2363.0,2332.0,2230.0,1743.0,1160.0,889.0,784.0,750.0,726.0,682.0,672.0,683.0,679.0,674.0,636.0,629.0,642.0,632.0,639.0,695.0,989.0,1122.0,1188.0,1350.0,1676.0,2078.0,2155.0,2401.0,2570.0,2593.0,2556.0,2561.0,2584.0,2584.0,2644.0,2620.0,2718.0,2682.0,2612.0,2591.0,2609.0,2613.0,2591.0,2568.0,2532.0,2535.0,2471.0,2446.0,2424.0,2383.0,2273.0,1751.0,1138.0,814.0,729.0,706.0,676.0,648.0,638.0,662.0,737.0,681.0,626.0,636.0,642.0,632.0,644.0,694.0,968.0,1010.0,1134.0,1332.0,1603.0,1881.0,2220.0,2448.0,2659.0,2705.0,2691.0,2705.0,2700.0,2716.0,2718.0,2710.0,2682.0,2691.0,2754.0,2745.0,2728.0,2714.0,2683.0,2660.0,2624.0,2589.0,2569.0,2547.0,2496.0,2468.0,2327.0,1807.0,1140.0,823.0,773.0,743.0,697.0,670.0,656.0,660.0,642.0,638.0,638.0,650.0,651.0,672.0,666.0,701.0,999.0,1013.0,1188.0,1386.0,1633.0,1978.0,2244.0,2442.0,2613.0,2629.0,2619.0,2576.0,2572.0,2522.0,2533.0,2577.0,2572.0,2554.0,2542.0,2557.0,2565.0,2561.0,2540.0,2527.0,2522.0,2544.0,2519.0,2528.0,2449.0,2407.0,2297.0,1760.0,1109.0,858.0,762.0,731.0,717.0,669.0,643.0,648.0,643.0,642.0,638.0,634.0,637.0,651.0,678.0,698.0,994.0,1020.0,1175.0,1331.0,1688.0,1892.0,2113.0,2325.0,2498.0,2524.0,2526.0,2522.0,2536.0,2510.0,2468.0,2494.0,2480.0,2509.0,2541.0,2575.0,2591.0,2564.0,2542.0,2522.0,2515.0,2509.0,2496.0,2500.0,2474.0,2432.0,2272.0,1800.0,1465.0,1246.0,1083.0,1037.0,866.0,843.0,753.0,771.0,766.0,764.0,743.0,727.0,738.0,727.0,742.0,757.0,962.0,987.0,1142.0,1407.0,1635.0,2037.0,2442.0,2503.0,2519.0,2534.0,2526.0,2511.0,2489.0,2488.0,2473.0,2481.0,2452.0,2384.0,1774.0,1438.0,1085.0,1015.0,958.0,922.0,874.0,846.0,832.0,808.0,812.0,812.0,816.0,824.0,820.0,797.0,787.0,781.0,791.0,771.0,639.0,671.0,645.0,632.0,620.0,614.0,621.0,617.0,616.0,617.0,773.0,700.0,696.0,702.0,767.0,811.0,924.0,965.0,1081.0,1118.0,1113.0,1058.0,1101.0,1098.0,1078.0,1066.0,1066.0,1066.0,1074.0,1065.0,1079.0,1070.0,1050.0,1142.0,1290.0,1290.0,1273.0,1258.0,1249.0,1255.0,1259.0,1222.0,1204.0,1111.0,903.0,870.0,722.0,671.0,590.0,608.0,627.0,619.0,611.0,614.0,624.0,624.0,625.0,637.0,766.0,770.0,712.0,722.0,748.0,850.0,1028.0,1066.0,1186.0,1237.0,1197.0,1166.0,1173.0,1188.0,1179.0,1185.0,1184.0,1178.0,1187.0,1186.0,1218.0,1266.0,1225.0,1338.0,1361.0,1392.0,1382.0,1454.0,1679.0,2010.0,2219.0,2147.0,2085.0,1846.0,1200.0,954.0,655.0,604.0,599.0,627.0,624.0,620.0,614.0,619.0,635.0,634.0,639.0,663.0,972.0,1019.0,1188.0,1364.0,1634.0,1904.0,2228.0,2500.0,2692.0,2754.0,2770.0,2745.0,2745.0,2730.0,2741.0,2723.0,2710.0,2668.0,2698.0,2710.0,2650.0,2643.0,2609.0,2638.0,2634.0,2594.0,2564.0,2548.0,2504.0,2451.0,2331.0,1795.0,1077.0,834.0,738.0,680.0,636.0,616.0,596.0,610.0,596.0,589.0,557.0,554.0,554.0,552.0,566.0,599.0,923.0,1079.0,1199.0,1377.0,1633.0,1888.0,2301.0,2527.0,2666.0,2681.0,2726.0,2686.0,2691.0,2670.0,2645.0,2659.0,2728.0,2708.0,2734.0,2716.0,2740.0,2742.0,2746.0,2720.0,2715.0,2691.0,2657.0,2676.0,2609.0,2582.0,2442.0,1816.0,1121.0,768.0,673.0,628.0,586.0,562.0,565.0,571.0,566.0,554.0,556.0,551.0,562.0,559.0,570.0,600.0,984.0,1080.0,1180.0,1359.0,1675.0,1955.0,2249.0,2481.0,2661.0,2710.0,2726.0,2746.0,2754.0,2754.0,2709.0,2728.0,2763.0,2748.0,2731.0,2774.0,2788.0,2773.0,2708.0,2702.0,2697.0,2671.0,2656.0,2644.0,2599.0,2560.0,2435.0,1858.0,1176.0,784.0,688.0,646.0,636.0,629.0,589.0,592.0,578.0,572.0,569.0,583.0,568.0,566.0,570.0,606.0,990.0,1118.0,1263.0,1415.0,1734.0,2066.0,2231.0,2399.0,2645.0,2875.0,2840.0,2824.0,2752.0,2709.0,2705.0,2748.0,2731.0,2772.0,2757.0,2755.0,2753.0,2754.0,2762.0,2748.0,2714.0,2722.0,2698.0,2660.0,2602.0,2519.0,2380.0,1849.0,1426.0,1212.0,1030.0,978.0,792.0,776.0,626.0,617.0,604.0,587.0,560.0,562.0,567.0,575.0,619.0,633.0,942.0,998.0,1186.0,1494.0,1700.0,2085.0,2434.0,2489.0,2489.0,2509.0,2512.0,2506.0,2531.0,2483.0,2480.0,2526.0,2525.0,2504.0,2003.0,1540.0,1093.0,981.0,948.0,922.0,872.0,853.0,849.0,888.0,876.0,848.0,859.0,863.0,862.0,844.0,833.0,820.0,823.0,816.0,608.0,608.0,568.0,554.0,549.0,538.0,547.0,539.0,544.0,539.0,700.0,754.0,666.0,679.0,755.0,769.0,931.0,942.0,1056.0,1122.0,1154.0,1154.0,1166.0,1140.0,1138.0,1139.0,1135.0,1142.0,1141.0,1156.0,1165.0,1180.0,1178.0,1310.0,1464.0,1520.0,1530.0,1574.0,1741.0,2138.0,2379.0,2409.0,2379.0,2153.0,1409.0,1023.0,634.0,583.0,538.0,544.0,540.0,533.0,533.0,540.0,559.0,541.0,561.0,593.0,970.0,1061.0,1191.0,1428.0,1754.0,2078.0,2436.0,2608.0,2771.0,2818.0,2867.0,2778.0,2764.0,2752.0,2760.0,2785.0,2674.0,2706.0,2680.0,2650.0,2661.0,2638.0,2638.0,2609.0,2607.0,2623.0,2584.0,2539.0,2498.0,2436.0,2294.0,1838.0,1184.0,862.0,760.0,722.0,702.0,672.0,657.0,655.0,651.0,643.0,664.0,654.0,658.0,650.0,660.0,732.0,1127.0,1111.0,1198.0,1426.0,1733.0,1967.0,2212.0,2441.0,2663.0,2716.0,2742.0,2756.0,2746.0,2768.0,2737.0,2699.0,2738.0,2716.0,2660.0,2690.0,2716.0,2740.0,2726.0,2690.0,2691.0,2674.0,2647.0,2638.0,2588.0,2534.0,2383.0,1875.0,1216.0,896.0,791.0,761.0,724.0,705.0,685.0,692.0,671.0,650.0,631.0,654.0,643.0,665.0,641.0,683.0,1046.0,1112.0,1139.0,1400.0,1673.0,1990.0,2226.0,2486.0,2749.0,2810.0,2811.0,2792.0,2789.0,2768.0,2769.0,2768.0,2759.0,2728.0,2745.0,2782.0,2803.0,2777.0,2785.0,2811.0,2780.0,2764.0,2746.0,2730.0,2692.0,2619.0,2461.0,1962.0,1262.0,868.0,772.0,744.0,714.0,690.0,657.0,667.0,647.0,661.0,638.0,661.0,667.0,666.0,666.0,726.0,1121.0,1117.0,1173.0,1397.0,1719.0,1961.0,2220.0,2503.0,2744.0,2803.0,2802.0,2830.0,2791.0,2754.0,2770.0,2785.0,2749.0,2723.0,2726.0,2754.0,2772.0,2743.0,2720.0,2739.0,2740.0,2776.0,2778.0,2754.0,1908.0,2425.0,2320.0,1814.0,1075.0,812.0,694.0,644.0,602.0,592.0,548.0,558.0,539.0,556.0,541.0,560.0,550.0,565.0,553.0,601.0,917.0,1030.0,1144.0,1348.0,1851.0,2072.0,2261.0,2423.0,2675.0,2722.0,2633.0,2914.0,2782.0,2803.0,2816.0,2840.0,2842.0,2869.0,2876.0,2867.0,2904.0,2861.0,2890.0,2839.0,2815.0,2829.0,2822.0,2832.0,2755.0,2717.0,2628.0,2048.0,1547.0,1309.0,1116.0,1152.0,734.0,678.0,653.0,641.0,638.0,586.0,596.0,591.0,615.0,590.0,641.0,645.0,842.0,890.0,1276.0,1748.0,1870.0,2262.0,2688.0,2755.0,2751.0,2786.0,2781.0,2763.0,2757.0,2726.0,2702.0,2730.0,2749.0,2648.0,1923.0,1513.0,1146.0,1038.0,968.0,972.0,918.0,930.0,925.0,918.0,897.0,900.0,886.0,901.0,888.0,883.0,866.0,872.0,862.0,856.0,736.0,740.0,699.0,708.0,689.0,696.0,686.0,688.0,677.0,695.0,742.0,776.0,755.0,783.0,818.0,870.0,1040.0,1084.0,1212.0,1295.0,1301.0,1307.0,1308.0,1305.0,1274.0,1273.0,1274.0,1269.0,1288.0,1270.0,1319.0,1301.0,1324.0,1444.0,1582.0,1610.0,1624.0,1682.0,1938.0,2352.0,2674.0,2693.0,2659.0,2462.0,1569.0,1137.0,765.0,709.0,693.0,706.0,685.0,696.0,686.0,681.0,708.0,694.0,705.0,757.0,1025.0,1068.0,1195.0,1341.0,1742.0,1992.0,2268.0,2510.0,2720.0,2754.0,2749.0,2748.0,2739.0,2872.0,2832.0,2840.0,2868.0,2824.0,2828.0,2855.0,2872.0,2875.0,2843.0,2775.0,2806.0,2757.0,2750.0,2751.0,2676.0,2630.0,2524.0,1882.0,1091.0,879.0,835.0,769.0,660.0,613.0,605.0,594.0,560.0,556.0,537.0,557.0,555.0,576.0,597.0,658.0,980.0,1154.0,1220.0,1322.0,1608.0,2034.0,2310.0,2511.0,2737.0,2752.0,2784.0,2772.0,2793.0,2778.0,2771.0,2766.0,2764.0,2742.0,2765.0,2803.0,2783.0,2789.0,2774.0,2773.0,2719.0,2704.0,2692.0,2699.0,2638.0,2581.0,2488.0,1900.0,1072.0,801.0,680.0,640.0,605.0,584.0,560.0,568.0,556.0,560.0,548.0,568.0,580.0,580.0,574.0,674.0,1175.0,1123.0,1202.0,1442.0,1762.0,2045.0,2216.0,2453.0,2762.0,2802.0,2816.0,2824.0,2844.0,2848.0,2840.0,2832.0,2844.0,2823.0,2810.0,2810.0,2813.0,2794.0,2760.0,2728.0,2712.0,2726.0,2716.0,2653.0,2537.0,2502.0,2358.0,1764.0,1056.0,779.0,679.0,659.0,621.0,604.0,574.0,588.0,565.0,567.0,560.0,585.0,595.0,586.0,580.0,674.0,1254.0,1197.0,1247.0,1394.0,1571.0,1855.0,2161.0,2545.0,2815.0,2821.0,2840.0,2797.0,2768.0,2783.0,2840.0,2904.0,2862.0,2864.0,2874.0,2916.0,2930.0,2902.0,2920.0,2908.0,2888.0,2891.0,2875.0,2804.0,2732.0,2685.0,2584.0,2032.0,1306.0,852.0,749.0,644.0,630.0,584.0,583.0,569.0,580.0,556.0,568.0,562.0,589.0,581.0,582.0,609.0,1104.0,1337.0,1339.0,1571.0,1823.0,2191.0,2526.0,2712.0,2942.0,2987.0,2996.0,3022.0,3039.0,3024.0,3043.0,3033.0,3056.0,3065.0,3023.0,3021.0,2981.0,3004.0,2966.0,2937.0,2923.0,2882.0,2866.0,2844.0,2791.0,2693.0,2582.0,2042.0,1612.0,1366.0,1136.0,1098.0,881.0,810.0,583.0,570.0,572.0,562.0,568.0,561.0,575.0,579.0,615.0,629.0,1011.0,1215.0,1220.0,1589.0,1780.0,2284.0,2744.0,2792.0,2872.0,2880.0,2913.0,2909.0,2906.0,2888.0,2875.0,2849.0,2822.0,2723.0,2015.0,1578.0,1158.0,1081.0,1042.0,991.0,972.0,913.0,931.0,895.0,903.0,885.0,909.0,912.0,893.0,889.0,878.0,892.0,870.0,876.0,617.0,603.0,554.0,564.0,548.0,563.0,553.0,560.0,554.0,572.0,781.0,889.0,770.0,802.0,817.0,861.0,1013.0,1027.0,1208.0,1368.0,1397.0,1354.0,1371.0,1350.0,1348.0,1318.0,1306.0,1324.0,1307.0,1297.0,1308.0,1306.0,1326.0,1452.0,1616.0,1600.0,1648.0,1691.0,1963.0,2276.0,2602.0,2654.0,2614.0,2434.0,1548.0,1146.0,607.0,577.0,560.0,560.0,553.0,540.0,550.0,545.0,560.0,562.0,560.0,603.0,1065.0,1266.0,1268.0,1474.0,1688.0,2044.0,2412.0,2688.0,2886.0,2946.0,2956.0,2927.0,2909.0,2890.0,2940.0,2924.0,2926.0,2929.0,2932.0,2943.0,2903.0,2919.0,2958.0,2984.0,2952.0,2928.0,2898.0,2866.0,2815.0,2739.0,2655.0,2083.0,1314.0,854.0,747.0,681.0,642.0,621.0,633.0,622.0,602.0,586.0,602.0,598.0,614.0,594.0,611.0,647.0,1077.0,1341.0,1361.0,1581.0,1830.0,2039.0,2448.0,2859.0,3084.0,3070.0,3052.0,3036.0,3006.0,3012.0,3036.0,3036.0,3018.0,2981.0,2967.0,2944.0,2917.0,2920.0,2921.0,2910.0,2878.0,2831.0,2861.0,2830.0,2797.0,2732.0,2635.0,2098.0,1275.0,871.0,755.0,706.0,663.0,632.0,629.0,624.0,621.0,611.0,582.0,593.0,599.0,597.0,589.0,653.0,1072.0,1333.0,1323.0,1548.0,1762.0,2033.0,2508.0,2678.0,2908.0,2945.0,2978.0,2994.0,3016.0,3014.0,3008.0,3010.0,2990.0,2960.0,2968.0,2972.0,2970.0,2992.0,3032.0,3033.0,2985.0,2954.0,2922.0,2894.0,2797.0,2751.0,2653.0,2061.0,1304.0,825.0,729.0,678.0,666.0,599.0,612.0,598.0,606.0,589.0,610.0,598.0,630.0,604.0,627.0,661.0,1142.0,1301.0,1327.0,1594.0,1856.0,2170.0,2413.0,2658.0,2885.0,2900.0,2904.0,2912.0,2910.0,2915.0,2966.0,2955.0,2934.0,2904.0,2890.0,2911.0,2893.0,2924.0,2893.0,2873.0,2866.0,2855.0,2854.0,2868.0,2771.0,2734.0,2633.0,2038.0,1340.0,871.0,744.0,643.0,616.0,592.0,596.0,598.0,592.0,581.0,581.0,595.0,600.0,598.0,590.0,632.0,1056.0,1238.0,1232.0,1478.0,1741.0,2159.0,2428.0,2688.0,2902.0,2936.0,2980.0,2960.0,2954.0,2960.0,2952.0,2946.0,2920.0,2886.0,2975.0,2995.0,3017.0,2949.0,2868.0,2886.0,2872.0,2858.0,2827.0,2841.0,2779.0,2725.0,2646.0,2152.0,1716.0,1421.0,1181.0,1107.0,905.0,792.0,632.0,610.0,622.0,598.0,616.0,601.0,606.0,600.0,676.0,661.0,976.0,1168.0,1224.0,1405.0,1775.0,2305.0,2760.0,2911.0,2938.0,2883.0,2919.0,2908.0,2886.0,2872.0,2825.0,2852.0,2803.0,2714.0,1980.0,1562.0,1168.0,1128.0,1054.0,1039.0,925.0,1062.0,1061.0,1059.0,1031.0,1033.0,1012.0,1020.0,993.0,879.0,868.0,868.0,844.0,831.0,622.0,619.0,572.0,570.0,556.0,570.0,554.0,565.0,545.0,568.0,714.0,820.0,738.0,763.0,788.0,864.0,981.0,1084.0,1184.0,1235.0,1234.0,1271.0,1266.0,1276.0,1260.0,1274.0,1269.0,1267.0,1278.0,1274.0,1266.0,1289.0,1441.0,1565.0,1710.0,1691.0,1664.0,1744.0,1968.0,2340.0,2675.0,2726.0,2678.0,2491.0,1673.0,1177.0,664.0,606.0,580.0,599.0,579.0,588.0,580.0,606.0,618.0,617.0,607.0,638.0,1046.0,1268.0,1290.0,1524.0,1824.0,2252.0,2532.0,2811.0,3037.0,3050.0,3073.0,3109.0,3134.0,3130.0,3112.0,3073.0,3087.0,3075.0,3064.0,3050.0,3035.0,3060.0,3050.0,3020.0,3013.0,3005.0,2962.0,2962.0,2897.0,2880.0,2753.0,2070.0,1280.0,835.0,727.0,646.0,640.0,591.0,598.0,583.0,591.0,570.0,587.0,577.0,614.0,593.0,611.0,813.0,1121.0,1319.0,1266.0,1574.0,1788.0,2274.0,2632.0,2828.0,3020.0,3074.0,3080.0,3087.0,3105.0,3118.0,3108.0,3094.0,3082.0,3102.0,3064.0,3064.0,3064.0,3063.0,3049.0,3024.0,3006.0,2988.0,3001.0,3003.0,2928.0,2890.0,2753.0,2147.0,1333.0,878.0,767.0,715.0,702.0,655.0,652.0,630.0,643.0,623.0,634.0,627.0,651.0,618.0,612.0,632.0,1074.0,1328.0,1417.0,1621.0,1975.0,2289.0,2549.0,2787.0,3012.0,3047.0,3124.0,3098.0,3109.0,3100.0,3076.0,3038.0,3028.0,3018.0,2964.0,2987.0,3017.0,3032.0,3078.0,3079.0,3069.0,3055.0,3063.0,3031.0,2961.0,2904.0,2807.0,2201.0,1296.0,821.0,706.0,649.0,655.0,605.0,604.0,590.0,596.0,572.0,588.0,576.0,606.0,580.0,612.0,644.0,1095.0,1300.0,1337.0,1584.0,1929.0,2209.0,2520.0,2812.0,3094.0,3141.0,3122.0,3135.0,3110.0,3110.0,3123.0,3116.0,3113.0,3112.0,3044.0,3099.0,3071.0,3065.0,3047.0,3050.0,3064.0,3027.0,3015.0,2976.0,2877.0,2833.0,2740.0,2122.0,1327.0,883.0,766.0,690.0,664.0,626.0,614.0,584.0,588.0,568.0,574.0,563.0,597.0,574.0,593.0,617.0,1072.0,1367.0,1376.0,1609.0,2004.0,2272.0,2542.0,2824.0,3074.0,3122.0,3128.0,3125.0,3133.0,3123.0,3139.0,3151.0,3135.0,3127.0,3090.0,3093.0,3118.0,3092.0,3090.0,3097.0,3068.0,3023.0,3006.0,3028.0,2988.0,2916.0,2778.0,2224.0,1781.0,1530.0,1307.0,1193.0,947.0,868.0,641.0,611.0,618.0,586.0,592.0,650.0,597.0,581.0,654.0,644.0,1014.0,1211.0,1313.0,1619.0,1881.0,2342.0,2871.0,2975.0,2999.0,2972.0,3000.0,2994.0,2982.0,2961.0,2940.0,2899.0,2845.0,2762.0,2215.0,1844.0,1408.0,1264.0,1203.0,1192.0,1134.0,1096.0,1091.0,1079.0,1074.0,1051.0,1054.0,1049.0,1037.0,878.0,867.0,862.0,864.0,828.0,646.0,632.0,606.0,582.0,574.0,577.0,575.0,570.0,570.0,572.0,740.0,878.0,781.0,791.0,795.0,811.0,985.0,1081.0,1138.0,1118.0,1143.0,1173.0,1338.0,1386.0,1396.0,1370.0,1358.0,1358.0,1368.0,1372.0,1359.0,1371.0,1370.0,1530.0,1728.0,1759.0,1791.0,1883.0,2063.0,2438.0,2800.0,2842.0,2702.0,2510.0,1641.0,1164.0,661.0,643.0,600.0,591.0,570.0,582.0,564.0,588.0,588.0,596.0,596.0,644.0,1024.0,1292.0,1372.0,1573.0,1870.0,2162.0,2490.0,2806.0,3090.0,3157.0,3142.0,3124.0,3160.0,3238.0,3166.0,3109.0,3099.0,3077.0,3131.0,3152.0,3143.0,3113.0,3126.0,3119.0,3086.0,3065.0,3027.0,2989.0,2936.0,2896.0,2747.0,2193.0,1354.0,860.0,770.0,706.0,696.0,651.0,638.0,604.0,585.0,590.0,572.0,602.0,613.0,605.0,595.0,837.0,1216.0,1158.0,1329.0,1550.0,1793.0,2076.0,2470.0,2756.0,3016.0,3050.0,3059.0,3053.0,3060.0,3059.0,3046.0,3070.0,3032.0,3021.0,3038.0,2995.0,3017.0,2989.0,2971.0,2946.0,2961.0,2959.0,2940.0,2918.0,2862.0,2823.0,2717.0,2118.0,1315.0,903.0,771.0,712.0,696.0,645.0,625.0,618.0,631.0,617.0,626.0,603.0,594.0,577.0,588.0,830.0,1295.0,1206.0,1336.0,1542.0,1826.0,2126.0,2468.0,2748.0,3011.0,3057.0,3072.0,3084.0,3096.0,3097.0,3108.0,3105.0,3080.0,3050.0,3051.0,3037.0,3043.0,2991.0,2994.0,3016.0,2992.0,3020.0,2975.0,2941.0,2873.0,2809.0,2706.0,2130.0,1316.0,841.0,732.0,663.0,657.0,609.0,602.0,592.0,586.0,588.0,582.0,596.0,595.0,599.0,591.0,909.0,1358.0,1252.0,1424.0,1707.0,1952.0,2199.0,2576.0,2851.0,3111.0,3120.0,3209.0,3233.0,3240.0,3248.0,3212.0,3210.0,3211.0,3179.0,3196.0,3186.0,3194.0,3174.0,3166.0,3166.0,3164.0,3138.0,3086.0,3052.0,2977.0,2929.0,2790.0,2184.0,1363.0,862.0,745.0,710.0,684.0,610.0,602.0,587.0,599.0,582.0,598.0,582.0,613.0,593.0,620.0,854.0,1264.0,1216.0,1343.0,1609.0,1944.0,2198.0,2517.0,2797.0,3104.0,3144.0,3142.0,3143.0,3145.0,3128.0,3091.0,3069.0,3054.0,3060.0,3080.0,3104.0,3133.0,3091.0,3062.0,3064.0,3064.0,3002.0,2957.0,2937.0,2872.0,2866.0,2754.0,2141.0,1698.0,1335.0,1195.0,1120.0,958.0,929.0,706.0,622.0,609.0,588.0,599.0,589.0,611.0,596.0,654.0,854.0,1176.0,1132.0,1257.0,1505.0,1832.0,2324.0,2832.0,2940.0,3062.0,3036.0,3011.0,2996.0,2997.0,2962.0,2917.0,2949.0,2923.0,2814.0,2220.0,1769.0,1414.0,1318.0,1231.0,1197.0,1126.0,1130.0,1120.0,1119.0,1127.0,1102.0,1095.0,1072.0,1061.0,875.0,869.0,851.0,855.0,838.0,659.0,640.0,617.0,576.0,596.0,587.0,607.0,572.0,584.0,774.0,922.0,756.0,746.0,743.0,803.0,816.0,978.0,1014.0,1209.0,1271.0,1306.0,1276.0,1293.0,1263.0,1286.0,1290.0,1296.0,1281.0,1301.0,1280.0,1308.0,1314.0,1307.0,1452.0,1627.0,1657.0,1713.0,1758.0,1976.0,2352.0,2672.0,2712.0,2624.0,2458.0,1636.0,1155.0,693.0,669.0,653.0,653.0,644.0,630.0,628.0,625.0,652.0,630.0,650.0,868.0,1253.0,1191.0,1308.0,1510.0,1870.0,2160.0,2494.0,2842.0,3064.0,3060.0,3100.0,3175.0,3259.0,3255.0,3228.0,3210.0,3211.0,3188.0,3186.0,3190.0,3190.0,3173.0,3166.0,3187.0,3172.0,3132.0,3108.0,3022.0,2992.0,2947.0,2825.0,2106.0,1308.0,865.0,745.0,733.0,720.0,721.0,675.0,692.0,667.0,679.0,655.0,644.0,648.0,655.0,645.0,921.0,1361.0,1278.0,1398.0,1614.0,1911.0,2259.0,2652.0,2957.0,3269.0,3270.0,3298.0,3390.0,3382.0,3346.0,3338.0,3292.0,3282.0,3285.0,3309.0,3333.0,3342.0,3330.0,3332.0,3312.0,3291.0,3258.0,3254.0,3224.0,3164.0,3106.0,2941.0,2213.0,1344.0,865.0,745.0,718.0,685.0,673.0,625.0,641.0,627.0,635.0,636.0,636.0,654.0,650.0,641.0,914.0,1473.0,1358.0,1445.0,1619.0,1996.0,2403.0,2797.0,3072.0,3318.0,3336.0,3448.0,3438.0,3406.0,3403.0,3401.0,3400.0,3403.0,3387.0,3385.0,3346.0,3317.0,3276.0,3260.0,3288.0,3308.0,3312.0,3296.0,3266.0,3174.0,3105.0,3019.0,2207.0,1357.0,860.0,750.0,712.0,697.0,681.0,648.0,631.0,648.0,625.0,614.0,589.0,616.0,587.0,612.0,875.0,1407.0,1354.0,1437.0,1603.0,2022.0,2418.0,2807.0,3123.0,3412.0,3450.0,3470.0,3478.0,3504.0,3550.0,3530.0,3529.0,3503.0,3490.0,3444.0,3447.0,3447.0,3443.0,3447.0,3452.0,3420.0,3393.0,3370.0,3343.0,3219.0,3169.0,3069.0,2256.0,1683.0,1192.0,964.0,873.0,820.0,776.0,764.0,751.0,772.0,756.0,763.0,749.0,771.0,751.0,768.0,1034.0,1492.0,1431.0,1542.0,1723.0,2080.0,2401.0,2718.0,2935.0,3271.0,3335.0,3301.0,3232.0,3197.0,3212.0,3232.0,3336.0,3216.0,3340.0,3321.0,3319.0,3326.0,3246.0,3278.0,3276.0,3276.0,3250.0,3158.0,3128.0,3166.0,3068.0,2871.0,2229.0,1764.0,1562.0,1305.0,1259.0,1024.0,968.0,651.0,652.0,644.0,654.0,607.0,606.0,606.0,628.0,660.0,898.0,1253.0,1241.0,1434.0,1722.0,2011.0,2577.0,3214.0,3332.0,3280.0,3294.0,3244.0,3271.0,3251.0,3248.0,3217.0,3161.0,3124.0,3052.0,2320.0,1908.0,1564.0,1479.0,1404.0,1359.0,1244.0,1221.0,1211.0,1205.0,1204.0,1199.0,1213.0,1185.0,1194.0,951.0,954.0,930.0,919.0,891.0,659.0,638.0,615.0,588.0,596.0,585.0,598.0,576.0,596.0,800.0,950.0,814.0,833.0,811.0,881.0,946.0,1051.0,1060.0,1157.0,1277.0,1430.0,1463.0,1433.0,1416.0,1414.0,1411.0,1403.0,1384.0,1401.0,1384.0,1425.0,1415.0,1417.0,1557.0,1830.0,1865.0,1919.0,1955.0,2190.0,2582.0,2950.0,3000.0,2956.0,2724.0,1608.0,1181.0,671.0,602.0,594.0,575.0,586.0,571.0,587.0,570.0,591.0,584.0,610.0,838.0,1226.0,1209.0,1464.0,1617.0,1898.0,2432.0,2824.0,3134.0,3327.0,3365.0,3330.0,3347.0,3428.0,3407.0,3426.0,3389.0,3365.0,3363.0,3380.0,3393.0,3388.0,3372.0,3360.0,3405.0,3390.0,3385.0,3366.0,3324.0,3227.0,3134.0,2926.0,2135.0,1297.0,881.0,782.0,727.0,705.0,702.0,652.0,662.0,649.0,611.0,626.0,604.0,616.0,605.0,647.0,938.0,1402.0,1318.0,1497.0,1725.0,2096.0,2409.0,2769.0,3112.0,3485.0,3497.0,3491.0,3477.0,3444.0,3409.0,3423.0,3396.0,3347.0,3355.0,3364.0,3376.0,3394.0,3399.0,3394.0,3381.0,3310.0,3306.0,3304.0,3288.0,3224.0,3147.0,3006.0,2198.0,1383.0,872.0,726.0,684.0,657.0,629.0,596.0,610.0,592.0,608.0,600.0,600.0,599.0,606.0,622.0,873.0,1392.0,1310.0,1466.0,1630.0,2022.0,2426.0,2756.0,3072.0,3360.0,3441.0,3485.0,3521.0,3528.0,3507.0,3434.0,3382.0,3366.0,3326.0,3350.0,3366.0,3370.0,3372.0,3406.0,3398.0,3348.0,3252.0,3244.0,3215.0,3155.0,3096.0,2980.0,2238.0,1357.0,849.0,721.0,679.0,620.0,611.0,609.0,612.0,606.0,600.0,612.0,602.0,606.0,596.0,624.0,879.0,1381.0,1312.0,1477.0,1597.0,1982.0,2369.0,2771.0,3070.0,3332.0,3334.0,3343.0,3351.0,3374.0,3347.0,3367.0,3356.0,3346.0,3298.0,3300.0,3301.0,3295.0,3300.0,3308.0,3297.0,3289.0,3298.0,3263.0,3213.0,3170.0,3122.0,2952.0,2199.0,1365.0,873.0,744.0,689.0,659.0,637.0,597.0,613.0,598.0,618.0,598.0,604.0,599.0,609.0,616.0,880.0,1366.0,1320.0,1495.0,1703.0,2066.0,2512.0,2799.0,3055.0,3369.0,3423.0,3434.0,3450.0,3501.0,3495.0,3474.0,3468.0,3454.0,3447.0,3459.0,3476.0,3461.0,3414.0,3407.0,3406.0,3352.0,3343.0,3347.0,3362.0,3287.0,3213.0,3032.0,2278.0,1808.0,1568.0,1339.0,1283.0,1035.0,958.0,692.0,693.0,689.0,679.0,696.0,652.0,650.0,644.0,712.0,932.0,1273.0,1234.0,1395.0,1698.0,2096.0,2644.0,3221.0,3364.0,3400.0,3401.0,3390.0,3408.0,3404.0,3374.0,3353.0,3313.0,3242.0,3176.0,2440.0,2018.0,1664.0,1542.0,1490.0,1434.0,1297.0,1299.0,1294.0,1284.0,1274.0,1249.0,1241.0,1218.0,1221.0,991.0,974.0,942.0,929.0,915.0,682.0,674.0,620.0,628.0,620.0,608.0,600.0,603.0,598.0,821.0,961.0,851.0,832.0,862.0,902.0,955.0,1200.0,1299.0,1383.0,1418.0,1423.0,1431.0,1449.0,1436.0,1440.0,1430.0,1451.0,1456.0,1459.0,1442.0,1442.0,1483.0,1447.0,1598.0,1886.0,1958.0,2004.0,2084.0,2269.0,2721.0,2983.0,3002.0,2952.0,2696.0,1703.0,1300.0,730.0,662.0,643.0,620.0,623.0,608.0,625.0,611.0,634.0,612.0,649.0,876.0,1319.0,1300.0,1494.0,1685.0,1963.0,2322.0,2710.0,3052.0,3306.0,3323.0,3374.0,3405.0,3348.0,3308.0,3298.0,3298.0,3276.0,3297.0,3238.0,3279.0,3297.0,3281.0,3276.0,3248.0,3216.0,3187.0,3204.0,3155.0,3084.0,3035.0,2850.0,2147.0,1343.0,862.0,743.0,701.0,668.0,633.0,606.0,624.0,596.0,610.0,598.0,604.0,602.0,621.0,631.0,858.0,1296.0,1241.0,1361.0,1600.0,2053.0,2419.0,2770.0,3120.0,3441.0,3383.0,3374.0,3373.0,3360.0,3344.0,3337.0,3316.0,3322.0,3317.0,3274.0,3263.0,3289.0,3263.0,3279.0,3278.0,3259.0,3270.0,3282.0,3257.0,3147.0,3053.0,2890.0,2155.0,1314.0,846.0,725.0,692.0,657.0,656.0,614.0,620.0,614.0,608.0,594.0,575.0,580.0,562.0,592.0,858.0,1261.0,1197.0,1361.0,1574.0,1952.0,2382.0,2681.0,3027.0,3413.0,3353.0,3380.0,3424.0,3383.0,3390.0,3352.0,3343.0,3309.0,3323.0,3323.0,3329.0,3336.0,3314.0,3335.0,3296.0,3260.0,3260.0,3261.0,3222.0,3159.0,3066.0,2963.0,2172.0,1310.0,842.0,716.0,672.0,620.0,608.0,583.0,601.0,577.0,592.0,576.0,585.0,570.0,588.0,586.0,890.0,1238.0,1179.0,1340.0,1569.0,1952.0,2256.0,2704.0,3008.0,3276.0,3320.0,3322.0,3318.0,3422.0,3421.0,3388.0,3399.0,3340.0,3333.0,3301.0,3308.0,3352.0,3322.0,3316.0,3312.0,3316.0,3307.0,3253.0,3191.0,3103.0,3039.0,2928.0,2223.0,1390.0,945.0,847.0,776.0,724.0,716.0,688.0,706.0,686.0,700.0,682.0,696.0,702.0,708.0,708.0,990.0,1316.0,1270.0,1418.0,1667.0,1986.0,2367.0,2716.0,2958.0,3219.0,3295.0,3323.0,3395.0,3527.0,3387.0,3350.0,3318.0,3355.0,3367.0,3349.0,3349.0,3326.0,3293.0,3365.0,3368.0,3312.0,3289.0,3257.0,3249.0,3184.0,3145.0,3030.0,2292.0,1770.0,1508.0,1301.0,1240.0,1045.0,959.0,795.0,796.0,793.0,786.0,786.0,749.0,773.0,761.0,837.0,985.0,1168.0,1207.0,1397.0,1724.0,2034.0,2599.0,3135.0,3252.0,3283.0,3296.0,3268.0,3279.0,3262.0,3250.0,3210.0,3194.0,3199.0,3065.0,2280.0,1773.0,1447.0,1382.0,1322.0,1290.0,1162.0,1358.0,1345.0,1317.0,1288.0,1303.0,1285.0,1300.0,1280.0,1059.0,1030.0,1008.0,1009.0,986.0,823.0,889.0,884.0,830.0,817.0,811.0,836.0,816.0,825.0,938.0,901.0,878.0,885.0,919.0,970.0,1003.0,1222.0,1335.0,1320.0,1382.0,1383.0,1400.0,1393.0,1386.0,1378.0,1393.0,1402.0,1386.0,1355.0,1354.0,1380.0,1368.0,1367.0,1505.0,1676.0,1651.0,1509.0,1358.0,1324.0,1296.0,1256.0,1235.0,1229.0,1044.0,818.0,775.0,575.0,547.0,563.0,554.0,564.0,550.0,561.0,574.0,597.0,569.0,589.0,833.0,1206.0,1152.0,1315.0,1544.0,1893.0,2362.0,2780.0,3101.0,3330.0,3382.0,3330.0,3342.0,3338.0,3303.0,3315.0,3324.0,3269.0,3274.0,3274.0,3231.0,3261.0,3287.0,3275.0,3217.0,3218.0,3218.0,3185.0,3105.0,3029.0,2972.0,2868.0,2031.0,1230.0,826.0,728.0,709.0,681.0,656.0,626.0,628.0,619.0,603.0,584.0,588.0,608.0,602.0,612.0,865.0,1225.0,1155.0,1271.0,1490.0,1922.0,2347.0,2735.0,2990.0,3231.0,3282.0,3277.0,3272.0,3278.0,3251.0,3236.0,3205.0,3164.0,3179.0,3163.0,3130.0,3149.0,3158.0,3133.0,3136.0,3125.0,3100.0,3093.0,3100.0,2995.0,2929.0,2802.0,2068.0,1323.0,826.0,679.0,639.0,602.0,566.0,574.0,551.0,574.0,566.0,570.0,552.0,580.0,569.0,587.0,852.0,1229.0,1153.0,1316.0,1567.0,1917.0,2402.0,2685.0,2982.0,3244.0,3264.0,3266.0,3291.0,3272.0,3263.0,3232.0,3244.0,3223.0,3235.0,3240.0,3229.0,3189.0,3165.0,3180.0,3157.0,3134.0,3157.0,3175.0,3109.0,3014.0,2972.0,2778.0,2044.0,1202.0,816.0,678.0,658.0,626.0,614.0,584.0,584.0,570.0,585.0,573.0,574.0,593.0,585.0,604.0,852.0,1280.0,1218.0,1392.0,1572.0,1956.0,2458.0,2751.0,3026.0,3375.0,3408.0,3373.0,3364.0,3367.0,3343.0,3333.0,3338.0,3333.0,3306.0,3311.0,3344.0,3365.0,3338.0,3315.0,3295.0,3315.0,3308.0,3312.0,3213.0,3163.0,3092.0,2911.0,2165.0,1376.0,876.0,736.0,678.0,662.0,642.0,598.0,592.0,590.0,584.0,586.0,583.0,607.0,582.0,623.0,916.0,1320.0,1432.0,1431.0,1612.0,2024.0,2456.0,2814.0,3060.0,3298.0,3356.0,3379.0,3359.0,3350.0,3364.0,3360.0,3330.0,3314.0,3324.0,3345.0,3337.0,3350.0,3322.0,3330.0,3297.0,3275.0,3264.0,3249.0,3232.0,3157.0,3103.0,2920.0,2213.0,1698.0,1440.0,1236.0,1206.0,938.0,890.0,646.0,648.0,619.0,606.0,573.0,592.0,590.0,618.0,669.0,899.0,1097.0,1127.0,1264.0,1534.0,1982.0,2596.0,3159.0,3207.0,3228.0,3252.0,3242.0,3210.0,3190.0,3146.0,3119.0,3109.0,3058.0,2951.0,2350.0,1957.0,1596.0,1457.0,1391.0,1342.0,1262.0,1252.0,1248.0,1262.0,1240.0,1238.0,1221.0,1251.0,1225.0,1077.0,962.0,922.0,888.0,882.0,708.0,748.0,704.0,699.0,681.0,683.0,682.0,682.0,693.0,802.0,811.0,785.0,784.0,799.0,841.0,870.0,1111.0,1187.0,1271.0,1301.0,1317.0,1306.0,1327.0,1320.0,1329.0,1341.0,1338.0,1340.0,1322.0,1336.0,1321.0,1338.0,1353.0,1496.0,1803.0,1853.0,1877.0,1985.0,2302.0,2811.0,2935.0,2935.0,2900.0,2655.0,1637.0,1111.0,698.0,644.0,635.0,625.0,635.0,630.0,628.0,641.0,644.0,653.0,664.0,926.0,1152.0,1187.0,1293.0,1607.0,1902.0,2349.0,2772.0,3121.0,3313.0,3326.0,3333.0,3328.0,3324.0,3320.0,3328.0,3334.0,3301.0,3296.0,3303.0,3306.0,3297.0,3296.0,3296.0,3273.0,3258.0,3221.0,3191.0,3200.0,3130.0,3072.0,2907.0,2139.0,1181.0,847.0,715.0,693.0,656.0,624.0,598.0,605.0,595.0,598.0,588.0,575.0,575.0,566.0,567.0,843.0,1256.0,1233.0,1355.0,1618.0,2057.0,2427.0,2834.0,3100.0,3310.0,3324.0,3307.0,3287.0,3293.0,3285.0,3250.0,3259.0,3189.0,3217.0,3206.0,3231.0,3228.0,3232.0,3220.0,3200.0,3184.0,3177.0,3156.0,3137.0,3055.0,3007.0,2773.0,2051.0,1202.0,838.0,716.0,659.0,641.0,616.0,570.0,564.0,570.0,554.0,566.0,558.0,584.0,567.0,583.0,828.0,1274.0,1202.0,1352.0,1594.0,1968.0,2364.0,2786.0,3040.0,3336.0,3353.0,3333.0,3325.0,3323.0,3316.0,3320.0,3322.0,3285.0,3286.0,3273.0,3310.0,3398.0,3394.0,3383.0,3319.0,3318.0,3263.0,3232.0,3217.0,3134.0,3104.0,2819.0,2177.0,1325.0,831.0,689.0,663.0,622.0,596.0,570.0,582.0,567.0,567.0,568.0,568.0,558.0,569.0,579.0,896.0,1284.0,1212.0,1350.0,1588.0,1986.0,2422.0,2781.0,3039.0,3368.0,3353.0,3366.0,3337.0,3296.0,3282.0,3280.0,3277.0,3289.0,3290.0,3258.0,3259.0,3237.0,3242.0,3227.0,3211.0,3176.0,3173.0,3151.0,3104.0,3032.0,2981.0,2774.0,2037.0,1274.0,826.0,690.0,778.0,870.0,823.0,687.0,633.0,563.0,592.0,554.0,570.0,564.0,575.0,786.0,956.0,965.0,1013.0,1095.0,1409.0,1729.0,2114.0,2518.0,2862.0,3277.0,3298.0,3258.0,3211.0,3225.0,3174.0,3200.0,3236.0,3224.0,3256.0,3191.0,3186.0,3168.0,3203.0,3203.0,3194.0,3161.0,3165.0,3116.0,3033.0,3010.0,2972.0,2877.0,2111.0,1359.0,1182.0,1001.0,949.0,918.0,870.0,634.0,605.0,581.0,577.0,564.0,573.0,575.0,585.0,633.0,671.0,879.0,1141.0,1112.0,1443.0,1794.0,2313.0,3021.0,3183.0,3198.0,3193.0,3147.0,3165.0,3143.0,3133.0,3124.0,3145.0,3072.0,2884.0,2239.0,1831.0,1640.0,1460.0,1402.0,1350.0,1265.0,1265.0,1248.0,1272.0,1257.0,1257.0,1232.0,1254.0,1210.0,1214.0,1187.0,1187.0,972.0,922.0,642.0,640.0,598.0,585.0,566.0,572.0,558.0,563.0,558.0,634.0,911.0,941.0,836.0,954.0,1010.0,1041.0,1062.0,1089.0,1246.0,1301.0,1313.0,1310.0,1390.0,1403.0,1417.0,1429.0,1439.0,1418.0,1407.0,1416.0,1459.0,1464.0,1468.0,1574.0,1844.0,1874.0,1965.0,2091.0,2370.0,2908.0,3038.0,3007.0,2954.0,2746.0,1439.0,1078.0,815.0,1072.0,831.0,762.0,712.0,603.0,601.0,605.0,605.0,594.0,614.0,748.0,1062.0,1137.0,1383.0,1752.0,1922.0,2395.0,2729.0,3086.0,3372.0,3442.0,3403.0,3409.0,3377.0,3363.0,3363.0,3353.0,3338.0,3327.0,3393.0,3402.0,3426.0,3368.0,3351.0,3351.0,3349.0,3337.0,3318.0,3298.0,3278.0,3212.0,3060.0,2406.0,1884.0,951.0,763.0,740.0,795.0,1065.0,845.0,759.0,664.0,596.0,578.0,592.0,580.0,584.0,631.0,780.0,1050.0,1159.0,1260.0,1541.0,1755.0,2138.0,2573.0,2862.0,3200.0,3239.0,3350.0,3420.0,3347.0,3387.0,3488.0,3430.0,3328.0,3333.0,3301.0,3273.0,3251.0,3222.0,3254.0,3271.0,3241.0,3286.0,3237.0,3210.0,3161.0,3072.0,3003.0,2332.0,1503.0,938.0,774.0,737.0,791.0,985.0,810.0,835.0,720.0,605.0,612.0,598.0,587.0,566.0,605.0,686.0,1081.0,1162.0,1329.0,1742.0,1991.0,2452.0,2870.0,3124.0,3363.0,3405.0,3392.0,3425.0,3396.0,3337.0,3327.0,3336.0,3284.0,3355.0,3352.0,3310.0,3269.0,3240.0,3236.0,3260.0,3239.0,3200.0,3162.0,3148.0,3099.0,3071.0,2941.0,2351.0,1493.0,884.0,722.0,697.0,720.0,944.0,810.0,752.0,648.0,576.0,565.0,580.0,580.0,595.0,602.0,718.0,1079.0,1030.0,1299.0,1712.0,1918.0,2314.0,2660.0,2888.0,3249.0,3253.0,3226.0,3235.0,3196.0,3176.0,3168.0,3185.0,3178.0,3228.0,3289.0,3253.0,3238.0,3205.0,3207.0,3198.0,3183.0,3219.0,3201.0,3163.0,3157.0,3120.0,2996.0,2359.0,1556.0,910.0,732.0,686.0,726.0,1086.0,772.0,719.0,655.0,568.0,577.0,565.0,579.0,557.0,599.0,693.0,1144.0,1148.0,1394.0,1821.0,2051.0,2477.0,2711.0,3066.0,3317.0,3367.0,3360.0,3351.0,3347.0,3344.0,3380.0,3387.0,3343.0,3356.0,3355.0,3337.0,3326.0,3327.0,3311.0,3298.0,3326.0,3309.0,3250.0,3215.0,3168.0,3102.0,3000.0,2330.0,1913.0,1361.0,1158.0,1024.0,965.0,907.0,647.0,635.0,635.0,595.0,579.0,587.0,576.0,585.0,653.0,910.0,1166.0,1081.0,1311.0,1735.0,2013.0,2644.0,3255.0,3297.0,3270.0,3276.0,3262.0,3250.0,3266.0,3242.0,3239.0,3193.0,3138.0,3018.0,2370.0,1923.0,1667.0,1528.0,1442.0,1372.0,1262.0,1281.0,1259.0,1274.0,1208.0,1223.0,1225.0,1222.0,1210.0,1155.0,1135.0,1122.0,941.0,871.0,644.0,622.0,588.0,570.0,546.0,552.0,550.0,549.0,540.0,632.0,939.0,808.0,789.0,940.0,1003.0,1015.0,1053.0,1200.0,1336.0,1358.0,1376.0,1358.0,1368.0,1367.0,1376.0,1414.0,1380.0,1409.0,1378.0,1392.0,1406.0,1411.0,1475.0,1556.0,1830.0,1905.0,1947.0,2164.0,2635.0,2980.0,3027.0,2997.0,2925.0,2791.0,1507.0,1099.0,771.0,1027.0,753.0,730.0,634.0,566.0,540.0,554.0,552.0,554.0,583.0,666.0,977.0,1114.0,1297.0,1780.0,2130.0,2513.0,2858.0,3185.0,3400.0,3497.0,3492.0,3452.0,3416.0,3468.0,3480.0,3528.0,3028.0,3390.0,3438.0,3471.0,3451.0,3447.0,3405.0,3108.0,3178.0,3404.0,3345.0,3297.0,3212.0,3162.0,3062.0,2306.0,1436.0,860.0,734.0,695.0,682.0,654.0,641.0,646.0,620.0,634.0,638.0,631.0,655.0,620.0,637.0,911.0,1382.0,1261.0,1386.0,1702.0,2082.0,2478.0,2866.0,3121.0,3417.0,3479.0,3537.0,3594.0,3599.0,3574.0,3604.0,3610.0,3565.0,3545.0,3508.0,3481.0,3486.0,3500.0,3525.0,3458.0,3399.0,3388.0,3349.0,3341.0,3287.0,3250.0,3106.0,2429.0,1413.0,792.0,717.0,1049.0,1062.0,876.0,890.0,889.0,893.0,908.0,868.0,846.0,860.0,859.0,856.0,975.0,1190.0,1246.0,1366.0,1688.0,2140.0,2606.0,2964.0,3222.0,3504.0,3493.0,3543.0,3483.0,3481.0,3474.0,3448.0,3472.0,3486.0,3554.0,3548.0,3524.0,3507.0,3500.0,3478.0,3515.0,3478.0,3453.0,3417.0,3377.0,3319.0,3320.0,3166.0,2330.0,1396.0,916.0,808.0,764.0,738.0,702.0,656.0,656.0,652.0,658.0,654.0,652.0,659.0,655.0,691.0,930.0,1274.0,1210.0,1408.0,1697.0,2133.0,2550.0,2911.0,3210.0,3518.0,3528.0,3593.0,3563.0,3553.0,3574.0,3633.0,3597.0,3574.0,3575.0,3567.0,3595.0,3602.0,3518.0,3464.0,3410.0,3440.0,3386.0,3368.0,3329.0,3296.0,3283.0,3136.0,2380.0,1410.0,888.0,766.0,725.0,699.0,674.0,659.0,651.0,642.0,652.0,651.0,653.0,651.0,639.0,648.0,942.0,1288.0,1232.0,1380.0,1654.0,2067.0,2590.0,2929.0,3192.0,3408.0,3419.0,3413.0,3435.0,3403.0,3425.0,3382.0,3420.0,3429.0,3384.0,3356.0,3352.0,3428.0,3403.0,3405.0,3396.0,3399.0,3387.0,3376.0,3336.0,3294.0,3243.0,3048.0,2153.0,1674.0,1482.0,1251.0,1202.0,1001.0,888.0,656.0,708.0,705.0,686.0,703.0,687.0,653.0,628.0,689.0,913.0,1146.0,1177.0,1335.0,1706.0,2134.0,2751.0,3285.0,3358.0,3303.0,3281.0,3195.0,3243.0,3246.0,3222.0,3254.0,3250.0,3224.0,3070.0,2355.0,1948.0,1650.0,1574.0,1529.0,1470.0,1338.0,1314.0,1324.0,1306.0,1270.0,1204.0,1241.0,1259.0,1246.0,1088.0,980.0,916.0,914.0,901.0,619.0,621.0,588.0,571.0,556.0,566.0,568.0,549.0,566.0,819.0,910.0,763.0,775.0,794.0,858.0,896.0,1184.0,1298.0,1350.0,1364.0,1348.0,1360.0,1366.0,1360.0,1342.0,1374.0,1366.0,1367.0,1365.0,1384.0,1395.0,1375.0,1422.0,1581.0,1893.0,1972.0,2034.0,2312.0,2855.0,3051.0,3089.0,3101.0,3052.0,2829.0,1600.0,1134.0,851.0,778.0,572.0,562.0,568.0,568.0,556.0,566.0,574.0,566.0,572.0,864.0,1175.0,1159.0,1338.0,1607.0,2020.0,2569.0,2877.0,3143.0,3384.0,3348.0,3356.0,3349.0,3324.0,3329.0,3344.0,3362.0,3339.0,3367.0,3326.0,3332.0,3339.0,3329.0,3302.0,3303.0,3349.0,3339.0,3315.0,3305.0,3240.0,3185.0,3007.0,2131.0,1252.0,1106.0,1042.0,992.0,697.0,681.0,680.0,667.0,670.0,665.0,656.0,663.0,641.0,626.0,635.0,937.0,1387.0,1273.0,1368.0,1646.0,2076.0,2443.0,2791.0,2946.0,3266.0,3349.0,3304.0,3291.0,3362.0,3349.0,3345.0,3378.0,3368.0,3332.0,3331.0,3355.0,3354.0,3367.0,3377.0,3342.0,3280.0,3292.0,3266.0,3158.0,3024.0,3041.0,2906.0,2101.0,1273.0,881.0,794.0,772.0,714.0,705.0,689.0,692.0,686.0,650.0,659.0,664.0,671.0,652.0,672.0,953.0,1184.0,1215.0,1459.0,1679.0,2104.0,2460.0,2827.0,3087.0,3315.0,3378.0,3407.0,3408.0,3376.0,3348.0,3345.0,3332.0,3311.0,3304.0,3310.0,3282.0,3272.0,3234.0,3238.0,3256.0,3199.0,3197.0,3182.0,3131.0,3067.0,2993.0,2801.0,2068.0,1246.0,839.0,761.0,717.0,703.0,665.0,652.0,660.0,665.0,658.0,650.0,666.0,670.0,653.0,652.0,969.0,1195.0,1188.0,1447.0,1663.0,2048.0,2411.0,2778.0,3036.0,3232.0,3234.0,3187.0,3191.0,3227.0,3215.0,3176.0,3205.0,3217.0,3222.0,3203.0,3239.0,3269.0,3255.0,3222.0,3233.0,3214.0,3210.0,3158.0,3115.0,3067.0,3023.0,2901.0,2056.0,1263.0,831.0,743.0,700.0,683.0,669.0,654.0,668.0,663.0,651.0,668.0,670.0,660.0,650.0,662.0,922.0,1202.0,1171.0,1379.0,1636.0,2128.0,2544.0,2876.0,3088.0,3295.0,3313.0,3320.0,3296.0,3226.0,3260.0,3240.0,3265.0,3277.0,3256.0,3294.0,3283.0,3233.0,3239.0,3257.0,3253.0,3231.0,3217.0,3190.0,3144.0,3064.0,2993.0,2862.0,2112.0,1624.0,1414.0,1218.0,1146.0,884.0,864.0,660.0,679.0,696.0,709.0,694.0,664.0,702.0,704.0,702.0,921.0,1072.0,1098.0,1269.0,1566.0,1982.0,2598.0,3111.0,3201.0,3212.0,3152.0,3133.0,3094.0,3013.0,2966.0,2958.0,2986.0,3038.0,2908.0,2277.0,1831.0,1486.0,1390.0,1389.0,1353.0,1252.0,1220.0,1226.0,1180.0,1171.0,1171.0,1164.0,1160.0,1161.0,1010.0,935.0,906.0,862.0,854.0,616.0,607.0,559.0,547.0,557.0,544.0,552.0,553.0,541.0,785.0,818.0,711.0,732.0,736.0,782.0,832.0,1037.0,1177.0,1280.0,1289.0,1299.0,1314.0,1287.0,1267.0,1265.0,1279.0,1276.0,1279.0,1277.0,1298.0,1313.0,1301.0,1329.0,1495.0,1748.0,1844.0,1980.0,2216.0,2738.0,2974.0,2962.0,2951.0,2835.0,2617.0,1465.0,1074.0,832.0,774.0,570.0,571.0,551.0,549.0,555.0,537.0,555.0,562.0,559.0,835.0,1134.0,1168.0,1355.0,1554.0,2079.0,2387.0,2767.0,2968.0,3174.0,3146.0,3160.0,3166.0,3138.0,3142.0,3169.0,3203.0,3201.0,3171.0,3158.0,3186.0,3158.0,3120.0,3126.0,3135.0,3123.0,3060.0,3077.0,3073.0,2990.0,2946.0,2746.0,2041.0,1221.0,1084.0,966.0,897.0,657.0,634.0,622.0,630.0,613.0,617.0,618.0,569.0,574.0,587.0,578.0,866.0,1271.0,1198.0,1364.0,1637.0,2029.0,2448.0,2735.0,2978.0,3150.0,3131.0,3097.0,3096.0,3130.0,3160.0,3168.0,3169.0,3163.0,3162.0,3152.0,3164.0,3174.0,3150.0,3175.0,3164.0,3139.0,3122.0,3132.0,3112.0,3055.0,3001.0,2864.0,2106.0,1272.0,844.0,734.0,679.0,673.0,642.0,608.0,620.0,587.0,559.0,580.0,579.0,561.0,587.0,597.0,856.0,1352.0,1264.0,1412.0,1654.0,2048.0,2433.0,2753.0,3000.0,3223.0,3281.0,3265.0,3297.0,3266.0,3292.0,3274.0,3267.0,3281.0,3260.0,3228.0,3227.0,3255.0,3255.0,3265.0,3222.0,3212.0,3182.0,3148.0,3127.0,3045.0,3005.0,2814.0,2102.0,1229.0,828.0,712.0,648.0,634.0,604.0,588.0,602.0,595.0,577.0,588.0,586.0,575.0,577.0,587.0,862.0,1303.0,1194.0,1301.0,1637.0,2021.0,2384.0,2717.0,2958.0,3100.0,3116.0,3084.0,3052.0,3030.0,2998.0,3016.0,3130.0,3087.0,3071.0,3080.0,3048.0,3012.0,3020.0,3024.0,3028.0,3002.0,3013.0,2962.0,2955.0,2882.0,2798.0,2627.0,1988.0,1275.0,808.0,708.0,634.0,616.0,581.0,559.0,574.0,571.0,551.0,572.0,569.0,550.0,573.0,574.0,836.0,1274.0,1164.0,1283.0,1541.0,1950.0,2259.0,2598.0,2825.0,2974.0,2955.0,2941.0,2937.0,2965.0,2935.0,2972.0,3010.0,2962.0,2965.0,3004.0,3011.0,2986.0,2976.0,2943.0,2936.0,2925.0,2908.0,2885.0,2869.0,2791.0,2754.0,2612.0,2016.0,1613.0,1358.0,1187.0,1093.0,890.0,847.0,636.0,644.0,624.0,593.0,581.0,555.0,616.0,624.0,644.0,833.0,1011.0,1055.0,1212.0,1484.0,1890.0,2346.0,2769.0,2881.0,2890.0,2879.0,2840.0,2859.0,2856.0,2814.0,2815.0,2910.0,2832.0,2689.0,2104.0,1698.0,1428.0,1340.0,1272.0,1260.0,1212.0,1173.0,1156.0,1157.0,1150.0,1127.0,1145.0,1142.0,1134.0,976.0,924.0,877.0,857.0,847.0,626.0,594.0,541.0,558.0,556.0,546.0,548.0,558.0,552.0,774.0,849.0,746.0,731.0,748.0,798.0,816.0,1053.0,1141.0,1242.0,1252.0,1278.0,1287.0,1272.0,1263.0,1281.0,1268.0,1255.0,1216.0,1236.0,1315.0,1311.0,1314.0,1325.0,1479.0,1788.0,1846.0,2024.0,2355.0,2798.0,2935.0,2942.0,2888.0,2838.0,2644.0,1528.0,1100.0,816.0,780.0,566.0,557.0,555.0,546.0,536.0,549.0,551.0,566.0,574.0,814.0,1090.0,1141.0,1263.0,1550.0,1955.0,2240.0,2604.0,2914.0,3173.0,3188.0,3188.0,3144.0,3135.0,3165.0,3202.0,3210.0,3168.0,3152.0,3150.0,3162.0,3185.0,3165.0,3166.0,3188.0,3196.0,3134.0,3112.0,3094.0,3052.0,2942.0,2740.0,2252.0,1324.0,1135.0,1003.0,942.0,688.0,658.0,652.0,645.0,645.0,612.0,608.0,592.0,628.0,616.0,620.0,864.0,1288.0,1213.0,1364.0,1590.0,1992.0,2330.0,2695.0,2898.0,3064.0,3078.0,3039.0,3041.0,3068.0,3060.0,3044.0,3046.0,3036.0,3048.0,3075.0,3043.0,2986.0,2991.0,2980.0,2982.0,2981.0,2949.0,2969.0,2948.0,2841.0,2811.0,2672.0,2247.0,1309.0,848.0,754.0,688.0,674.0,648.0,616.0,634.0,591.0,549.0,569.0,574.0,559.0,587.0,597.0,864.0,1261.0,1201.0,1354.0,1618.0,1970.0,2258.0,2548.0,2848.0,3039.0,3095.0,3110.0,3050.0,3180.0,3138.0,3130.0,3128.0,3094.0,3069.0,3083.0,3077.0,3064.0,3055.0,3038.0,3030.0,3023.0,2982.0,2945.0,2896.0,2852.0,2756.0,2612.0,2238.0,1302.0,830.0,711.0,646.0,637.0,606.0,574.0,612.0,600.0,572.0,575.0,572.0,565.0,584.0,592.0,855.0,1257.0,1118.0,1300.0,1520.0,1846.0,2158.0,2479.0,2727.0,2814.0,2840.0,2832.0,2838.0,2851.0,2857.0,2862.0,2900.0,2884.0,2893.0,2896.0,2937.0,2936.0,2916.0,2902.0,2915.0,2876.0,2891.0,2866.0,2839.0,2779.0,2726.0,2610.0,2220.0,1355.0,898.0,713.0,641.0,639.0,612.0,569.0,593.0,586.0,576.0,576.0,574.0,562.0,594.0,596.0,847.0,1291.0,1152.0,1342.0,1568.0,1936.0,2198.0,2517.0,2765.0,2836.0,2869.0,2903.0,2898.0,2876.0,2868.0,2898.0,2936.0,2907.0,2903.0,2858.0,2889.0,2917.0,2874.0,2848.0,2856.0,2808.0,2826.0,2830.0,2812.0,2792.0,2737.0,2616.0,2280.0,1773.0,1476.0,1206.0,1118.0,904.0,828.0,638.0,634.0,584.0,574.0,580.0,566.0,650.0,633.0,624.0,873.0,1129.0,1083.0,1267.0,1640.0,1891.0,2356.0,2780.0,2837.0,2837.0,2822.0,2834.0,2832.0,2804.0,2792.0,2830.0,2836.0,2812.0,2709.0,2233.0,1844.0,1514.0,1388.0,1325.0,1295.0,1221.0,1175.0,1188.0,1180.0,1154.0,1132.0,1160.0,1142.0,1113.0,965.0,886.0,842.0,834.0,815.0,615.0,613.0,573.0,547.0,553.0,558.0,542.0,542.0,550.0,762.0,837.0,724.0,709.0,716.0,770.0,799.0,1020.0,1096.0,1161.0,1159.0,1193.0,1154.0,1197.0,1175.0,1148.0,1173.0,1184.0,1189.0,1166.0,1194.0,1206.0,1178.0,1232.0,1414.0,1716.0,1841.0,2061.0,2499.0,2699.0,2761.0,2786.0,2767.0,2696.0,2505.0,1761.0,1355.0,979.0,874.0,680.0,674.0,655.0,615.0,629.0,627.0,618.0,638.0,642.0,890.0,1169.0,1134.0,1327.0,1642.0,1954.0,2430.0,2893.0,3049.0,3016.0,2980.0,2976.0,2932.0,2914.0,2910.0,2836.0,2797.0,2687.0,2534.0,1986.0,1604.0,1316.0,1223.0,1145.0,1136.0,1122.0,1121.0,1129.0,1142.0,1128.0,1091.0,1115.0,1093.0,1061.0,893.0,787.0,732.0,722.0,716.0,548.0,562.0,556.0,536.0,540.0,544.0,533.0,539.0,544.0,772.0,867.0,785.0,782.0,782.0,800.0,777.0,1017.0,1050.0,1126.0,1166.0,1162.0,1160.0,1184.0,1184.0,1158.0,1164.0,1164.0,1172.0,1152.0,1188.0,1190.0,1162.0,1148.0,1210.0,1251.0,1266.0,1361.0,1392.0,1368.0,1381.0,1386.0,1364.0,1338.0,1249.0,1023.0,936.0,761.0,743.0,559.0,560.0,538.0,530.0,551.0,558.0,542.0,541.0,550.0,788.0,895.0,785.0,816.0,836.0,819.0,817.0,1059.0,1149.0,1195.0,1211.0,1228.0,1226.0,1240.0,1228.0,1204.0,1208.0,1201.0,1197.0,1186.0,1212.0,1234.0,1204.0,1224.0,1324.0,1458.0,1580.0,1856.0,2464.0,2695.0,2773.0,2781.0,2591.0,2444.0,2213.0,1368.0,1070.0,601.0,550.0,529.0,555.0,557.0,540.0,549.0,538.0,540.0,559.0,556.0,815.0,1162.0,1069.0,1271.0,1530.0,1790.0,2202.0,2536.0,2837.0,2991.0,2997.0,2995.0,3016.0,2968.0,2968.0,2964.0,2986.0,2968.0,2942.0,2984.0,2902.0,2932.0,2917.0,2908.0,2898.0,2863.0,2840.0,2828.0,2807.0,2747.0,2684.0,2554.0,2016.0,1266.0,808.0,708.0,667.0,647.0,621.0,599.0,605.0,611.0,601.0,596.0,604.0,602.0,601.0,600.0,844.0,1324.0,1234.0,1349.0,1533.0,1924.0,2250.0,2533.0,2794.0,3000.0,3000.0,2973.0,3004.0,2999.0,2995.0,3028.0,3031.0,2975.0,2968.0,3002.0,3008.0,3001.0,2950.0,2947.0,2972.0,2915.0,2905.0,2894.0,2918.0,2855.0,2825.0,2674.0,2053.0,1606.0,1367.0,1192.0,1120.0,876.0,841.0,629.0,610.0,622.0,638.0,614.0,618.0,640.0,612.0,628.0,880.0,1136.0,1116.0,1286.0,1601.0,1926.0,2399.0,2882.0,2965.0,2952.0,2932.0,2931.0,2921.0,2902.0,2863.0,2863.0,2883.0,2857.0,2763.0,2276.0,1914.0,1525.0,1423.0,1364.0,1322.0,1264.0,1228.0,1187.0,1189.0,1175.0,1169.0,1162.0,1157.0,1163.0,1030.0,934.0,922.0,900.0,899.0,626.0,630.0,604.0,560.0,561.0,573.0,561.0,555.0,566.0,817.0,907.0,788.0,783.0,774.0,814.0,844.0,1133.0,1164.0,1192.0,1213.0,1228.0,1226.0,1216.0,1242.0,1276.0,1284.0,1263.0,1271.0,1270.0,1266.0,1266.0,1263.0,1317.0,1540.0,1759.0,1852.0,2176.0,2667.0,2794.0,2830.0,2825.0,2814.0,2745.0,2488.0,1532.0,1170.0,850.0,794.0,564.0,562.0,562.0,560.0,565.0,560.0,559.0,560.0,580.0,850.0,1196.0,1135.0,1347.0,1563.0,1929.0,2238.0,2536.0,2864.0,3092.0,3095.0,3127.0,3190.0,3198.0,3234.0,3247.0,3235.0,3206.0,3188.0,3161.0,3172.0,3217.0,3206.0,3184.0,3181.0,3164.0,3163.0,3146.0,3109.0,3086.0,3015.0,2812.0,2092.0,1294.0,1121.0,982.0,898.0,663.0,646.0,640.0,632.0,634.0,631.0,608.0,615.0,622.0,603.0,585.0,874.0,1300.0,1227.0,1366.0,1632.0,1966.0,2285.0,2634.0,2855.0,3073.0,3138.0,3135.0,3140.0,3141.0,3142.0,3138.0,3222.0,3291.0,3249.0,3234.0,3253.0,3259.0,3255.0,3224.0,3231.0,3197.0,3168.0,3150.0,3108.0,3040.0,2958.0,2764.0,2119.0,1333.0,831.0,737.0,770.0,965.0,851.0,813.0,786.0,735.0,705.0,702.0,688.0,722.0,750.0,766.0,852.0,1050.0,1112.0,1288.0,1687.0,1906.0,2432.0,2899.0,2968.0,2934.0,2932.0,2883.0,2825.0,2794.0,2710.0,2031.0,1432.0,1167.0,1114.0,1030.0,1016.0,949.0,936.0,931.0,940.0,940.0,946.0,936.0,934.0,922.0,923.0,927.0,802.0,766.0,604.0,549.0,554.0,552.0,538.0,537.0,548.0,524.0,536.0,540.0,530.0,552.0,532.0,518.0,552.0,550.0,536.0,560.0,560.0,562.0,669.0,921.0,929.0,880.0,829.0,831.0,855.0,867.0,866.0,863.0,863.0,871.0,875.0,881.0,882.0,883.0,877.0,887.0,950.0,986.0,991.0,1101.0,1257.0,1457.0,1489.0,1315.0,1186.0,1139.0,1021.0,899.0,834.0,793.0,748.0,749.0,761.0,745.0,764.0,752.0,737.0,773.0,730.0,740.0,823.0,1007.0,1060.0,1246.0,1546.0,1940.0,2246.0,2523.0,2813.0,2944.0,2952.0,2942.0,3011.0,2999.0,2976.0,2996.0,3000.0,2996.0,2978.0,2924.0,2917.0,2939.0,2872.0,2897.0,2881.0,2820.0,2856.0,2855.0,2859.0,2792.0,2738.0,2580.0,1968.0,1474.0,1248.0,1078.0,1007.0,827.0,791.0,735.0,733.0,716.0,721.0,730.0,729.0,757.0,774.0,804.0,861.0,1000.0,1043.0,1238.0,1576.0,1815.0,2252.0,2673.0,2762.0,2740.0,2726.0,2712.0,2747.0,2719.0,2738.0,2803.0,2761.0,2682.0,2550.0,1975.0,1605.0,1376.0,1278.0,1218.0,1210.0,1138.0,1120.0,1124.0,1090.0,1076.0,1080.0,1080.0,1066.0,1082.0,930.0,848.0,814.0,783.0,789.0,761.0,741.0,730.0,690.0,680.0,688.0,674.0,682.0,680.0,697.0,717.0,698.0,690.0,716.0,751.0,791.0,987.0,1067.0,1140.0,1180.0,1160.0,1158.0,1196.0,1167.0,1171.0,1208.0,1172.0,1209.0,1203.0,1207.0,1230.0,1207.0,1258.0,1426.0,1714.0,1852.0,2048.0,2440.0,2547.0,2557.0,2545.0,2517.0,2499.0,2295.0,1522.0,1158.0,896.0,822.0,756.0,748.0,719.0,730.0,718.0,735.0,797.0,746.0,759.0,809.0,985.0,1068.0,1264.0,1558.0,1886.0,2344.0,2733.0,2791.0,2777.0,2731.0,2746.0,2746.0,2757.0,2759.0,2726.0,2724.0,2630.0,2486.0,2004.0,1671.0,1447.0,1308.0,1288.0,1266.0,1283.0,1267.0,1264.0,1242.0,1244.0,1230.0,1209.0,1127.0,1112.0,959.0,817.0,787.0,750.0,703.0,697.0,687.0,689.0,677.0,660.0,674.0,674.0,671.0,672.0,731.0,774.0,748.0,758.0,782.0,792.0,908.0,1180.0,1182.0,1253.0,1253.0,1258.0,1246.0,1241.0,1241.0,1262.0,1298.0,1271.0,1289.0,1308.0,1313.0,1319.0,1332.0,1324.0,1443.0,1587.0,1658.0,2015.0,2412.0,2546.0,2541.0,2496.0,2338.0,2270.0,2022.0,1285.0,1011.0,802.0,764.0,764.0,776.0,736.0,712.0,684.0,677.0,691.0,677.0,701.0,770.0,1004.0,1054.0,1202.0,1515.0,1807.0,2022.0,2284.0,2504.0,2740.0,2793.0,2821.0,2860.0,2837.0,2798.0,2803.0,2830.0,2823.0,2839.0,2810.0,2836.0,2874.0,2860.0,2825.0,2837.0,2790.0,2745.0,2708.0,2665.0,2620.0,2604.0,2464.0,1921.0,1221.0,1048.0,899.0,875.0,862.0,830.0,842.0,844.0,824.0,800.0,749.0,764.0,737.0,714.0,718.0,778.0,1012.0,1306.0,1304.0,1722.0,1804.0,2090.0,2344.0,2612.0,2810.0,2848.0,2817.0,2827.0,2816.0,2826.0,2852.0,2836.0,2796.0,2832.0,2816.0,2830.0,2816.0,2794.0,2791.0,2807.0,2770.0,2769.0,2778.0,2719.0,2642.0,2574.0,2452.0,1900.0,1250.0,1015.0,858.0,855.0,841.0,787.0,772.0,756.0,744.0,720.0,686.0,705.0,699.0,709.0,729.0,801.0,1009.0,1059.0,1199.0,1513.0,1830.0,2121.0,2261.0,2543.0,2719.0,2752.0,2768.0,2755.0,2759.0,2751.0,2754.0,2764.0,2748.0,2759.0,2764.0,2793.0,2768.0,2718.0,2693.0,2697.0,2701.0,2692.0,2644.0,2632.0,2558.0,2495.0,2350.0,1858.0,1457.0,1253.0,1062.0,1024.0,856.0,828.0,800.0,792.0,782.0,764.0,756.0,780.0,804.0,811.0,797.0,844.0,976.0,1032.0,1205.0,1528.0,1811.0,2196.0,2581.0,2677.0,2595.0,2645.0,2651.0,2631.0,2643.0,2626.0,2613.0,2602.0,2552.0,2450.0,2002.0,1615.0,1359.0,1247.0,1197.0,1176.0,1120.0,1130.0,1115.0,1084.0,1086.0,1033.0,1063.0,1070.0,1051.0,938.0,844.0,837.0,814.0,787.0,774.0,764.0,751.0,706.0,669.0,701.0,688.0,692.0,689.0,706.0,712.0,688.0,688.0,710.0,750.0,799.0,971.0,1065.0,1134.0,1115.0,1157.0,1171.0,1160.0,1171.0,1161.0,1153.0,1157.0,1155.0,1156.0,1185.0,1183.0,1167.0,1216.0,1393.0,1641.0,1754.0,2128.0,2428.0,2524.0,2538.0,2514.0,2473.0,2383.0,2208.0,1385.0,1062.0,847.0,800.0,789.0,783.0,753.0,704.0,693.0,712.0,760.0,777.0,800.0,857.0,1027.0,1050.0,1205.0,1524.0,1798.0,2181.0,2557.0,2637.0,2651.0,2658.0,2634.0,2639.0,2687.0,2714.0,2740.0,2678.0,2590.0,2489.0,2087.0,1733.0,1415.0,1314.0,1294.0,1256.0,1244.0,1258.0,1260.0,1269.0,1223.0,1216.0,1208.0,1108.0,1093.0,902.0,815.0,812.0,768.0,725.0,676.0,681.0,680.0,660.0,678.0,663.0,681.0,688.0,674.0,747.0,741.0,739.0,757.0,764.0,830.0,904.0,1142.0,1216.0,1238.0,1246.0,1242.0,1242.0,1249.0,1251.0,1266.0,1277.0,1270.0,1281.0,1283.0,1285.0,1277.0,1261.0,1278.0,1372.0,1541.0,1689.0,2033.0,2377.0,2464.0,2476.0,2438.0,2288.0,2186.0,1966.0,1252.0,984.0,748.0,700.0,722.0,722.0,714.0,721.0,704.0,699.0,697.0,704.0,738.0,805.0,994.0,1054.0,1193.0,1464.0,1767.0,2047.0,2323.0,2534.0,2702.0,2701.0,2661.0,2676.0,2610.0,2596.0,2640.0,2657.0,2661.0,2643.0,2667.0,2680.0,2669.0,2637.0,2624.0,2664.0,2602.0,2584.0,2562.0,2511.0,2461.0,2431.0,2304.0,1774.0,1093.0,928.0,846.0,813.0,785.0,760.0,729.0,723.0,736.0,708.0,727.0,705.0,689.0,676.0,687.0,781.0,961.0,1068.0,1150.0,1354.0,1685.0,1918.0,2135.0,2324.0,2485.0,2514.0,2537.0,2525.0,2602.0,2591.0,2562.0,2563.0,2523.0,2510.0,2517.0,2556.0,2546.0,2535.0,2553.0,2563.0,2544.0,2546.0,2524.0,2507.0,2443.0,2418.0,2295.0,1775.0,1133.0,951.0,840.0,810.0,786.0,744.0,747.0,722.0,733.0,714.0,723.0,727.0,743.0,753.0,734.0,854.0,1046.0,1110.0,1222.0,1442.0,1696.0,1969.0,2205.0,2448.0,2633.0,2611.0,2566.0,2548.0,2575.0,2547.0,2569.0,2581.0,2616.0,2639.0,2633.0,2618.0,2638.0,2635.0,2610.0,2594.0,2604.0,2608.0,2583.0,2602.0,2545.0,2466.0,2361.0,1823.0,1389.0,1203.0,1060.0,1010.0,833.0,761.0,723.0,714.0,748.0,738.0,734.0,748.0,723.0,752.0,799.0,794.0,937.0,989.0,1152.0,1461.0,1690.0,2137.0,2496.0,2545.0,2544.0,2529.0,2570.0,2562.0,2554.0,2542.0,2572.0,2552.0,2490.0,2404.0,1910.0,1564.0,1278.0,1196.0,1158.0,1168.0,1120.0,1088.0,1090.0,1060.0,1055.0,1045.0,1034.0,1046.0,1021.0,887.0,852.0,820.0,815.0,789.0,755.0,773.0,745.0,719.0,662.0,665.0,696.0,671.0,698.0,726.0,686.0,698.0,670.0,698.0,770.0,779.0,948.0,1007.0,1068.0,1115.0,1082.0,1119.0,1104.0,1085.0,1111.0,1116.0,1115.0,1110.0,1093.0,1099.0,1125.0,1108.0,1164.0,1334.0,1646.0,1804.0,2144.0,2355.0,2400.0,2421.0,2390.0,2356.0,2292.0,2076.0,1294.0,966.0,757.0,714.0,670.0,681.0,662.0,679.0,670.0,679.0,682.0,676.0,696.0,771.0,1003.0,1024.0,1167.0,1390.0,1625.0,1824.0,2062.0,2315.0,2517.0,2524.0,2570.0,2584.0,2559.0,2543.0,2570.0,2596.0,2620.0,2620.0,2610.0,2642.0,2670.0,2644.0,2652.0,2606.0,2566.0,2556.0,2538.0,2521.0,2493.0,2419.0,2293.0,1744.0,1164.0,1000.0,876.0,822.0,779.0,728.0,721.0,700.0,707.0,683.0,718.0,706.0,713.0,703.0,670.0,790.0,978.0,1058.0,1157.0,1384.0,1668.0,1858.0,2089.0,2314.0,2532.0,2546.0,2578.0,2563.0,2580.0,2532.0,2535.0,2544.0,2558.0,2512.0,2568.0,2591.0,2574.0,2614.0,2653.0,2672.0,2653.0,2619.0,2610.0,2609.0,2539.0,2492.0,2342.0,1798.0,1134.0,932.0,845.0,808.0,749.0,716.0,718.0,708.0,692.0,696.0,686.0,692.0,705.0,693.0,715.0,797.0,986.0,1032.0,1196.0,1409.0,1620.0,1853.0,2033.0,2241.0,2515.0,2598.0,2549.0,2566.0,2550.0,2568.0,2584.0,2559.0,2571.0,2580.0,2583.0,2556.0,2582.0,2543.0,2524.0,2501.0,2485.0,2453.0,2439.0,2457.0,2404.0,2352.0,2189.0,1652.0,1066.0,930.0,828.0,780.0,765.0,696.0,689.0,684.0,660.0,663.0,677.0,668.0,692.0,674.0,692.0,782.0,988.0,1054.0,1200.0,1360.0,1594.0,1828.0,2010.0,2238.0,2422.0,2411.0,2471.0,2481.0,2531.0,2492.0,2533.0,2571.0,2581.0,2585.0,2523.0,2505.0,2528.0,2510.0,2504.0,2472.0,2485.0,2464.0,2427.0,2404.0,2342.0,2287.0,2152.0,1685.0,1048.0,856.0,732.0,722.0,708.0,678.0,636.0,647.0,625.0,614.0,620.0,616.0,632.0,631.0,622.0,733.0,1051.0,1034.0,1193.0,1359.0,1596.0,1803.0,1999.0,2225.0,2426.0,2444.0,2439.0,2515.0,2608.0,2642.0,2652.0,2685.0,2665.0,2604.0,2647.0,2635.0,2636.0,2638.0,2598.0,2575.0,2576.0,2557.0,2532.0,2549.0,2558.0,2464.0,2300.0,1793.0,1410.0,1204.0,1044.0,986.0,832.0,734.0,698.0,699.0,689.0,720.0,706.0,694.0,722.0,762.0,756.0,774.0,882.0,999.0,1182.0,1345.0,1676.0,2068.0,2469.0,2561.0,2539.0,2503.0,2505.0,2467.0,2499.0,2445.0,2465.0,2471.0,2454.0,2364.0,1875.0,1533.0,1307.0,1188.0,1117.0,1110.0,1052.0,1034.0,1029.0,1016.0,1032.0,1033.0,1004.0,999.0,964.0,833.0,796.0,754.0,734.0,714.0,716.0,716.0,638.0,628.0,590.0,617.0,606.0,595.0,598.0,635.0,614.0,631.0,625.0,621.0,693.0,706.0,899.0,989.0,989.0,1010.0,1046.0,1037.0,1045.0,1041.0,1017.0,1040.0,1052.0,1044.0,1072.0,1067.0,1085.0,1116.0,1174.0,1376.0,1592.0,1814.0,2134.0,2344.0,2414.0,2416.0,2404.0,2358.0,2233.0,2031.0,1262.0,942.0,719.0,657.0,912.0,1266.0,910.0,615.0,631.0,604.0,642.0,660.0,677.0,737.0,924.0,1011.0,1159.0,1390.0,1652.0,1874.0,2041.0,2273.0,2420.0,2414.0,2451.0,2462.0,2473.0,2467.0,2497.0,2540.0,2571.0,2585.0,2584.0,2575.0,2580.0,2551.0,2552.0,2562.0,2530.0,2524.0,2518.0,2477.0,2421.0,2354.0,2206.0,1708.0,1089.0,935.0,827.0,750.0,739.0,659.0,697.0,680.0,680.0,698.0,690.0,691.0,701.0,654.0,668.0,740.0,945.0,1015.0,1184.0,1400.0,1610.0,1821.0,2082.0,2368.0,2598.0,2617.0,2687.0,2723.0,2697.0,2669.0,2672.0,2636.0,2586.0,2570.0,2569.0,2530.0,2560.0,2529.0,2526.0,2491.0,2495.0,2486.0,2510.0,2458.0,2388.0,2314.0,2195.0,1712.0,1061.0,891.0,779.0,740.0,683.0,658.0,649.0,652.0,644.0,626.0,638.0,621.0,652.0,649.0,685.0,759.0,922.0,1034.0,1171.0,1368.0,1635.0,1908.0,2145.0,2359.0,2517.0,2553.0,2554.0,2620.0,2664.0,2664.0,2696.0,2678.0,2674.0,2658.0,2668.0,2650.0,2646.0,2630.0,2594.0,2564.0,2538.0,2504.0,2475.0,2453.0,2370.0,2301.0,2175.0,1693.0,1043.0,903.0,734.0,726.0,642.0,650.0,629.0,626.0,624.0,613.0,613.0,616.0,638.0,632.0,638.0,716.0,914.0,994.0,1134.0,1337.0,1541.0,1765.0,1972.0,2181.0,2368.0,2378.0,2356.0,2344.0,2361.0,2371.0,2331.0,2338.0,2345.0,2343.0,2339.0,2350.0,2334.0,2278.0,2308.0,2340.0,2312.0,2304.0,2312.0,2305.0,2262.0,2221.0,2090.0,1586.0,1054.0,863.0,749.0,742.0,686.0,682.0,678.0,672.0,660.0,629.0,648.0,634.0,657.0,640.0,656.0,748.0,918.0,1040.0,1160.0,1392.0,1566.0,1752.0,1992.0,2258.0,2486.0,2516.0,2527.0,2549.0,2505.0,2487.0,2507.0,2489.0,2495.0,2525.0,2513.0,2479.0,2497.0,2447.0,2476.0,2498.0,2458.0,2420.0,2428.0,2386.0,2343.0,2321.0,2188.0,1671.0,1310.0,1139.0,1022.0,969.0,775.0,779.0,696.0,735.0,686.0,678.0,648.0,648.0,688.0,658.0,696.0,696.0,874.0,916.0,1057.0,1307.0,1558.0,1932.0,2262.0,2318.0,2324.0,2316.0,2310.0,2316.0,2307.0,2303.0,2264.0,2272.0,2212.0,1921.0,1454.0,1253.0,1114.0,1053.0,1065.0,1037.0,967.0,952.0,921.0,926.0,904.0,894.0,904.0,908.0,904.0,769.0,710.0,696.0,681.0,659.0,666.0,657.0,593.0,618.0,578.0,591.0,575.0,582.0,572.0,633.0,582.0,619.0,589.0,637.0,660.0,680.0,849.0,865.0,918.0,950.0,948.0,966.0,966.0,955.0,968.0,961.0,1022.0,1002.0,983.0,1032.0,1077.0,1083.0,1225.0,1477.0,1847.0,2042.0,2122.0,2161.0,2171.0,2154.0,2156.0,2076.0,1979.0,1580.0,1049.0,890.0,689.0,653.0,622.0,585.0,609.0,570.0,586.0,617.0,600.0,619.0,612.0,714.0,874.0,955.0,1087.0,1318.0,1486.0,1633.0,1815.0,2055.0,2259.0,2249.0,2239.0,2293.0,2317.0,2321.0,2363.0,2406.0,2381.0,2355.0,2390.0,2365.0,2395.0,2376.0,2392.0,2386.0,2388.0,2370.0,2356.0,2336.0,2270.0,2224.0,2069.0,1548.0,1029.0,908.0,778.0,742.0,676.0,650.0,689.0,655.0,676.0,664.0,660.0,676.0,671.0,699.0,658.0,762.0,936.0,1012.0,1128.0,1332.0,1596.0,1760.0,1991.0,2186.0,2322.0,2313.0,2301.0,2340.0,2336.0,2333.0,2342.0,2380.0,2359.0,2318.0,2341.0,2360.0,2334.0,2334.0,2330.0,2337.0,2330.0,2335.0,2314.0,2316.0,2252.0,2178.0,2066.0,1581.0,1027.0,816.0,742.0,705.0,639.0,653.0,625.0,630.0,616.0,618.0,619.0,615.0,636.0,638.0,640.0,729.0,936.0,982.0,1135.0,1308.0,1516.0,1710.0,1902.0,2082.0,2315.0,2367.0,2373.0,2354.0,2389.0,2398.0,2366.0,2358.0,2307.0,2334.0,2345.0,2338.0,2340.0,2324.0,2294.0,2287.0,2294.0,2327.0,2298.0,2284.0,2202.0,2159.0,2009.0,1534.0,998.0,832.0,752.0,732.0,672.0,649.0,638.0,653.0,632.0,642.0,640.0,638.0,647.0,647.0,651.0,705.0,920.0,990.0,1142.0,1315.0,1561.0,1699.0,1892.0,2105.0,2279.0,2285.0,2292.0,2296.0,2297.0,2251.0,2285.0,2281.0,2260.0,2254.0,2259.0,2239.0,2262.0,2267.0,2303.0,2289.0,2260.0,2251.0,2262.0,2227.0,2188.0,2149.0,1984.0,1554.0,1052.0,844.0,765.0,693.0,656.0,623.0,606.0,629.0,622.0,636.0,613.0,641.0,638.0,639.0,625.0,712.0,878.0,975.0,1118.0,1286.0,1472.0,1626.0,1783.0,2004.0,2236.0,2244.0,2236.0,2250.0,2245.0,2208.0,2229.0,2248.0,2250.0,2240.0,2240.0,2242.0,2228.0,2242.0,2246.0,2268.0,2242.0,2242.0,2244.0,2194.0,2166.0,2100.0,1964.0,1588.0,1280.0,1042.0,960.0,879.0,737.0,728.0,702.0,693.0,672.0,650.0,614.0,633.0,653.0,684.0,673.0,724.0,842.0,927.0,1015.0,1278.0,1472.0,1798.0,2089.0,2123.0,2159.0,2183.0,2148.0,2184.0,2222.0,2214.0,2188.0,2204.0,2172.0,1894.0,1538.0,1326.0,1143.0,1083.0,1043.0,981.0,960.0,953.0,937.0,940.0,924.0,941.0,923.0,932.0,924.0,784.0,738.0,665.0,718.0,661.0,680.0,648.0,640.0,602.0,598.0,606.0,600.0,605.0,585.0,648.0,608.0,624.0,609.0,633.0,668.0,685.0,877.0,886.0,972.0,984.0,991.0,1002.0,986.0,1001.0,998.0,980.0,1001.0,994.0,1014.0,1053.0,1088.0,1136.0,1188.0,1455.0,1865.0,2038.0,2126.0,2171.0,2161.0,2099.0,2065.0,2008.0,1919.0,1591.0,1094.0,880.0,733.0,662.0,699.0,636.0,631.0,601.0,600.0,602.0,614.0,632.0,616.0,695.0,850.0,907.0,1108.0,1283.0,1469.0,1622.0,1838.0,2004.0,2126.0,2145.0,2189.0,2220.0,2223.0,2227.0,2264.0,2268.0,2274.0,2260.0,2271.0,2315.0,2342.0,2322.0,2342.0,2326.0,2346.0,2318.0,2293.0,2239.0,2191.0,2129.0,2014.0,1528.0,1026.0,882.0,802.0,768.0,690.0,697.0,704.0,709.0,706.0,678.0,684.0,666.0,699.0,688.0,690.0,752.0,931.0,1007.0,1110.0,1296.0,1481.0,1646.0,1838.0,2010.0,2159.0,2188.0,2210.0,2243.0,2282.0,2281.0,2286.0,2319.0,2294.0,2286.0,2326.0,2306.0,2320.0,2303.0,2327.0,2312.0,2296.0,2243.0,2223.0,2244.0,2166.0,2119.0,1976.0,1513.0,967.0,813.0,719.0,681.0,574.0,416.0,420.0,581.0,241.0,418.0,496.0,498.0,626.0,553.0,560.0,651.0,746.0,828.0,958.0,1176.0,1391.0,1622.0,1813.0,2006.0,2186.0,2204.0,2215.0,2232.0,2253.0,2240.0,2240.0,2240.0,2260.0,2238.0,2207.0,2188.0,2222.0,2196.0,2205.0,2240.0,2230.0,2201.0,2243.0,2200.0,2160.0,2119.0,1938.0,1458.0,947.0,800.0,694.0,667.0,623.0,600.0,603.0,567.0,550.0,578.0,594.0,605.0,598.0,612.0,603.0,692.0,782.0,838.0,1015.0,1175.0,1371.0,1503.0,1703.0,1894.0,2063.0,2090.0,2144.0,2149.0,2169.0,2150.0,2184.0,2162.0,2160.0,2152.0,2164.0,2162.0,2174.0,2141.0,2160.0,2181.0,2167.0,2151.0,2151.0,2144.0,2095.0,2029.0,1953.0,1494.0,932.0,773.0,699.0,675.0,609.0,592.0,606.0,601.0,599.0,534.0,596.0,596.0,614.0,614.0,573.0,686.0,828.0,917.0,1061.0,1241.0,1444.0,1585.0,1788.0,1984.0,2185.0,2202.0,2186.0,2148.0,2170.0,2232.0,2239.0,2226.0,2257.0,2247.0,2252.0,2299.0,2287.0,2250.0,2269.0,2240.0,2239.0,2265.0,2223.0,2187.0,2152.0,2090.0,1980.0,1526.0,1224.0,1047.0,933.0,892.0,712.0,640.0,649.0,652.0,626.0,629.0,648.0,638.0,710.0,666.0,685.0,665.0,832.0,897.0,1027.0,1228.0,1436.0,1783.0,2087.0,2124.0,2176.0,2184.0,2210.0,2208.0,2173.0,2199.0,2175.0,2175.0,2150.0,1884.0,1452.0,1228.0,1028.0,964.0,949.0,931.0,914.0,906.0,898.0,894.0,868.0,878.0,858.0,868.0,862.0,753.0,711.0,686.0,687.0,639.0,648.0,628.0,620.0,550.0,586.0,605.0,569.0,592.0,583.0,595.0,572.0,599.0,572.0,593.0,656.0,669.0,837.0,864.0,899.0,904.0,895.0,916.0,904.0,906.0,919.0,893.0,920.0,920.0,914.0,942.0,984.0,1057.0,1145.0,1385.0,1765.0,1939.0,2059.0,2043.0,2026.0,2009.0,1980.0,1932.0,1841.0,1469.0,991.0,852.0,651.0,569.0,603.0,596.0,568.0,565.0,604.0,533.0,591.0,579.0,591.0,657.0,829.0,901.0,1026.0,1208.0,1334.0,1482.0,1679.0,1909.0,2070.0,2052.0,2091.0,2133.0,2152.0,2105.0,2103.0,2118.0,2109.0,2105.0,2111.0,2128.0,2142.0,2148.0,2179.0,2190.0,2194.0,2206.0,2160.0,2108.0,2039.0,1981.0,1849.0,1417.0,977.0,847.0,695.0,683.0,680.0,649.0,647.0,648.0,656.0,647.0,625.0,646.0,616.0,686.0,638.0,732.0,862.0,945.0,1086.0,1215.0,1409.0,1515.0,1729.0,1885.0,2068.0,2103.0,2078.0,2101.0,2135.0,2133.0,2149.0,2157.0,2167.0,2179.0,2184.0,2200.0,2241.0,2206.0,2225.0,2216.0,2173.0,2171.0,2136.0,2104.0,2092.0,2040.0,1896.0,1476.0,980.0,799.0,705.0,692.0,671.0,611.0,591.0,587.0,578.0,594.0,568.0,608.0,606.0,592.0,596.0,668.0,862.0,930.0,1115.0,1271.0,1471.0,1656.0,1879.0,2073.0,2272.0,2343.0,2350.0,2328.0,2358.0,2389.0,2376.0,2335.0,2358.0,2350.0,2327.0,2327.0,2314.0,2282.0,2296.0,2309.0,2323.0,2319.0,2294.0,2236.0,2121.0,2058.0,1930.0,1562.0,1054.0,824.0,718.0,683.0,669.0,637.0,613.0,629.0,564.0,611.0,616.0,629.0,630.0,642.0,649.0,708.0,886.0,890.0,1086.0,1238.0,1460.0,1610.0,1872.0,2039.0,2168.0,2217.0,2200.0,2190.0,2204.0,2168.0,2264.0,2272.0,2270.0,2229.0,2226.0,2227.0,2274.0,2274.0,2238.0,2262.0,2252.0,2244.0,2242.0,2237.0,2221.0,2146.0,1986.0,1509.0,1051.0,862.0,750.0,724.0,694.0,654.0,638.0,670.0,662.0,650.0,652.0,650.0,663.0,651.0,653.0,711.0,870.0,948.0,1113.0,1283.0,1448.0,1687.0,1874.0,2023.0,2205.0,2227.0,2245.0,2251.0,2241.0,2191.0,2238.0,2266.0,2277.0,2256.0,2258.0,2263.0,2235.0,2235.0,2232.0,2223.0,2273.0,2292.0,2273.0,2240.0,2179.0,2148.0,2045.0,1623.0,1345.0,1061.0,899.0,845.0,649.0,650.0,589.0,627.0,585.0,605.0,611.0,621.0,696.0,666.0,687.0,708.0,875.0,896.0,1053.0,1273.0,1528.0,1859.0,2169.0,2247.0,2256.0,2266.0,2255.0,2283.0,2318.0,2332.0,2310.0,2285.0,2261.0,2068.0,1690.0,1472.0,1196.0,1058.0,1036.0,982.0,970.0,952.0,946.0,934.0,864.0,854.0,835.0,858.0,843.0,733.0,693.0,664.0,674.0,610.0,604.0,614.0,586.0,558.0,556.0,595.0,532.0,593.0,547.0,597.0,564.0,566.0,576.0,564.0,649.0,658.0,795.0,842.0,893.0,927.0,916.0,915.0,932.0,915.0,950.0,943.0,963.0,955.0,945.0,993.0,1067.0,1129.0,1203.0,1494.0,1826.0,1980.0,2038.0,2029.0,2038.0,2035.0,2017.0,1999.0,1911.0,1551.0,1084.0,888.0,666.0,600.0,618.0,578.0,583.0,595.0,576.0,578.0,560.0,572.0,566.0,648.0,799.0,915.0,1024.0,1213.0,1355.0,1528.0,1704.0,1860.0,1994.0,2002.0,2043.0,2077.0,2090.0,2093.0,2052.0,2064.0,2039.0,2055.0,2051.0,2069.0,2047.0,2037.0,2062.0,2089.0,2078.0,2039.0,2009.0,2012.0,1962.0,1924.0,1823.0,1429.0,938.0,820.0,700.0,714.0,652.0,633.0,639.0,634.0,636.0,630.0,603.0,561.0,614.0,596.0,599.0,650.0,855.0,931.0,1034.0,1178.0,1342.0,1513.0,1676.0,1860.0,2022.0,2053.0,2055.0,2040.0,2032.0,2093.0,2087.0,2050.0,2066.0,2066.0,2061.0,2099.0,2085.0,2102.0,2121.0,2115.0,2096.0,2056.0,2047.0,1994.0,1996.0,1918.0,1888.0,1478.0,954.0,781.0,702.0,645.0,591.0,601.0,580.0,560.0,599.0,559.0,594.0,580.0,580.0,610.0,568.0,665.0,831.0,900.0,1049.0,1187.0,1402.0,1518.0,1722.0,1895.0,2059.0,2083.0,2079.0,2161.0,2167.0,2136.0,2105.0,2127.0,2132.0,2092.0,2094.0,2095.0,2137.0,2144.0,2160.0,2146.0,2158.0,2131.0,2111.0,2052.0,2052.0,1994.0,1890.0,1468.0,944.0,784.0,657.0,647.0,600.0,575.0,561.0,606.0,569.0,573.0,580.0,553.0,584.0,574.0,615.0,633.0,890.0,927.0,1067.0,1205.0,1397.0,1517.0,1674.0,1841.0,2014.0,2110.0,2129.0,2121.0,2139.0,2129.0,2110.0,2103.0,2106.0,2076.0,2086.0,2106.0,2098.0,2100.0,2129.0,2123.0,2113.0,2081.0,2114.0,2040.0,2002.0,1965.0,1857.0,1474.0,942.0,782.0,697.0,623.0,581.0,552.0,545.0,538.0,537.0,534.0,532.0,532.0,544.0,547.0,568.0,588.0,925.0,977.0,1128.0,1320.0,1500.0,1609.0,1863.0,2089.0,2261.0,2256.0,2265.0,2263.0,2229.0,2219.0,2281.0,2246.0,2241.0,2241.0,2217.0,2190.0,2179.0,2145.0,2166.0,2117.0,2120.0,2110.0,2100.0,2045.0,2047.0,1965.0,1620.0,1361.0,1051.0,783.0,698.0,637.0,579.0,570.0,615.0,624.0,536.0,531.0,535.0,545.0,528.0,551.0,558.0,580.0,932.0,960.0,1086.0,1293.0,1457.0,1565.0,1679.0,1882.0,2087.0,2145.0,2164.0,2186.0,2170.0,2224.0,2196.0,2178.0,2202.0,2196.0,2188.0,2128.0,2108.0,2116.0,2127.0,2130.0,2136.0,2127.0,2104.0,2092.0,2066.0,1968.0,1656.0,1405.0,1163.0,1002.0,895.0,831.0,675.0,635.0,543.0,541.0,543.0,531.0,530.0,539.0,522.0,540.0,590.0,594.0,849.0,922.0,1076.0,1259.0,1453.0,1712.0,1966.0,2079.0,2081.0,2106.0,2088.0,2119.0,2127.0,2077.0,2059.0,1992.0,1862.0,1664.0,1238.0,1059.0,867.0,782.0,751.0,753.0,729.0,721.0,697.0,682.0,683.0,689.0,680.0,695.0,686.0,686.0,658.0,660.0,646.0,628.0,527.0,524.0,527.0,525.0,513.0,519.0,517.0,510.0,510.0,504.0,574.0,576.0,584.0,596.0,640.0,648.0,804.0,801.0,865.0,864.0,872.0,879.0,879.0,900.0,904.0,913.0,877.0,904.0,930.0,915.0,974.0,1007.0,1114.0,1384.0,1715.0,1806.0,1881.0,1903.0,1867.0,1851.0,1839.0,1793.0,1677.0,1314.0,932.0,834.0,550.0,528.0,530.0,529.0,519.0,508.0,520.0,518.0,506.0,532.0,536.0,566.0,874.0,922.0,1065.0,1245.0,1374.0,1465.0,1589.0,1828.0,1988.0,2020.0,2036.0,2047.0,2075.0,2142.0,2229.0,2248.0,2149.0,2105.0,2085.0,2096.0,2070.0,2096.0,2113.0,2098.0,2187.0,2208.0,2101.0,2001.0,1952.0,1905.0,1590.0,1357.0,946.0,713.0,631.0,582.0,554.0,533.0,528.0,527.0,530.0,524.0,499.0,499.0,502.0,522.0,510.0,523.0,849.0,941.0,1026.0,1222.0,1401.0,1498.0,1644.0,1854.0,1997.0,2013.0,2039.0,2070.0,2091.0,2113.0,2199.0,2252.0,2174.0,2093.0,2080.0,2077.0,2086.0,2091.0,2077.0,2070.0,2068.0,2190.0,2184.0,2081.0,1983.0,1927.0,1614.0,1335.0,872.0,690.0,616.0,565.0,536.0,504.0,501.0,504.0,502.0,510.0,507.0,494.0,495.0,516.0,508.0,536.0,842.0,950.0,1084.0,1250.0,1340.0,1454.0,1624.0,1734.0,1899.0,1880.0,1885.0,1899.0,1908.0,1948.0,2009.0,1990.0,1989.0,1984.0,2100.0,2061.0,1980.0,1983.0,1971.0,1966.0,1949.0,1953.0,1935.0,1919.0,1866.0,1804.0,1471.0,1266.0,917.0,682.0,621.0,583.0,549.0,525.0,522.0,524.0,522.0,518.0,522.0,526.0,530.0,547.0,541.0,564.0,858.0,1004.0,1068.0,1224.0,1327.0,1436.0,1574.0,1799.0,1931.0,1947.0,1962.0,1971.0,1957.0,1956.0,1969.0,1967.0,1939.0,1957.0,1922.0,1924.0,1937.0,1969.0,2001.0,1986.0,1963.0,1958.0,1958.0,1942.0,1903.0,1809.0,1542.0,1322.0,950.0,700.0,620.0,583.0,560.0,516.0,511.0,520.0,518.0,501.0,504.0,485.0,474.0,474.0,488.0,538.0,860.0,922.0,1004.0,1070.0,1262.0,1468.0,1572.0,1756.0,1904.0,1990.0,2002.0,1971.0,1992.0,2001.0,2038.0,2050.0,2026.0,2047.0,2001.0,2027.0,2039.0,2050.0,2015.0,1984.0,2001.0,2112.0,2111.0,2022.0,1926.0,1878.0,1580.0,1399.0,1175.0,971.0,866.0,814.0,642.0,616.0,554.0,574.0,543.0,527.0,523.0,537.0,530.0,534.0,580.0,573.0,793.0,878.0,1024.0,1204.0,1388.0,1608.0,1826.0,1863.0,1883.0,1894.0,1932.0,1957.0,1917.0,1908.0,1945.0,1947.0,1829.0,1567.0,1212.0,1008.0,785.0,721.0,686.0,674.0,641.0,637.0,642.0,630.0,624.0,627.0,611.0,612.0,610.0,599.0,590.0,601.0,582.0,587.0,536.0,539.0,520.0,492.0,486.0,476.0,484.0,481.0,489.0,492.0,540.0,538.0,548.0,550.0,582.0,592.0,738.0,760.0,813.0,829.0,838.0,831.0,820.0,827.0,836.0,833.0,844.0,840.0,848.0,875.0,934.0,991.0,1095.0,1358.0,1608.0,1748.0,1818.0,1851.0,1859.0,1849.0,1837.0,1808.0,1682.0,1298.0,949.0,806.0,536.0,506.0,493.0,498.0,486.0,482.0,478.0,477.0,484.0,501.0,497.0,517.0,786.0,860.0,1007.0,1157.0,1306.0,1418.0,1539.0,1723.0,1877.0,1911.0,1915.0,1925.0,1937.0,1953.0,1998.0,2034.0,2002.0,2029.0,2023.0,2022.0,2024.0,2012.0,2015.0,2017.0,2022.0,1992.0,1955.0,1963.0,1914.0,1843.0,1545.0,1280.0,872.0,682.0,626.0,588.0,564.0,548.0,551.0,554.0,551.0,540.0,535.0,539.0,510.0,523.0,517.0,529.0,823.0,950.0,1028.0,1201.0,1374.0,1523.0,1645.0,1817.0,1966.0,2000.0,2012.0,2000.0,2004.0,2014.0,2020.0,2056.0,2054.0,2046.0,2040.0,2033.0,2049.0,2047.0,2043.0,2043.0,2033.0,2032.0,2018.0,2011.0,1924.0,1863.0,1570.0,1286.0,892.0,721.0,633.0,582.0,557.0,546.0,534.0,549.0,536.0,499.0,497.0,496.0,500.0,519.0,524.0,540.0,802.0,921.0,996.0,1145.0,1327.0,1462.0,1570.0,1774.0,2010.0,2004.0,1991.0,1986.0,2011.0,2032.0,2077.0,2114.0,2138.0,2147.0,2134.0,2157.0,2141.0,2154.0,2146.0,2121.0,2109.0,2111.0,2103.0,2103.0,2041.0,1999.0,1631.0,1326.0,869.0,666.0,591.0,552.0,526.0,502.0,494.0,507.0,504.0,497.0,497.0,493.0,504.0,526.0,524.0,550.0,852.0,956.0,1066.0,1241.0,1393.0,1536.0,1652.0,1844.0,2038.0,2072.0,2122.0,2110.0,2102.0,2098.0,2086.0,2076.0,2078.0,2066.0,2070.0,2083.0,2079.0,2084.0,2075.0,2054.0,2066.0,2069.0,2040.0,2053.0,2030.0,1953.0,1662.0,1386.0,926.0,704.0,640.0,579.0,540.0,520.0,503.0,511.0,504.0,504.0,499.0,506.0,506.0,521.0,519.0,554.0,842.0,942.0,1060.0,1185.0,1356.0,1521.0,1644.0,1799.0,1943.0,1959.0,1978.0,2010.0,2020.0,2048.0,2072.0,2074.0,2055.0,2039.0,2043.0,2060.0,2069.0,2079.0,2087.0,2080.0,2080.0,2081.0,2034.0,2008.0,1975.0,1922.0,1629.0,1409.0,1213.0,1028.0,891.0,816.0,647.0,631.0,572.0,577.0,552.0,555.0,553.0,517.0,509.0,506.0,539.0,568.0,795.0,867.0,985.0,1185.0,1393.0,1603.0,1863.0,1935.0,1935.0,1950.0,1998.0,2015.0,1998.0,2024.0,1989.0,2011.0,1865.0,1606.0,1192.0,1025.0,813.0,750.0,716.0,700.0,691.0,673.0,638.0,630.0,622.0,617.0,615.0,621.0,614.0,615.0,612.0,608.0,598.0,586.0,530.0,542.0,527.0,511.0,494.0,486.0,479.0,473.0,468.0,472.0,526.0,532.0,533.0,550.0,583.0,592.0,743.0,762.0,814.0,829.0,840.0,852.0,849.0,852.0,848.0,865.0,852.0,845.0,845.0,868.0,917.0,957.0,1064.0,1304.0,1560.0,1664.0,1733.0,1751.0,1748.0,1753.0,1759.0,1752.0,1641.0,1293.0,950.0,825.0,593.0,568.0,546.0,550.0,522.0,512.0,509.0,506.0,506.0,528.0,529.0,561.0,779.0,876.0,972.0,1101.0,1238.0,1390.0,1504.0,1662.0,1777.0,1797.0,1765.0,1826.0,1818.0,1814.0,1836.0,1864.0,1852.0,1832.0,1848.0,1875.0,1887.0,1909.0,1927.0,1907.0,1901.0,1909.0,1879.0,1878.0,1839.0,1795.0,1503.0,1283.0,830.0,690.0,598.0,538.0,512.0,498.0,486.0,496.0,492.0,493.0,489.0,493.0,495.0,502.0,501.0,519.0,768.0,868.0,970.0,1130.0,1299.0,1455.0,1606.0,1764.0,1848.0,1838.0,1930.0,2008.0,1974.0,1988.0,2004.0,1989.0,1957.0,1887.0,1877.0,1874.0,1894.0,1915.0,2031.0,2132.0,2004.0,1975.0,1933.0,1925.0,1889.0,1831.0,1543.0,1314.0,894.0,753.0,665.0,616.0,557.0,532.0,521.0,545.0,535.0,533.0,537.0,534.0,537.0,541.0,508.0,570.0,813.0,881.0,990.0,1169.0,1417.0,1555.0,1609.0,1731.0,1843.0,1852.0,1856.0,1901.0,1937.0,1981.0,1988.0,2004.0,2047.0,1977.0,1957.0,1964.0,1961.0,1990.0,1995.0,1990.0,2003.0,1988.0,1954.0,1955.0,1953.0,1903.0,1649.0,1412.0,923.0,742.0,666.0,622.0,592.0,572.0,545.0,563.0,560.0,556.0,550.0,545.0,549.0,552.0,549.0,603.0,845.0,893.0,1010.0,1155.0,1275.0,1440.0,1568.0,1717.0,1829.0,1826.0,1874.0,1750.0,1879.0,1848.0,1897.0,1947.0,1965.0,1979.0,1970.0,1998.0,1959.0,1971.0,1965.0,2016.0,2022.0,2005.0,1978.0,1981.0,1914.0,1872.0,1634.0,1368.0,952.0,806.0,709.0,627.0,580.0,554.0,527.0,531.0,520.0,512.0,512.0,510.0,519.0,519.0,521.0,578.0,816.0,846.0,1020.0,1170.0,1275.0,1430.0,1498.0,1664.0,1778.0,1904.0,2098.0,1973.0,1888.0,1910.0,1971.0,1990.0,2044.0,2054.0,2092.0,2113.0,2070.0,2075.0,2051.0,2088.0,2085.0,2068.0,2030.0,2047.0,1987.0,1923.0,1663.0,1433.0,1225.0,1007.0,847.0,788.0,618.0,590.0,560.0,571.0,551.0,552.0,544.0,537.0,534.0,533.0,584.0,598.0,792.0,874.0,1017.0,1179.0,1312.0,1527.0,1751.0,1770.0,1780.0,1837.0,1863.0,1876.0,1907.0,1905.0,1879.0,1876.0,1807.0,1628.0,1278.0,1032.0,779.0,738.0,723.0,716.0,680.0,664.0,666.0,660.0,646.0,635.0,635.0,631.0,630.0,631.0,628.0,622.0,613.0,614.0,581.0,590.0,559.0,531.0,516.0,508.0,509.0,507.0,514.0,512.0,520.0,513.0,520.0,544.0,596.0,591.0,734.0,760.0,816.0,848.0,918.0,934.0,936.0,924.0,908.0,932.0,926.0,933.0,899.0,911.0,946.0,1007.0,1103.0,1289.0,1558.0,1662.0,1688.0,1640.0,1650.0,1659.0,1641.0,1628.0,1538.0,1292.0,956.0,815.0,622.0,610.0,585.0,590.0,533.0,520.0,516.0,495.0,499.0,507.0,512.0,564.0,822.0,860.0,1006.0,1202.0,1374.0,1493.0,1597.0,1702.0,1830.0,1863.0,1857.0,1864.0,1902.0,1910.0,1918.0,1965.0,2000.0,1949.0,1923.0,1925.0,1960.0,1928.0,1942.0,1913.0,1843.0,1878.0,1862.0,1877.0,1806.0,1763.0,1493.0,1251.0,902.0,738.0,644.0,609.0,582.0,556.0,529.0,535.0,507.0,495.0,495.0,484.0,492.0,495.0,533.0,596.0,906.0,968.0,1074.0,1185.0,1348.0,1440.0,1576.0,1722.0,1829.0,1762.0,1766.0,1782.0,1787.0,1883.0,1936.0,1963.0,1957.0,1954.0,1914.0,1922.0,1916.0,1920.0,1908.0,1944.0,1930.0,1938.0,1915.0,1911.0,1860.0,1824.0,1530.0,1263.0,941.0,766.0,630.0,594.0,575.0,502.0,484.0,494.0,486.0,476.0,473.0,468.0,482.0,492.0,492.0,533.0,793.0,878.0,1027.0,1165.0,1371.0,1496.0,1583.0,1754.0,1878.0,1916.0,1840.0,1885.0,1875.0,1909.0,1953.0,1990.0,2008.0,1990.0,1956.0,1974.0,1994.0,1988.0,1998.0,1994.0,1983.0,1958.0,1946.0,1921.0,1914.0,1864.0,1576.0,1329.0,913.0,734.0,654.0,608.0,540.0,492.0,481.0,493.0,484.0,482.0,471.0,473.0,496.0,486.0,488.0,540.0,832.0,888.0,998.0,1219.0,1410.0,1512.0,1593.0,1727.0,1834.0,1825.0,1808.0,1829.0,1839.0,1868.0,1858.0,1896.0,1892.0,1899.0,1916.0,1925.0,1959.0,1943.0,1955.0,1919.0,1920.0,1928.0,1930.0,1937.0,1901.0,1863.0,1605.0,1360.0,1002.0,788.0,675.0,611.0,588.0,543.0,493.0,510.0,506.0,503.0,495.0,490.0,493.0,493.0,506.0,544.0,832.0,856.0,968.0,1188.0,1385.0,1511.0,1601.0,1743.0,1850.0,1860.0,1856.0,1842.0,1860.0,1922.0,1950.0,1980.0,1996.0,1963.0,1941.0,1949.0,2052.0,2035.0,2086.0,2014.0,1992.0,1970.0,1974.0,1954.0,1944.0,1889.0,1624.0,1405.0,1190.0,998.0,888.0,862.0,682.0,640.0,534.0,512.0,500.0,500.0,498.0,492.0,500.0,507.0,553.0,564.0,804.0,888.0,991.0,1156.0,1298.0,1545.0,1754.0,1788.0,1798.0,1780.0,1806.0,1825.0,1827.0,1821.0,1808.0,1824.0,1725.0,1575.0,1199.0,970.0,761.0,711.0,682.0,674.0,652.0,650.0,652.0,632.0,616.0,618.0,615.0,622.0,617.0,606.0,601.0,603.0],\"type\":\"box\",\"marker\":{\"line\":{\"outliercolor\":\"rgba(219, 64, 82, 0.6)\",\"outlierwidth\":2},\"color\":\"rgb(8,81,156)\",\"outliercolor\":\"rgba(219, 64, 82, 0.6)\"},\"line\":{\"color\":\"rgb(8,81,156)\"}}],                        {\"template\":{\"data\":{\"bar\":[{\"error_x\":{\"color\":\"#2a3f5f\"},\"error_y\":{\"color\":\"#2a3f5f\"},\"marker\":{\"line\":{\"color\":\"#E5ECF6\",\"width\":0.5},\"pattern\":{\"fillmode\":\"overlay\",\"size\":10,\"solidity\":0.2}},\"type\":\"bar\"}],\"barpolar\":[{\"marker\":{\"line\":{\"color\":\"#E5ECF6\",\"width\":0.5},\"pattern\":{\"fillmode\":\"overlay\",\"size\":10,\"solidity\":0.2}},\"type\":\"barpolar\"}],\"carpet\":[{\"aaxis\":{\"endlinecolor\":\"#2a3f5f\",\"gridcolor\":\"white\",\"linecolor\":\"white\",\"minorgridcolor\":\"white\",\"startlinecolor\":\"#2a3f5f\"},\"baxis\":{\"endlinecolor\":\"#2a3f5f\",\"gridcolor\":\"white\",\"linecolor\":\"white\",\"minorgridcolor\":\"white\",\"startlinecolor\":\"#2a3f5f\"},\"type\":\"carpet\"}],\"choropleth\":[{\"colorbar\":{\"outlinewidth\":0,\"ticks\":\"\"},\"type\":\"choropleth\"}],\"contour\":[{\"colorbar\":{\"outlinewidth\":0,\"ticks\":\"\"},\"colorscale\":[[0.0,\"#0d0887\"],[0.1111111111111111,\"#46039f\"],[0.2222222222222222,\"#7201a8\"],[0.3333333333333333,\"#9c179e\"],[0.4444444444444444,\"#bd3786\"],[0.5555555555555556,\"#d8576b\"],[0.6666666666666666,\"#ed7953\"],[0.7777777777777778,\"#fb9f3a\"],[0.8888888888888888,\"#fdca26\"],[1.0,\"#f0f921\"]],\"type\":\"contour\"}],\"contourcarpet\":[{\"colorbar\":{\"outlinewidth\":0,\"ticks\":\"\"},\"type\":\"contourcarpet\"}],\"heatmap\":[{\"colorbar\":{\"outlinewidth\":0,\"ticks\":\"\"},\"colorscale\":[[0.0,\"#0d0887\"],[0.1111111111111111,\"#46039f\"],[0.2222222222222222,\"#7201a8\"],[0.3333333333333333,\"#9c179e\"],[0.4444444444444444,\"#bd3786\"],[0.5555555555555556,\"#d8576b\"],[0.6666666666666666,\"#ed7953\"],[0.7777777777777778,\"#fb9f3a\"],[0.8888888888888888,\"#fdca26\"],[1.0,\"#f0f921\"]],\"type\":\"heatmap\"}],\"heatmapgl\":[{\"colorbar\":{\"outlinewidth\":0,\"ticks\":\"\"},\"colorscale\":[[0.0,\"#0d0887\"],[0.1111111111111111,\"#46039f\"],[0.2222222222222222,\"#7201a8\"],[0.3333333333333333,\"#9c179e\"],[0.4444444444444444,\"#bd3786\"],[0.5555555555555556,\"#d8576b\"],[0.6666666666666666,\"#ed7953\"],[0.7777777777777778,\"#fb9f3a\"],[0.8888888888888888,\"#fdca26\"],[1.0,\"#f0f921\"]],\"type\":\"heatmapgl\"}],\"histogram\":[{\"marker\":{\"pattern\":{\"fillmode\":\"overlay\",\"size\":10,\"solidity\":0.2}},\"type\":\"histogram\"}],\"histogram2d\":[{\"colorbar\":{\"outlinewidth\":0,\"ticks\":\"\"},\"colorscale\":[[0.0,\"#0d0887\"],[0.1111111111111111,\"#46039f\"],[0.2222222222222222,\"#7201a8\"],[0.3333333333333333,\"#9c179e\"],[0.4444444444444444,\"#bd3786\"],[0.5555555555555556,\"#d8576b\"],[0.6666666666666666,\"#ed7953\"],[0.7777777777777778,\"#fb9f3a\"],[0.8888888888888888,\"#fdca26\"],[1.0,\"#f0f921\"]],\"type\":\"histogram2d\"}],\"histogram2dcontour\":[{\"colorbar\":{\"outlinewidth\":0,\"ticks\":\"\"},\"colorscale\":[[0.0,\"#0d0887\"],[0.1111111111111111,\"#46039f\"],[0.2222222222222222,\"#7201a8\"],[0.3333333333333333,\"#9c179e\"],[0.4444444444444444,\"#bd3786\"],[0.5555555555555556,\"#d8576b\"],[0.6666666666666666,\"#ed7953\"],[0.7777777777777778,\"#fb9f3a\"],[0.8888888888888888,\"#fdca26\"],[1.0,\"#f0f921\"]],\"type\":\"histogram2dcontour\"}],\"mesh3d\":[{\"colorbar\":{\"outlinewidth\":0,\"ticks\":\"\"},\"type\":\"mesh3d\"}],\"parcoords\":[{\"line\":{\"colorbar\":{\"outlinewidth\":0,\"ticks\":\"\"}},\"type\":\"parcoords\"}],\"pie\":[{\"automargin\":true,\"type\":\"pie\"}],\"scatter\":[{\"marker\":{\"colorbar\":{\"outlinewidth\":0,\"ticks\":\"\"}},\"type\":\"scatter\"}],\"scatter3d\":[{\"line\":{\"colorbar\":{\"outlinewidth\":0,\"ticks\":\"\"}},\"marker\":{\"colorbar\":{\"outlinewidth\":0,\"ticks\":\"\"}},\"type\":\"scatter3d\"}],\"scattercarpet\":[{\"marker\":{\"colorbar\":{\"outlinewidth\":0,\"ticks\":\"\"}},\"type\":\"scattercarpet\"}],\"scattergeo\":[{\"marker\":{\"colorbar\":{\"outlinewidth\":0,\"ticks\":\"\"}},\"type\":\"scattergeo\"}],\"scattergl\":[{\"marker\":{\"colorbar\":{\"outlinewidth\":0,\"ticks\":\"\"}},\"type\":\"scattergl\"}],\"scattermapbox\":[{\"marker\":{\"colorbar\":{\"outlinewidth\":0,\"ticks\":\"\"}},\"type\":\"scattermapbox\"}],\"scatterpolar\":[{\"marker\":{\"colorbar\":{\"outlinewidth\":0,\"ticks\":\"\"}},\"type\":\"scatterpolar\"}],\"scatterpolargl\":[{\"marker\":{\"colorbar\":{\"outlinewidth\":0,\"ticks\":\"\"}},\"type\":\"scatterpolargl\"}],\"scatterternary\":[{\"marker\":{\"colorbar\":{\"outlinewidth\":0,\"ticks\":\"\"}},\"type\":\"scatterternary\"}],\"surface\":[{\"colorbar\":{\"outlinewidth\":0,\"ticks\":\"\"},\"colorscale\":[[0.0,\"#0d0887\"],[0.1111111111111111,\"#46039f\"],[0.2222222222222222,\"#7201a8\"],[0.3333333333333333,\"#9c179e\"],[0.4444444444444444,\"#bd3786\"],[0.5555555555555556,\"#d8576b\"],[0.6666666666666666,\"#ed7953\"],[0.7777777777777778,\"#fb9f3a\"],[0.8888888888888888,\"#fdca26\"],[1.0,\"#f0f921\"]],\"type\":\"surface\"}],\"table\":[{\"cells\":{\"fill\":{\"color\":\"#EBF0F8\"},\"line\":{\"color\":\"white\"}},\"header\":{\"fill\":{\"color\":\"#C8D4E3\"},\"line\":{\"color\":\"white\"}},\"type\":\"table\"}]},\"layout\":{\"annotationdefaults\":{\"arrowcolor\":\"#2a3f5f\",\"arrowhead\":0,\"arrowwidth\":1},\"autotypenumbers\":\"strict\",\"coloraxis\":{\"colorbar\":{\"outlinewidth\":0,\"ticks\":\"\"}},\"colorscale\":{\"diverging\":[[0,\"#8e0152\"],[0.1,\"#c51b7d\"],[0.2,\"#de77ae\"],[0.3,\"#f1b6da\"],[0.4,\"#fde0ef\"],[0.5,\"#f7f7f7\"],[0.6,\"#e6f5d0\"],[0.7,\"#b8e186\"],[0.8,\"#7fbc41\"],[0.9,\"#4d9221\"],[1,\"#276419\"]],\"sequential\":[[0.0,\"#0d0887\"],[0.1111111111111111,\"#46039f\"],[0.2222222222222222,\"#7201a8\"],[0.3333333333333333,\"#9c179e\"],[0.4444444444444444,\"#bd3786\"],[0.5555555555555556,\"#d8576b\"],[0.6666666666666666,\"#ed7953\"],[0.7777777777777778,\"#fb9f3a\"],[0.8888888888888888,\"#fdca26\"],[1.0,\"#f0f921\"]],\"sequentialminus\":[[0.0,\"#0d0887\"],[0.1111111111111111,\"#46039f\"],[0.2222222222222222,\"#7201a8\"],[0.3333333333333333,\"#9c179e\"],[0.4444444444444444,\"#bd3786\"],[0.5555555555555556,\"#d8576b\"],[0.6666666666666666,\"#ed7953\"],[0.7777777777777778,\"#fb9f3a\"],[0.8888888888888888,\"#fdca26\"],[1.0,\"#f0f921\"]]},\"colorway\":[\"#636efa\",\"#EF553B\",\"#00cc96\",\"#ab63fa\",\"#FFA15A\",\"#19d3f3\",\"#FF6692\",\"#B6E880\",\"#FF97FF\",\"#FECB52\"],\"font\":{\"color\":\"#2a3f5f\"},\"geo\":{\"bgcolor\":\"white\",\"lakecolor\":\"white\",\"landcolor\":\"#E5ECF6\",\"showlakes\":true,\"showland\":true,\"subunitcolor\":\"white\"},\"hoverlabel\":{\"align\":\"left\"},\"hovermode\":\"closest\",\"mapbox\":{\"style\":\"light\"},\"paper_bgcolor\":\"white\",\"plot_bgcolor\":\"#E5ECF6\",\"polar\":{\"angularaxis\":{\"gridcolor\":\"white\",\"linecolor\":\"white\",\"ticks\":\"\"},\"bgcolor\":\"#E5ECF6\",\"radialaxis\":{\"gridcolor\":\"white\",\"linecolor\":\"white\",\"ticks\":\"\"}},\"scene\":{\"xaxis\":{\"backgroundcolor\":\"#E5ECF6\",\"gridcolor\":\"white\",\"gridwidth\":2,\"linecolor\":\"white\",\"showbackground\":true,\"ticks\":\"\",\"zerolinecolor\":\"white\"},\"yaxis\":{\"backgroundcolor\":\"#E5ECF6\",\"gridcolor\":\"white\",\"gridwidth\":2,\"linecolor\":\"white\",\"showbackground\":true,\"ticks\":\"\",\"zerolinecolor\":\"white\"},\"zaxis\":{\"backgroundcolor\":\"#E5ECF6\",\"gridcolor\":\"white\",\"gridwidth\":2,\"linecolor\":\"white\",\"showbackground\":true,\"ticks\":\"\",\"zerolinecolor\":\"white\"}},\"shapedefaults\":{\"line\":{\"color\":\"#2a3f5f\"}},\"ternary\":{\"aaxis\":{\"gridcolor\":\"white\",\"linecolor\":\"white\",\"ticks\":\"\"},\"baxis\":{\"gridcolor\":\"white\",\"linecolor\":\"white\",\"ticks\":\"\"},\"bgcolor\":\"#E5ECF6\",\"caxis\":{\"gridcolor\":\"white\",\"linecolor\":\"white\",\"ticks\":\"\"}},\"title\":{\"x\":0.05},\"xaxis\":{\"automargin\":true,\"gridcolor\":\"white\",\"linecolor\":\"white\",\"ticks\":\"\",\"title\":{\"standoff\":15},\"zerolinecolor\":\"white\",\"zerolinewidth\":2},\"yaxis\":{\"automargin\":true,\"gridcolor\":\"white\",\"linecolor\":\"white\",\"ticks\":\"\",\"title\":{\"standoff\":15},\"zerolinecolor\":\"white\",\"zerolinewidth\":2}}}},                        {\"responsive\": true}                    ).then(function(){\n",
              "                            \n",
              "var gd = document.getElementById('75b47941-6db0-4ff9-8fc4-b81bb14fde3a');\n",
              "var x = new MutationObserver(function (mutations, observer) {{\n",
              "        var display = window.getComputedStyle(gd).display;\n",
              "        if (!display || display === 'none') {{\n",
              "            console.log([gd, 'removed!']);\n",
              "            Plotly.purge(gd);\n",
              "            observer.disconnect();\n",
              "        }}\n",
              "}});\n",
              "\n",
              "// Listen for the removal of the full notebook cells\n",
              "var notebookContainer = gd.closest('#notebook-container');\n",
              "if (notebookContainer) {{\n",
              "    x.observe(notebookContainer, {childList: true});\n",
              "}}\n",
              "\n",
              "// Listen for the clearing of the current output cell\n",
              "var outputEl = gd.closest('.output');\n",
              "if (outputEl) {{\n",
              "    x.observe(outputEl, {childList: true});\n",
              "}}\n",
              "\n",
              "                        })                };                            </script>        </div>\n",
              "</body>\n",
              "</html>"
            ]
          },
          "metadata": {}
        }
      ]
    },
    {
      "cell_type": "markdown",
      "source": [
        "**In this boxplot there are no unusual observations**"
      ],
      "metadata": {
        "id": "E71k71UPYY5t"
      },
      "id": "E71k71UPYY5t"
    },
    {
      "cell_type": "markdown",
      "source": [
        "# Save the changes to excel file\n"
      ],
      "metadata": {
        "id": "TXXGvjUWdPUc"
      },
      "id": "TXXGvjUWdPUc"
    },
    {
      "cell_type": "code",
      "execution_count": 28,
      "id": "56b3b66b-aef3-4eef-8e84-94b925eb9171",
      "metadata": {
        "id": "56b3b66b-aef3-4eef-8e84-94b925eb9171"
      },
      "outputs": [],
      "source": [
        "df.to_csv('consumer_d.csv', index=False)"
      ]
    }
  ],
  "metadata": {
    "kernelspec": {
      "display_name": "Python 3 (ipykernel)",
      "language": "python",
      "name": "python3"
    },
    "language_info": {
      "codemirror_mode": {
        "name": "ipython",
        "version": 3
      },
      "file_extension": ".py",
      "mimetype": "text/x-python",
      "name": "python",
      "nbconvert_exporter": "python",
      "pygments_lexer": "ipython3",
      "version": "3.10.7"
    },
    "vscode": {
      "interpreter": {
        "hash": "66e628c84da382ad7967f4329a61f93910ec7b6691d6661c4d2f609816ca70e1"
      }
    },
    "colab": {
      "provenance": [],
      "collapsed_sections": [
        "W2NZ0_te5kuG",
        "9c8GfasE4SRs",
        "wPMlMQFM7PR8",
        "0lLFGN6uC16R",
        "-3NbCDIr7t2o",
        "unJMqJDkcVcm",
        "TXXGvjUWdPUc"
      ]
    }
  },
  "nbformat": 4,
  "nbformat_minor": 5
}