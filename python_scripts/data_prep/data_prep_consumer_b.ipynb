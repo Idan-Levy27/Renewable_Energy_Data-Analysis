{
  "cells": [
    {
      "cell_type": "markdown",
      "id": "W2NZ0_te5kuG",
      "metadata": {
        "id": "W2NZ0_te5kuG"
      },
      "source": [
        "### **<h1>Data Consumer B - (נתוני צריכה צרכן ב)</h1>**"
      ]
    },
    {
      "cell_type": "code",
      "execution_count": 1,
      "id": "aae30132-6f05-4c16-8f58-d1b77c118a06",
      "metadata": {
        "colab": {
          "base_uri": "https://localhost:8080/"
        },
        "id": "aae30132-6f05-4c16-8f58-d1b77c118a06",
        "outputId": "e6a9c725-310e-45fa-869e-ed381f45c47f",
        "tags": []
      },
      "outputs": [
        {
          "name": "stdout",
          "output_type": "stream",
          "text": [
            "Mounted at /content/drive\n"
          ]
        }
      ],
      "source": [
        "# Imports\n",
        "import pandas as pd\n",
        "import plotly.graph_objects as go\n",
        "\n",
        "# Permission to access my Google Drive\n",
        "from google.colab import drive\n",
        "drive.mount('/content/drive', force_remount=True)\n",
        "\n",
        "FILE_PATH = \"/content/drive/MyDrive/Doral_Energy/data/raw_data/נתוני צריכה צרכן ב.xlsx\"\n",
        "\n",
        "  "
      ]
    },
    {
      "cell_type": "markdown",
      "id": "9c8GfasE4SRs",
      "metadata": {
        "id": "9c8GfasE4SRs"
      },
      "source": [
        "# Load the data"
      ]
    },
    {
      "cell_type": "code",
      "execution_count": 2,
      "id": "crrDNfhrcjCN",
      "metadata": {
        "colab": {
          "base_uri": "https://localhost:8080/",
          "height": 424
        },
        "id": "crrDNfhrcjCN",
        "outputId": "d9e2fa35-082a-4d6f-bb58-c34af3f621ab"
      },
      "outputs": [
        {
          "data": {
            "text/html": [
              "\n",
              "  <div id=\"df-8c5f1563-773d-487c-b2bd-fb87a6e94fba\">\n",
              "    <div class=\"colab-df-container\">\n",
              "      <div>\n",
              "<style scoped>\n",
              "    .dataframe tbody tr th:only-of-type {\n",
              "        vertical-align: middle;\n",
              "    }\n",
              "\n",
              "    .dataframe tbody tr th {\n",
              "        vertical-align: top;\n",
              "    }\n",
              "\n",
              "    .dataframe thead th {\n",
              "        text-align: right;\n",
              "    }\n",
              "</style>\n",
              "<table border=\"1\" class=\"dataframe\">\n",
              "  <thead>\n",
              "    <tr style=\"text-align: right;\">\n",
              "      <th></th>\n",
              "      <th>תאריך</th>\n",
              "      <th>Unnamed: 1</th>\n",
              "      <th>קוט\"ש</th>\n",
              "    </tr>\n",
              "  </thead>\n",
              "  <tbody>\n",
              "    <tr>\n",
              "      <th>0</th>\n",
              "      <td>2021-01-01</td>\n",
              "      <td>00:00:00</td>\n",
              "      <td>309.20</td>\n",
              "    </tr>\n",
              "    <tr>\n",
              "      <th>1</th>\n",
              "      <td>2021-01-01</td>\n",
              "      <td>00:30:00</td>\n",
              "      <td>283.26</td>\n",
              "    </tr>\n",
              "    <tr>\n",
              "      <th>2</th>\n",
              "      <td>2021-01-01</td>\n",
              "      <td>01:00:00</td>\n",
              "      <td>280.26</td>\n",
              "    </tr>\n",
              "    <tr>\n",
              "      <th>3</th>\n",
              "      <td>2021-01-01</td>\n",
              "      <td>01:30:00</td>\n",
              "      <td>263.42</td>\n",
              "    </tr>\n",
              "    <tr>\n",
              "      <th>4</th>\n",
              "      <td>2021-01-01</td>\n",
              "      <td>02:00:00</td>\n",
              "      <td>247.60</td>\n",
              "    </tr>\n",
              "    <tr>\n",
              "      <th>...</th>\n",
              "      <td>...</td>\n",
              "      <td>...</td>\n",
              "      <td>...</td>\n",
              "    </tr>\n",
              "    <tr>\n",
              "      <th>17513</th>\n",
              "      <td>2021-12-31</td>\n",
              "      <td>21:30:00</td>\n",
              "      <td>431.64</td>\n",
              "    </tr>\n",
              "    <tr>\n",
              "      <th>17514</th>\n",
              "      <td>2021-12-31</td>\n",
              "      <td>22:00:00</td>\n",
              "      <td>418.26</td>\n",
              "    </tr>\n",
              "    <tr>\n",
              "      <th>17515</th>\n",
              "      <td>2021-12-31</td>\n",
              "      <td>22:30:00</td>\n",
              "      <td>396.44</td>\n",
              "    </tr>\n",
              "    <tr>\n",
              "      <th>17516</th>\n",
              "      <td>2021-12-31</td>\n",
              "      <td>23:00:00</td>\n",
              "      <td>374.86</td>\n",
              "    </tr>\n",
              "    <tr>\n",
              "      <th>17517</th>\n",
              "      <td>2021-12-31</td>\n",
              "      <td>23:30:00</td>\n",
              "      <td>346.90</td>\n",
              "    </tr>\n",
              "  </tbody>\n",
              "</table>\n",
              "<p>17518 rows × 3 columns</p>\n",
              "</div>\n",
              "      <button class=\"colab-df-convert\" onclick=\"convertToInteractive('df-8c5f1563-773d-487c-b2bd-fb87a6e94fba')\"\n",
              "              title=\"Convert this dataframe to an interactive table.\"\n",
              "              style=\"display:none;\">\n",
              "        \n",
              "  <svg xmlns=\"http://www.w3.org/2000/svg\" height=\"24px\"viewBox=\"0 0 24 24\"\n",
              "       width=\"24px\">\n",
              "    <path d=\"M0 0h24v24H0V0z\" fill=\"none\"/>\n",
              "    <path d=\"M18.56 5.44l.94 2.06.94-2.06 2.06-.94-2.06-.94-.94-2.06-.94 2.06-2.06.94zm-11 1L8.5 8.5l.94-2.06 2.06-.94-2.06-.94L8.5 2.5l-.94 2.06-2.06.94zm10 10l.94 2.06.94-2.06 2.06-.94-2.06-.94-.94-2.06-.94 2.06-2.06.94z\"/><path d=\"M17.41 7.96l-1.37-1.37c-.4-.4-.92-.59-1.43-.59-.52 0-1.04.2-1.43.59L10.3 9.45l-7.72 7.72c-.78.78-.78 2.05 0 2.83L4 21.41c.39.39.9.59 1.41.59.51 0 1.02-.2 1.41-.59l7.78-7.78 2.81-2.81c.8-.78.8-2.07 0-2.86zM5.41 20L4 18.59l7.72-7.72 1.47 1.35L5.41 20z\"/>\n",
              "  </svg>\n",
              "      </button>\n",
              "      \n",
              "  <style>\n",
              "    .colab-df-container {\n",
              "      display:flex;\n",
              "      flex-wrap:wrap;\n",
              "      gap: 12px;\n",
              "    }\n",
              "\n",
              "    .colab-df-convert {\n",
              "      background-color: #E8F0FE;\n",
              "      border: none;\n",
              "      border-radius: 50%;\n",
              "      cursor: pointer;\n",
              "      display: none;\n",
              "      fill: #1967D2;\n",
              "      height: 32px;\n",
              "      padding: 0 0 0 0;\n",
              "      width: 32px;\n",
              "    }\n",
              "\n",
              "    .colab-df-convert:hover {\n",
              "      background-color: #E2EBFA;\n",
              "      box-shadow: 0px 1px 2px rgba(60, 64, 67, 0.3), 0px 1px 3px 1px rgba(60, 64, 67, 0.15);\n",
              "      fill: #174EA6;\n",
              "    }\n",
              "\n",
              "    [theme=dark] .colab-df-convert {\n",
              "      background-color: #3B4455;\n",
              "      fill: #D2E3FC;\n",
              "    }\n",
              "\n",
              "    [theme=dark] .colab-df-convert:hover {\n",
              "      background-color: #434B5C;\n",
              "      box-shadow: 0px 1px 3px 1px rgba(0, 0, 0, 0.15);\n",
              "      filter: drop-shadow(0px 1px 2px rgba(0, 0, 0, 0.3));\n",
              "      fill: #FFFFFF;\n",
              "    }\n",
              "  </style>\n",
              "\n",
              "      <script>\n",
              "        const buttonEl =\n",
              "          document.querySelector('#df-8c5f1563-773d-487c-b2bd-fb87a6e94fba button.colab-df-convert');\n",
              "        buttonEl.style.display =\n",
              "          google.colab.kernel.accessAllowed ? 'block' : 'none';\n",
              "\n",
              "        async function convertToInteractive(key) {\n",
              "          const element = document.querySelector('#df-8c5f1563-773d-487c-b2bd-fb87a6e94fba');\n",
              "          const dataTable =\n",
              "            await google.colab.kernel.invokeFunction('convertToInteractive',\n",
              "                                                     [key], {});\n",
              "          if (!dataTable) return;\n",
              "\n",
              "          const docLinkHtml = 'Like what you see? Visit the ' +\n",
              "            '<a target=\"_blank\" href=https://colab.research.google.com/notebooks/data_table.ipynb>data table notebook</a>'\n",
              "            + ' to learn more about interactive tables.';\n",
              "          element.innerHTML = '';\n",
              "          dataTable['output_type'] = 'display_data';\n",
              "          await google.colab.output.renderOutput(dataTable, element);\n",
              "          const docLink = document.createElement('div');\n",
              "          docLink.innerHTML = docLinkHtml;\n",
              "          element.appendChild(docLink);\n",
              "        }\n",
              "      </script>\n",
              "    </div>\n",
              "  </div>\n",
              "  "
            ],
            "text/plain": [
              "           תאריך Unnamed: 1   קוט\"ש\n",
              "0     2021-01-01   00:00:00  309.20\n",
              "1     2021-01-01   00:30:00  283.26\n",
              "2     2021-01-01   01:00:00  280.26\n",
              "3     2021-01-01   01:30:00  263.42\n",
              "4     2021-01-01   02:00:00  247.60\n",
              "...          ...        ...     ...\n",
              "17513 2021-12-31   21:30:00  431.64\n",
              "17514 2021-12-31   22:00:00  418.26\n",
              "17515 2021-12-31   22:30:00  396.44\n",
              "17516 2021-12-31   23:00:00  374.86\n",
              "17517 2021-12-31   23:30:00  346.90\n",
              "\n",
              "[17518 rows x 3 columns]"
            ]
          },
          "execution_count": 2,
          "metadata": {},
          "output_type": "execute_result"
        }
      ],
      "source": [
        "df = pd.read_excel(FILE_PATH)\n",
        "df"
      ]
    },
    {
      "cell_type": "markdown",
      "id": "0nSBAJow7FI5",
      "metadata": {
        "id": "0nSBAJow7FI5"
      },
      "source": [
        "# Change column names from Hebrew to English \n"
      ]
    },
    {
      "cell_type": "code",
      "execution_count": 3,
      "id": "ea59425b-8d5c-4848-8e88-7561cc63cadd",
      "metadata": {
        "colab": {
          "base_uri": "https://localhost:8080/",
          "height": 206
        },
        "id": "ea59425b-8d5c-4848-8e88-7561cc63cadd",
        "outputId": "d8a7ca3e-2975-4a8b-96b0-cc5cd8a49a90"
      },
      "outputs": [
        {
          "data": {
            "text/html": [
              "\n",
              "  <div id=\"df-7066d76e-e948-4c29-9c5c-74626294de89\">\n",
              "    <div class=\"colab-df-container\">\n",
              "      <div>\n",
              "<style scoped>\n",
              "    .dataframe tbody tr th:only-of-type {\n",
              "        vertical-align: middle;\n",
              "    }\n",
              "\n",
              "    .dataframe tbody tr th {\n",
              "        vertical-align: top;\n",
              "    }\n",
              "\n",
              "    .dataframe thead th {\n",
              "        text-align: right;\n",
              "    }\n",
              "</style>\n",
              "<table border=\"1\" class=\"dataframe\">\n",
              "  <thead>\n",
              "    <tr style=\"text-align: right;\">\n",
              "      <th></th>\n",
              "      <th>date</th>\n",
              "      <th>hour</th>\n",
              "      <th>kWh_amount</th>\n",
              "    </tr>\n",
              "  </thead>\n",
              "  <tbody>\n",
              "    <tr>\n",
              "      <th>0</th>\n",
              "      <td>2021-01-01</td>\n",
              "      <td>00:00:00</td>\n",
              "      <td>309.20</td>\n",
              "    </tr>\n",
              "    <tr>\n",
              "      <th>1</th>\n",
              "      <td>2021-01-01</td>\n",
              "      <td>00:30:00</td>\n",
              "      <td>283.26</td>\n",
              "    </tr>\n",
              "    <tr>\n",
              "      <th>2</th>\n",
              "      <td>2021-01-01</td>\n",
              "      <td>01:00:00</td>\n",
              "      <td>280.26</td>\n",
              "    </tr>\n",
              "    <tr>\n",
              "      <th>3</th>\n",
              "      <td>2021-01-01</td>\n",
              "      <td>01:30:00</td>\n",
              "      <td>263.42</td>\n",
              "    </tr>\n",
              "    <tr>\n",
              "      <th>4</th>\n",
              "      <td>2021-01-01</td>\n",
              "      <td>02:00:00</td>\n",
              "      <td>247.60</td>\n",
              "    </tr>\n",
              "  </tbody>\n",
              "</table>\n",
              "</div>\n",
              "      <button class=\"colab-df-convert\" onclick=\"convertToInteractive('df-7066d76e-e948-4c29-9c5c-74626294de89')\"\n",
              "              title=\"Convert this dataframe to an interactive table.\"\n",
              "              style=\"display:none;\">\n",
              "        \n",
              "  <svg xmlns=\"http://www.w3.org/2000/svg\" height=\"24px\"viewBox=\"0 0 24 24\"\n",
              "       width=\"24px\">\n",
              "    <path d=\"M0 0h24v24H0V0z\" fill=\"none\"/>\n",
              "    <path d=\"M18.56 5.44l.94 2.06.94-2.06 2.06-.94-2.06-.94-.94-2.06-.94 2.06-2.06.94zm-11 1L8.5 8.5l.94-2.06 2.06-.94-2.06-.94L8.5 2.5l-.94 2.06-2.06.94zm10 10l.94 2.06.94-2.06 2.06-.94-2.06-.94-.94-2.06-.94 2.06-2.06.94z\"/><path d=\"M17.41 7.96l-1.37-1.37c-.4-.4-.92-.59-1.43-.59-.52 0-1.04.2-1.43.59L10.3 9.45l-7.72 7.72c-.78.78-.78 2.05 0 2.83L4 21.41c.39.39.9.59 1.41.59.51 0 1.02-.2 1.41-.59l7.78-7.78 2.81-2.81c.8-.78.8-2.07 0-2.86zM5.41 20L4 18.59l7.72-7.72 1.47 1.35L5.41 20z\"/>\n",
              "  </svg>\n",
              "      </button>\n",
              "      \n",
              "  <style>\n",
              "    .colab-df-container {\n",
              "      display:flex;\n",
              "      flex-wrap:wrap;\n",
              "      gap: 12px;\n",
              "    }\n",
              "\n",
              "    .colab-df-convert {\n",
              "      background-color: #E8F0FE;\n",
              "      border: none;\n",
              "      border-radius: 50%;\n",
              "      cursor: pointer;\n",
              "      display: none;\n",
              "      fill: #1967D2;\n",
              "      height: 32px;\n",
              "      padding: 0 0 0 0;\n",
              "      width: 32px;\n",
              "    }\n",
              "\n",
              "    .colab-df-convert:hover {\n",
              "      background-color: #E2EBFA;\n",
              "      box-shadow: 0px 1px 2px rgba(60, 64, 67, 0.3), 0px 1px 3px 1px rgba(60, 64, 67, 0.15);\n",
              "      fill: #174EA6;\n",
              "    }\n",
              "\n",
              "    [theme=dark] .colab-df-convert {\n",
              "      background-color: #3B4455;\n",
              "      fill: #D2E3FC;\n",
              "    }\n",
              "\n",
              "    [theme=dark] .colab-df-convert:hover {\n",
              "      background-color: #434B5C;\n",
              "      box-shadow: 0px 1px 3px 1px rgba(0, 0, 0, 0.15);\n",
              "      filter: drop-shadow(0px 1px 2px rgba(0, 0, 0, 0.3));\n",
              "      fill: #FFFFFF;\n",
              "    }\n",
              "  </style>\n",
              "\n",
              "      <script>\n",
              "        const buttonEl =\n",
              "          document.querySelector('#df-7066d76e-e948-4c29-9c5c-74626294de89 button.colab-df-convert');\n",
              "        buttonEl.style.display =\n",
              "          google.colab.kernel.accessAllowed ? 'block' : 'none';\n",
              "\n",
              "        async function convertToInteractive(key) {\n",
              "          const element = document.querySelector('#df-7066d76e-e948-4c29-9c5c-74626294de89');\n",
              "          const dataTable =\n",
              "            await google.colab.kernel.invokeFunction('convertToInteractive',\n",
              "                                                     [key], {});\n",
              "          if (!dataTable) return;\n",
              "\n",
              "          const docLinkHtml = 'Like what you see? Visit the ' +\n",
              "            '<a target=\"_blank\" href=https://colab.research.google.com/notebooks/data_table.ipynb>data table notebook</a>'\n",
              "            + ' to learn more about interactive tables.';\n",
              "          element.innerHTML = '';\n",
              "          dataTable['output_type'] = 'display_data';\n",
              "          await google.colab.output.renderOutput(dataTable, element);\n",
              "          const docLink = document.createElement('div');\n",
              "          docLink.innerHTML = docLinkHtml;\n",
              "          element.appendChild(docLink);\n",
              "        }\n",
              "      </script>\n",
              "    </div>\n",
              "  </div>\n",
              "  "
            ],
            "text/plain": [
              "        date      hour  kWh_amount\n",
              "0 2021-01-01  00:00:00      309.20\n",
              "1 2021-01-01  00:30:00      283.26\n",
              "2 2021-01-01  01:00:00      280.26\n",
              "3 2021-01-01  01:30:00      263.42\n",
              "4 2021-01-01  02:00:00      247.60"
            ]
          },
          "execution_count": 3,
          "metadata": {},
          "output_type": "execute_result"
        }
      ],
      "source": [
        "df.rename(columns={'תאריך': 'date', 'Unnamed: 1': 'hour', 'קוט\"ש': 'kWh_amount'}, inplace=True)\n",
        "df.head()"
      ]
    },
    {
      "cell_type": "markdown",
      "id": "wPMlMQFM7PR8",
      "metadata": {
        "id": "wPMlMQFM7PR8"
      },
      "source": [
        "# Check the types"
      ]
    },
    {
      "cell_type": "code",
      "execution_count": 4,
      "id": "f711b4c9-7619-4b83-99f7-d0ec7f586055",
      "metadata": {
        "colab": {
          "base_uri": "https://localhost:8080/"
        },
        "id": "f711b4c9-7619-4b83-99f7-d0ec7f586055",
        "outputId": "38c709d3-4516-4d38-a71b-7ec6279409cf",
        "tags": []
      },
      "outputs": [
        {
          "name": "stdout",
          "output_type": "stream",
          "text": [
            "<class 'pandas.core.frame.DataFrame'>\n",
            "RangeIndex: 17518 entries, 0 to 17517\n",
            "Data columns (total 3 columns):\n",
            " #   Column      Non-Null Count  Dtype         \n",
            "---  ------      --------------  -----         \n",
            " 0   date        17518 non-null  datetime64[ns]\n",
            " 1   hour        17518 non-null  object        \n",
            " 2   kWh_amount  17518 non-null  float64       \n",
            "dtypes: datetime64[ns](1), float64(1), object(1)\n",
            "memory usage: 410.7+ KB\n"
          ]
        }
      ],
      "source": [
        "df.info()"
      ]
    },
    {
      "cell_type": "markdown",
      "id": "0lLFGN6uC16R",
      "metadata": {
        "id": "0lLFGN6uC16R"
      },
      "source": [
        "# Convert date format"
      ]
    },
    {
      "cell_type": "code",
      "execution_count": 9,
      "id": "25c3536b-4b22-4f9d-b286-36fd8ace9255",
      "metadata": {
        "colab": {
          "base_uri": "https://localhost:8080/"
        },
        "id": "25c3536b-4b22-4f9d-b286-36fd8ace9255",
        "outputId": "8ff7884b-e35a-4e9b-8957-b1cfdb4cc175"
      },
      "outputs": [
        {
          "name": "stdout",
          "output_type": "stream",
          "text": [
            "<class 'pandas.core.frame.DataFrame'>\n",
            "RangeIndex: 17518 entries, 0 to 17517\n",
            "Data columns (total 3 columns):\n",
            " #   Column      Non-Null Count  Dtype  \n",
            "---  ------      --------------  -----  \n",
            " 0   date        17518 non-null  object \n",
            " 1   hour        17518 non-null  object \n",
            " 2   kWh_amount  17518 non-null  float64\n",
            "dtypes: float64(1), object(2)\n",
            "memory usage: 410.7+ KB\n"
          ]
        }
      ],
      "source": [
        "df['date'] = df['date'].dt.strftime('%d/%m/%Y')\n",
        "df.info()"
      ]
    },
    {
      "cell_type": "markdown",
      "id": "-3NbCDIr7t2o",
      "metadata": {
        "id": "-3NbCDIr7t2o"
      },
      "source": [
        "#Get some understanding about the range of Kwh\n"
      ]
    },
    {
      "cell_type": "code",
      "execution_count": 10,
      "id": "e946905d-10c1-4a6f-8d07-f6a0a2bede3a",
      "metadata": {
        "colab": {
          "base_uri": "https://localhost:8080/",
          "height": 300
        },
        "id": "e946905d-10c1-4a6f-8d07-f6a0a2bede3a",
        "outputId": "0bc7f35a-7db4-4a20-90bf-693b4c78e875"
      },
      "outputs": [
        {
          "data": {
            "text/html": [
              "\n",
              "  <div id=\"df-45473a0f-5f18-4548-894b-9824acdedaf6\">\n",
              "    <div class=\"colab-df-container\">\n",
              "      <div>\n",
              "<style scoped>\n",
              "    .dataframe tbody tr th:only-of-type {\n",
              "        vertical-align: middle;\n",
              "    }\n",
              "\n",
              "    .dataframe tbody tr th {\n",
              "        vertical-align: top;\n",
              "    }\n",
              "\n",
              "    .dataframe thead th {\n",
              "        text-align: right;\n",
              "    }\n",
              "</style>\n",
              "<table border=\"1\" class=\"dataframe\">\n",
              "  <thead>\n",
              "    <tr style=\"text-align: right;\">\n",
              "      <th></th>\n",
              "      <th>kWh_amount</th>\n",
              "    </tr>\n",
              "  </thead>\n",
              "  <tbody>\n",
              "    <tr>\n",
              "      <th>count</th>\n",
              "      <td>17518.000000</td>\n",
              "    </tr>\n",
              "    <tr>\n",
              "      <th>mean</th>\n",
              "      <td>361.433602</td>\n",
              "    </tr>\n",
              "    <tr>\n",
              "      <th>std</th>\n",
              "      <td>101.979695</td>\n",
              "    </tr>\n",
              "    <tr>\n",
              "      <th>min</th>\n",
              "      <td>0.000000</td>\n",
              "    </tr>\n",
              "    <tr>\n",
              "      <th>25%</th>\n",
              "      <td>284.265000</td>\n",
              "    </tr>\n",
              "    <tr>\n",
              "      <th>50%</th>\n",
              "      <td>360.190000</td>\n",
              "    </tr>\n",
              "    <tr>\n",
              "      <th>75%</th>\n",
              "      <td>440.320000</td>\n",
              "    </tr>\n",
              "    <tr>\n",
              "      <th>max</th>\n",
              "      <td>906.320000</td>\n",
              "    </tr>\n",
              "  </tbody>\n",
              "</table>\n",
              "</div>\n",
              "      <button class=\"colab-df-convert\" onclick=\"convertToInteractive('df-45473a0f-5f18-4548-894b-9824acdedaf6')\"\n",
              "              title=\"Convert this dataframe to an interactive table.\"\n",
              "              style=\"display:none;\">\n",
              "        \n",
              "  <svg xmlns=\"http://www.w3.org/2000/svg\" height=\"24px\"viewBox=\"0 0 24 24\"\n",
              "       width=\"24px\">\n",
              "    <path d=\"M0 0h24v24H0V0z\" fill=\"none\"/>\n",
              "    <path d=\"M18.56 5.44l.94 2.06.94-2.06 2.06-.94-2.06-.94-.94-2.06-.94 2.06-2.06.94zm-11 1L8.5 8.5l.94-2.06 2.06-.94-2.06-.94L8.5 2.5l-.94 2.06-2.06.94zm10 10l.94 2.06.94-2.06 2.06-.94-2.06-.94-.94-2.06-.94 2.06-2.06.94z\"/><path d=\"M17.41 7.96l-1.37-1.37c-.4-.4-.92-.59-1.43-.59-.52 0-1.04.2-1.43.59L10.3 9.45l-7.72 7.72c-.78.78-.78 2.05 0 2.83L4 21.41c.39.39.9.59 1.41.59.51 0 1.02-.2 1.41-.59l7.78-7.78 2.81-2.81c.8-.78.8-2.07 0-2.86zM5.41 20L4 18.59l7.72-7.72 1.47 1.35L5.41 20z\"/>\n",
              "  </svg>\n",
              "      </button>\n",
              "      \n",
              "  <style>\n",
              "    .colab-df-container {\n",
              "      display:flex;\n",
              "      flex-wrap:wrap;\n",
              "      gap: 12px;\n",
              "    }\n",
              "\n",
              "    .colab-df-convert {\n",
              "      background-color: #E8F0FE;\n",
              "      border: none;\n",
              "      border-radius: 50%;\n",
              "      cursor: pointer;\n",
              "      display: none;\n",
              "      fill: #1967D2;\n",
              "      height: 32px;\n",
              "      padding: 0 0 0 0;\n",
              "      width: 32px;\n",
              "    }\n",
              "\n",
              "    .colab-df-convert:hover {\n",
              "      background-color: #E2EBFA;\n",
              "      box-shadow: 0px 1px 2px rgba(60, 64, 67, 0.3), 0px 1px 3px 1px rgba(60, 64, 67, 0.15);\n",
              "      fill: #174EA6;\n",
              "    }\n",
              "\n",
              "    [theme=dark] .colab-df-convert {\n",
              "      background-color: #3B4455;\n",
              "      fill: #D2E3FC;\n",
              "    }\n",
              "\n",
              "    [theme=dark] .colab-df-convert:hover {\n",
              "      background-color: #434B5C;\n",
              "      box-shadow: 0px 1px 3px 1px rgba(0, 0, 0, 0.15);\n",
              "      filter: drop-shadow(0px 1px 2px rgba(0, 0, 0, 0.3));\n",
              "      fill: #FFFFFF;\n",
              "    }\n",
              "  </style>\n",
              "\n",
              "      <script>\n",
              "        const buttonEl =\n",
              "          document.querySelector('#df-45473a0f-5f18-4548-894b-9824acdedaf6 button.colab-df-convert');\n",
              "        buttonEl.style.display =\n",
              "          google.colab.kernel.accessAllowed ? 'block' : 'none';\n",
              "\n",
              "        async function convertToInteractive(key) {\n",
              "          const element = document.querySelector('#df-45473a0f-5f18-4548-894b-9824acdedaf6');\n",
              "          const dataTable =\n",
              "            await google.colab.kernel.invokeFunction('convertToInteractive',\n",
              "                                                     [key], {});\n",
              "          if (!dataTable) return;\n",
              "\n",
              "          const docLinkHtml = 'Like what you see? Visit the ' +\n",
              "            '<a target=\"_blank\" href=https://colab.research.google.com/notebooks/data_table.ipynb>data table notebook</a>'\n",
              "            + ' to learn more about interactive tables.';\n",
              "          element.innerHTML = '';\n",
              "          dataTable['output_type'] = 'display_data';\n",
              "          await google.colab.output.renderOutput(dataTable, element);\n",
              "          const docLink = document.createElement('div');\n",
              "          docLink.innerHTML = docLinkHtml;\n",
              "          element.appendChild(docLink);\n",
              "        }\n",
              "      </script>\n",
              "    </div>\n",
              "  </div>\n",
              "  "
            ],
            "text/plain": [
              "         kWh_amount\n",
              "count  17518.000000\n",
              "mean     361.433602\n",
              "std      101.979695\n",
              "min        0.000000\n",
              "25%      284.265000\n",
              "50%      360.190000\n",
              "75%      440.320000\n",
              "max      906.320000"
            ]
          },
          "execution_count": 10,
          "metadata": {},
          "output_type": "execute_result"
        }
      ],
      "source": [
        "df.describe()"
      ]
    },
    {
      "cell_type": "markdown",
      "id": "unJMqJDkcVcm",
      "metadata": {
        "id": "unJMqJDkcVcm"
      },
      "source": [
        "# Check if there are missing values\n"
      ]
    },
    {
      "cell_type": "code",
      "execution_count": 6,
      "id": "YlQunPM67y4O",
      "metadata": {
        "colab": {
          "base_uri": "https://localhost:8080/"
        },
        "id": "YlQunPM67y4O",
        "outputId": "3519d750-6d5b-4d2b-b1fa-f65659b3de43"
      },
      "outputs": [
        {
          "data": {
            "text/plain": [
              "0"
            ]
          },
          "execution_count": 6,
          "metadata": {},
          "output_type": "execute_result"
        }
      ],
      "source": [
        "df.isna().any(axis=1).sum()"
      ]
    },
    {
      "cell_type": "markdown",
      "id": "G7qCRVYkcbU8",
      "metadata": {
        "id": "G7qCRVYkcbU8"
      },
      "source": [
        "# Are there any duplicates?\n"
      ]
    },
    {
      "cell_type": "code",
      "execution_count": 7,
      "id": "2d8ac5d4-f542-4d15-9e90-38975aebbef1",
      "metadata": {
        "colab": {
          "base_uri": "https://localhost:8080/"
        },
        "id": "2d8ac5d4-f542-4d15-9e90-38975aebbef1",
        "outputId": "8ea78488-2d94-42ba-c755-ebcd221cf5ad",
        "tags": []
      },
      "outputs": [
        {
          "data": {
            "text/plain": [
              "0"
            ]
          },
          "execution_count": 7,
          "metadata": {},
          "output_type": "execute_result"
        }
      ],
      "source": [
        "df.duplicated().sum()"
      ]
    },
    {
      "cell_type": "code",
      "execution_count": 11,
      "id": "GKZgpOSM_r6G",
      "metadata": {
        "colab": {
          "base_uri": "https://localhost:8080/",
          "height": 49
        },
        "id": "GKZgpOSM_r6G",
        "outputId": "6fc8415e-cc13-4ae0-82a0-6d46fc4f0d3f"
      },
      "outputs": [
        {
          "data": {
            "text/html": [
              "\n",
              "  <div id=\"df-2d8038e6-f2a0-4a80-b149-4d018e1d9054\">\n",
              "    <div class=\"colab-df-container\">\n",
              "      <div>\n",
              "<style scoped>\n",
              "    .dataframe tbody tr th:only-of-type {\n",
              "        vertical-align: middle;\n",
              "    }\n",
              "\n",
              "    .dataframe tbody tr th {\n",
              "        vertical-align: top;\n",
              "    }\n",
              "\n",
              "    .dataframe thead th {\n",
              "        text-align: right;\n",
              "    }\n",
              "</style>\n",
              "<table border=\"1\" class=\"dataframe\">\n",
              "  <thead>\n",
              "    <tr style=\"text-align: right;\">\n",
              "      <th></th>\n",
              "      <th>date</th>\n",
              "      <th>hour</th>\n",
              "      <th>kWh_amount</th>\n",
              "    </tr>\n",
              "  </thead>\n",
              "  <tbody>\n",
              "  </tbody>\n",
              "</table>\n",
              "</div>\n",
              "      <button class=\"colab-df-convert\" onclick=\"convertToInteractive('df-2d8038e6-f2a0-4a80-b149-4d018e1d9054')\"\n",
              "              title=\"Convert this dataframe to an interactive table.\"\n",
              "              style=\"display:none;\">\n",
              "        \n",
              "  <svg xmlns=\"http://www.w3.org/2000/svg\" height=\"24px\"viewBox=\"0 0 24 24\"\n",
              "       width=\"24px\">\n",
              "    <path d=\"M0 0h24v24H0V0z\" fill=\"none\"/>\n",
              "    <path d=\"M18.56 5.44l.94 2.06.94-2.06 2.06-.94-2.06-.94-.94-2.06-.94 2.06-2.06.94zm-11 1L8.5 8.5l.94-2.06 2.06-.94-2.06-.94L8.5 2.5l-.94 2.06-2.06.94zm10 10l.94 2.06.94-2.06 2.06-.94-2.06-.94-.94-2.06-.94 2.06-2.06.94z\"/><path d=\"M17.41 7.96l-1.37-1.37c-.4-.4-.92-.59-1.43-.59-.52 0-1.04.2-1.43.59L10.3 9.45l-7.72 7.72c-.78.78-.78 2.05 0 2.83L4 21.41c.39.39.9.59 1.41.59.51 0 1.02-.2 1.41-.59l7.78-7.78 2.81-2.81c.8-.78.8-2.07 0-2.86zM5.41 20L4 18.59l7.72-7.72 1.47 1.35L5.41 20z\"/>\n",
              "  </svg>\n",
              "      </button>\n",
              "      \n",
              "  <style>\n",
              "    .colab-df-container {\n",
              "      display:flex;\n",
              "      flex-wrap:wrap;\n",
              "      gap: 12px;\n",
              "    }\n",
              "\n",
              "    .colab-df-convert {\n",
              "      background-color: #E8F0FE;\n",
              "      border: none;\n",
              "      border-radius: 50%;\n",
              "      cursor: pointer;\n",
              "      display: none;\n",
              "      fill: #1967D2;\n",
              "      height: 32px;\n",
              "      padding: 0 0 0 0;\n",
              "      width: 32px;\n",
              "    }\n",
              "\n",
              "    .colab-df-convert:hover {\n",
              "      background-color: #E2EBFA;\n",
              "      box-shadow: 0px 1px 2px rgba(60, 64, 67, 0.3), 0px 1px 3px 1px rgba(60, 64, 67, 0.15);\n",
              "      fill: #174EA6;\n",
              "    }\n",
              "\n",
              "    [theme=dark] .colab-df-convert {\n",
              "      background-color: #3B4455;\n",
              "      fill: #D2E3FC;\n",
              "    }\n",
              "\n",
              "    [theme=dark] .colab-df-convert:hover {\n",
              "      background-color: #434B5C;\n",
              "      box-shadow: 0px 1px 3px 1px rgba(0, 0, 0, 0.15);\n",
              "      filter: drop-shadow(0px 1px 2px rgba(0, 0, 0, 0.3));\n",
              "      fill: #FFFFFF;\n",
              "    }\n",
              "  </style>\n",
              "\n",
              "      <script>\n",
              "        const buttonEl =\n",
              "          document.querySelector('#df-2d8038e6-f2a0-4a80-b149-4d018e1d9054 button.colab-df-convert');\n",
              "        buttonEl.style.display =\n",
              "          google.colab.kernel.accessAllowed ? 'block' : 'none';\n",
              "\n",
              "        async function convertToInteractive(key) {\n",
              "          const element = document.querySelector('#df-2d8038e6-f2a0-4a80-b149-4d018e1d9054');\n",
              "          const dataTable =\n",
              "            await google.colab.kernel.invokeFunction('convertToInteractive',\n",
              "                                                     [key], {});\n",
              "          if (!dataTable) return;\n",
              "\n",
              "          const docLinkHtml = 'Like what you see? Visit the ' +\n",
              "            '<a target=\"_blank\" href=https://colab.research.google.com/notebooks/data_table.ipynb>data table notebook</a>'\n",
              "            + ' to learn more about interactive tables.';\n",
              "          element.innerHTML = '';\n",
              "          dataTable['output_type'] = 'display_data';\n",
              "          await google.colab.output.renderOutput(dataTable, element);\n",
              "          const docLink = document.createElement('div');\n",
              "          docLink.innerHTML = docLinkHtml;\n",
              "          element.appendChild(docLink);\n",
              "        }\n",
              "      </script>\n",
              "    </div>\n",
              "  </div>\n",
              "  "
            ],
            "text/plain": [
              "Empty DataFrame\n",
              "Columns: [date, hour, kWh_amount]\n",
              "Index: []"
            ]
          },
          "execution_count": 11,
          "metadata": {},
          "output_type": "execute_result"
        }
      ],
      "source": [
        "# group by date and hour, and check if there are rows with different kmh amount values\n",
        "grouped_df = df.groupby([df['date'], df['hour']])\n",
        "has_diff_kwh = grouped_df['kWh_amount'].nunique() > 1\n",
        "\n",
        "grouped_df = df.groupby([df['date'], df['hour']]).filter(lambda x: has_diff_kwh[x.name])\n",
        "grouped_df\n"
      ]
    },
    {
      "cell_type": "markdown",
      "id": "natJ6mU8hKz1",
      "metadata": {
        "id": "natJ6mU8hKz1"
      },
      "source": [
        "**There are no duplicates for the same date and hour with different values**"
      ]
    },
    {
      "cell_type": "markdown",
      "id": "HbOB_q9acrOY",
      "metadata": {
        "id": "HbOB_q9acrOY"
      },
      "source": [
        "#Outliers Detection\n"
      ]
    },
    {
      "cell_type": "code",
      "execution_count": 12,
      "id": "Prh1ZO3pfiE7",
      "metadata": {
        "colab": {
          "base_uri": "https://localhost:8080/",
          "height": 542
        },
        "id": "Prh1ZO3pfiE7",
        "outputId": "79a95f05-8f7d-4bbb-a91c-04cd264bf934"
      },
      "outputs": [
        {
          "data": {
            "text/html": [
              "<html>\n",
              "<head><meta charset=\"utf-8\" /></head>\n",
              "<body>\n",
              "    <div>            <script src=\"https://cdnjs.cloudflare.com/ajax/libs/mathjax/2.7.5/MathJax.js?config=TeX-AMS-MML_SVG\"></script><script type=\"text/javascript\">if (window.MathJax) {MathJax.Hub.Config({SVG: {font: \"STIX-Web\"}});}</script>                <script type=\"text/javascript\">window.PlotlyConfig = {MathJaxConfig: 'local'};</script>\n",
              "        <script src=\"https://cdn.plot.ly/plotly-2.8.3.min.js\"></script>                <div id=\"aee45bc9-f4c2-4015-99ac-115bf90c2cc2\" class=\"plotly-graph-div\" style=\"height:525px; width:100%;\"></div>            <script type=\"text/javascript\">                                    window.PLOTLYENV=window.PLOTLYENV || {};                                    if (document.getElementById(\"aee45bc9-f4c2-4015-99ac-115bf90c2cc2\")) {                    Plotly.newPlot(                        \"aee45bc9-f4c2-4015-99ac-115bf90c2cc2\",                        [{\"boxmean\":\"sd\",\"name\":\"kWh amount\",\"y\":[309.2,283.26,280.26,263.42,247.6,229.42,236.34,247.58,256.72,258.64,273.8,273.12,278.66,267.26,323.08,334.44,322.16,291.12,266.36,239.66,221.5,196.62,169.82,172.88,164.6,168.36,191.56,209.0,211.64,250.98,302.4,333.9,372.84,433.76,508.1,524.84,547.62,541.08,474.86,465.68,436.56,436.3,422.1,399.4,388.52,381.26,342.5,331.06,317.7,303.46,292.92,271.58,238.74,217.1,220.04,233.6,244.46,248.62,270.14,277.74,280.26,269.72,289.56,282.5,287.86,268.6,287.64,223.04,210.24,231.9,220.92,272.94,229.94,210.06,221.84,205.82,233.6,267.52,282.02,326.46,372.48,426.0,477.06,506.34,508.48,514.46,476.82,464.76,477.7,440.92,428.56,421.18,392.14,364.78,344.84,311.82,297.38,269.72,261.94,247.34,225.9,202.8,206.12,209.16,227.72,239.54,264.6,273.7,285.02,307.12,375.66,338.38,308.68,312.5,270.32,238.18,227.58,177.36,201.56,196.06,209.92,224.06,243.0,266.2,269.0,306.68,322.34,360.98,376.46,416.3,451.92,475.5,482.94,492.52,485.3,485.16,480.5,470.12,447.44,431.4,405.98,378.2,346.56,308.74,289.58,281.76,275.48,263.16,229.08,209.04,209.16,213.96,232.66,249.34,274.06,282.84,296.94,303.28,355.88,354.96,343.96,312.74,279.08,244.46,239.3,221.0,225.64,341.78,337.18,361.24,360.62,377.82,380.36,384.7,380.2,374.42,400.7,442.3,484.44,499.28,509.44,493.34,460.6,463.9,487.8,455.78,431.0,407.92,387.66,381.34,361.9,327.2,304.62,287.82,276.32,260.68,229.3,203.24,213.06,217.42,235.94,253.0,277.9,290.34,295.9,319.16,375.08,363.22,374.74,357.38,342.44,332.14,332.88,323.88,332.0,330.68,227.68,287.68,318.56,280.4,262.04,279.46,308.34,337.14,360.24,410.46,444.82,484.02,487.7,492.44,469.92,484.68,489.76,458.4,436.06,415.7,393.64,379.7,337.46,308.88,291.16,272.12,258.92,251.36,228.42,215.2,219.44,223.88,243.32,253.32,276.72,286.16,283.32,311.7,363.5,342.48,327.98,302.9,277.24,264.36,224.76,216.98,234.88,243.2,270.48,247.28,280.54,340.76,275.48,291.5,341.92,365.2,383.74,435.4,475.94,491.26,515.9,529.62,484.8,452.18,465.66,458.6,448.32,427.36,404.6,376.76,353.8,327.72,294.42,282.32,273.12,257.34,227.58,199.26,207.96,214.98,226.04,243.18,267.12,275.74,286.98,280.06,321.08,326.4,341.02,324.96,290.78,245.12,234.18,214.8,211.6,180.56,184.96,209.88,216.5,222.28,243.72,274.98,294.46,349.18,368.86,414.78,457.16,454.7,483.44,487.54,445.62,442.92,436.82,432.48,411.62,398.64,386.04,366.82,342.54,317.5,295.92,279.36,258.14,254.88,225.36,202.08,203.94,207.38,216.08,229.86,248.58,258.98,266.94,257.72,294.48,278.8,279.16,278.36,228.8,206.68,181.7,176.48,183.82,198.22,209.48,199.0,215.8,251.02,275.12,288.82,328.7,367.76,405.22,462.4,524.06,548.6,553.16,544.96,463.84,432.2,432.68,424.32,399.16,390.46,381.4,376.44,338.62,311.1,286.8,281.2,275.1,258.74,220.06,197.4,200.44,204.82,219.14,227.02,254.1,257.68,264.86,257.94,304.5,292.28,278.9,274.04,235.92,224.58,207.0,197.68,197.18,192.82,185.0,185.86,220.38,219.3,245.58,264.6,289.98,336.96,381.44,440.26,491.24,512.56,530.76,522.42,468.54,466.02,447.34,446.2,420.66,408.38,391.52,372.32,344.4,324.22,295.8,280.64,264.84,252.7,222.56,206.4,201.88,203.88,218.64,238.2,262.04,265.0,278.68,288.82,347.82,368.04,356.48,315.64,270.54,254.12,223.14,207.86,211.78,212.84,193.58,200.26,218.74,232.14,266.0,290.76,313.92,320.72,351.3,400.02,448.0,475.14,490.2,505.28,460.62,459.58,467.28,453.72,428.1,418.0,394.74,372.2,342.06,322.24,289.9,274.68,261.02,263.8,226.8,194.6,197.02,209.42,218.98,231.42,253.52,274.72,281.02,285.8,317.56,317.52,320.02,300.6,255.78,252.54,219.94,204.6,202.1,213.7,221.26,212.84,225.44,230.36,247.18,263.92,306.56,341.28,371.22,397.9,443.16,470.5,497.46,496.92,442.12,444.3,449.54,441.9,430.2,414.1,402.2,374.26,346.56,327.1,296.36,284.4,262.68,255.4,224.82,198.48,209.58,209.98,227.86,238.9,260.88,262.0,270.1,269.18,301.34,303.26,303.14,296.84,240.16,224.92,194.24,181.22,166.62,156.6,191.32,207.34,227.46,220.6,251.4,245.8,284.3,305.54,355.02,396.26,450.0,455.84,463.0,409.92,433.94,454.98,436.3,425.3,403.46,379.92,361.04,345.32,313.22,305.86,287.04,281.74,262.88,251.72,221.76,198.58,198.68,205.98,224.26,242.74,266.78,271.82,260.5,260.86,308.46,310.66,327.1,346.22,332.58,302.68,296.48,301.32,309.86,304.04,296.76,305.06,330.18,359.28,370.32,374.94,379.78,406.44,417.9,450.44,489.08,498.42,510.14,510.16,486.32,475.32,459.16,437.14,421.32,397.98,387.82,374.7,345.46,321.84,303.84,288.96,275.12,265.44,227.72,209.56,206.28,206.6,221.32,232.3,253.88,262.56,276.06,286.48,315.66,347.94,373.5,373.68,305.72,352.74,402.36,410.68,441.1,460.34,468.56,472.08,482.96,478.86,461.22,473.58,477.36,488.36,505.58,533.16,570.94,588.46,585.04,562.72,514.06,527.4,534.06,525.72,499.96,469.24,440.32,423.5,385.08,360.2,341.46,318.32,304.14,300.78,264.4,231.24,235.2,236.0,246.94,257.78,285.76,290.52,289.52,279.62,322.0,339.54,361.96,345.56,318.6,354.78,382.26,370.74,367.7,396.4,257.8,276.94,255.1,308.38,390.04,420.66,407.96,427.08,450.56,507.66,565.0,592.6,606.68,583.38,532.18,508.32,488.18,459.92,439.26,420.08,408.8,402.74,383.94,352.84,336.32,321.94,308.14,297.32,270.5,229.72,236.74,233.92,247.12,256.04,277.52,275.72,278.34,266.92,294.46,276.56,252.38,303.02,253.26,303.04,234.68,206.12,278.1,286.9,274.56,344.38,375.68,357.28,347.82,349.82,350.0,402.46,429.84,468.92,510.2,552.22,563.52,563.78,516.76,518.82,504.52,490.42,494.92,492.64,468.42,445.56,402.62,381.68,339.24,318.48,299.64,282.2,254.42,221.12,223.54,229.26,245.32,264.96,284.5,303.56,300.34,316.16,357.68,354.54,415.72,426.1,411.98,361.0,364.24,332.74,386.08,416.46,405.7,359.12,302.1,301.52,403.98,422.06,402.3,442.94,472.44,493.6,486.08,490.58,530.04,529.84,551.74,543.04,537.26,525.62,506.66,498.7,458.54,411.24,284.96,191.0,287.26,252.4,230.82,233.52,232.94,228.96,227.0,238.98,253.92,263.4,278.02,300.7,310.92,338.6,386.06,425.66,461.32,452.7,449.38,452.76,432.14,405.94,382.38,302.82,329.44,397.46,408.62,429.4,475.62,483.04,481.06,488.1,508.06,529.06,582.44,581.08,592.4,593.8,558.94,531.64,540.18,531.06,516.84,483.42,468.5,435.76,412.7,375.78,346.38,322.84,315.56,301.9,269.52,241.54,244.02,245.86,257.08,282.58,301.84,316.3,332.1,346.52,375.88,392.84,467.56,491.24,492.7,469.26,474.16,479.82,490.46,494.9,466.44,488.5,499.94,492.22,506.74,494.06,500.22,513.0,526.88,553.22,592.3,591.88,611.08,621.66,585.12,588.9,569.64,558.68,538.28,515.72,496.92,481.4,435.48,395.6,367.42,352.14,327.28,323.56,282.48,256.34,259.52,257.68,270.36,285.86,311.38,324.62,345.18,358.32,406.54,424.02,442.38,407.74,449.4,457.68,425.5,396.26,480.48,393.18,363.8,466.94,504.04,427.94,536.8,505.42,507.74,516.76,525.58,561.26,583.18,617.36,626.38,640.76,603.52,612.04,620.96,605.96,576.48,561.92,517.22,494.76,461.7,419.72,381.76,345.94,339.86,333.18,291.56,257.96,255.02,266.52,272.02,283.54,312.3,336.42,347.02,360.88,362.84,357.84,374.6,368.28,343.86,323.7,307.68,272.38,272.82,267.86,251.62,278.54,321.04,326.76,308.32,349.08,349.14,384.06,429.38,493.6,560.04,599.7,616.5,634.9,607.34,587.16,607.22,582.42,551.94,534.64,523.14,479.42,443.68,409.18,367.16,344.94,333.34,320.18,280.48,252.5,249.22,264.86,271.44,278.08,305.18,313.48,316.3,319.26,348.82,354.96,350.44,351.22,329.7,292.86,279.4,259.86,243.56,243.68,230.64,228.02,250.94,266.3,283.02,320.48,353.44,401.46,458.48,522.48,596.14,643.46,678.96,670.78,603.52,566.64,551.68,532.54,517.76,516.14,496.68,487.0,442.2,417.84,395.56,378.68,355.34,336.02,297.4,266.44,259.94,256.98,274.3,290.42,307.44,315.36,316.16,318.96,336.1,330.06,341.54,369.56,374.3,336.66,321.3,288.54,273.74,269.26,253.4,252.44,238.88,241.6,267.22,303.9,329.28,362.5,418.08,478.14,551.08,580.96,615.98,624.94,592.28,574.4,567.98,561.16,528.88,523.52,508.96,487.78,457.04,414.44,364.04,344.12,321.04,308.48,268.98,240.68,239.12,250.36,266.76,287.14,303.74,310.0,322.92,345.02,414.88,411.82,401.92,382.44,343.92,339.54,306.16,283.72,280.8,281.68,260.2,255.96,268.62,275.48,296.46,307.84,340.44,356.32,407.3,459.26,537.56,590.02,634.88,619.36,580.24,566.66,572.18,566.16,535.84,536.62,493.4,471.8,438.36,392.3,362.42,346.08,324.38,299.68,264.58,229.36,240.42,241.92,253.78,275.0,294.54,309.08,327.92,358.3,410.02,422.68,451.88,423.22,357.08,310.96,250.26,257.12,244.76,280.78,286.66,322.82,343.14,367.1,367.02,359.48,406.62,393.82,428.48,479.88,537.62,566.3,573.78,589.66,524.66,505.46,501.58,513.18,484.42,464.96,428.04,410.0,390.12,350.16,322.36,304.74,283.66,251.8,237.58,225.96,230.16,238.92,246.4,269.36,286.08,303.08,317.3,333.34,375.82,396.76,427.16,430.86,378.28,327.86,302.66,267.6,261.16,277.18,354.32,348.14,363.52,370.92,400.38,412.16,389.78,399.4,466.64,479.32,540.02,564.64,576.46,585.5,555.58,558.54,569.14,564.78,538.58,501.8,470.32,456.54,427.1,388.14,349.26,329.48,301.6,286.18,254.78,232.14,237.68,238.9,252.02,270.74,295.72,308.4,309.88,325.9,361.18,375.1,389.74,393.92,366.84,350.28,327.32,286.04,305.26,317.44,323.78,302.94,317.22,333.9,354.72,374.16,386.86,402.44,403.12,423.76,507.62,557.66,567.62,559.58,517.82,520.68,545.0,537.24,497.36,473.82,456.26,427.38,386.72,351.42,334.26,327.4,297.66,288.1,257.18,235.62,243.64,245.46,259.96,283.72,304.0,317.32,314.68,329.28,368.06,367.42,434.76,440.44,317.9,328.02,299.9,247.04,277.52,260.96,306.64,395.16,395.24,409.34,431.2,429.62,460.72,468.54,480.88,513.74,549.46,566.58,585.36,586.96,533.6,544.24,534.9,513.24,492.66,455.34,437.24,413.78,385.84,367.24,338.46,314.6,311.44,299.26,256.2,244.72,243.56,247.14,251.16,274.12,286.38,296.14,304.26,317.32,359.5,417.7,455.06,478.34,485.86,451.92,428.92,467.8,374.84,440.62,459.0,428.76,319.78,399.84,352.7,431.44,452.48,479.26,483.84,533.2,583.12,606.8,636.26,617.42,539.2,517.46,522.7,508.32,497.58,482.32,466.6,438.5,408.68,393.34,376.16,344.48,332.68,308.86,276.2,254.86,255.28,263.36,271.2,284.06,294.08,298.62,305.06,307.52,329.74,307.74,360.52,344.8,359.84,470.52,482.96,501.5,512.34,511.62,500.38,514.28,515.62,505.04,435.34,374.8,446.78,390.0,434.38,487.16,533.32,560.5,592.82,605.0,581.28,550.68,548.48,529.9,518.82,508.8,484.2,454.88,427.68,400.32,345.0,317.96,299.12,296.92,269.62,251.32,254.36,251.9,263.28,275.0,288.36,299.02,318.08,343.34,412.12,456.64,502.32,524.06,487.18,510.82,500.36,477.68,451.32,420.82,416.38,393.6,388.8,278.88,349.82,363.2,430.2,423.54,450.38,492.02,521.36,566.18,595.18,599.3,557.58,539.72,550.84,530.4,530.16,494.56,476.7,439.96,395.04,372.88,338.94,308.04,312.24,294.34,261.96,242.84,232.72,254.96,258.8,277.48,291.72,308.28,321.24,337.32,378.8,398.1,353.82,336.62,289.74,252.42,246.24,224.1,213.62,196.38,212.5,217.92,191.12,197.5,222.96,255.8,274.34,311.06,357.36,415.66,466.02,522.38,541.46,545.48,508.08,501.7,518.44,513.4,491.94,460.44,435.08,415.2,395.9,354.9,323.14,301.06,288.94,271.44,238.64,222.88,233.16,231.08,251.82,267.54,281.98,297.24,293.36,315.88,379.98,389.62,363.28,330.66,291.98,262.32,235.86,225.98,227.48,217.34,205.38,193.34,217.52,235.56,259.18,286.22,321.18,319.66,362.56,419.44,450.86,499.58,530.5,530.76,477.22,465.36,466.34,455.88,442.3,421.3,415.8,397.6,354.16,325.04,304.5,292.76,282.96,270.52,235.52,216.52,212.78,223.2,236.66,251.76,273.46,284.68,272.6,292.66,352.08,354.36,337.02,327.92,277.64,251.6,228.62,201.46,194.12,194.28,187.9,189.98,213.48,246.48,244.7,252.24,284.42,346.72,367.7,407.12,449.1,485.36,503.4,502.38,454.56,450.32,460.32,464.6,458.6,434.06,402.68,387.42,368.64,348.78,315.48,296.74,281.38,260.3,232.72,215.62,222.98,229.28,232.9,250.08,275.62,285.54,289.86,308.72,345.92,363.26,398.56,349.68,271.14,243.72,231.04,259.6,190.06,186.5,318.4,343.9,331.52,373.28,404.24,410.84,419.88,432.84,483.26,497.9,514.38,535.24,543.44,547.04,497.92,492.52,494.66,490.44,455.72,439.92,408.84,386.0,375.44,334.44,315.88,288.32,280.42,267.04,238.04,217.42,221.94,238.14,249.6,263.48,271.48,280.02,276.8,289.18,337.26,316.88,317.58,312.42,351.34,367.86,362.18,284.26,269.94,321.82,234.96,210.2,198.32,218.26,230.04,286.74,281.6,318.42,379.94,428.54,488.54,528.28,557.88,551.24,479.9,473.52,439.04,435.84,405.02,391.14,382.98,373.18,353.86,331.34,311.26,296.42,281.1,270.72,234.08,213.92,216.9,229.0,235.1,243.1,256.06,254.58,248.3,251.94,276.68,266.28,260.88,237.54,210.42,212.42,199.4,185.96,233.64,157.28,160.02,218.1,186.28,200.42,243.52,262.52,271.6,334.38,368.36,428.26,474.16,504.56,514.06,515.04,464.02,469.4,466.02,456.4,438.7,430.52,411.38,386.7,368.72,344.16,315.02,291.1,275.18,253.14,226.54,206.7,204.9,215.88,231.2,247.24,263.3,286.06,271.52,298.72,345.04,323.5,316.14,297.94,255.86,329.34,229.86,165.7,257.76,171.26,195.64,284.36,192.76,307.2,217.34,290.96,279.0,305.22,347.56,393.36,441.28,495.9,525.02,549.36,505.92,508.36,504.04,473.16,454.64,441.16,433.08,406.54,378.34,352.12,318.28,297.94,285.18,262.38,239.68,217.72,224.28,231.72,243.0,253.68,274.56,293.32,304.08,317.82,351.12,334.48,311.22,297.08,244.54,213.12,193.16,181.88,183.36,162.44,175.58,197.0,195.32,208.08,217.66,248.26,300.36,330.32,372.54,402.06,429.06,468.92,501.74,517.9,454.7,441.22,455.88,447.06,434.24,407.3,387.66,370.54,353.14,328.32,288.56,261.36,253.36,243.84,211.14,189.42,192.74,200.96,216.08,229.56,249.68,252.98,251.84,280.92,337.32,335.96,279.18,255.96,218.62,184.84,160.54,143.3,125.96,124.18,151.9,129.46,146.4,156.82,170.92,208.76,232.6,266.4,298.9,357.76,398.4,472.24,474.32,470.52,433.24,431.2,428.14,417.6,421.56,410.76,391.14,363.54,333.22,304.7,284.08,272.58,254.98,245.96,225.56,199.38,204.08,210.24,223.16,235.48,251.14,269.56,256.16,271.58,316.2,329.7,297.98,278.8,227.52,201.96,183.86,166.92,160.74,160.44,183.36,172.34,185.4,197.04,194.68,206.7,237.7,274.18,319.06,360.68,396.44,451.44,464.74,485.38,421.76,413.72,436.8,419.72,407.12,386.54,371.7,349.42,322.24,299.5,262.96,248.46,243.46,229.66,214.88,220.94,215.28,216.9,228.4,243.34,259.64,272.6,280.72,300.72,348.34,338.86,265.36,244.34,197.02,178.6,222.82,161.02,187.26,164.92,173.8,145.48,150.94,186.22,214.46,225.74,228.46,252.64,293.86,352.5,388.84,442.52,452.92,486.88,431.78,444.64,444.48,430.64,407.38,395.9,369.58,365.78,336.9,303.7,275.62,254.7,248.98,225.68,209.38,203.76,206.74,219.18,229.4,240.36,253.74,263.92,257.64,262.3,302.98,323.18,289.72,232.22,193.34,162.5,117.36,158.94,144.74,130.66,139.8,151.5,128.7,153.28,158.98,179.6,259.82,253.44,330.92,385.14,431.74,486.0,501.48,507.46,434.54,415.98,405.92,388.48,377.66,368.66,359.1,343.56,301.8,291.94,274.96,266.66,267.08,250.1,228.18,215.02,211.34,223.52,233.4,243.16,257.2,261.48,247.74,242.16,284.66,281.88,263.12,216.52,188.0,180.78,197.48,120.92,170.84,221.46,172.84,138.5,241.86,240.3,291.68,275.02,280.38,251.38,298.08,365.64,419.12,466.98,503.8,502.94,439.02,436.82,437.68,437.68,400.06,390.52,376.92,355.6,328.98,292.58,265.68,252.66,242.56,228.4,210.3,209.64,208.52,210.44,227.54,245.36,272.64,284.62,277.46,305.08,374.16,360.0,318.24,264.72,226.1,179.12,193.46,185.48,172.6,190.06,167.62,164.36,175.12,190.74,202.28,199.9,223.9,263.14,301.72,338.62,401.34,446.22,463.94,471.74,430.82,440.76,451.94,461.98,438.7,413.28,390.66,364.14,334.0,301.54,269.44,244.02,244.38,219.08,203.46,202.48,206.02,214.08,230.02,246.72,269.98,286.36,287.06,310.7,377.94,383.38,372.58,370.38,369.72,385.9,385.58,364.92,368.98,483.18,440.22,373.6,384.84,319.1,288.2,287.06,299.5,326.94,321.4,366.3,389.68,460.88,485.46,502.96,459.16,474.9,486.62,485.32,439.12,412.96,378.22,373.36,337.04,301.0,272.78,265.54,242.52,227.38,210.04,209.52,217.3,214.94,227.06,244.78,268.46,279.72,288.72,319.48,377.52,409.7,397.46,342.34,273.46,222.18,254.26,206.56,208.8,227.34,252.84,183.22,231.14,257.1,261.24,326.6,362.5,381.74,394.88,419.54,452.5,527.12,546.46,519.92,457.14,478.96,485.64,469.26,447.08,423.94,398.86,385.14,345.84,301.8,272.46,246.52,236.56,229.94,224.8,222.8,224.5,243.74,259.06,275.9,298.06,311.54,316.22,360.62,428.96,455.7,523.94,533.34,517.22,528.2,498.3,486.22,533.28,525.24,498.4,511.58,528.98,572.34,544.88,561.82,581.02,563.12,568.18,587.46,595.26,626.34,639.78,630.5,585.06,582.78,587.36,567.32,536.38,514.38,499.88,475.76,423.62,375.76,336.88,312.76,292.04,279.5,258.76,255.1,257.3,258.88,282.2,307.64,330.3,349.48,372.96,428.3,518.34,551.96,544.28,466.48,460.54,497.76,532.92,493.22,420.02,345.94,338.98,416.78,410.88,293.34,313.16,450.8,439.56,418.72,442.32,487.98,513.08,554.42,581.9,588.66,569.72,560.64,554.66,543.3,532.96,496.78,461.0,434.24,409.72,369.22,341.7,317.4,314.46,283.78,269.64,268.68,275.08,270.22,277.16,295.34,307.44,325.46,332.24,338.92,391.38,426.4,464.62,467.16,476.24,465.16,499.72,518.24,500.54,509.04,476.86,357.92,386.32,306.94,292.78,450.4,491.84,475.66,471.42,489.32,530.3,586.16,605.9,572.66,513.88,487.14,475.56,459.18,440.58,435.98,443.3,431.5,402.5,375.62,345.9,321.66,312.96,284.0,263.12,258.58,257.42,263.7,270.38,282.8,300.88,316.26,310.02,314.04,335.74,280.56,270.12,255.32,235.46,269.5,282.9,300.44,251.7,306.08,264.02,182.94,164.88,164.56,169.32,195.64,235.08,314.12,308.2,359.92,425.52,482.4,521.32,532.74,523.86,532.8,548.38,534.64,510.22,487.54,464.14,435.3,400.3,359.22,317.28,294.12,277.64,260.2,247.8,241.5,241.16,245.7,254.16,275.72,303.5,310.94,325.16,359.9,410.28,369.96,355.46,332.4,278.78,258.92,237.08,207.64,193.74,174.1,159.86,171.5,195.6,239.1,267.32,257.16,274.7,297.06,315.28,365.98,441.86,526.92,576.44,582.5,557.84,570.76,568.62,574.76,519.8,497.02,472.4,449.62,409.68,344.0,321.86,301.76,295.2,278.0,258.22,235.66,238.62,255.86,266.1,277.86,313.44,332.4,341.74,373.9,401.44,366.24,333.16,308.18,261.42,259.48,236.18,206.78,188.84,204.06,199.42,188.94,203.5,211.4,227.64,245.42,274.3,312.62,346.66,413.52,447.82,534.3,578.46,595.08,555.4,551.48,556.36,531.5,516.94,482.68,455.82,433.7,404.7,365.0,315.38,306.1,291.9,277.46,250.32,232.54,234.38,243.6,254.1,270.56,298.56,314.86,319.0,353.52,392.3,380.2,354.4,322.58,293.64,259.58,241.1,273.96,223.04,198.68,192.28,198.88,302.34,321.02,258.08,279.18,364.28,366.78,382.02,382.8,414.98,473.8,501.08,482.44,486.8,499.04,511.12,509.6,489.98,478.8,467.26,424.18,394.7,362.1,326.18,297.72,276.96,268.56,233.5,220.86,219.88,232.86,245.68,262.62,286.78,302.22,322.86,339.14,345.86,325.28,335.22,320.8,283.78,246.98,227.22,222.38,187.16,189.14,193.44,187.18,196.22,185.22,202.28,206.88,225.84,258.22,292.12,320.68,403.88,480.12,514.84,524.66,510.0,499.04,508.9,490.44,471.26,442.86,417.58,393.82,367.24,341.72,307.56,297.92,269.08,268.1,235.14,222.16,226.9,236.1,245.76,256.08,286.8,302.3,305.9,322.94,354.16,340.72,320.52,293.38,260.88,239.96,242.16,161.04,179.38,242.04,211.52,229.66,237.18,258.88,205.58,250.72,245.9,346.84,346.68,356.52,416.56,476.34,513.12,526.56,494.84,488.92,494.02,480.5,475.08,446.04,430.42,415.82,376.98,345.62,327.62,314.04,302.3,279.2,254.94,231.38,232.8,246.28,251.42,254.64,284.62,295.0,293.18,289.22,304.0,303.92,266.08,249.26,216.06,190.48,171.4,158.06,149.7,145.12,153.68,141.18,148.42,150.34,167.2,192.1,218.98,250.16,293.5,338.78,412.04,479.28,513.98,540.48,479.36,448.46,441.72,443.9,431.22,416.46,400.82,390.2,365.02,341.78,322.58,307.22,302.5,279.0,257.26,232.76,233.96,240.02,254.0,260.88,282.58,289.06,287.64,265.88,261.94,254.28,227.64,224.36,192.26,165.0,127.08,131.94,123.16,133.62,133.92,129.5,126.36,136.02,157.6,165.28,193.92,239.32,274.0,323.28,390.3,449.0,465.74,491.02,464.4,459.98,467.94,451.78,439.1,436.92,417.76,397.24,356.46,338.64,319.44,297.08,282.76,273.16,249.56,219.42,212.72,225.9,237.34,252.84,277.0,283.98,282.88,291.0,302.96,306.52,300.02,288.88,245.12,225.9,242.6,176.22,131.98,170.26,133.18,187.28,155.82,159.38,299.26,247.94,266.36,348.06,313.88,359.18,425.26,461.04,501.82,524.36,506.6,500.28,481.74,487.86,474.42,451.48,436.46,407.94,384.78,342.52,318.42,298.1,281.26,264.46,239.3,215.2,215.04,230.0,248.36,261.62,280.46,291.56,292.14,297.54,320.2,282.88,263.22,275.32,214.9,313.36,315.5,280.46,343.56,307.48,345.92,343.66,321.86,389.02,311.72,272.88,291.78,346.32,382.5,391.0,420.44,476.32,523.38,521.12,506.42,510.28,509.2,496.74,473.72,446.64,429.44,411.16,372.04,345.32,314.3,303.08,292.1,273.92,242.52,210.7,218.04,228.96,244.78,256.14,279.08,290.14,293.36,321.58,339.24,327.64,279.3,269.52,292.98,312.76,364.84,270.62,231.34,261.84,248.54,270.72,205.62,202.32,211.04,288.3,321.86,305.46,280.56,346.38,397.14,457.98,493.46,500.86,510.1,520.74,511.36,521.26,488.62,463.22,437.42,428.96,389.06,371.82,346.64,320.86,306.06,290.56,257.8,227.86,234.62,247.48,265.7,273.76,291.56,299.24,306.16,332.52,317.88,285.04,396.1,399.74,373.08,306.5,250.12,179.84,270.14,310.34,207.86,260.06,197.2,301.14,389.4,388.98,415.06,420.32,448.82,453.86,523.74,566.6,586.74,584.04,534.1,548.56,545.7,538.78,507.04,489.0,461.86,439.08,403.54,369.54,356.88,325.72,305.5,290.38,258.76,227.3,236.26,245.5,263.42,276.4,303.92,316.46,333.38,360.82,394.26,314.26,298.3,429.32,430.98,464.38,483.0,483.44,507.8,506.66,525.62,525.96,537.62,533.62,522.2,499.22,492.84,458.88,458.78,486.02,516.14,566.1,576.98,577.84,553.72,559.88,566.26,557.76,538.82,522.12,492.5,477.46,435.34,391.28,367.14,343.62,330.4,305.64,269.16,246.66,247.82,254.7,273.56,280.32,292.84,288.9,304.68,323.0,341.54,333.54,286.96,267.42,228.76,197.34,273.36,177.44,146.44,214.82,179.66,168.64,176.06,189.48,189.1,195.7,212.36,235.96,290.24,353.78,426.44,492.32,546.98,552.58,500.38,480.02,469.62,448.6,434.16,431.9,435.26,422.5,394.46,365.56,336.52,325.76,313.06,292.28,256.06,235.7,245.12,255.7,269.32,270.48,280.72,281.18,294.98,276.26,260.4,235.98,211.98,212.24,180.96,141.54,118.06,125.42,118.34,117.02,114.82,111.42,108.0,125.82,146.16,163.28,190.78,224.64,244.74,301.14,372.56,454.3,477.52,499.06,490.78,473.8,490.6,481.16,473.68,456.32,430.62,427.36,389.4,350.0,331.92,308.88,296.9,283.14,252.22,224.54,233.38,239.82,253.38,270.42,296.22,292.88,305.68,317.48,348.74,304.62,289.6,292.28,264.3,268.1,291.28,335.88,326.0,346.34,340.34,348.64,341.36,335.78,325.64,230.06,246.92,274.1,315.42,349.46,412.3,463.22,522.4,540.48,512.38,521.74,530.64,511.14,480.7,468.52,448.9,416.62,378.92,345.42,324.28,305.52,289.24,276.16,252.58,234.84,234.82,249.86,260.76,270.52,293.46,290.84,300.3,316.7,349.68,333.16,341.82,238.56,264.52,324.08,279.02,248.32,203.64,199.84,234.54,231.84,195.92,195.08,218.32,265.12,269.82,313.28,314.56,330.26,377.88,438.18,464.3,483.16,465.64,461.18,464.98,459.9,447.0,423.3,397.32,377.38,348.52,325.74,290.7,276.76,268.98,253.7,238.36,234.16,238.3,244.04,255.24,272.26,295.14,301.04,306.18,303.98,326.34,298.54,279.96,282.74,225.84,213.68,188.1,181.26,185.44,174.82,162.74,189.54,172.0,165.02,181.24,197.4,217.82,286.5,315.7,360.08,402.16,434.08,485.62,498.2,491.52,471.78,473.36,463.52,443.9,425.48,408.84,390.36,351.4,326.22,313.04,301.88,295.3,279.18,244.18,210.64,212.72,223.26,241.32,256.76,281.12,276.92,292.34,297.38,322.0,270.12,246.74,221.44,207.26,138.82,127.1,108.12,112.54,138.28,119.8,135.68,129.66,145.86,166.32,193.46,243.98,288.22,311.12,340.92,370.58,405.2,442.92,451.12,428.86,421.26,421.14,412.2,398.2,383.8,369.16,350.16,338.64,312.92,291.52,289.08,279.92,256.78,224.06,200.56,208.36,219.76,232.46,248.78,273.6,265.1,270.84,273.94,308.12,298.44,299.34,297.44,265.42,246.46,211.76,218.62,242.18,262.32,240.92,230.54,299.98,326.7,352.6,362.24,386.08,399.02,396.58,412.72,440.26,482.14,489.44,495.3,494.18,499.74,510.06,497.42,460.04,446.94,433.28,428.72,404.34,382.62,366.0,319.94,299.86,294.6,257.1,228.0,227.8,239.88,258.5,271.56,293.4,284.38,292.06,337.98,354.6,374.04,387.16,324.74,284.86,354.88,361.78,355.36,387.16,326.42,309.72,286.08,333.86,351.86,305.78,284.78,318.88,345.92,371.78,429.44,470.68,533.5,604.04,576.02,528.64,499.7,491.82,484.2,481.98,453.12,450.88,443.28,417.6,385.34,360.36,322.26,298.5,289.66,255.86,229.38,235.84,251.2,263.48,264.66,283.42,275.2,266.8,278.26,302.26,272.24,265.08,283.48,336.84,308.34,258.14,180.5,186.36,167.28,173.98,163.04,233.98,181.86,177.78,201.76,234.08,278.08,339.64,390.94,434.1,501.56,543.1,550.5,531.02,535.94,531.26,518.74,509.16,503.58,477.28,466.38,441.5,403.84,377.62,330.66,303.08,282.12,241.46,211.4,220.04,231.04,242.78,257.42,289.36,294.12,298.34,348.26,406.42,384.54,368.32,371.32,265.1,279.66,224.98,187.26,201.46,204.92,192.24,182.14,243.02,248.88,244.88,295.58,343.44,358.44,375.72,408.4,440.32,461.14,506.96,519.04,476.62,480.0,485.56,478.2,460.16,436.46,422.26,397.02,372.34,342.48,321.06,306.28,299.9,286.52,264.88,229.82,232.0,244.4,257.86,261.06,282.2,289.66,296.7,312.54,350.96,308.94,298.72,291.72,234.98,218.62,226.06,223.02,212.76,206.84,201.82,215.58,203.26,213.66,236.56,261.68,261.1,276.62,347.22,391.28,430.32,483.18,508.26,529.56,494.74,475.72,467.04,432.34,400.8,388.02,375.96,365.56,349.9,335.36,318.8,296.84,272.48,268.0,259.36,241.72,251.12,260.44,260.0,260.14,272.68,265.88,272.2,310.92,363.58,325.18,290.56,278.46,245.78,260.08,193.02,154.22,139.6,132.28,130.5,134.94,176.92,168.0,171.14,226.4,293.74,291.32,343.72,354.76,392.84,440.88,481.68,496.38,471.56,470.26,474.48,470.08,457.24,436.6,431.4,410.98,379.6,355.08,329.68,295.86,280.62,269.54,259.96,238.88,241.94,249.74,261.24,265.34,279.62,281.46,287.64,303.2,295.74,261.74,226.26,246.56,237.5,173.98,198.28,130.02,142.86,146.98,131.52,151.26,198.9,164.84,180.68,213.56,236.12,274.8,300.98,337.1,391.26,435.5,477.08,505.22,499.32,480.8,494.26,490.3,453.72,436.46,424.14,415.14,399.4,368.76,352.1,314.4,283.76,275.4,262.1,250.06,252.52,260.68,266.6,264.06,292.64,280.74,281.96,318.26,328.38,288.38,250.94,230.86,190.42,146.12,158.94,182.38,146.62,155.9,173.24,152.34,127.88,159.08,153.3,177.24,243.1,237.48,254.68,333.82,378.66,412.8,477.9,463.98,444.24,448.66,437.16,425.96,409.86,392.3,385.84,364.62,353.02,319.52,305.0,286.14,281.52,268.48,254.98,239.36,250.36,256.74,253.0,254.62,264.74,260.98,257.36,270.52,274.96,259.38,238.82,275.6,243.82,231.64,196.2,235.34,136.28,208.7,313.52,210.02,158.96,179.14,174.12,205.56,221.8,253.44,306.6,359.04,412.54,467.06,516.74,479.56,430.3,404.86,424.48,426.56,393.58,387.5,372.04,364.1,345.84,311.74,307.14,279.16,276.46,268.48,258.1,247.02,247.14,256.92,261.18,258.94,270.94,255.76,263.12,264.8,272.72,245.28,213.1,212.24,226.62,185.42,153.96,133.12,152.54,182.22,253.52,237.16,271.48,224.94,230.5,288.44,284.92,294.24,324.16,362.96,403.04,433.76,479.92,454.26,405.72,400.12,399.7,393.48,379.52,354.96,354.64,333.68,316.96,302.0,284.88,269.52,258.66,251.32,237.26,223.68,220.54,225.08,236.74,238.64,255.66,251.48,252.98,280.68,287.18,264.78,228.52,217.04,182.9,165.18,172.6,151.12,167.92,164.06,168.74,201.04,222.76,226.06,232.36,249.8,298.42,299.82,342.72,348.92,388.42,409.26,435.38,414.34,386.1,388.78,406.64,372.08,357.82,342.08,339.7,319.66,301.32,284.38,276.92,268.04,254.32,249.42,234.94,215.72,223.62,235.66,239.34,247.06,254.88,250.98,254.72,283.02,323.32,326.32,314.58,352.2,334.2,322.7,355.24,375.6,384.04,387.76,370.84,383.52,390.28,372.74,368.08,386.46,387.7,411.36,405.74,417.12,439.0,462.54,478.66,420.0,420.42,416.14,410.1,389.78,380.7,352.9,352.16,340.54,319.64,294.8,280.36,265.56,262.56,254.86,248.86,216.86,219.84,233.84,245.72,240.52,254.0,238.76,249.12,288.22,268.6,245.58,208.0,230.32,226.56,209.34,294.94,283.92,281.8,318.22,361.08,371.86,365.6,352.14,376.44,373.0,376.24,378.5,396.48,411.4,410.58,415.98,449.9,411.4,398.46,398.56,387.42,377.36,351.38,349.0,341.26,325.7,307.72,301.02,282.5,275.18,259.08,249.78,241.02,220.96,222.68,233.86,235.98,235.56,241.68,251.36,252.7,287.14,331.52,310.6,296.74,316.96,331.4,294.0,264.1,245.9,258.98,273.4,268.76,291.04,271.36,327.44,298.2,348.34,332.8,344.88,379.64,437.82,441.64,479.12,498.92,461.18,454.04,453.52,467.78,470.54,415.78,378.0,377.22,374.28,338.74,299.94,288.12,268.24,260.18,246.36,235.66,236.08,241.68,255.68,261.1,269.16,271.8,277.26,277.1,302.54,300.46,253.38,236.8,263.2,188.04,236.96,218.26,146.62,194.0,224.02,235.46,218.2,302.82,329.5,328.26,352.38,358.88,357.22,343.58,378.42,420.44,463.52,496.04,470.44,472.98,462.44,476.5,473.74,455.08,435.76,417.64,400.38,358.96,334.32,314.66,305.1,287.56,262.38,256.7,258.46,255.74,247.72,259.2,273.66,283.9,343.66,345.66,359.04,357.94,402.86,301.2,380.24,290.24,279.54,357.58,340.72,329.84,293.52,260.78,261.12,289.78,337.54,320.18,360.72,407.98,427.86,471.4,498.04,539.54,499.52,497.0,485.68,477.82,477.54,473.84,463.98,443.42,417.26,412.46,397.42,357.68,337.16,312.7,302.88,284.84,254.56,265.96,263.7,262.96,252.02,263.9,272.8,282.92,331.36,328.3,323.38,330.96,312.4,339.76,360.44,293.24,240.02,210.66,185.82,198.64,169.86,195.18,202.68,219.46,217.02,298.5,308.78,401.68,439.36,454.36,463.06,482.22,434.52,424.08,395.42,379.12,357.86,360.06,360.64,355.6,357.6,346.2,333.84,330.96,329.88,318.44,313.22,289.6,261.3,272.78,277.8,268.36,258.18,258.42,264.5,265.96,300.0,295.74,262.0,236.14,256.26,230.62,204.9,161.56,152.74,189.66,303.7,283.76,283.1,325.04,328.18,318.9,278.44,285.92,201.94,227.42,277.2,304.42,345.46,423.04,420.58,447.32,479.14,507.84,513.08,503.1,488.84,462.18,434.62,395.18,386.24,359.8,337.68,320.28,300.38,279.6,244.62,250.44,252.02,247.72,260.16,269.18,282.28,292.78,357.8,369.46,355.46,350.98,298.12,250.52,222.04,177.34,160.84,133.64,124.92,127.08,136.38,123.92,139.48,144.52,140.12,209.84,213.1,253.56,269.28,331.98,380.08,431.38,408.86,445.3,480.42,496.6,474.94,463.72,445.14,430.82,405.14,361.1,346.68,326.08,302.32,282.72,279.28,255.12,245.3,248.06,259.56,262.64,271.12,279.54,301.24,294.78,382.56,390.18,363.22,341.28,345.54,284.28,265.68,241.16,219.82,183.14,179.34,175.66,164.64,168.44,163.74,173.3,191.06,214.22,242.7,270.4,276.64,332.38,367.3,428.74,402.72,403.98,426.58,457.02,460.14,444.86,437.72,421.9,395.08,384.98,369.0,342.56,317.52,298.56,283.82,263.02,240.42,247.78,263.7,254.84,259.58,273.54,285.56,288.62,392.0,394.48,362.14,334.02,294.42,216.12,250.06,153.12,168.54,231.16,134.86,166.04,121.22,196.72,244.78,219.14,277.22,331.22,404.0,331.58,318.42,322.42,382.34,457.64,426.32,458.38,486.48,504.8,472.84,460.8,460.44,430.38,408.26,399.08,376.34,336.38,315.5,293.32,278.22,263.14,237.84,244.54,250.72,247.74,253.74,271.8,285.04,293.08,377.34,379.52,343.62,308.02,293.56,220.22,151.08,162.18,257.1,144.6,139.7,153.28,84.0,102.78,80.68,106.04,97.92,125.9,162.3,173.54,214.06,287.28,336.62,418.78,373.48,402.74,431.62,449.34,454.34,447.38,445.28,422.54,404.04,390.24,353.28,336.4,311.78,303.7,293.88,289.04,257.94,258.8,264.4,263.4,258.06,271.46,281.9,285.08,355.58,351.62,321.64,407.66,464.08,448.9,406.66,460.58,441.24,320.34,350.98,453.38,330.14,313.3,346.88,325.68,172.7,298.42,302.16,287.02,352.6,380.76,475.14,534.52,472.44,473.52,454.66,446.98,440.44,426.98,429.14,420.24,408.6,402.16,374.7,342.5,333.68,317.0,305.12,293.36,262.62,262.66,267.38,260.64,262.16,270.14,277.04,275.32,354.86,338.22,314.9,354.58,398.16,384.82,420.64,256.96,259.8,392.5,365.0,282.28,271.5,242.36,204.64,196.7,114.14,111.8,140.0,172.72,236.18,284.54,346.98,420.8,380.92,430.98,445.7,456.5,464.8,458.74,455.7,442.76,422.26,409.44,385.62,352.72,337.68,320.96,296.28,285.1,259.16,262.84,263.0,266.9,269.1,293.14,300.0,296.28,402.26,414.46,354.74,316.8,305.36,227.06,168.62,130.14,117.4,112.64,117.8,111.32,116.0,132.42,119.98,113.42,128.64,142.78,165.48,198.84,224.86,271.3,341.36,417.8,399.76,462.24,480.42,496.82,493.72,490.52,481.12,465.46,424.12,409.54,375.5,335.02,319.16,313.32,302.06,278.14,251.84,248.36,250.4,253.92,259.24,278.7,286.14,296.24,392.92,405.28,358.02,297.14,286.38,218.62,182.18,129.48,108.78,114.44,77.02,78.1,96.76,78.42,80.14,97.74,115.86,139.74,164.06,143.68,199.0,282.26,338.38,395.34,351.38,383.68,395.0,413.82,401.74,390.18,388.3,364.16,352.6,334.76,311.72,303.54,279.62,270.18,262.9,244.42,210.8,216.06,220.44,222.2,219.18,240.36,258.14,264.0,360.8,347.4,285.64,247.42,238.2,181.72,136.1,97.56,91.44,70.8,69.54,75.02,82.88,94.9,102.92,120.88,203.26,296.12,209.76,237.52,272.08,325.26,368.36,415.24,380.52,395.7,393.92,394.18,378.18,374.8,369.7,349.64,336.6,325.32,302.06,290.02,264.78,265.82,262.1,246.62,204.96,212.12,224.6,220.86,223.76,239.64,255.04,247.64,327.72,319.84,281.24,244.88,225.54,171.86,152.94,101.84,86.22,101.22,94.66,112.96,102.64,88.0,97.52,116.28,125.02,165.24,200.3,225.38,270.44,309.4,352.4,385.58,340.74,357.6,385.7,390.7,386.92,386.92,369.52,355.48,326.04,318.88,297.42,282.64,273.46,271.38,261.24,243.6,211.48,230.14,232.34,228.76,227.98,243.66,250.74,256.62,329.86,320.28,276.74,227.58,208.64,189.0,151.04,103.22,80.52,25.88,7.06,58.38,59.76,77.3,78.9,80.46,84.32,110.74,115.0,161.9,161.36,194.74,249.18,308.48,336.64,375.3,394.5,399.86,384.18,372.88,374.62,361.28,363.96,338.26,314.44,289.96,279.32,277.5,268.64,253.34,223.04,226.3,232.82,232.82,236.08,249.2,255.46,252.34,314.26,304.78,273.66,236.94,266.08,233.8,210.34,132.12,114.0,125.32,135.16,68.04,87.96,118.36,134.62,159.06,149.18,220.96,223.2,219.28,227.88,343.08,393.72,458.28,415.1,422.04,412.24,408.8,399.28,378.82,364.64,357.66,343.8,331.44,323.64,310.02,296.54,285.98,278.08,254.68,220.38,233.76,236.98,230.48,237.46,258.84,255.04,246.94,337.3,335.82,293.38,280.34,268.9,241.8,284.44,376.68,309.68,292.6,211.18,350.8,371.9,382.68,229.12,181.64,181.14,269.62,260.62,334.76,380.44,406.94,446.16,488.82,443.04,474.12,484.36,478.2,477.8,459.9,436.02,415.44,402.18,385.8,370.42,354.84,323.4,311.06,293.82,273.52,236.04,237.52,237.86,239.52,236.88,269.12,288.72,295.14,383.86,402.74,333.42,260.1,257.92,182.66,265.6,183.08,284.66,255.86,164.76,249.64,120.84,124.7,145.06,274.92,306.56,412.48,305.5,317.7,325.18,369.34,458.28,530.62,482.3,511.22,557.6,548.12,552.3,531.38,520.18,496.5,465.9,437.16,409.38,396.78,370.38,310.16,278.34,266.04,226.94,234.56,242.22,241.72,247.8,271.3,284.22,280.3,376.8,460.44,455.08,414.54,312.48,301.34,322.2,297.12,254.32,268.32,230.72,232.8,149.76,54.2,40.4,67.64,125.62,280.82,282.62,236.32,255.92,315.1,367.24,451.68,423.96,448.72,482.28,493.58,474.92,467.36,445.7,426.64,406.58,382.7,361.6,336.2,317.04,257.14,244.22,239.1,228.38,232.68,235.26,232.28,235.74,257.08,278.32,281.86,375.48,429.0,388.76,315.38,293.02,233.96,235.52,218.16,136.22,197.94,243.0,180.72,115.48,104.52,108.88,89.38,103.2,139.22,169.34,207.26,235.66,301.36,356.02,435.68,405.82,465.68,497.12,500.96,500.36,478.56,462.36,446.06,427.16,406.06,374.7,354.44,341.56,279.92,264.82,239.06,228.06,238.1,241.1,244.82,247.22,271.56,286.48,283.26,382.96,424.8,382.38,327.76,295.16,238.14,186.6,139.9,110.26,81.84,76.64,76.42,86.18,75.24,78.68,100.08,111.56,141.64,164.16,197.04,233.4,299.6,364.38,444.9,416.18,457.12,443.48,416.04,395.14,387.18,387.32,390.34,389.02,372.96,362.54,345.94,331.04,272.04,256.66,242.94,226.34,241.52,249.82,246.52,242.94,264.38,255.24,239.02,299.7,340.06,307.76,270.34,257.66,197.38,171.96,139.34,113.48,110.1,105.14,92.1,91.4,104.24,84.42,86.7,107.78,131.22,164.38,185.98,233.8,292.46,349.88,409.26,358.7,381.44,387.84,394.02,394.16,397.04,390.14,394.82,372.28,366.02,344.5,320.14,305.46,247.68,235.04,225.52,202.28,207.82,221.3,212.86,223.98,232.66,235.78,224.98,292.28,317.98,300.62,268.44,268.28,220.64,174.82,138.94,110.44,106.28,100.38,105.34,117.52,118.4,118.76,141.88,205.76,179.18,185.74,219.2,256.94,323.02,376.48,428.54,391.7,406.5,419.4,415.7,397.82,373.6,370.62,355.24,354.02,341.8,322.6,307.04,298.98,251.1,229.94,221.18,203.84,209.86,214.12,215.4,214.92,223.7,230.9,219.42,276.1,312.58,265.88,234.86,224.54,183.04,157.7,125.2,107.18,125.42,119.64,128.5,149.18,140.34,139.24,143.22,167.44,203.7,225.04,286.92,320.16,369.4,355.06,422.74,385.04,383.96,403.5,420.8,408.7,396.94,369.92,359.88,360.06,345.66,329.46,319.24,312.74,258.64,236.86,221.0,202.88,209.6,217.26,213.0,218.42,231.44,224.22,231.6,309.66,363.66,333.28,303.18,297.66,281.82,244.52,212.04,188.94,200.28,209.94,245.1,247.12,278.1,275.8,302.36,326.64,360.08,377.56,409.86,443.38,479.82,511.48,556.62,493.94,502.28,517.74,511.96,492.4,476.36,463.64,440.26,421.36,414.66,396.5,380.12,373.0,316.96,298.54,282.78,233.28,246.44,260.8,254.82,257.42,264.2,266.18,252.86,329.86,387.56,375.76,301.5,363.9,310.04,327.76,315.92,313.12,303.38,294.18,365.58,363.62,376.2,396.28,424.06,457.06,468.44,480.08,486.94,493.14,487.68,574.44,616.52,541.9,519.02,538.42,530.18,520.02,518.34,491.68,475.3,456.7,430.42,416.7,406.56,405.46,342.38,315.56,297.68,248.82,261.96,268.86,275.72,272.76,284.6,292.2,283.7,342.7,397.78,388.28,383.28,399.48,328.98,286.7,271.3,245.54,254.7,250.32,255.46,269.7,282.2,291.08,292.32,300.6,305.02,303.64,301.34,314.22,355.16,398.94,436.12,419.72,446.56,461.14,445.66,450.28,443.52,421.12,405.22,395.32,378.76,356.0,350.76,341.92,281.96,270.56,243.3,201.4,226.92,234.16,237.18,245.52,253.68,247.1,245.5,267.28,290.7,304.74,279.98,292.74,234.34,107.44,46.34,63.58,117.06,130.18,116.7,110.46,127.46,158.3,170.48,188.32,210.58,236.5,247.2,286.14,340.18,381.92,435.82,398.6,424.58,436.72,452.34,432.58,437.36,412.92,404.06,389.8,375.16,365.8,343.36,325.88,272.04,260.92,235.54,205.16,215.58,224.34,216.18,214.88,228.12,237.08,225.0,303.92,341.04,287.26,252.26,293.6,197.56,161.9,135.6,114.42,117.42,110.74,108.12,114.3,148.86,149.66,129.8,153.92,150.58,175.32,199.88,258.94,311.82,357.9,424.92,392.8,433.72,451.68,451.0,438.86,420.04,411.66,392.88,380.94,383.14,364.84,351.62,336.62,278.64,272.72,257.1,215.12,217.34,231.28,219.5,222.84,237.68,238.04,238.16,296.46,338.72,305.4,271.4,262.84,221.86,199.56,158.54,140.5,162.4,151.08,138.72,145.4,158.04,158.1,173.1,190.76,182.3,244.84,281.96,357.14,399.34,462.62,477.26,436.1,443.36,438.74,430.78,427.6,412.78,404.82,384.74,375.12,371.92,357.54,351.14,342.92,288.84,267.54,244.94,209.54,226.8,235.2,230.74,229.54,242.88,243.84,245.12,288.06,328.78,294.74,264.9,290.48,262.02,214.18,170.24,168.84,170.46,185.02,180.68,180.14,179.84,169.0,195.26,200.54,220.92,248.32,287.64,327.5,390.36,435.64,477.1,428.98,429.54,448.82,452.0,445.9,427.38,424.28,400.18,392.64,373.04,367.14,365.9,344.6,274.36,260.1,237.52,207.7,215.52,220.12,224.66,230.54,247.2,242.7,259.62,311.68,360.16,327.84,293.1,307.88,293.7,293.28,268.68,256.08,258.24,263.56,248.24,248.9,253.66,273.92,278.52,289.88,320.6,312.0,323.6,347.28,395.4,430.24,468.22,431.18,442.0,486.78,481.48,476.96,450.6,449.06,416.66,404.8,393.62,366.62,344.76,341.9,286.88,273.3,255.44,204.94,225.74,230.24,226.6,230.76,250.86,257.42,252.24,325.3,398.96,361.2,369.86,402.9,275.36,315.38,240.66,222.98,196.1,233.06,360.96,296.52,223.74,206.44,295.0,361.24,362.56,329.56,273.64,350.96,413.22,456.84,484.5,430.24,448.16,457.46,472.96,456.92,457.28,434.98,411.66,398.42,365.12,354.7,348.72,329.78,270.38,261.44,236.06,194.86,213.24,221.76,231.2,233.1,247.08,254.7,248.34,296.98,368.86,328.82,276.22,343.9,311.9,288.66,260.12,297.58,242.58,194.86,251.9,162.42,158.32,154.66,170.8,176.12,215.88,218.24,240.04,191.2,257.32,331.94,378.22,392.96,431.72,455.72,450.86,455.08,441.54,423.42,412.54,406.56,391.5,369.34,353.6,337.56,290.8,253.62,238.64,200.2,204.98,213.84,217.62,223.04,231.62,240.72,237.82,316.12,365.68,350.94,337.34,377.08,302.86,199.62,170.5,127.86,136.72,183.1,153.76,198.9,217.0,211.74,215.84,240.12,250.98,289.18,307.18,330.22,388.06,424.42,480.04,436.56,390.7,411.56,390.5,378.26,353.02,353.48,341.68,336.42,318.96,299.24,293.26,278.34,266.36,262.96,241.82,207.12,222.04,231.02,234.16,237.28,235.62,251.46,254.08,316.66,376.86,351.3,305.84,320.32,310.02,286.32,287.98,283.08,278.56,276.3,289.02,295.92,309.24,317.7,333.52,332.24,332.0,369.78,385.62,413.16,456.42,494.88,527.26,488.6,420.74,422.98,394.04,381.38,363.54,341.5,335.02,333.98,324.2,297.64,283.3,278.66,276.0,265.26,247.24,212.12,213.64,232.94,225.62,221.66,228.54,231.62,238.08,300.06,345.54,329.18,340.22,365.34,355.08,341.84,319.78,296.84,319.38,367.2,316.32,308.38,306.82,314.66,319.24,336.98,359.22,391.96,415.6,452.84,476.36,532.74,558.22,518.96,454.66,446.24,381.84,359.74,347.62,332.82,340.38,335.6,310.52,292.6,290.68,283.0,274.38,273.06,255.9,214.5,224.28,240.04,237.0,234.02,245.16,232.08,234.68,290.14,331.9,309.42,310.36,345.96,305.92,269.56,259.68,241.8,294.16,306.98,267.0,266.02,274.2,275.98,277.44,284.22,304.9,339.72,374.14,430.4,496.26,525.18,566.82,505.02,452.36,459.52,413.52,380.3,382.34,354.4,351.06,330.88,324.42,318.68,305.5,293.9,288.44,295.46,267.96,225.94,238.04,235.18,232.0,230.6,245.04,250.46,258.32,321.38,388.66,359.92,383.66,418.6,393.96,330.54,311.94,290.28,278.28,296.28,290.18,301.4,309.02,316.32,318.06,315.36,376.42,384.74,409.94,440.24,502.72,561.48,559.66,514.3,444.26,451.88,421.24,407.64,394.62,378.5,358.6,342.6,329.24,311.28,304.88,296.06,285.08,276.2,259.88,224.14,221.78,234.82,234.88,235.94,247.06,245.4,248.5,315.86,377.68,338.74,358.66,325.74,267.52,242.12,186.16,206.76,195.8,198.7,223.66,260.12,288.92,267.66,279.12,303.76,345.0,360.48,376.18,408.76,488.34,515.84,554.56,485.12,430.68,424.9,393.88,380.64,373.28,356.2,342.26,341.16,320.4,305.56,292.02,279.26,273.14,275.72,254.76,223.24,234.08,243.06,228.26,231.24,235.04,230.04,258.72,333.54,393.94,379.6,373.74,391.42,290.76,284.2,278.68,253.3,244.96,254.28,253.66,271.26,284.92,301.3,313.16,333.42,365.86,371.58,390.6,423.48,455.34,492.32,533.12,482.82,382.34,391.74,387.66,369.72,360.9,347.82,320.62,304.38,303.14,267.56,251.3,249.46,237.4,236.04,222.14,206.06,210.44,226.44,223.32,216.2,230.7,234.98,229.74,292.22,365.12,350.0,348.72,367.36,334.26,290.5,266.84,244.68,235.48,219.54,238.3,225.98,249.16,260.24,282.9,288.14,318.96,353.2,338.36,348.06,389.52,413.32,431.96,405.34,409.66,414.4,374.06,360.18,349.22,336.7,312.42,304.88,283.9,263.84,254.84,252.34,243.6,235.9,234.08,216.88,226.52,245.54,231.2,219.86,242.78,234.56,243.58,273.9,364.12,363.08,345.58,352.58,301.54,270.52,238.54,253.7,246.08,294.92,245.18,256.64,272.06,285.34,279.9,320.72,317.52,342.94,364.42,384.56,422.38,469.34,537.24,475.8,405.84,428.42,380.4,363.48,354.76,328.32,317.54,318.3,312.08,289.38,276.06,260.64,252.24,252.28,242.34,224.32,228.08,238.18,228.02,225.76,238.3,226.34,245.0,308.52,367.2,333.86,366.52,455.06,329.82,272.44,248.72,228.16,196.46,219.92,249.92,234.5,237.96,242.38,255.5,274.68,294.58,334.9,351.0,380.52,417.4,479.24,524.64,465.38,427.04,352.16,369.86,334.62,337.04,316.48,307.22,301.8,289.48,283.16,271.7,261.18,261.26,255.0,247.42,231.82,243.48,246.16,239.04,237.42,244.52,247.68,235.28,280.66,324.0,305.08,328.76,317.68,287.88,258.54,245.76,227.52,231.24,237.22,245.68,244.24,267.92,295.04,285.64,295.14,325.96,363.32,398.96,432.88,488.56,527.14,565.34,501.24,430.14,441.02,402.72,363.04,362.76,363.86,351.46,327.58,307.04,305.3,290.8,277.02,267.18,261.76,258.84,233.66,252.28,254.08,256.22,262.18,265.3,252.64,244.1,293.5,382.18,370.2,364.48,382.24,431.38,355.86,376.62,385.14,365.64,374.96,402.66,483.18,571.52,628.08,611.42,621.88,591.48,608.46,560.5,598.2,608.68,600.48,629.68,550.34,473.0,491.46,443.7,406.5,398.74,377.9,347.68,333.0,325.08,296.0,292.7,289.34,277.26,276.0,274.26,249.82,271.86,283.8,268.02,263.92,287.82,287.06,297.98,360.46,436.54,460.2,466.3,442.18,371.8,312.78,284.38,278.14,270.76,285.82,305.58,310.56,306.52,313.82,324.04,345.16,398.7,364.0,367.3,395.16,421.52,450.18,496.4,437.62,449.78,466.82,430.34,412.9,402.62,365.32,372.26,342.82,320.96,289.18,273.44,278.94,270.8,260.64,252.04,242.64,257.06,261.04,259.1,250.94,262.0,258.0,260.92,323.08,330.9,342.98,344.96,357.04,325.16,294.14,301.76,288.54,288.88,277.28,280.46,278.06,298.3,303.18,328.94,348.42,374.24,394.46,453.5,436.28,461.74,503.44,556.02,488.24,430.22,436.82,408.12,379.36,368.48,355.08,331.02,331.38,306.14,285.96,285.54,272.3,263.58,259.58,253.02,228.28,242.66,251.6,249.64,253.32,258.76,253.48,264.02,314.68,385.9,344.3,331.02,340.88,317.92,289.66,261.24,159.2,245.42,241.02,280.82,286.92,314.18,313.58,327.62,343.44,366.26,384.36,411.36,441.64,491.14,515.54,577.36,511.2,462.94,458.02,441.82,404.76,415.72,408.54,391.66,361.8,336.5,322.86,314.7,304.02,292.34,289.94,274.54,237.08,249.76,258.5,262.16,257.04,265.44,256.96,279.66,336.62,418.1,385.06,376.74,427.12,377.48,299.86,278.8,236.58,249.24,233.22,252.52,275.8,277.84,296.1,297.5,298.84,319.1,348.3,383.18,416.5,467.42,496.36,532.22,466.72,438.06,446.98,411.36,386.58,386.78,378.24,362.34,357.1,312.38,321.14,302.62,297.56,293.74,292.74,266.54,236.34,236.18,241.8,240.2,249.7,251.64,249.08,244.9,313.22,364.86,338.8,347.96,382.44,356.64,309.46,295.22,273.54,284.72,276.58,263.52,269.88,264.9,263.4,278.4,279.26,297.0,340.92,370.56,399.04,457.52,514.3,582.54,528.66,476.98,464.76,430.64,386.4,373.12,363.36,346.92,350.26,330.76,329.48,304.12,309.96,297.44,290.56,268.08,232.78,244.7,260.36,252.46,247.4,254.56,248.22,263.66,297.78,361.68,346.26,312.7,413.02,297.9,295.62,261.82,255.74,264.2,272.38,269.54,274.72,275.94,276.8,282.12,272.82,298.88,320.06,347.2,391.0,433.82,473.96,541.48,489.9,437.18,433.96,415.76,387.52,367.86,362.9,351.3,335.66,321.86,313.38,310.9,308.98,295.32,277.62,263.42,234.96,235.24,246.52,246.18,245.68,249.76,248.08,250.62,299.84,356.58,343.82,348.44,401.7,355.16,318.02,306.26,281.2,285.78,280.44,272.22,266.1,263.02,318.7,404.16,323.66,326.28,346.14,380.62,429.5,479.24,534.42,586.24,530.0,475.18,461.02,410.94,373.92,360.74,363.3,355.32,340.16,328.98,317.6,303.66,298.88,298.8,284.26,271.4,232.72,234.14,244.14,252.92,238.24,243.96,241.34,255.6,300.08,361.8,324.44,344.28,383.24,334.36,313.42,286.82,264.84,275.2,279.62,278.66,275.66,294.92,299.66,296.98,294.06,319.38,335.8,384.06,415.5,447.62,473.46,512.4,491.18,442.02,437.82,420.24,381.86,398.34,377.56,349.44,342.68,333.04,319.4,322.34,307.18,290.18,292.02,267.32,232.52,250.6,256.2,256.8,250.64,260.06,251.46,257.04,321.38,398.08,343.24,364.18,363.14,348.1,254.84,280.64,326.24,224.88,238.08,231.48,246.28,252.22,252.68,260.84,269.04,311.42,321.96,325.88,376.84,406.26,455.1,497.46,504.1,469.5,464.84,435.54,401.34,411.5,377.06,366.44,354.94,327.52,312.38,310.86,296.62,290.26,290.74,268.3,231.76,240.64,256.1,260.5,260.36,264.78,267.94,298.46,315.52,369.6,308.66,345.14,369.82,337.56,276.18,234.8,226.54,238.8,242.98,261.6,262.72,250.9,296.28,285.3,298.24,315.16,333.2,379.88,408.0,441.22,485.28,518.18,538.38,474.22,461.94,439.88,409.52,402.02,385.66,367.22,343.14,334.78,316.5,323.0,308.48,302.64,296.86,280.58,246.94,257.96,257.62,260.94,256.5,257.16,262.46,291.62,309.88,357.18,310.22,347.94,352.26,323.56,281.88,269.88,251.18,249.2,262.22,297.5,265.82,299.24,273.64,286.5,299.24,330.92,363.44,394.78,422.14,462.76,485.74,531.9,530.18,485.7,474.16,443.8,425.28,411.3,397.02,388.82,360.34,352.14,339.7,336.42,330.22,308.8,315.02,311.0,256.08,281.66,285.68,264.76,271.92,271.82,270.84,274.46,293.52,332.34,314.66,355.76,378.62,340.66,302.48,248.44,242.52,240.54,254.3,256.18,267.74,259.34,264.6,254.24,294.72,275.6,307.8,333.14,379.16,414.3,483.5,526.8,520.58,483.34,466.7,415.58,398.1,390.5,366.48,366.28,358.4,341.86,320.86,314.66,305.96,301.32,307.54,279.48,245.14,263.16,273.42,271.16,264.22,269.84,254.88,265.2,279.58,316.28,317.48,295.68,329.6,294.76,244.82,213.8,205.62,213.56,276.34,231.02,226.56,329.08,316.76,276.78,288.64,286.6,297.82,326.58,372.66,388.54,455.96,496.56,485.86,444.18,448.26,441.62,407.52,394.38,390.42,365.48,345.76,329.68,309.66,309.84,300.92,286.3,285.78,269.44,245.02,259.06,258.56,255.82,245.54,249.88,248.34,261.26,276.14,341.8,295.9,353.06,400.98,338.22,349.74,279.64,250.92,231.56,251.08,270.42,262.08,276.2,373.38,326.46,361.12,394.68,377.68,374.78,361.9,403.14,460.76,511.18,488.36,449.48,438.88,422.36,403.92,376.16,363.66,340.74,334.52,314.48,302.58,311.56,296.68,284.7,273.7,265.0,247.36,249.72,264.16,253.58,249.48,249.82,249.08,265.84,287.12,363.28,305.16,340.7,352.3,246.88,268.92,297.44,291.48,249.48,251.26,270.46,298.06,328.22,328.28,330.62,342.18,346.04,360.56,380.74,387.9,396.56,421.24,477.76,468.66,423.44,431.6,440.38,412.34,394.8,390.28,377.16,355.14,344.52,314.56,305.34,321.84,305.02,291.96,287.58,251.38,252.68,268.98,262.62,271.62,269.06,269.86,288.96,294.84,353.72,308.36,310.32,347.0,325.28,288.58,268.14,274.34,267.8,304.94,290.0,295.7,296.2,304.48,340.62,347.9,360.38,376.54,388.22,396.96,447.94,483.62,537.88,538.74,496.98,495.12,451.9,435.4,416.04,404.98,376.88,362.48,354.44,351.74,345.4,344.2,325.74,310.14,297.58,260.76,279.32,298.64,292.94,281.64,292.86,277.58,295.46,303.38,368.44,311.24,335.66,362.1,330.54,297.64,303.4,291.28,291.8,289.78,280.56,278.74,304.48,366.34,359.26,330.04,365.74,386.14,395.68,378.38,433.34,468.12,487.36,471.22,444.8,438.62,451.5,415.12,423.42,404.04,399.62,377.18,362.32,344.0,333.06,324.82,326.8,318.16,308.0,274.76,277.34,274.96,287.84,272.78,277.76,271.58,279.46,301.3,314.54,237.68,262.0,290.58,293.2,286.84,282.2,279.56,270.88,289.82,300.96,299.54,258.48,260.34,269.02,270.0,296.62,328.76,359.36,384.5,413.48,476.46,495.9,479.18,482.9,481.64,472.62,446.14,428.72,415.24,390.26,389.02,374.38,360.64,341.36,334.4,326.2,343.5,308.9,292.12,300.22,306.4,305.16,292.02,286.02,290.76,288.24,297.06,310.56,324.02,381.32,352.48,337.02,299.38,289.0,260.36,270.5,271.76,286.68,282.22,285.86,294.84,318.06,324.78,333.68,360.56,421.14,426.52,471.14,493.28,556.18,537.12,491.9,471.56,439.92,410.46,407.08,398.88,388.6,382.44,368.34,344.92,343.48,325.34,339.86,318.62,312.16,283.16,301.56,299.28,292.72,286.82,283.48,277.88,281.6,292.8,313.1,295.22,368.22,412.1,301.68,323.66,325.02,307.9,320.76,321.0,309.9,269.24,264.66,260.0,269.28,274.56,283.8,314.46,347.44,375.66,427.44,457.5,507.22,498.74,457.6,453.4,458.22,426.0,424.88,407.96,404.04,382.54,369.22,360.3,348.72,355.46,341.5,339.56,324.86,293.86,282.26,298.54,287.2,292.96,298.04,274.42,309.38,321.46,367.08,344.2,398.16,394.24,344.54,312.48,290.76,265.02,277.52,283.0,261.68,259.38,272.12,279.38,311.12,365.16,363.38,414.62,406.82,429.12,467.28,494.32,537.8,516.78,480.14,454.66,449.84,429.7,440.44,406.66,388.1,359.5,354.56,356.2,339.96,338.56,328.28,326.76,307.58,272.44,302.44,294.04,298.7,285.1,292.0,280.54,300.74,313.0,367.94,309.56,310.46,331.92,290.8,271.18,266.92,299.62,319.96,310.5,326.2,356.72,367.0,376.98,416.86,435.68,451.18,491.96,487.8,492.02,518.28,547.78,577.76,570.54,529.28,512.52,499.18,457.82,468.62,429.24,433.44,406.84,387.7,374.54,359.24,343.52,335.72,324.62,328.3,279.72,303.58,306.82,298.56,306.28,293.06,291.42,288.52,323.46,369.22,347.9,356.04,376.88,348.84,320.36,308.48,293.52,310.04,301.08,311.06,345.46,322.3,317.36,356.56,366.84,384.5,424.92,429.5,440.96,466.22,494.86,566.62,548.26,482.1,475.34,455.44,431.58,437.82,416.88,398.16,385.8,372.68,352.44,338.94,328.28,329.2,327.68,310.02,272.86,297.02,297.62,297.98,286.32,289.02,297.7,305.78,325.9,373.04,335.92,328.32,384.82,354.04,331.72,300.72,338.58,299.82,288.26,301.8,278.92,332.26,336.08,314.18,335.92,338.56,362.82,379.46,439.86,466.42,500.12,553.16,503.5,482.84,466.28,463.82,429.62,427.8,406.16,386.3,372.9,357.56,337.46,321.86,320.46,320.98,305.62,293.84,264.54,274.84,288.3,281.82,268.7,272.98,273.76,282.22,309.9,342.22,317.56,326.24,354.0,317.8,282.64,278.08,251.54,249.68,236.0,253.64,245.92,256.46,256.04,260.48,280.64,291.9,312.62,345.02,380.88,414.94,449.6,501.76,514.36,452.14,485.44,454.34,428.08,424.82,412.74,404.88,386.18,372.16,352.92,346.44,345.96,333.56,326.22,307.14,278.96,298.9,303.1,292.56,291.62,290.0,273.0,299.7,311.48,362.36,318.58,357.76,367.74,337.96,304.86,293.56,258.38,269.56,290.54,268.98,282.56,274.22,308.62,286.2,304.28,311.7,326.04,349.56,376.16,440.0,477.56,546.52,532.72,390.2,413.38,403.94,414.7,387.2,379.32,376.88,365.68,352.74,328.3,326.16,315.24,318.08,311.12,291.38,269.18,276.48,296.1,286.1,280.18,270.74,258.0,268.34,273.6,328.98,265.38,193.14,167.66,190.04,264.18,311.74,259.68,257.08,249.34,255.52,276.94,258.44,284.44,281.06,272.02,286.3,368.22,342.38,387.06,439.62,449.78,508.32,506.34,456.22,447.74,435.58,418.24,428.38,410.4,394.3,373.22,351.08,355.66,346.48,333.92,322.68,309.74,296.84,278.16,279.84,281.72,289.26,284.32,288.96,280.92,300.98,313.22,370.74,329.56,333.08,375.46,362.94,321.28,304.92,276.52,275.92,300.66,281.46,303.66,305.16,315.36,336.82,259.1,310.1,349.38,349.3,388.58,462.3,491.12,529.12,516.68,469.16,480.02,442.04,424.04,422.58,384.36,384.92,361.18,345.3,347.86,317.14,323.52,308.6,306.46,291.36,256.84,274.66,291.1,285.26,278.18,267.18,280.74,284.46,311.52,361.02,302.98,304.24,371.36,283.6,258.32,233.62,219.96,222.9,248.72,256.7,269.4,264.26,283.26,288.72,303.58,316.58,345.82,354.38,383.14,421.1,466.54,516.42,505.7,452.36,455.44,439.74,421.04,412.4,396.62,389.72,364.84,354.5,335.96,330.26,307.96,304.76,304.46,273.76,251.12,268.58,275.38,278.8,266.3,260.86,269.24,270.02,293.62,302.72,266.26,273.84,311.52,298.06,261.46,247.1,222.72,217.6,213.66,211.18,213.52,262.04,235.6,255.14,287.2,333.42,362.88,377.74,401.02,443.5,477.86,523.02,512.42,452.2,459.46,463.38,421.62,430.34,409.72,399.34,381.5,359.72,344.56,341.08,337.1,313.74,318.02,298.44,274.26,282.3,296.1,289.16,286.4,286.32,294.48,330.48,309.7,340.96,303.6,323.4,339.72,307.36,281.26,262.86,264.48,259.58,264.9,276.2,295.9,302.46,306.4,321.9,311.22,337.58,364.46,377.74,405.04,433.6,462.66,505.32,516.34,459.96,469.36,464.86,436.02,408.68,396.22,368.56,360.88,347.26,342.14,321.4,314.26,312.12,303.52,288.5,264.18,283.1,281.42,281.1,266.28,266.26,265.24,273.18,277.06,347.06,308.18,311.64,332.4,317.24,288.7,269.54,260.32,249.66,214.38,268.22,274.34,262.62,252.38,256.24,268.22,268.48,303.7,338.8,333.9,392.26,422.82,476.3,507.08,474.74,460.08,453.42,429.58,429.04,419.08,393.1,393.66,376.22,354.34,345.3,333.58,332.26,327.48,298.3,273.68,289.26,299.18,294.28,292.5,288.08,283.02,286.58,278.4,286.4,270.78,312.5,350.3,307.44,296.48,259.66,231.86,222.22,210.96,209.52,203.6,211.62,209.26,241.82,235.08,271.08,299.74,312.52,342.06,379.86,421.2,471.74,505.7,452.08,428.4,418.76,385.2,382.78,369.88,362.42,357.46,333.14,325.7,312.62,315.18,306.24,307.44,283.44,264.12,284.9,281.64,282.8,269.86,258.4,256.08,263.72,238.66,276.34,230.1,249.5,269.34,245.42,209.96,203.04,191.68,195.36,192.48,194.04,197.56,203.56,207.02,221.26,232.24,263.48,291.18,312.8,357.08,403.06,442.62,482.78,499.86,439.84,445.26,433.86,415.22,422.14,425.52,398.34,381.08,365.14,355.06,346.58,328.62,318.42,300.9,294.24,268.2,278.48,282.1,280.42,273.16,276.44,268.24,291.86,262.32,322.74,284.72,294.38,332.02,306.3,281.1,255.94,248.38,237.78,237.22,250.46,251.76,245.78,269.96,319.76,281.62,341.9,354.14,349.28,369.34,426.48,451.94,478.74,493.22,453.78,451.58,441.94,430.5,412.84,404.04,387.64,373.52,363.72,349.6,328.64,313.82,313.22,307.72,289.18,274.38,288.2,285.08,286.0,279.46,269.68,268.14,273.1,261.5,314.34,267.64,246.6,312.16,328.3,262.14,270.64,238.02,208.34,210.1,211.4,192.78,200.06,226.8,259.52,262.14,284.72,288.54,312.14,322.24,387.14,424.34,448.02,475.58,436.44,439.4,432.32,403.3,383.86,375.24,365.5,343.52,332.12,329.4,317.78,300.84,297.96,292.9,285.06,257.78,270.9,277.18,275.84,270.04,274.98,265.98,279.88,316.02,402.14,371.82,372.44,405.38,370.4,318.36,308.78,276.12,310.06,307.78,272.96,253.94,278.44,291.7,292.92,301.08,315.48,348.44,365.56,394.48,429.14,468.86,524.34,471.72,438.12,425.86,421.0,400.46,396.68,377.36,350.98,345.52,323.24,310.14,307.4,296.1,285.0,278.8,268.04,262.84,276.02,285.9,280.6,283.28,279.88,264.18,286.84,333.64,384.7,331.6,365.86,376.68,398.8,300.66,359.0,351.66,351.54,299.16,271.62,291.96,298.96,319.86,337.08,322.94,337.12,365.2,407.62,438.28,485.86,501.84,546.38,484.64,447.54,441.44,434.68,420.54,420.78,402.74,389.64,368.38,358.26,341.38,336.0,318.2,309.94,302.4,281.82,258.26,274.74,282.04,277.38,271.34,274.46,263.7,286.32,332.98,374.9,403.16,431.44,345.78,358.48,384.52,287.92,300.0,320.46,353.74,338.18,343.0,317.54,326.58,303.2,309.32,303.46,323.62,325.74,356.94,387.56,445.78,484.16,505.02,449.12,446.92,418.3,409.22,400.42,392.22,369.3,352.56,345.66,332.72,313.42,310.74,303.08,302.5,285.5,243.8,270.22,274.04,269.64,264.08,259.5,254.7,278.66,300.06,320.5,282.02,283.52,350.16,295.98,269.7,245.74,237.88,244.94,215.04,228.92,243.72,227.48,235.34,240.36,263.56,268.54,303.8,316.7,362.04,420.2,465.72,528.08,519.54,457.06,448.3,436.76,418.82,399.6,401.04,392.78,361.42,348.64,347.88,342.34,339.46,313.22,310.9,294.96,261.04,279.84,280.68,271.8,268.58,266.0,264.12,271.32,252.76,297.88,290.28,311.6,396.72,314.96,253.16,298.52,219.38,238.58,231.12,258.18,268.52,248.34,269.0,288.12,280.76,323.42,300.88,329.82,365.92,411.78,414.78,488.44,486.52,429.82,435.34,435.1,425.06,409.1,403.02,384.28,370.06,358.48,346.58,335.12,326.32,309.66,308.9,293.38,251.24,269.82,277.12,276.42,264.76,259.92,259.58,281.84,287.42,341.22,293.26,326.94,378.48,330.8,283.56,289.74,275.34,293.06,260.84,265.86,285.04,292.42,321.56,317.1,332.56,331.02,335.76,375.2,388.46,426.16,455.72,493.88,490.36,446.64,468.28,463.5,440.96,431.4,424.42,401.22,377.28,366.7,364.72,363.06,336.28,319.44,310.38,292.32,254.84,268.96,279.48,275.86,276.94,277.1,275.38,299.92,310.26,378.84,323.32,330.7,342.42,311.48,329.56,299.58,302.46,310.22,321.26,329.72,360.12,371.76,388.4,402.16,381.88,393.28,413.22,406.2,430.56,480.9,521.68,570.44,536.54,481.92,472.8,443.06,449.92,433.36,416.46,393.68,395.66,376.86,353.26,353.32,345.82,333.24,317.08,299.3,257.82,278.26,286.02,285.5,274.18,274.46,283.0,300.52,344.44,394.2,397.34,381.18,451.86,410.74,375.66,312.86,341.08,333.54,372.48,348.84,362.04,385.62,398.84,406.7,411.18,429.4,460.92,475.12,478.4,515.5,551.26,594.32,534.0,508.26,498.34,481.58,445.24,432.54,429.7,410.8,382.64,379.56,365.02,358.82,347.24,336.0,333.36,309.74,272.26,296.62,311.38,305.3,298.52,295.72,296.54,301.16,349.16,424.74,404.0,413.5,544.54,372.12,369.22,385.46,390.44,321.46,346.84,336.0,387.56,432.76,436.74,392.12,385.66,396.84,416.7,433.4,442.56,481.9,529.64,573.72,522.2,474.66,461.78,443.34,442.2,441.52,448.84,391.56,383.76,377.1,363.78,344.8,330.86,323.7,319.92,299.96,263.96,279.18,290.96,293.96,281.4,294.3,283.1,300.52,336.42,405.74,343.66,381.98,435.42,404.78,361.42,312.9,320.5,321.14,323.12,306.78,357.5,356.9,383.26,396.64,403.8,415.52,433.98,430.12,419.86,459.54,505.58,564.38,496.72,490.5,492.84,468.3,448.3,431.64,423.3,419.7,395.3,383.14,371.3,352.06,332.8,339.46,328.0,310.38,274.46,290.02,291.46,295.44,290.24,296.0,282.96,290.36,348.26,367.74,308.74,314.98,369.58,335.72,309.22,306.1,301.86,295.12,290.62,314.64,322.36,323.16,321.82,321.96,354.44,364.7,400.94,416.96,452.76,501.06,540.54,578.48,542.54,511.64,494.9,466.08,453.32,451.14,431.86,418.72,415.96,401.7,373.84,365.34,354.22,352.08,344.52,326.62,296.68,309.4,322.48,325.82,313.86,312.96,311.72,313.72,350.14,355.8,328.0,352.58,392.18,337.98,318.26,295.96,295.56,310.96,291.02,311.52,310.58,325.4,328.2,343.02,358.38,362.3,396.66,435.44,466.14,502.54,523.48,569.28,506.62,496.14,491.18,489.72,483.02,476.88,459.12,442.86,414.74,401.3,382.54,378.66,366.46,358.34,349.86,339.26,300.66,311.9,311.76,332.72,331.28,328.26,330.42,325.02,373.22,368.9,353.06,337.72,409.88,352.98,323.56,310.16,315.4,311.14,327.66,339.76,371.6,370.04,383.46,414.76,417.6,440.36,485.1,489.06,505.5,521.16,576.98,604.26,539.66,545.18,554.62,529.3,508.7,500.44,472.98,457.14,423.94,403.8,392.48,376.32,357.48,353.34,353.56,332.64,297.12,317.12,323.08,327.78,316.0,317.94,310.5,328.0,379.9,373.42,337.98,348.52,385.62,367.34,346.58,342.76,336.08,314.0,312.28,347.58,357.74,326.46,333.64,349.34,341.98,384.62,376.56,449.48,471.56,512.7,550.86,560.22,520.3,557.5,559.1,534.2,496.74,507.22,484.64,461.26,440.62,412.54,379.28,371.36,365.68,349.6,343.46,336.56,303.42,320.6,326.58,330.16,315.6,318.58,312.46,330.08,357.46,369.04,333.9,346.42,402.02,361.8,330.56,311.66,324.5,309.32,320.92,328.5,328.88,369.12,382.18,391.46,407.18,419.7,447.1,443.72,456.04,512.34,542.22,590.68,548.84,554.78,562.7,539.26,515.52,517.76,499.28,477.14,449.94,413.94,410.8,386.32,373.08,364.52,369.72,346.42,318.66,321.92,325.94,323.48,317.86,320.94,319.28,339.46,363.98,395.12,358.9,370.96,398.56,361.56,341.44,325.96,335.0,340.12,345.52,367.46,400.82,407.82,406.54,407.96,391.82,450.16,470.04,464.42,446.96,526.08,559.3,598.36,553.74,553.54,565.18,546.56,543.8,536.04,516.74,432.0,462.14,444.88,428.9,396.42,394.3,381.28,378.68,358.64,323.52,338.98,341.26,347.3,337.1,343.96,339.34,345.12,384.18,412.1,394.16,429.28,453.64,405.64,385.08,363.84,350.72,345.68,352.48,376.54,425.18,446.06,448.06,454.56,457.08,459.96,472.0,502.32,511.82,553.78,592.62,613.92,542.98,565.36,567.6,554.96,534.68,521.0,500.04,476.1,446.26,411.82,389.42,378.26,362.12,360.54,359.24,346.68,317.9,335.78,326.68,330.2,313.34,328.0,313.78,320.3,366.0,360.68,330.44,365.66,400.02,384.86,368.3,359.7,362.52,368.22,374.68,399.44,414.3,404.16,414.64,434.88,444.8,463.06,477.34,496.72,528.3,568.3,592.46,650.1,592.66,582.58,561.82,523.32,505.52,500.12,500.62,464.88,444.34,436.28,411.1,385.38,383.44,360.72,360.74,344.2,319.54,323.46,319.92,324.7,302.36,313.26,306.16,306.18,354.06,343.8,309.74,347.1,384.54,370.1,346.88,358.0,361.94,364.12,369.88,387.28,379.92,398.54,398.92,414.6,422.14,439.72,449.52,491.3,496.56,526.84,559.5,602.5,556.96,567.32,574.52,540.92,531.6,514.72,506.82,487.76,465.32,426.38,417.98,402.82,386.44,380.04,376.54,357.38,337.0,322.72,330.24,320.9,324.98,331.72,321.62,329.04,389.34,428.12,382.14,456.68,491.96,459.14,411.72,407.54,401.06,445.7,405.82,403.06,395.66,408.12,441.98,434.4,466.86,457.78,468.96,433.42,462.48,526.08,538.6,578.06,527.98,531.66,523.7,533.62,505.14,505.64,483.0,457.7,438.04,402.0,391.02,377.82,373.88,347.36,359.52,337.58,313.0,325.88,335.24,327.86,316.08,331.4,322.58,320.98,373.1,397.96,372.72,422.84,505.16,496.04,430.26,393.24,380.44,304.72,393.46,317.86,301.06,308.22,288.12,296.24,310.64,332.26,371.1,395.0,397.82,476.1,494.22,552.38,513.92,528.38,524.42,488.68,463.3,464.12,435.16,418.86,397.4,387.96,373.64,347.82,340.2,358.58,359.04,345.62,331.86,348.2,349.3,356.66,350.12,358.78,340.9,349.32,418.14,406.38,370.14,412.52,451.06,391.98,391.94,391.76,382.12,440.86,442.44,294.28,283.2,314.32,316.46,326.22,327.0,346.4,379.96,403.32,434.84,482.84,521.74,558.1,519.78,527.04,538.34,482.5,463.92,451.98,424.6,420.86,400.64,385.08,346.04,331.68,326.72,331.94,341.12,330.42,329.52,331.28,344.64,339.32,333.16,346.58,344.52,349.88,407.56,396.46,356.76,389.76,366.38,333.54,310.78,294.18,268.86,271.22,269.52,281.72,292.26,341.1,318.08,325.52,387.46,399.94,426.86,441.76,462.98,509.06,551.86,588.06,544.5,559.26,557.6,505.72,477.04,456.02,449.12,414.3,413.64,384.18,361.2,352.34,324.9,341.36,351.24,346.42,343.68,354.16,363.04,352.28,351.78,349.98,339.14,353.82,422.34,415.08,382.74,382.62,394.04,341.96,313.38,305.06,298.54,297.48,291.92,304.94,325.96,283.5,324.66,314.32,332.5,370.24,413.84,408.8,391.36,469.94,501.84,523.86,489.56,491.68,503.16,496.58,461.78,462.76,440.38,424.42,402.44,381.32,366.22,354.46,331.48,356.96,361.68,353.02,348.1,353.06,357.74,349.92,344.94,342.72,332.64,335.32,386.4,372.72,348.88,350.86,392.7,332.04,297.54,270.32,256.44,249.7,251.06,251.72,263.98,253.9,258.24,264.28,293.8,324.96,347.28,380.14,414.98,472.68,499.12,552.86,504.72,510.96,501.52,478.0,467.02,461.64,449.08,444.8,416.62,396.28,385.04,356.74,345.0,360.5,367.38,357.46,350.02,350.86,357.16,354.3,356.3,361.56,345.58,335.96,387.62,374.14,361.66,363.56,456.92,361.92,306.32,352.08,340.5,332.8,383.26,302.76,285.66,252.96,271.72,314.06,314.04,360.8,389.06,377.52,442.2,476.2,510.84,553.34,503.36,494.96,514.88,494.12,474.6,485.58,471.76,464.54,435.32,415.38,402.08,379.98,376.18,382.08,387.32,371.28,368.64,372.2,375.92,360.34,370.42,364.44,365.48,367.66,416.3,441.42,417.02,435.86,485.38,416.24,392.94,387.32,349.72,350.88,355.32,395.42,370.92,311.46,328.9,333.92,333.68,386.38,358.48,404.44,449.04,441.82,481.36,513.98,478.92,491.92,495.54,505.4,503.62,506.24,486.42,472.46,443.42,424.86,404.54,379.28,360.7,420.18,440.06,429.52,418.3,433.4,423.56,418.68,418.74,425.42,436.42,426.76,493.7,502.42,493.74,499.1,492.7,418.66,376.02,369.5,353.14,340.68,332.92,328.6,347.74,307.6,333.46,307.6,313.32,318.82,359.76,362.04,391.54,444.48,473.56,506.5,462.6,480.78,492.88,510.32,512.64,500.28,493.46,475.68,454.36,419.38,393.88,371.76,353.94,414.3,438.08,421.5,416.52,422.88,429.56,426.86,413.66,427.08,414.9,409.52,483.7,485.3,461.38,453.7,472.4,415.5,378.54,356.76,353.36,304.2,347.46,347.22,333.48,279.08,268.8,270.08,304.66,318.32,365.06,361.82,391.3,425.42,478.44,501.94,446.16,466.36,476.24,503.18,484.78,480.1,480.72,441.52,421.6,391.5,367.04,358.82,351.36,402.78,422.66,409.3,402.74,402.62,417.36,410.86,401.3,414.16,393.02,393.58,451.02,437.44,398.84,391.42,383.16,351.0,329.74,301.36,299.16,296.78,301.54,293.66,318.14,259.26,294.58,276.54,277.12,281.66,365.92,362.34,371.8,428.8,447.88,486.96,463.18,470.68,483.28,487.18,484.1,485.52,463.56,446.4,431.16,418.5,394.2,367.98,362.22,408.78,435.36,421.74,414.68,426.94,426.68,427.0,412.26,420.0,406.5,402.66,451.8,440.34,425.06,450.46,406.1,377.4,356.88,346.4,290.18,303.54,339.02,314.26,293.2,230.36,201.62,231.94,247.6,270.06,310.34,343.28,355.62,409.64,451.88,486.68,454.66,448.06,463.36,481.16,468.8,463.02,446.78,434.52,397.26,372.44,360.42,351.52,334.66,381.02,406.56,409.4,390.7,390.7,406.08,407.92,413.88,419.32,408.24,404.36,453.2,454.12,453.26,406.08,410.06,377.3,318.56,312.78,309.6,332.04,327.66,332.64,332.22,280.42,245.62,273.58,274.08,308.46,348.36,373.06,384.8,436.06,504.2,552.54,502.98,516.12,494.72,487.28,479.26,466.92,461.22,456.1,417.62,416.1,402.22,375.56,376.8,432.9,449.68,439.14,428.58,425.58,431.02,430.4,415.58,427.26,409.48,404.02,433.82,418.58,407.94,381.94,373.92,342.0,303.5,319.4,291.9,290.92,286.6,300.6,303.66,256.04,228.44,246.32,255.74,301.16,326.36,374.46,381.9,459.3,467.78,494.12,471.26,471.96,475.74,486.32,489.6,490.16,481.64,463.28,420.98,391.02,384.84,379.54,364.8,409.1,434.6,428.02,415.92,422.22,416.72,411.44,409.04,419.78,408.62,416.34,452.0,472.64,439.38,426.3,445.76,438.24,400.7,387.12,373.28,379.66,376.62,381.22,396.8,342.48,314.32,352.16,350.34,398.62,406.32,433.44,443.0,492.1,512.02,560.08,541.12,540.6,560.28,563.38,571.7,549.58,532.04,507.42,471.86,447.22,434.56,407.74,389.78,441.28,463.26,447.1,409.28,416.42,426.24,414.78,410.9,416.94,401.42,399.38,443.34,461.84,422.6,424.06,443.36,407.52,394.34,412.0,401.78,376.56,381.5,376.46,410.16,343.94,344.34,343.3,359.82,391.16,426.86,409.7,437.18,508.74,534.92,561.3,524.88,540.14,553.74,573.26,569.72,566.98,563.48,512.24,502.38,464.9,455.58,447.62,431.96,481.66,499.2,482.12,442.42,448.86,448.34,458.42,437.72,445.9,423.64,414.16,438.28,380.28,377.1,395.5,404.14,360.3,368.72,332.26,388.44,405.2,347.16,318.9,399.28,352.96,346.96,377.9,402.6,413.88,467.64,436.0,450.36,477.44,463.74,388.24,453.62,451.4,480.3,518.74,508.96,486.24,464.4,442.88,451.98,447.52,426.9,417.06,408.2,439.52,463.34,439.52,431.96,418.12,430.52,427.7,424.18,424.8,416.02,423.34,478.04,488.14,439.62,470.32,466.06,360.68,294.34,317.04,296.14,273.74,273.1,325.12,337.4,262.42,256.7,270.94,259.26,293.2,306.88,358.04,363.68,408.12,468.18,530.14,506.34,524.16,536.32,551.2,537.22,528.28,520.8,495.38,474.38,464.56,436.08,413.2,394.08,450.9,472.72,448.1,412.98,426.36,432.32,432.26,429.42,429.96,422.78,410.16,454.94,478.08,434.38,427.76,486.5,464.66,435.76,354.32,399.68,376.34,363.72,439.86,403.78,353.18,432.38,410.76,337.24,367.6,434.88,417.02,466.12,473.56,487.2,531.6,497.42,506.5,521.84,538.2,538.86,510.66,516.5,485.34,471.36,455.54,422.38,417.04,413.02,445.42,473.82,450.48,416.1,432.06,430.06,437.24,425.66,425.5,405.92,408.24,453.06,458.08,439.9,435.02,485.34,423.22,467.3,434.16,379.66,401.28,381.22,391.66,371.26,369.24,369.2,365.26,342.36,394.68,411.44,401.58,439.98,484.08,506.12,549.16,498.8,500.96,496.56,505.56,505.82,508.5,498.34,501.9,465.96,449.52,421.52,415.28,401.26,467.02,475.22,467.76,431.88,433.22,433.84,448.44,425.64,434.22,415.38,412.84,461.84,472.08,463.82,467.56,530.7,544.5,428.38,498.24,478.88,387.46,461.84,412.42,411.22,404.74,330.78,319.84,362.34,349.36,371.7,447.9,502.5,522.58,514.48,569.36,507.74,502.58,528.0,533.14,548.56,544.94,536.54,507.68,498.22,466.7,456.98,441.74,428.46,464.22,487.98,466.64,417.72,421.72,434.74,434.14,428.42,430.54,431.18,424.62,465.14,485.3,468.98,472.36,518.82,401.64,383.62,414.74,459.66,389.6,344.0,507.54,466.02,483.4,377.58,423.28,478.08,513.76,514.2,459.22,456.52,490.04,535.5,555.56,493.82,527.14,535.98,541.92,545.64,532.8,526.86,508.52,479.4,463.62,448.36,417.92,416.22,461.62,481.78,458.38,412.68,487.28,520.92,521.68,506.8,508.52,509.76,510.44,561.92,569.9,546.08,570.56,573.14,533.1,498.94,469.3,456.26,464.94,465.32,479.76,453.8,349.12,340.7,418.0,366.82,419.28,403.0,436.22,443.96,474.92,510.3,536.58,468.4,501.68,529.2,524.42,549.16,547.72,527.84,509.62,473.88,448.36,423.92,402.58,401.76,445.32,457.22,443.2,410.4,443.22,474.24,472.44,465.42,459.84,462.16,456.26,476.68,484.24,493.42,487.64,518.82,445.24,425.78,413.9,406.12,426.78,391.16,411.48,417.12,389.38,369.74,399.24,433.2,452.58,451.08,468.92,473.26,518.38,545.56,575.56,502.06,531.04,535.36,523.68,546.92,546.48,539.44,508.94,484.8,475.74,437.28,419.5,409.92,439.68,474.36,452.7,416.44,452.78,467.78,469.3,462.48,458.3,460.78,462.06,503.02,524.04,512.42,528.4,541.86,471.94,473.84,421.76,389.74,383.0,462.38,480.4,418.66,323.54,337.44,342.54,402.18,398.06,439.54,456.94,470.4,511.42,535.12,569.02,516.46,556.62,587.02,596.38,596.46,562.7,548.46,532.2,507.28,485.2,446.36,436.72,421.64,473.12,488.44,469.54,421.7,430.08,448.96,452.08,433.68,442.42,426.62,429.82,484.26,528.66,508.98,506.88,579.6,531.92,493.98,496.84,487.48,510.44,473.22,445.66,452.14,393.92,372.62,427.76,440.74,425.74,441.94,471.0,483.52,507.54,540.76,567.9,529.7,544.16,560.1,570.98,555.4,548.52,532.44,509.26,493.14,471.24,436.78,429.64,430.9,480.06,497.64,473.68,435.68,468.24,485.38,494.68,479.56,470.66,458.36,460.94,511.3,511.9,484.92,468.76,495.24,481.62,438.06,415.28,437.28,442.12,426.44,432.3,443.44,397.32,357.78,362.16,363.3,392.6,403.4,435.82,471.16,511.56,539.42,565.94,511.76,515.92,507.1,510.18,507.34,497.48,501.14,487.48,496.0,486.56,463.98,437.34,422.1,475.78,475.72,465.54,419.56,450.02,471.4,474.76,458.1,460.84,443.68,445.5,487.12,499.82,473.4,445.18,445.06,430.88,398.88,379.64,388.38,386.08,380.82,376.12,381.82,331.74,304.92,327.24,346.08,341.58,373.72,409.56,437.98,487.96,531.94,565.02,507.06,526.64,515.78,535.34,540.9,537.42,524.24,493.86,468.0,449.82,448.04,427.24,433.78,460.84,501.74,466.22,424.5,443.1,467.84,482.48,466.72,479.7,456.28,463.58,521.66,541.62,493.48,483.24,528.84,496.78,465.34,446.18,440.72,438.82,447.02,445.06,468.62,389.28,363.08,399.26,418.38,434.28,436.5,454.56,472.32,510.3,517.96,559.96,526.34,532.0,544.32,557.08,549.96,524.16,529.28,506.94,480.8,454.9,434.28,405.8,396.84,450.54,474.9,461.2,424.98,464.12,470.38,475.36,464.28,465.06,457.66,458.22,502.96,524.1,508.32,485.42,507.08,451.16,442.5,433.5,430.94,424.6,423.18,411.94,422.6,361.78,346.88,373.62,401.3,387.92,394.04,449.2,462.04,499.62,539.52,579.24,517.86,544.12,558.28,567.58,554.74,553.1,519.7,501.04,482.3,469.4,444.24,419.28,420.24,456.46,474.16,462.64,433.38,453.84,479.56,484.26,470.32,472.1,457.78,455.16,494.44,509.58,489.4,493.34,551.56,482.84,444.72,434.48,432.88,442.12,436.0,435.06,427.56,418.46,383.8,412.68,430.46,431.0,466.88,456.58,476.08,523.96,552.88,569.76,510.24,525.78,530.76,547.8,537.82,532.2,521.78,507.96,479.06,470.04,474.64,435.16,423.46,466.58,479.4,464.34,430.84,460.98,474.22,476.36,469.26,474.38,458.54,456.16,494.12,502.78,480.64,457.26,464.0,415.24,393.98,384.9,386.1,390.62,374.7,441.62,434.6,356.86,335.88,358.08,373.32,389.52,415.96,458.78,472.32,515.64,544.96,589.74,540.96,555.12,567.1,570.86,570.76,529.26,501.7,480.46,440.44,426.12,401.9,384.1,370.12,401.64,429.0,422.9,423.5,454.48,462.5,467.92,462.04,457.46,444.02,432.32,497.56,541.46,507.84,497.54,497.78,492.6,453.86,420.14,410.52,403.04,385.38,419.18,439.48,383.12,365.66,405.82,407.4,483.04,469.9,475.18,518.42,537.92,554.96,600.14,531.78,537.36,545.44,551.48,533.5,504.54,466.02,460.34,426.4,418.0,397.28,385.58,389.16,414.96,434.1,428.14,402.32,432.18,452.32,455.26,435.58,444.64,430.22,429.28,459.74,481.32,456.72,443.26,440.12,423.98,405.8,397.26,375.7,374.88,372.86,380.42,382.62,336.7,327.84,355.18,376.16,404.42,442.58,451.22,456.0,530.02,565.38,577.46,535.0,521.4,526.3,539.72,518.98,482.64,458.12,453.84,427.24,410.74,399.54,386.94,384.14,440.72,444.62,436.26,419.16,434.78,456.94,454.9,429.56,440.1,417.92,414.18,454.24,456.36,444.6,408.7,414.24,391.82,350.32,352.22,369.0,375.54,367.66,380.24,387.84,340.74,326.02,339.24,371.8,422.5,446.24,471.32,509.9,548.44,557.12,561.52,489.48,509.94,540.58,542.76,567.12,539.28,511.48,502.5,463.32,437.44,429.72,415.94,400.08,441.76,453.66,430.02,426.7,456.5,470.72,470.62,464.26,470.28,457.04,457.54,495.78,507.02,493.56,476.66,518.92,505.92,413.8,382.9,405.78,388.78,417.22,423.82,382.24,354.28,341.08,359.4,373.34,385.86,400.98,432.52,451.04,487.42,517.7,535.26,476.68,504.48,515.42,517.02,517.8,498.02,480.9,457.44,430.08,420.74,402.5,378.24,365.16,420.32,448.32,426.08,404.04,443.64,459.72,456.38,444.5,450.02,438.52,444.6,488.66,499.6,491.14,461.78,470.82,424.78,426.56,460.12,493.82,420.78,351.4,401.18,399.9,384.8,397.9,399.64,447.56,404.26,411.02,414.7,438.06,479.68,506.54,539.1,492.02,509.3,536.4,537.48,541.74,529.74,516.78,484.02,453.74,434.26,402.62,395.08,371.16,419.62,440.38,430.2,407.98,447.64,470.68,471.8,452.72,458.78,452.68,440.92,476.66,483.98,452.06,448.04,478.92,504.04,424.26,378.92,401.22,379.88,354.32,382.36,425.76,368.08,366.36,387.7,423.16,387.66,406.28,421.98,448.02,490.24,509.76,538.06,470.42,475.18,512.0,527.58,530.66,506.3,497.06,471.1,440.36,407.76,401.86,372.2,365.0,422.0,435.36,414.14,404.38,463.64,495.62,503.4,487.08,492.44,489.54,476.5,524.72,499.82,483.78,463.18,490.2,457.82,434.44,452.86,446.46,465.28,430.4,413.62,438.18,386.18,362.7,372.74,414.0,392.68,399.32,440.74,461.7,489.64,524.68,560.56,532.04,528.14,568.06,563.34,561.62,541.74,504.36,481.92,458.42,446.52,410.62,399.02,391.9,415.94,455.78,442.54,424.58,495.28,525.6,522.3,511.42,516.36,511.94,505.28,508.86,516.16,502.2,496.1,528.34,459.4,501.2,452.86,420.4,402.38,396.72,412.1,441.48,383.8,358.9,390.72,390.46,362.42,352.38,372.62,401.94,446.14,446.84,501.52,503.48,503.06,520.82,519.04,503.5,490.28,486.48,476.76,447.64,413.56,411.12,377.16,373.16,429.96,439.5,432.94,413.48,475.92,511.52,512.78,497.58,509.26,500.16,491.32,498.12,499.16,495.32,479.52,520.42,452.22,409.2,389.26,415.36,391.74,398.3,407.88,414.94,352.62,345.88,378.62,380.34,339.44,345.98,363.3,403.08,440.08,481.82,530.86,508.3,513.04,507.62,490.76,486.88,472.74,450.08,466.84,445.78,430.78,409.28,387.36,369.6,430.54,441.42,437.32,415.4,488.96,514.22,511.4,493.18,497.84,494.52,477.2,490.78,479.0,443.74,432.64,445.36,402.94,367.8,357.4,364.34,373.7,374.12,372.56,375.32,331.64,304.8,308.96,316.08,295.86,297.38,312.32,365.22,406.46,447.9,476.6,465.98,472.28,480.58,491.28,494.34,472.36,468.44,471.9,447.06,400.94,412.5,381.9,375.78,433.72,438.94,418.2,409.18,472.34,507.96,509.68,491.34,499.34,487.22,497.22,496.34,500.38,475.44,480.72,494.18,493.7,411.14,427.56,390.16,394.82,401.06,405.68,429.84,351.08,402.26,387.9,353.42,300.98,315.12,324.72,343.1,386.16,411.28,445.56,478.18,518.08,528.0,514.02,496.18,478.48,477.2,455.44,424.94,429.72,413.3,381.24,368.16,419.9,451.32,428.6,414.98,476.48,516.08,522.54,510.82,510.34,502.16,513.18,505.06,473.68,465.1,476.16,464.68,429.78,408.24,384.48,371.6,379.16,378.38,385.52,407.58,346.86,344.22,395.28,417.36,344.54,356.46,370.34,434.06,438.2,457.78,488.9,487.28,523.56,550.5,538.12,521.88,501.94,495.62,476.72,443.44,411.88,394.94,383.92,377.46,423.1,449.9,437.4,402.5,482.1,508.62,503.56,494.82,497.4,505.3,506.44,497.12,486.64,444.34,433.62,462.2,479.1,395.04,385.46,373.74,368.1,346.3,370.76,368.0,324.56,319.92,333.38,345.32,323.22,335.16,362.92,403.78,458.44,479.38,505.9,487.96,515.58,547.96,550.82,548.54,539.28,523.98,495.38,481.38,464.36,425.92,410.18,404.28,443.72,481.42,461.34,419.62,491.5,529.06,524.08,514.18,522.82,515.1,514.14,513.9,476.24,451.54,460.52,486.76,434.84,356.32,328.82,316.94,325.4,313.7,318.52,337.9,315.14,310.86,307.44,318.1,284.24,289.52,330.24,362.02,421.04,417.02,460.08,474.62,485.5,518.36,534.08,511.24,507.22,485.42,472.54,457.34,431.24,408.94,385.72,391.34,437.24,462.0,435.6,396.0,469.52,501.58,513.42,497.5,510.1,499.12,522.76,516.92,510.46,459.0,452.32,474.48,449.14,416.16,439.7,450.64,410.84,383.26,420.52,489.82,368.6,296.08,343.66,350.02,273.84,269.2,303.98,342.56,374.32,408.1,445.24,488.72,484.72,521.48,505.58,499.92,487.56,462.12,448.58,433.26,409.18,385.66,382.8,380.42,425.02,461.16,431.62,398.56,458.84,503.0,506.6,491.7,492.96,484.08,474.96,459.46,438.46,417.24,400.72,413.74,419.02,366.28,387.62,365.72,333.48,350.86,352.44,382.86,317.96,303.44,319.08,335.1,298.12,286.94,303.92,347.1,405.12,444.78,492.2,502.48,514.76,507.82,505.84,498.1,495.52,489.74,471.16,456.86,447.52,412.42,400.08,394.62,434.9,474.3,456.02,417.54,476.62,509.96,507.7,491.16,491.1,488.32,478.02,471.56,446.62,434.82,405.54,451.96,388.86,351.04,337.14,333.24,350.86,368.82,366.16,374.9,337.12,304.08,315.1,342.9,309.04,313.76,341.86,377.44,416.64,428.62,462.9,488.24,500.04,518.3,528.54,512.98,519.38,514.3,497.0,483.74,467.56,440.3,427.86,417.9,476.54,490.1,464.0,426.3,490.78,512.6,517.06,514.36,525.28,517.7,501.78,497.64,492.56,482.58,463.2,529.78,517.74,414.46,401.06,399.36,437.38,402.8,402.44,419.44,378.28,377.08,374.6,364.74,334.78,377.74,381.3,379.86,414.1,448.4,470.16,498.2,537.92,578.14,567.32,557.58,536.3,532.12,507.34,489.42,454.8,445.74,418.06,403.04,455.16,481.48,459.82,420.1,493.6,522.36,518.08,512.04,516.06,508.88,505.24,482.0,455.04,431.4,402.46,442.22,411.32,380.16,383.54,305.86,304.08,311.34,330.22,374.1,301.74,288.0,312.58,306.14,325.98,281.34,295.74,343.52,361.36,395.36,431.58,469.72,504.4,515.24,517.2,510.5,504.7,497.76,485.16,475.2,451.36,433.6,405.9,400.84,452.18,472.12,447.86,413.6,481.36,517.38,514.58,505.42,511.9,501.74,492.92,469.5,434.8,400.08,348.22,374.7,345.38,297.74,276.16,308.66,310.22,311.76,338.2,336.78,275.46,274.08,285.76,294.02,253.16,267.68,276.32,331.92,349.78,394.5,446.22,482.4,526.94,544.72,540.28,528.28,520.24,514.72,476.38,459.2,431.98,421.12,402.94,396.76,430.82,458.64,440.84,411.92,482.58,523.88,519.24,504.36,507.8,506.14,508.7,493.98,447.46,409.08,384.22,427.48,354.24,329.66,320.14,307.74,329.76,329.26,348.5,364.1,319.94,279.92,334.04,337.54,364.1,375.86,336.16,366.54,412.3,435.74,474.9,514.02,536.32,562.84,547.64,544.86,534.32,535.78,492.28,484.64,453.88,431.14,418.58,407.02,463.6,484.96,460.5,422.96,494.72,525.34,530.0,513.48,524.04,523.5,508.18,482.22,465.24,413.2,411.58,424.38,392.06,349.9,329.34,328.26,333.66,323.58,333.76,380.16,332.68,315.46,319.14,333.84,306.92,297.04,331.56,363.92,418.14,450.12,475.14,488.98,534.66,541.84,524.3,520.84,530.0,512.04,499.56,484.62,456.34,433.74,422.12,416.08,460.4,484.84,471.24,438.48,487.44,525.34,522.2,506.52,509.64,514.14,498.8,482.56,460.84,419.48,395.28,445.32,385.46,375.38,357.48,351.6,352.7,363.9,358.48,383.04,349.1,307.04,338.66,347.58,302.38,318.9,373.28,393.08,431.54,454.58,485.34,514.16,534.9,519.76,506.88,487.22,493.76,477.8,489.24,483.6,454.3,435.94,424.08,408.4,468.84,490.9,473.1,432.28,500.44,543.28,531.86,514.84,516.6,509.0,491.0,473.78,452.02,410.1,380.2,406.78,370.68,348.56,330.3,342.14,352.06,335.5,348.0,349.2,303.2,285.3,299.42,329.02,292.14,296.74,326.32,355.2,391.52,425.22,448.82,481.46,507.8,530.28,529.96,522.66,523.24,499.94,498.62,477.84,454.34,444.5,429.48,405.66,455.98,474.94,455.88,424.24,494.04,511.9,530.08,512.62,517.72,518.94,515.46,497.12,500.42,476.72,426.06,429.68,425.58,365.14,337.02,351.48,332.26,361.36,363.22,390.18,347.06,314.78,318.3,318.92,280.56,287.1,331.74,358.54,418.38,430.18,467.3,488.44,539.2,553.28,547.66,535.6,504.64,478.72,469.74,428.44,411.56,392.32,378.54,371.98,409.8,438.8,435.74,435.4,517.5,542.64,549.58,534.28,545.26,550.28,541.76,520.12,486.14,458.32,437.0,458.14,423.94,386.62,379.28,371.64,364.9,384.64,402.9,426.1,385.9,348.34,361.08,383.0,340.56,324.66,340.46,390.58,441.98,455.18,488.76,500.86,529.4,549.84,556.14,520.8,500.9,483.0,476.68,434.36,411.92,385.08,388.38,368.28,404.8,433.76,423.48,435.18,512.72,551.44,547.64,533.78,535.42,539.58,532.58,510.8,494.32,441.26,417.96,423.3,394.36,371.32,345.96,351.54,351.7,358.84,387.12,463.2,420.56,398.3,331.92,357.4,315.8,290.6,346.36,343.8,380.84,423.68,468.22,488.4,539.76,553.18,537.3,513.38,489.32,481.4,458.58,430.34,424.58,386.98,371.38,358.74,414.22,438.6,426.44,429.08,507.92,540.76,546.0,532.32,529.8,544.3,533.18,532.54,530.64,492.52,462.76,438.48,477.78,365.88,366.36,354.96,351.66,354.66,370.14,373.6,330.7,380.54,351.68,330.06,316.3,351.72,332.12,382.14,428.0,470.26,479.62,507.24,526.24,536.18,519.9,517.18,479.58,466.58,446.46,429.28,416.0,395.42,370.06,359.58,406.14,440.56,425.72,435.46,499.0,540.16,550.78,536.28,538.72,535.02,533.88,521.98,498.02,458.74,423.26,415.88,376.88,354.1,351.0,338.54,325.82,347.52,375.84,406.12,344.06,310.1,314.1,283.56,255.1,265.28,288.6,302.92,355.1,385.86,413.24,435.54,475.5,476.98,489.74,460.7,453.66,446.3,441.76,406.66,394.64,374.1,354.7,351.12,413.44,439.18,416.82,428.22,500.24,540.9,549.94,526.72,531.22,523.3,520.04,504.36,481.82,436.0,407.7,428.38,368.82,342.64,334.88,327.74,368.28,345.52,381.66,373.28,348.54,298.76,323.46,318.32,252.62,266.08,286.2,333.76,382.08,423.84,472.88,487.26,497.4,486.16,465.62,454.74,443.92,445.9,432.18,424.6,387.14,368.9,351.6,350.84,390.34,435.74,424.02,429.74,496.68,541.06,535.16,521.72,526.16,525.48,518.16,517.22,469.88,418.4,377.0,389.28,369.14,411.42,295.72,326.28,438.0,355.74,345.0,361.36,325.74,281.52,298.08,293.86,247.52,241.54,290.92,322.78,368.22,386.1,419.94,432.42,461.9,482.84,499.74,479.04,475.4,474.4,453.78,414.36,405.88,381.98,375.88,367.54,403.6,439.14,418.36,423.24,497.72,539.96,547.22,529.64,543.24,548.36,544.36,527.9,487.32,432.78,413.56,397.86,349.56,388.1,316.74,308.74,363.38,401.2,369.52,362.12,372.44,383.72,422.42,320.84,321.34,277.28,288.98,322.56,385.32,398.1,413.16,448.1,491.28,501.32,493.18,492.96,473.1,468.36,448.04,421.3,391.24,365.42,356.48,336.58,333.2,321.7,341.72,370.66,454.06,484.52,501.96,489.76,493.46,485.72,491.86,474.82,444.28,455.74,405.42,397.98,396.38,332.76,395.38,315.48,265.88,419.0,434.16,459.34,465.84,448.46,430.78,286.92,240.56,245.78,263.76,310.26,377.24,405.5,441.78,470.2,469.7,440.42,435.48,415.06,414.8,413.14,413.98,406.9,387.26,378.34,367.82,347.12,336.04,324.38,344.74,370.9,439.52,473.14,479.78,466.56,469.3,472.92,463.58,455.62,414.88,375.14,344.46,335.02,281.18,374.74,306.64,241.18,361.56,376.74,402.5,412.16,268.82,313.76,375.46,257.22,178.88,214.82,239.94,307.12,379.08,373.02,416.72,453.28,452.4,475.7,463.06,435.78,420.0,426.26,415.02,401.54,382.28,352.2,357.32,331.84,337.62,322.06,345.18,365.62,438.08,467.64,485.2,473.02,471.64,476.42,467.16,445.8,405.74,368.88,346.76,315.5,346.0,220.34,252.28,240.32,261.26,255.06,263.96,300.18,311.22,319.6,302.86,256.88,204.2,210.02,230.96,279.16,338.64,365.96,415.4,444.46,444.98,449.46,472.52,469.82,461.96,448.12,447.16,408.82,386.86,361.04,351.16,330.24,330.1,319.22,336.18,384.78,469.68,509.42,513.18,506.92,510.5,516.7,508.1,504.5,473.12,410.8,391.98,393.98,351.68,340.9,311.94,313.24,302.74,312.64,357.42,388.84,400.28,394.1,400.14,344.6,311.1,330.24,337.28,366.02,394.08,435.46,461.22,476.8,477.04,499.32,490.16,489.64,474.1,472.08,457.44,449.7,403.7,380.4,371.84,366.72,351.1,339.58,353.36,394.42,488.7,539.9,545.7,515.22,523.8,525.92,530.34,506.66,479.38,463.94,478.7,495.34,464.06,377.92,304.96,399.62,427.18,469.54,507.8,393.28,392.9,382.98,367.06,358.58,254.3,235.86,273.22,329.78,377.38,402.44,433.9,454.38,468.98,459.24,450.8,436.8,437.6,437.74,426.26,411.52,378.88,358.28,355.46,342.02,346.8,329.46,358.02,394.98,473.82,527.38,523.5,508.32,505.84,511.9,497.9,493.42,446.52,425.44,396.94,475.68,368.86,372.0,328.34,219.28,385.58,312.1,350.74,289.98,385.52,344.14,344.68,294.3,323.06,262.74,317.68,280.38,298.66,348.06,380.06,420.22,449.26,455.14,445.38,438.5,431.44,420.34,427.84,390.04,377.26,366.44,357.98,343.96,341.04,316.48,325.62,365.26,458.56,502.96,509.8,500.24,516.06,517.18,500.46,489.86,437.2,414.38,444.36,514.98,485.54,365.38,401.06,474.56,390.22,327.32,338.92,488.18,348.06,362.96,410.26,265.4,334.46,286.62,354.18,252.76,331.8,360.38,410.28,436.2,452.96,466.4,462.16,453.7,431.76,433.98,423.2,401.3,374.24,347.76,340.04,325.52,325.14,308.62,332.16,378.36,460.38,505.98,515.08,497.68,523.54,511.24,499.52,483.76,450.54,405.64,369.12,344.16,267.9,282.18,246.74,244.06,244.92,249.62,280.0,285.0,326.6,332.34,342.94,309.64,263.0,247.8,270.08,313.94,341.26,393.28,408.9,426.74,455.04,469.54,470.62,473.08,461.18,454.66,438.36,419.14,376.3,347.62,335.2,328.64,321.54,313.44,321.34,351.28,429.7,487.82,496.62,483.92,493.42,502.86,502.6,485.88,469.62,431.46,391.08,390.56,480.5,390.42,342.92,298.26,329.14,295.12,373.44,425.16,431.8,414.32,391.66,336.18,285.32,342.18,307.78,360.4,381.72,397.5,415.56,443.02,455.44,470.36,464.6,452.88,441.28,431.48,414.44,398.36,372.36,339.72,339.56,330.96,323.78,319.34,339.96,394.86,470.3,517.5,528.22,514.26,519.8,522.28,521.38,507.42,485.56,445.94,395.52,367.88,345.38,315.56,309.9,280.26,320.48,270.9,302.4,307.18,304.9,307.68,364.98,300.3,218.4,217.04,305.86,339.92,386.88,395.5,417.64,451.24,459.28,456.26,445.62,434.9,424.1,418.16,405.46,376.46,362.66,339.16,334.22,325.96,334.12,316.88,314.16,362.06,449.66,499.38,504.26,478.24,494.84,489.48,483.82,476.2,463.76,409.7,356.24,343.22,284.16,254.46,338.04,355.14,250.08,267.12,254.66,367.08,360.0,288.46,258.32,228.86,218.08,169.6,260.92,231.86,305.22,338.88,379.48,405.44,436.98,431.04,440.46,420.98,419.8,422.68,403.62,384.18,356.48,336.06,326.26,313.66,331.24,311.38,312.34,368.64,447.24,494.0,502.44,474.02,485.72,491.46,485.36,474.62,432.28,415.0,404.2,397.92,426.04,260.86,265.66,279.04,302.98,383.92,271.56,301.62,253.08,246.4,265.38,243.62,180.66,186.5,211.42,258.74,320.0,363.84,400.1,420.62,448.68,449.42,438.92,421.6,406.14,408.72,385.54,370.36,354.52,336.1,324.14,311.12,316.44,297.08,292.68,332.7,433.42,465.18,483.26,455.56,469.62,459.24,472.76,462.38,420.1,374.42,333.72,307.98,286.96,278.64,229.54,264.02,269.5,228.36,219.78,213.3,227.86,247.48,261.98,233.94,182.18,186.78,212.62,264.68,308.3,346.46,387.78,413.16,442.56,443.66,457.34,421.32,422.62,411.16,408.18,387.94,359.58,347.88,339.04,327.98,329.76,311.4,295.82,337.1,425.62,475.18,476.02,457.4,463.3,485.8,474.58,467.96,442.0,406.98,364.52,358.44,326.7,290.68,246.54,239.96,242.18,235.26,260.92,276.22,303.3,318.7,327.52,283.42,247.24,246.38,281.72,327.12,372.9,411.2,436.76,468.84,488.12,489.72,477.78,477.2,445.08,438.08,419.32,406.74,374.58,361.8,348.48,335.8,339.16,329.96,315.54,335.78,437.98,489.24,489.6,471.8,480.2,490.1,486.66,464.04,434.52,408.98,380.14,386.64,354.44,304.96,290.0,269.02,277.56,291.52,297.84,309.38,329.48,343.88,367.06,310.6,264.54,276.12,300.0,331.52,402.0,446.54,493.72,492.4,495.16,480.94,475.72,447.8,438.8,449.64,430.5,420.16,403.38,377.6,365.64,362.38,357.8,347.94,341.14,372.38,456.6,500.44,510.72,496.24,497.96,498.38,494.32,475.96,448.52,397.02,371.68,399.08,338.52,301.1,273.16,278.56,278.64,281.88,285.58,299.06,309.54,331.22,362.18,304.96,246.86,267.42,310.14,338.0,388.78,440.68,457.02,500.12,505.9,528.34,514.04,492.34,481.94,477.84,453.02,423.12,404.34,377.82,363.24,352.88,350.9,343.14,331.28,376.92,450.8,507.52,501.7,492.54,505.06,499.06,493.26,484.0,472.16,463.5,424.86,440.36,398.42,386.76,337.78,352.68,296.82,342.66,325.64,333.3,394.2,382.52,371.1,328.22,280.26,273.0,286.96,367.38,402.72,439.58,453.04,464.66,494.66,510.68,510.3,503.26,485.62,489.44,454.8,430.52,406.84,378.06,375.6,356.66,346.04,335.06,331.6,355.56,453.72,502.96,501.32,491.18,497.64,498.14,489.72,487.72,475.12,451.02,454.12,419.42,354.36,351.96,330.92,351.8,373.64,444.54,353.68,401.06,326.66,397.84,342.06,316.28,437.92,289.48,286.06,309.1,350.6,388.5,420.2,456.68,483.52,492.74,463.02,452.52,444.38,434.22,429.82,405.3,378.86,373.16,352.4,342.1,337.82,327.6,320.42,315.88,408.16,440.5,442.66,446.28,446.34,441.16,435.5,427.72,425.92,463.3,441.4,456.04,358.86,340.36,448.26,338.94,313.0,341.82,374.8,364.1,311.76,253.48,287.02,242.44,172.9,138.52,207.06,273.9,334.02,389.92,425.0,464.98,445.48,450.02,428.66,428.24,413.04,410.58,380.56,366.56,344.92,336.3,320.02,315.44,315.02,308.38,298.02,329.3,427.66,462.24,463.14,454.22,461.76,452.3,445.12,445.42,404.34,353.2,313.36,295.46,246.22,212.34,192.48,179.88,187.2,179.26,185.2,191.0,210.26,221.02,234.48,187.56,138.56,137.48,170.54,220.26,282.14,317.48,365.56,413.48,400.46,415.98,426.7,421.34,415.94,401.72,390.44,347.28,351.82,333.5,335.06,322.34,313.6,310.06,305.34,326.1,437.18,467.58,471.42,467.48,471.92,472.64,455.66,476.82,457.84,401.36,349.84,330.32,291.9,244.1,214.16,206.16,229.68,233.02,247.78,268.64,293.08,388.76,428.78,324.54,257.92,252.32,293.04,333.44,384.74,422.64,436.98,457.9,467.56,459.54,473.62,458.18,444.04,448.48,420.22,405.64,377.18,351.94,349.3,353.3,329.22,331.08,317.56,337.48,446.5,489.3,487.12,476.54,484.6,483.56,474.38,472.84,438.02,414.68,388.82,411.72,372.14,338.32,321.88,293.66,379.16,348.96,430.1,330.8,373.2,370.58,342.3,344.66,258.96,412.48,333.36,348.06,391.08,433.4,455.24,486.16,493.28,482.64,455.06,440.06,436.24,428.8,406.98,390.06,380.7,366.74,357.4,347.88,340.82,341.62,324.38,348.6,442.0,481.82,492.16,488.5,493.68,487.54,488.46,476.9,424.58,379.18,338.14,361.34,296.72,288.46,353.92,273.96,253.96,296.96,287.76,251.06,237.86,255.98,310.1,254.2,184.76,171.3,258.88,293.54,370.72,386.28,419.78,459.26,472.06,470.66,456.14,457.42,450.14,439.3,411.6,386.84,371.92,354.2,338.6,338.2,323.92,328.56,312.0,333.26,443.34,476.68,479.84,478.56,487.42,479.92,479.74,479.36,451.1,420.38,376.44,392.52,409.72,430.9,329.82,355.96,439.42,426.9,429.96,374.32,275.78,273.26,311.54,274.18,225.24,216.7,258.96,295.02,370.34,413.86,441.48,472.8,484.6,488.58,483.12,481.42,467.94,451.14,429.84,387.92,380.02,354.04,343.26,335.48,327.58,330.84,310.12,337.66,441.54,480.16,488.06,483.74,497.82,496.8,491.2,487.82,457.28,437.26,393.18,408.64,394.18,453.26,340.36,289.2,259.66,317.96,336.92,320.16,286.54,299.74,312.48,268.8,226.56,219.12,265.7,310.24,356.04,394.0,431.56,461.16,478.66,471.42,464.78,462.02,431.62,428.36,410.46,374.56,373.94,346.86,345.32,332.04,325.26,332.06,316.7,337.9,444.86,479.5,482.48,472.26,483.56,484.36,480.06,471.4,445.58,426.08,416.18,378.6,334.44,266.86,277.0,250.18,249.3,244.02,248.88,267.38,264.8,272.9,295.58,258.84,221.52,221.36,255.16,302.74,364.54,413.74,453.96,482.56,490.02,471.04,467.24,442.36,437.78,436.56,414.78,390.3,364.28,342.04,341.7,329.82,335.18,328.12,322.06,340.52,429.24,479.48,476.86,471.08,468.88,473.66,466.66,466.88,433.7,408.86,363.82,402.6,404.92,345.56,278.78,320.12,337.82,333.46,346.5,287.28,395.9,388.88,278.46,238.32,177.9,197.9,241.14,282.12,324.36,377.26,413.24,444.62,473.36,457.34,461.68,445.54,455.28,432.06,421.4,378.68,360.7,357.22,345.42,338.78,322.28,324.98,310.46,333.3,429.9,466.76,462.96,458.96,456.34,454.96,458.1,469.66,440.02,437.0,363.2,363.52,386.24,490.62,439.6,332.1,251.32,194.46,183.12,218.32,278.78,255.24,317.98,225.5,157.9,164.2,199.64,266.94,334.78,347.84,388.38,416.68,431.2,433.48,457.5,434.3,423.5,419.7,397.66,366.94,350.62,326.42,314.08,307.84,313.04,294.02,291.76,300.0,409.38,446.62,448.72,444.64,449.46,444.96,455.2,436.74,418.18,365.9,312.26,310.14,278.76,223.44,196.44,158.62,225.48,153.32,259.48,209.18,209.74,218.98,231.14,198.66,165.76,179.18,225.54,334.82,326.08,358.94,397.52,434.64,448.58,445.02,463.94,451.06,443.68,422.52,390.26,374.68,364.42,343.34,329.58,325.3,317.64,308.88,308.38,323.3,421.98,460.2,466.22,467.32,459.78,462.08,454.66,440.32,429.52,379.78,339.24,343.18,353.4,442.4,359.92,360.86,339.1,396.9,338.24,343.64,280.24,301.64,307.74,247.58,220.02,216.32,240.04,293.82,340.04,370.26,417.24,433.5,446.2,440.8,448.74,443.12,427.04,435.3,408.66,378.6,354.5,324.74,323.84,315.48,303.96,309.5,299.52,301.7,412.78,450.22,460.42,449.04,451.74,466.24,461.06,417.72,395.52,365.24,354.98,375.8,347.46,384.38,250.94,198.46,189.82,170.62,210.66,155.26,164.9,266.44,195.68,185.8,156.98,182.06,198.92,248.16,297.14,354.22,393.52,431.14,458.98,445.26,461.98,446.42,441.64,436.06,399.92,374.52,360.1,334.32,323.9,269.0,317.4,317.84,295.14,315.92,409.98,461.34,460.66,462.7,465.68,467.48,451.52,433.96,402.1,353.44,303.82,301.16,243.56,202.38,161.64,151.28,153.74,146.62,157.4,195.76,225.66,252.14,337.68,289.32,237.56,237.62,266.0,300.32,367.02,411.88,459.54,488.96,479.82,427.08,491.78,468.24,449.78,415.48,382.68,358.86,355.54,328.16,320.02,322.42,315.04,306.82,300.94,314.0,412.96,483.72,495.64,485.8,500.84,503.52,501.3,505.14,469.7,436.76,398.42,383.18,342.06,292.1,267.92,258.0,255.42,253.1,269.02,266.44,301.12,329.98,358.6,321.42,255.98,252.92,291.34,343.52,411.8,446.08,467.2,505.3,489.16,480.82,481.94,457.18,439.3,409.52,380.42,357.66,337.86,319.98,322.44,324.0,321.0,317.98,299.26,330.14,422.62,505.12,500.3,491.32,502.08,498.88,491.52,493.7,462.6,430.36,411.4,402.32,326.38,291.0,271.72,277.38,275.18,275.96,270.72,280.86,289.32,314.88,329.4,277.8,231.56,238.5,280.38,320.3,364.34,405.16,429.92,462.6,467.9,482.02,469.08,469.6,454.54,422.42,394.16,364.18,347.22,339.14,330.88,322.98,315.8,311.76,296.22,311.36,400.58,485.52,501.82,489.36,496.08,491.18,460.88,428.7,424.14,374.44,347.38,303.88,252.52,213.48,187.94,162.0,165.18,155.84,159.1,203.56,186.76,228.12,253.26,205.96,189.82,208.46,257.08,292.68,340.6,376.7,421.62,449.22,465.02,462.06,455.16,462.32,426.94,406.5,363.14,353.78,311.94,305.3,285.74,285.1,281.58,275.72,273.06,313.38,369.02,436.52,449.7,449.86,457.12,455.62,458.86,448.24,426.0,350.56,290.82,281.46,232.8,184.96,149.08,151.82,138.36,117.16,137.36,138.04,179.0,215.7,282.32,226.12,175.84,189.5,259.56,320.58,353.54,383.76,423.86,472.16,479.7,480.66,486.62,479.94,463.5,422.6,400.68,361.2,340.18,316.68,307.0,300.66,295.52,289.82,279.68,314.4,381.52,454.02,464.8,460.96,469.86,480.42,444.56,447.82,447.78,420.14,408.44,447.4,438.3,428.36,451.92,420.9,474.78,434.48,348.52,375.48,278.76,278.38,282.82,168.48,211.12,207.5,256.34,318.8,376.88,405.68,439.92,461.78,473.36,469.54,479.36,480.6,456.3,416.98,401.68,367.48,343.96,320.52,312.56,293.06,289.54,282.3,264.82,311.56,359.4,402.24,416.92,406.28,426.84,435.1,441.92,424.28,432.08,386.8,383.24,381.88,325.84,272.4,207.46,242.94,230.02,245.3,237.66,138.6,140.58,154.78,165.88,124.94,137.18,183.5,230.96,277.5,347.3,387.12,420.96,450.52,464.72,466.9,475.84,465.8,442.32,397.96,376.6,346.76,318.2,304.64,289.98,280.28,281.24,283.22,273.92,315.58,364.58,409.34,411.56,414.84,427.68,439.4,431.3,414.6,406.14,368.64,307.64,295.2,247.48,224.02,189.46,187.74,202.76,206.42,193.72,219.0,225.92,281.74,241.04,218.6,207.6,219.12,250.02,285.16,346.16,383.66,435.96,451.88,443.6,457.92,453.8,450.78,426.8,392.62,358.74,338.54,308.96,300.8,295.62,284.74,285.66,279.56,275.08,312.08,370.62,403.7,422.2,407.72,431.34,423.64,416.1,407.72,385.82,340.52,297.1,279.24,223.58,217.8,271.48,152.64,137.08,143.88,186.82,166.38,176.7,172.82,198.1,186.92,154.0,179.92,229.2,302.56,360.74,387.84,455.66,464.62,452.6,450.96,442.64,434.58,408.2,375.88,353.06,336.16,317.68,292.84,291.4,288.78,284.76,280.26,275.48,313.7,365.92,401.98,416.38,410.7,424.22,427.06,417.34,403.04,395.0,351.52,333.2,338.48,314.38,366.88,326.22,277.88,183.24,242.36,203.92,265.4,269.78,184.18,171.34,102.48,100.6,147.2,203.92,265.6,327.04,369.56,411.08,431.8,453.7,448.94,444.24,438.98,430.82,382.12,352.84,334.32,305.06,297.12,293.1,286.04,279.6,275.8,271.66,297.72,361.86,391.22,400.92,395.06,413.24,418.22,429.52,417.04,413.08,348.88,327.56,242.04,336.36,240.64,346.26,235.64,117.86,150.4,168.0,190.14,146.9,186.42,176.44,196.8,142.84,133.7,188.26,233.08,342.38,350.36,391.18,411.72,423.6,422.92,437.8,432.5,409.38,401.78,383.14,346.42,333.3,302.94,298.24,295.82,291.8,288.62,282.6,314.28,357.56,395.7,411.18,413.58,424.64,429.84,428.06,422.14,319.42,206.02,199.3,97.18,6.2,0.0,0.0,0.0,138.38,245.76,243.66,239.64,235.96,246.46,284.16,227.6,192.7,126.04,174.76,262.58,290.46,309.8,372.92,385.66,397.56,405.76,393.14,395.22,386.88,364.66,343.68,336.78,325.66,309.24,287.64,282.5,285.12,274.52,273.2,323.14,361.72,376.22,398.42,371.52,383.14,379.22,400.84,405.42,416.84,358.78,277.18,251.76,286.66,156.18,256.78,211.08,85.2,156.54,158.68,156.44,154.22,177.2,168.04,164.58,118.7,130.1,190.46,233.3,304.26,313.42,375.9,390.04,387.62,385.96,383.82,392.94,366.3,355.92,338.5,326.18,316.46,306.92,289.8,284.4,279.58,273.86,267.32,318.38,360.5,388.6,407.12,406.16,402.62,410.56,396.36,401.04,390.04,326.32,333.66,324.16,267.46,197.98,170.14,295.5,260.3,293.9,305.56,382.44,196.78,130.78,159.8,148.44,139.22,111.32,163.62,208.4,268.6,314.2,367.08,376.1,400.9,408.96,410.58,400.14,367.02,355.32,343.4,330.6,329.96,306.82,297.68,290.8,296.44,279.56,276.08,333.92,368.82,393.34,408.16,406.96,401.24,416.68,415.74,406.28,399.72,370.2,309.48,289.9,227.28,211.2,193.46,178.0,226.36,199.06,207.38,387.16,163.86,205.06,223.94,169.22,172.0,144.24,211.3,249.48,312.0,349.04,403.9,404.32,430.04,423.38,419.92,404.94,383.12,377.48,352.6,329.64,313.58,314.06,301.92,288.36,293.98,293.38,280.98,326.3,365.36,411.34,426.68,428.0,437.0,424.96,427.1,432.36,396.86,356.84,304.0,314.78,250.4,222.08,195.94,159.14,167.22,166.32,171.1,163.1,174.8,185.34,200.84,158.3,156.52,132.82,183.46,248.34,311.76,364.24,413.24,413.2,434.78,417.8,414.24,398.84,389.72,380.24,360.92,343.88,332.6,317.72,303.38,295.98,290.54,271.54,284.14,332.1,375.28,416.22,432.62,414.76,416.5,410.86,426.34,405.76,384.46,342.68,304.0,297.04,396.0,342.96,192.22,220.68,187.92,217.74,152.22,144.14,145.18,159.44,170.8,130.84,148.5,113.94,182.12,235.16,293.34,344.98,367.66,374.14,391.66,396.78,401.86,402.9,389.82,394.22,351.46,342.52,318.82,308.26,300.1,291.54,280.66,277.5,270.98,322.56,369.88,406.62,434.22,430.04,436.18,439.58,438.62,446.08,416.92,387.0,326.96,327.34,260.4,327.18,277.86,253.9,357.96,239.54,203.16,168.78,205.94,200.58,194.72,156.26,160.14,120.88,180.42,239.62,299.4,353.86,398.94,405.54,423.5,419.84,417.58,407.04,400.72,390.52,380.42,358.74,331.24,306.0,288.72,281.92,281.96,279.54,277.64,325.62,380.22,414.78,439.76,425.88,435.36,443.22,446.16,438.84,423.28,391.94,290.02,287.4,327.0,384.94,218.76,255.2,397.36,206.2,237.44,222.34,180.14,194.24,217.26,186.96,197.78,162.58,203.26,265.28,332.68,377.14,431.8,438.3,448.18,450.72,453.42,439.08,423.78,418.98,391.44,370.3,343.22,323.66,317.88,308.72,311.0,300.46,295.66,353.0,399.86,482.42,471.56,464.46,458.86,465.6,471.48,521.46,523.06,488.18,492.96,415.8,401.92,385.82,338.14,382.68,350.3,364.82,316.64,209.72,295.34,257.36,252.22,287.6,246.7,185.16,226.82,276.0,335.46,392.52,435.5,450.22,438.38,446.36,445.22,423.26,430.28,410.62,389.18,356.04,342.76,327.08,305.5,302.12,303.68,300.44,293.32,322.06,358.78,446.32,456.58,454.74,451.32,469.86,466.76,473.48,439.96,411.06,369.56,350.02,299.38,271.98,235.28,240.0,209.5,229.94,214.02,205.38,226.72,262.24,251.52,223.62,228.52,195.06,260.0,305.3,359.38,381.52,429.8,427.44,439.28,453.8,444.44,434.12,427.62,399.32,386.92,365.86,343.82,321.54,312.76,311.66,302.74,299.4,301.8,332.94,357.42,443.4,465.04,464.88,468.32,481.04,473.8,472.42,452.26,408.82,384.64,356.18,316.52,272.9,190.68,359.28,408.5,417.62,404.62,316.92,246.9,242.62,292.64,262.44,267.26,222.56,287.84,289.4,338.06,365.56,428.38,421.32,431.88,434.86,430.86,426.72,414.66,402.8,375.96,357.74,344.42,330.24,316.64,308.32,305.8,297.16,302.1,317.54,362.48,442.44,447.02,436.88,454.42,452.16,463.54,468.5,444.32,426.42,412.56,383.06,327.2,353.6,291.9,239.26,255.74,229.46,202.56,226.94,281.98,278.5,325.88,276.48,295.62,231.26,259.36,323.26,373.86,418.44,444.78,453.66,428.14,424.26,415.98,408.3,408.7,382.56,381.66,344.04,333.96,319.28,312.28,313.42,305.1,310.06,303.8,322.42,366.66,450.34,447.08,442.36,459.54,453.12,459.46,459.36,441.98,411.46,433.34,346.96,328.12,315.78,313.4,304.88,279.36,215.42,386.44,320.76,214.6,251.38,229.54,214.04,203.24,178.92,232.96,286.0,335.52,377.84,419.34,417.04,424.76,414.32,430.84,412.92,426.34,394.48,384.22,340.94,339.52,315.1,317.9,303.06,307.62,906.32,341.72,434.64,441.88,436.28,443.22,439.56,458.16,471.44,462.68,483.26,480.96,464.44,426.12,434.1,352.54,442.48,440.12,487.76,453.34,384.48,326.06,428.12,414.68,441.36,453.0,250.94,301.32,318.56,332.62,385.46,421.48,437.24,449.4,428.2,446.44,431.44,434.2,414.4,417.7,395.18,391.84,363.4,339.92,315.64,301.42,299.66,289.82,290.52,278.58,329.24,388.88,450.12,443.7,446.26,464.16,453.74,435.8,437.34,440.74,504.22,535.38,530.96,535.28,435.96,437.0,424.72,451.1,431.24,331.7,365.98,241.84,403.32,490.0,448.76,401.18,313.42,330.02,370.66,405.86,409.42,426.36,436.8,423.4,424.22,417.26,418.28,391.68,377.9,351.16,346.08,333.94,308.22,308.0,298.26,298.6,276.66,287.54,329.02,384.56,442.6,430.56,427.62,444.62,443.16,428.06,410.8,405.68,406.98,345.4,275.1,219.6,417.4,434.4,275.22,318.98,354.34,269.56,276.06,290.5,359.56,370.8,289.62,284.88,287.38,336.02,380.84,408.94,437.7,464.32,424.84,434.52,416.28,416.34,407.0,395.92,379.52,358.52,354.06,331.5,315.28,298.62,298.52,282.98,288.32,280.64,328.7,381.02,436.24,433.82,442.26,449.46,446.38,437.84,399.56,386.54,342.12,298.52,274.76,300.6,290.0,252.74,292.78,309.78,335.9,341.7,256.28,252.74,295.4,319.5,266.28,299.02,327.6,368.46,420.42,455.04,452.48,462.58,450.7,443.02,453.42,461.96,434.4,419.86,402.54,358.1,342.7,322.6,314.88,293.24,291.58,278.08,282.7,279.94,326.22,398.62,432.5,473.56,476.92,474.66,474.62,466.62,441.48,447.26,381.74,318.88,296.06,255.92,211.16,191.14,178.48,182.76,193.58,220.52,285.84,272.28,323.52,364.04,296.96,300.6,311.72,364.78,397.54,436.14,451.22,465.1,463.38,443.28,439.98,415.5,421.6,406.1,394.98,350.32,335.06,320.32,296.4,299.62,290.04,281.24,287.28,276.06,328.78,376.98,443.88,464.0,471.74,476.42,475.58,444.2,410.84,366.98,316.14,286.72,272.48,250.18,217.9,203.6,204.9,214.24,218.82,250.56,258.5,312.46,345.36,378.52,322.42,333.4,346.94,386.78,433.14,483.68,485.6,475.9,449.88,440.88,432.88,422.54,410.86,405.18,397.28,356.94,337.4,337.3,309.1,308.4,304.58,299.36,304.72,293.9,354.74,405.86,447.44,478.74,473.48,483.12,469.24,442.56,413.14,384.66,312.26,300.7,275.18,239.02,212.76,198.24,194.04,206.56,210.34,230.28,259.14,283.16,311.1,346.18,298.4,309.3,318.82,364.42,403.12,445.04,436.48,434.68,421.1,423.2,417.78,403.38,400.46,389.04,390.8,338.56,330.38,319.92,308.34,295.96,294.84,272.94,275.2,268.32,332.06,382.34,440.28,463.84,470.5,479.7,482.76,436.5,407.7,384.26,345.44,310.14,280.52,268.02,222.38,208.54,202.48,215.7,299.92,221.72,242.9,307.12,365.72,357.92,298.96,306.58,321.04,378.1,405.66,427.04,419.38,421.66,412.92,416.28,433.6,422.3,419.24,395.76,383.56,329.38,322.52,299.94,288.34,281.4,267.02,277.36,266.0,264.92,328.44,384.74,439.18,471.42,463.02,485.7,480.06,442.94,428.66,376.78,296.22,234.96,265.92,241.46,211.78,183.62,152.26,158.58,178.66,189.06,218.82,244.76,266.48,305.5,339.68,311.18,294.38,340.98,386.94,422.44,421.1,412.92,424.42,432.26,427.7,432.82,408.48,414.32,377.74,335.96,324.64,298.92,293.76,283.3,268.62,265.24,271.94,261.5,335.78,375.08,434.44,468.58,459.12,482.76,473.1,410.96,366.84,321.52,260.64,257.98,197.6,147.02,130.98,153.28,162.22,173.4,183.62,195.66,214.66,244.66,260.9,298.12,304.98,320.9,298.88,328.5,344.28,390.7,382.32,387.72,397.06,394.1,407.52,411.56,378.4,357.88,373.64,317.4,308.06,283.46,271.38,264.98,240.44,246.16,241.36,240.14,311.14,363.54,419.58,447.48,441.74,460.74,446.24,397.66,378.92,345.52,295.24,258.96,244.76,218.4,164.08,106.8,116.44,100.68,104.06,118.52,141.08,157.06,180.74,234.7,253.52,290.18,285.92,338.7,368.26,401.72,398.86,396.02,410.56,412.38,425.9,426.96,419.2,403.66,392.5,325.84,319.98,296.62,287.4,273.54,268.9,262.94,262.1,243.64,319.7,361.34,433.12,458.04,462.94,473.16,475.9,415.96,390.52,354.7,272.12,218.44,196.78,152.8,114.56,103.52,95.48,96.42,97.76,112.26,139.62,189.48,224.42,238.18,291.4,307.38,330.42,382.38,401.22,437.24,447.26,447.5,450.54,448.68,456.32,446.92,438.62,426.16,408.34,355.96,350.88,330.16,313.96,307.04,291.72,292.82,288.08,271.62,233.54,295.06,353.42,378.72,364.5,384.22,372.3,359.32,331.14,302.56,228.56,178.86,165.06,112.7,134.64,73.5,52.12,70.6,64.4,107.58,179.82,112.18,170.88,205.9,249.62,265.62,278.06,316.48,349.86,386.22,394.28,398.98,395.08,390.72,382.08,373.1,355.66,360.18,343.38,340.44,325.8,309.92,293.5,276.84,277.82,273.44,264.42,262.44,222.68,275.3,333.6,361.02,355.18,368.28,367.98,344.64,314.14,294.76,283.24,275.1,146.84,109.84,156.96,140.8,92.36,132.2,171.26,106.74,147.64,244.42,248.96,298.82,349.26,353.96,345.98,347.1,363.5,378.52,388.54,380.06,388.84,402.24,407.8,403.44,405.62,384.96,373.8,358.32,328.84,324.64,314.3,294.86,286.46,276.28,273.08,272.42,223.74,273.42,339.5,361.64,361.74,387.9,400.5,378.26,401.18,414.84,391.28,345.34,357.92,333.66,164.68,194.38,137.98,143.0,128.04,145.56,176.68,208.04,226.4,265.98,351.6,365.52,349.22,323.32,352.92,383.36,376.94,374.44,385.02,398.78,397.94,387.2,386.28,371.98,368.54,344.2,335.68,313.26,300.8,286.52,273.56,274.7,278.38,268.06,235.92,285.58,345.9,398.36,403.46,417.36,424.82,418.08,413.22,400.8,375.16,337.12,274.34,235.76,185.88,204.8,157.02,176.2,162.1,305.08,179.96,224.28,269.92,321.7,342.88,357.18,349.88,322.84,365.22,384.48,385.44,398.08,405.98,411.84,421.16,407.5,395.64,383.06,377.48,346.54,338.5,317.0,300.32,283.86,276.82,276.88,270.76,268.84,230.7,277.2,331.82,395.2,402.26,426.96,422.66,420.68,427.98,430.62,394.54,330.34,278.88,249.84,228.1,190.28,164.16,185.84,179.72,177.06,213.26,231.2,260.74,323.76,363.98,265.66,353.34,336.7,362.52,383.54,378.96,388.36,403.2,422.8,410.5,386.68,392.16,373.42,363.7,343.58,334.64,314.68,305.68,291.56,282.08,272.32,267.42,268.84,218.58,273.44,328.12,408.46,397.34,428.52,424.86,411.7,412.28,395.04,335.44,321.28,322.34,266.86,295.8,323.84,194.36,322.42,288.22,319.1,229.26,286.84,290.36,330.2,363.46,380.82,385.62,348.08,364.12,388.24,405.62,417.3,423.2,433.2,434.72,417.0,408.46,394.62,385.08,364.68,356.18,335.9,294.34,288.5,280.26,273.14,271.48,271.28,237.54,284.36,342.38,418.48,411.84,425.88,435.2,412.24,415.66,415.94,400.82,319.98,296.26,245.28,208.54,341.48,226.38,166.28,202.28,218.44,260.52,302.46,247.06,395.36,313.96,344.06,346.32,316.88,341.32,378.76,376.28,391.98,402.2,424.08,416.48,408.66,385.1,376.58,357.74,345.94,327.54,313.84,305.12,293.58,291.16,276.2,276.18,265.64,222.9,267.76,333.98,408.94,400.34,416.24,411.12,395.88,394.34,326.76,245.46,368.32,378.22,416.96,454.04,473.94,415.6,385.74,418.4,387.22,394.36,330.98,381.44,300.14,333.2,386.62,348.64,354.18,401.12,443.1,443.62,429.8,430.52,423.02,408.4,391.56,376.82,369.14,353.54,345.68,322.26,276.14,303.82,288.92,279.0,266.96,268.88,262.34,221.64,275.34,332.06,381.42,387.14,399.72,398.8,377.96,363.08,270.06,377.66,418.52,444.56,474.66,482.52,492.48,491.32,472.94,466.46,441.48,418.5,356.42,413.64,414.1,426.04,409.8,396.34,357.98,390.62,421.56,415.04,432.92,404.74,432.92,428.98,436.36,416.12,407.1,397.86,368.36,353.6,348.28,306.3,301.42,280.44,281.0,281.58,267.9,242.62,261.68,332.28,399.82,400.4,410.18,426.62,419.08,430.32,417.68,351.62,414.04,401.46,410.52,291.56,344.78,392.3,206.94,458.54,597.46,506.82,319.64,372.62,390.52,368.6,402.04,427.64,457.36,471.0,432.22,417.26,427.12,442.82,454.3,458.26,469.18,463.62,438.78,428.64,402.1,384.02,353.64,324.84,311.98,292.06,283.28,279.84,277.82,231.96,280.16,341.22,415.14,420.38,430.32,444.7,444.64,442.42,385.92,305.12,282.08,276.4,239.82,189.64,158.7,135.78,145.86,160.9,161.9,174.06,294.02,309.3,423.14,455.18,408.24,377.48,354.92,392.78,412.5,420.02,438.28,450.38,470.68,453.4,458.2,454.1,445.72,427.5,394.32,366.18,332.5,317.92,312.2,287.28,290.1,272.2,271.62,241.82,272.5,341.7,420.96,428.66,445.82,444.86,441.12,439.42,409.06,313.72,278.64,246.84,214.48,186.46,168.84,139.02,141.42,154.78,168.84,194.62,242.84,301.52,383.32,365.18,377.24,388.34,364.04,396.4,425.76,455.78,460.48,480.7,465.46,466.56,470.4,462.0,440.64,433.94,420.24,406.84,371.08,361.94,348.42,315.82,311.86,302.18,283.24,240.92,283.06,344.4,424.48,425.42,443.98,450.44,447.96,435.22,408.86,359.72,357.96,425.88,340.54,288.34,288.62,234.58,223.86,242.52,245.96,298.6,293.76,268.06,342.12,326.36,347.38,372.84,343.12,376.38,408.8,429.08,420.96,436.84,454.52,472.44,463.26,464.64,450.42,426.14,397.48,367.08,358.08,325.92,325.2,298.7,301.58,293.24,289.66,246.04,282.66,346.04,440.08,441.94,473.28,473.66,467.16,448.44,425.52,414.76,408.02,386.62,296.18,240.78,278.94,277.12,307.92,173.4,170.86,211.74,244.4,265.12,316.4,365.34,385.52,361.88,344.02,381.26,405.58,427.18,441.64,445.5,436.12,430.42,426.12,425.64,405.06,406.42,377.66,361.04,353.64,315.9,315.2,297.56,297.2,296.88,279.76,256.8,289.6,346.32,442.4,446.58,451.0,444.66,444.54,423.88,364.8,322.26,279.26,255.64,218.52,170.74,161.96,163.96,173.56,361.18,371.56,310.1,197.98,233.36,263.62,314.52,328.34,358.7,350.4,407.0,429.5,433.52,445.68,434.3,423.68,424.14,411.9,388.9,393.08,374.14,357.98,360.44,352.12,317.94,311.4,294.26,286.4,294.02,281.22,246.24,275.56,341.4,422.7,431.1,440.16,437.28,413.36,402.92,333.7,277.06,262.8,250.06,232.74,185.2,188.16,142.84,155.76,149.38,165.22,191.88,248.54,285.86,342.08,359.6,357.66,340.78,325.3,373.62,397.76,406.28,402.88,415.82,419.94,434.16,435.58,427.32,406.44,393.92,378.04,357.64,341.38,311.96,300.48,303.76,283.5,283.86,277.06,237.74,285.54,346.68,427.44,436.42,452.9,458.46,446.78,442.8,407.14,379.38,366.26,329.4,271.38,234.9,231.26,200.28,208.92,221.28,232.82,243.66,276.5,303.54,271.68,366.12,384.06,414.42,405.82,436.32,438.86,446.8,455.48,456.72,478.34,474.72,479.7,468.2,449.12,437.9,427.1,386.4,350.0,337.02,319.0,305.98,299.7,300.0,298.6,257.18,298.68,362.16,453.56,481.9,500.28,505.9,514.36,507.62,440.64,374.6,307.94,294.36,285.72,235.06,222.5,153.44,168.64,232.24,170.14,196.2,235.7,299.26,372.84,460.78,414.28,419.36,398.64,421.98,441.82,430.4,425.24,444.56,468.54,464.28,456.82,447.96,436.58,414.8,394.98,351.5,328.6,315.58,299.92,278.74,285.38,280.06,277.9,245.84,291.18,354.8,437.52,482.28,497.34,495.84,485.76,452.7,430.08,364.68,334.18,333.46,281.26,237.08,213.96,210.86,256.52,305.04,293.4,421.0,342.92,373.74,396.04,440.38,404.7,406.92,368.48,403.56,406.04,416.86,439.58,445.72,448.66,445.22,434.14,425.18,418.48,421.5,383.14,343.92,313.9,299.32,287.8,267.82,258.88,263.94,249.48,243.14,285.58,354.82,441.34,488.6,501.28,503.06,492.68,496.92,488.16,473.42,487.86,494.28,479.96,428.46,425.36,352.3,346.48,379.88,417.34,469.12,344.16,315.82,400.4,460.52,467.6,446.0,414.3,447.34,471.6,474.72,478.12,479.06,491.32,479.06,481.78,465.32,458.94,440.52,407.62,367.36,325.34,308.4,290.3,274.26,262.74,260.8,265.1,245.06,285.86,341.82,422.1,460.02,478.3,483.86,491.74,470.76,435.16,367.4,439.28,409.06,530.5,488.24,301.78,268.18,400.4,417.94,444.0,511.64,540.22,539.58,526.38,396.76,391.58,409.86,399.62,436.82,450.84,487.38,493.76,478.8,482.2,475.1,480.24,460.96,466.64,448.68,421.6,369.74,346.36,331.62,309.76,300.64,280.52,269.62,272.38,254.6,281.46,354.14,444.32,472.08,493.48,502.06,493.64,476.6,397.4,366.48,335.98,314.78,358.18,349.28,343.4,300.22,305.16,323.64,314.02,364.0,352.84,370.1,370.8,372.6,456.66,448.46,442.14,477.62,499.9,500.6,511.96,504.22,471.9,455.44,445.3,442.6,424.74,430.9,421.5,366.3,361.8,330.12,309.54,295.9,270.72,269.44,262.4,238.54,280.3,355.1,427.0,450.38,475.74,472.9,459.8,443.0,412.98,403.16,358.36,396.14,342.16,330.98,328.64,374.08,331.42,327.2,321.22,376.18,448.74,458.68,470.82,495.06,487.74,455.74,424.94,443.06,468.42,456.18,448.98,451.92,456.24,456.96,448.22,464.0,443.36,443.98,416.86,356.24,333.08,315.82,289.64,269.2,256.42,265.66,261.2,239.66,272.34,347.54,417.54,456.38,482.78,489.56,465.42,481.04,440.06,366.52,328.86,316.04,333.26,235.94,245.16,308.3,248.68,236.62,306.78,203.12,205.12,225.28,287.62,271.98,334.1,414.08,408.82,467.12,481.24,490.54,500.38,484.2,487.8,502.34,486.04,458.04,437.2,425.58,418.02,348.12,323.12,285.74,278.92,272.74,259.1,254.6,263.04,240.38,255.18,287.46,359.14,390.6,423.12,420.72,417.84,438.54,435.16,430.32,384.54,233.24,219.0,204.9,169.32,164.44,158.8,176.96,186.76,154.76,218.34,260.76,310.32,319.42,390.18,418.06,386.54,411.34,434.68,432.24,448.88,460.98,468.0,473.06,460.98,456.44,443.52,430.74,409.34,367.24,328.06,301.84,287.82,272.12,261.22,263.68,253.52,240.52,254.66,285.5,358.7,399.52,416.28,422.36,438.18,459.08,467.66,446.34,456.6,465.76,458.18,463.54,466.98,451.86,452.42,446.02,450.72,453.9,465.96,463.64,434.76,467.84,503.42,495.86,444.18,474.32,483.7,489.44,506.98,522.22,547.24,523.72,523.14,495.52,471.32,458.12,431.82,389.62,356.54,336.0,328.62,305.98,294.28,285.06,287.78,248.7,260.42,286.64,368.3,404.12,418.62,435.86,439.32,454.0,434.44,371.64,370.18,333.98,296.0,256.8,304.54,329.42,296.12,245.5,217.16,345.14,443.0,453.22,485.42,539.98,560.04,531.72,484.3,502.94,534.22,507.24,516.08,534.64,532.46,522.68,510.88,522.56,487.14,493.58,451.06,402.02,365.34,328.2,318.74,284.08,280.7,278.14,277.62,261.36,265.96,301.04,373.36,426.64,436.24,449.14,450.82,463.62,450.8,386.0,382.22,319.56,306.42,272.28,301.98,315.5,343.96,356.46,252.58,220.08,271.08,295.92,311.84,385.36,455.94,459.08,430.58,432.7,474.24,460.98,491.2,500.68,518.12,500.8,511.62,498.78,463.92,471.86,454.36,382.72,345.2,328.76,318.14,291.28,282.38,267.54,269.48,250.74,274.5,301.34,377.32,406.58,422.76,434.6,437.38,417.38,383.0,374.82,322.06,302.5,273.5,210.24,177.62,170.36,170.86,145.82,156.24,154.12,181.84,202.76,255.26,299.06,368.18,423.36,411.82,480.92,521.28,530.5,531.48,512.26,474.2,488.62,458.76,463.1,448.1,439.54,418.66,396.22,350.76,326.94,312.9,292.28,290.82,285.32,270.88,247.02,246.46,264.84,335.32,372.36,389.0,403.86,383.6,369.06,352.96,300.4,290.26,262.98,218.62,210.8,185.0,162.18,142.74,146.56,152.04,155.74,183.28,209.8,254.76,292.04,344.7,387.54,385.78,442.1,476.94,480.52,497.08,499.98,502.18,469.62,453.46,435.84,426.6,409.9,387.26,370.8,351.24,325.12,305.76,297.74,284.84,287.52,279.26,253.42,260.94,311.68,390.52,397.34,426.08,433.6,439.94,439.54,432.38,384.54,345.02,307.44,256.8,233.64,243.6,229.76,253.34,264.08,309.06,343.52,370.74,369.04,385.46,365.96,392.0,392.94,355.0,413.52,411.4,414.2,447.02,449.56,460.44,451.42,447.38,448.68,438.2,409.74,373.84,355.76,326.98,309.36,279.92,270.36,272.86,260.46,252.3,227.8,243.56,297.32,382.32,390.66,405.62,402.92,410.24,416.78,410.84,347.62,354.78,285.2,256.1,204.94,174.42,184.96,196.86,320.96,304.08,223.26,213.66,300.98,295.16,349.62,374.92,375.88,324.36,370.8,379.16,387.64,410.32,413.32,424.26,401.68,405.08,393.28,397.68,371.3,359.0,329.76,309.78,289.84,262.86,258.24,250.3,252.78,246.0,227.0,242.84,293.38,373.1,380.32,390.14,408.46,410.5,421.12,396.44,377.94,361.88,299.28,243.34,221.26,183.0,171.02,183.3,163.88,178.48,261.92,261.74,296.2,308.62,305.84,351.92,346.26,319.8,345.84,372.58,382.26,412.62,397.58,403.32,399.6,390.4,375.2,372.98,362.22,339.76,329.82,298.86,266.86,257.5,253.06,239.48,233.66,228.28,219.06,238.68,307.8,398.78,395.42,410.54,402.58,419.08,455.04,398.88,356.44,297.9,370.8,435.42,424.8,231.76,174.24,211.46,350.38,423.96,313.62,324.2,326.62,307.44,328.34,377.04,365.58,324.32,374.94,388.5,392.18,434.26,431.54,426.4,443.38,453.62,433.78,406.92,391.86,370.72,334.14,306.24,289.48,273.14,255.94,237.16,236.0,230.88,228.66,248.76,324.12,408.32,413.96,424.46,422.8,434.9,472.58,507.08,498.74,504.12,524.26,499.22,481.1,441.84,316.72,394.1,458.62,458.06,490.08,414.86,498.2,487.94,524.08,504.46,430.62,396.18,423.02,442.12,460.64,471.6,485.6,493.98,485.98,471.78,457.74,432.88,412.34,400.68,380.42,363.34,333.92,306.28,282.82,285.02,269.54,248.54,244.8,251.14,341.0,426.06,429.8,451.86,447.74,444.96,441.9,474.14,484.68,513.84,478.78,406.46,356.56,341.24,255.92,471.1,489.6,506.52,506.66,507.7,481.08,539.24,526.96,562.72,488.54,452.14,487.7,499.46,503.7,502.8,489.68,449.16,428.56,428.1,412.24,404.36,400.3,385.52,371.0,362.96,333.12,304.56,295.26,282.24,259.04,260.94,242.14,248.88,344.62,435.72,429.12,442.2,455.52,453.62,440.7,432.4,407.92,386.24,522.58,559.68,564.44,562.64,552.02,547.4,532.66,553.84,290.08,319.52,375.24,389.18,446.6,471.68,424.14,390.58,440.74,473.48,485.08,480.32,481.74,475.76,495.16,488.72,461.24,448.58,447.42,428.94,412.42,372.8,332.1,306.06,277.86,268.24,254.34,256.88,239.62,245.64,335.88,427.6,441.12,455.2,472.22,491.42,513.16,486.36,429.92,392.3,362.76,409.78,315.3,253.24,236.02,209.16,239.76,227.32,301.24,301.0,264.08,301.02,359.8,425.38,439.82,391.84,419.18,455.62,475.74,479.68,484.24,491.1,485.96,495.6,490.4,478.38,450.26,413.14,391.22,360.48,329.2,308.26,287.04,276.04,276.14,264.52,242.36,264.84,344.68,442.08,447.88,467.24,480.92,504.9,514.76,552.1,539.32,480.72,532.32,416.24,494.14,422.34,518.66,399.94,296.1,472.38,335.88,483.5,572.58,611.3,341.3,609.44,566.36,498.4,501.68,529.18,524.06,530.04,564.02,568.9,554.8,547.66,522.46,492.66,482.54,459.92,423.58,384.4,359.54,337.74,313.2,288.12,279.18,277.8,249.48,256.02,276.44,368.58,449.7,477.28,489.1,527.5,561.6,561.44,558.0,564.46,600.08,591.78,569.56,560.48,464.16,379.64,395.54,382.66,290.5,410.4,311.5,326.24,360.1,437.56,500.36,489.26,466.5,503.78,525.02,529.92,531.56,548.22,545.36,556.74,546.12,517.74,493.02,462.78,436.78,413.1,360.32,334.94,317.2,294.32,289.42,293.12,265.94,272.42,281.48,372.72,446.76,488.98,495.06,506.92,529.0,536.16,555.18,555.86,567.42,534.3,533.58,518.16,473.22,538.96,526.88,548.3,523.42,525.1,568.22,592.18,602.82,626.24,622.12,554.84,496.68,520.14,513.02,527.42,536.18,550.66,535.34,549.46,521.7,507.3,491.94,457.12,437.84,390.94,358.9,342.16,311.34,292.26,290.66,281.56,261.82,266.58,275.24,371.14,445.8,475.76,486.4,498.2,533.52,518.06,454.4,492.6,535.32,478.64,405.6,383.66,404.94,508.24,521.98,460.32,474.36,438.24,436.68,431.86,557.26,568.18,604.92,542.92,500.74,513.86,511.34,530.48,534.52,544.4,522.14,511.6,496.06,482.52,445.4,425.66,409.4,392.64,370.28,345.7,334.5,316.6,311.94,290.86,263.32,281.32,290.22,376.2,462.54,473.96,474.62,494.0,482.8,468.38,466.54,426.3,440.6,548.46,500.8,469.74,447.66,452.56,506.54,504.68,481.06,469.76,462.34,436.66,521.82,566.42,576.8,559.38,530.08,545.58,547.86,548.52,526.08,508.94,479.4,481.5,455.66,461.94,440.8,444.5,416.76,389.04,358.54,332.54,321.5,314.86,300.8,295.4,261.4,269.8,285.38,365.22,440.44,449.86,464.04,457.28,450.84,456.84,426.36,457.98,485.98,352.7,265.2,246.58,377.16,457.54,493.22,495.08,450.38,229.12,224.94,281.28,338.42,434.26,487.72,448.3,450.28,489.34,494.7,517.02,535.48,538.6,527.38,531.92,513.84,489.98,461.84,446.0,428.56,403.7,368.14,328.68,300.82,288.68,285.42,271.06,253.04,261.74,269.28,359.54,441.02,468.44,497.28,515.24,533.34,543.46,462.34,425.9,389.14,316.12,272.08,258.2,234.1,327.12,286.6,217.76,279.5,311.9,292.92,347.18,401.98,459.92,517.82,488.16,481.44,509.04,529.72,566.66,567.46,587.24,582.88,586.86,583.24,559.76,524.46,495.42,451.86,401.04,366.34,339.24,320.76,303.7,295.76,297.8,246.22,251.84,274.9,364.88,448.02,475.52,494.34,521.64,537.88,547.72,477.42,446.64,397.22,344.46,292.24,231.26,206.1,192.28,198.56,245.64,248.42,231.96,313.64,327.44,387.2,439.7,498.88,486.62,476.88,496.76,518.5,530.92,530.46,539.68,540.98,560.1,562.4,532.12,527.66,497.12,476.04,419.74,371.96,341.66,324.16,319.36,298.16,303.2,260.04,254.8,274.12,361.86,447.78,472.86,501.1,539.18,568.34,585.66,552.7,560.8,564.42,543.54,559.54,521.68,504.5,428.68,379.58,396.52,405.44,379.44,382.44,502.54,487.32,528.88,519.34,494.7,433.2,456.26,505.92,533.88,545.8,565.64,572.96,573.06,567.22,531.04,510.32,485.76,447.78,410.1,368.7,347.88,324.34,320.8,307.5,305.92,261.72,268.0,283.68,373.68,456.24,486.6,501.56,525.16,545.7,562.6,508.44,474.86,429.72,370.58,346.1,325.54,308.54,290.94,300.12,270.38,298.6,475.2,558.22,616.96,631.92,647.68,651.22,579.24,546.82,550.14,553.66,568.06,561.36,565.5,564.7,564.82,564.96,550.68,528.72,509.26,469.56,419.66,386.62,369.1,338.08,323.48,326.1,321.54,273.0,284.28,290.72,379.86,474.32,501.6,528.04,549.54,565.9,568.9,535.72,543.38,512.94,521.46,462.52,473.9,494.2,429.1,433.06,424.9,457.86,544.48,556.2,540.66,518.98,498.34,542.7,496.34,473.34,507.12,509.58,509.26,535.98,546.56,544.58,539.42,522.3,479.34,476.1,460.72,457.28,419.06,386.32,361.06,338.04,328.84,321.88,307.44,260.42,268.82,277.66,363.74,442.26,472.36,485.6,490.34,481.36,490.22,472.72,515.56,527.0,522.9,503.24,376.54,457.94,455.54,375.66,395.32,398.58,455.24,441.22,343.26,460.28,531.0,554.72,520.72,494.32,529.72,531.06,531.14,528.42,522.02,481.04,462.24,450.82,448.7,431.64,418.26,396.44,374.86,346.9],\"type\":\"box\",\"marker\":{\"line\":{\"outliercolor\":\"rgba(219, 64, 82, 0.6)\",\"outlierwidth\":2},\"color\":\"rgb(8,81,156)\",\"outliercolor\":\"rgba(219, 64, 82, 0.6)\"},\"line\":{\"color\":\"rgb(8,81,156)\"}}],                        {\"template\":{\"data\":{\"bar\":[{\"error_x\":{\"color\":\"#2a3f5f\"},\"error_y\":{\"color\":\"#2a3f5f\"},\"marker\":{\"line\":{\"color\":\"#E5ECF6\",\"width\":0.5},\"pattern\":{\"fillmode\":\"overlay\",\"size\":10,\"solidity\":0.2}},\"type\":\"bar\"}],\"barpolar\":[{\"marker\":{\"line\":{\"color\":\"#E5ECF6\",\"width\":0.5},\"pattern\":{\"fillmode\":\"overlay\",\"size\":10,\"solidity\":0.2}},\"type\":\"barpolar\"}],\"carpet\":[{\"aaxis\":{\"endlinecolor\":\"#2a3f5f\",\"gridcolor\":\"white\",\"linecolor\":\"white\",\"minorgridcolor\":\"white\",\"startlinecolor\":\"#2a3f5f\"},\"baxis\":{\"endlinecolor\":\"#2a3f5f\",\"gridcolor\":\"white\",\"linecolor\":\"white\",\"minorgridcolor\":\"white\",\"startlinecolor\":\"#2a3f5f\"},\"type\":\"carpet\"}],\"choropleth\":[{\"colorbar\":{\"outlinewidth\":0,\"ticks\":\"\"},\"type\":\"choropleth\"}],\"contour\":[{\"colorbar\":{\"outlinewidth\":0,\"ticks\":\"\"},\"colorscale\":[[0.0,\"#0d0887\"],[0.1111111111111111,\"#46039f\"],[0.2222222222222222,\"#7201a8\"],[0.3333333333333333,\"#9c179e\"],[0.4444444444444444,\"#bd3786\"],[0.5555555555555556,\"#d8576b\"],[0.6666666666666666,\"#ed7953\"],[0.7777777777777778,\"#fb9f3a\"],[0.8888888888888888,\"#fdca26\"],[1.0,\"#f0f921\"]],\"type\":\"contour\"}],\"contourcarpet\":[{\"colorbar\":{\"outlinewidth\":0,\"ticks\":\"\"},\"type\":\"contourcarpet\"}],\"heatmap\":[{\"colorbar\":{\"outlinewidth\":0,\"ticks\":\"\"},\"colorscale\":[[0.0,\"#0d0887\"],[0.1111111111111111,\"#46039f\"],[0.2222222222222222,\"#7201a8\"],[0.3333333333333333,\"#9c179e\"],[0.4444444444444444,\"#bd3786\"],[0.5555555555555556,\"#d8576b\"],[0.6666666666666666,\"#ed7953\"],[0.7777777777777778,\"#fb9f3a\"],[0.8888888888888888,\"#fdca26\"],[1.0,\"#f0f921\"]],\"type\":\"heatmap\"}],\"heatmapgl\":[{\"colorbar\":{\"outlinewidth\":0,\"ticks\":\"\"},\"colorscale\":[[0.0,\"#0d0887\"],[0.1111111111111111,\"#46039f\"],[0.2222222222222222,\"#7201a8\"],[0.3333333333333333,\"#9c179e\"],[0.4444444444444444,\"#bd3786\"],[0.5555555555555556,\"#d8576b\"],[0.6666666666666666,\"#ed7953\"],[0.7777777777777778,\"#fb9f3a\"],[0.8888888888888888,\"#fdca26\"],[1.0,\"#f0f921\"]],\"type\":\"heatmapgl\"}],\"histogram\":[{\"marker\":{\"pattern\":{\"fillmode\":\"overlay\",\"size\":10,\"solidity\":0.2}},\"type\":\"histogram\"}],\"histogram2d\":[{\"colorbar\":{\"outlinewidth\":0,\"ticks\":\"\"},\"colorscale\":[[0.0,\"#0d0887\"],[0.1111111111111111,\"#46039f\"],[0.2222222222222222,\"#7201a8\"],[0.3333333333333333,\"#9c179e\"],[0.4444444444444444,\"#bd3786\"],[0.5555555555555556,\"#d8576b\"],[0.6666666666666666,\"#ed7953\"],[0.7777777777777778,\"#fb9f3a\"],[0.8888888888888888,\"#fdca26\"],[1.0,\"#f0f921\"]],\"type\":\"histogram2d\"}],\"histogram2dcontour\":[{\"colorbar\":{\"outlinewidth\":0,\"ticks\":\"\"},\"colorscale\":[[0.0,\"#0d0887\"],[0.1111111111111111,\"#46039f\"],[0.2222222222222222,\"#7201a8\"],[0.3333333333333333,\"#9c179e\"],[0.4444444444444444,\"#bd3786\"],[0.5555555555555556,\"#d8576b\"],[0.6666666666666666,\"#ed7953\"],[0.7777777777777778,\"#fb9f3a\"],[0.8888888888888888,\"#fdca26\"],[1.0,\"#f0f921\"]],\"type\":\"histogram2dcontour\"}],\"mesh3d\":[{\"colorbar\":{\"outlinewidth\":0,\"ticks\":\"\"},\"type\":\"mesh3d\"}],\"parcoords\":[{\"line\":{\"colorbar\":{\"outlinewidth\":0,\"ticks\":\"\"}},\"type\":\"parcoords\"}],\"pie\":[{\"automargin\":true,\"type\":\"pie\"}],\"scatter\":[{\"marker\":{\"colorbar\":{\"outlinewidth\":0,\"ticks\":\"\"}},\"type\":\"scatter\"}],\"scatter3d\":[{\"line\":{\"colorbar\":{\"outlinewidth\":0,\"ticks\":\"\"}},\"marker\":{\"colorbar\":{\"outlinewidth\":0,\"ticks\":\"\"}},\"type\":\"scatter3d\"}],\"scattercarpet\":[{\"marker\":{\"colorbar\":{\"outlinewidth\":0,\"ticks\":\"\"}},\"type\":\"scattercarpet\"}],\"scattergeo\":[{\"marker\":{\"colorbar\":{\"outlinewidth\":0,\"ticks\":\"\"}},\"type\":\"scattergeo\"}],\"scattergl\":[{\"marker\":{\"colorbar\":{\"outlinewidth\":0,\"ticks\":\"\"}},\"type\":\"scattergl\"}],\"scattermapbox\":[{\"marker\":{\"colorbar\":{\"outlinewidth\":0,\"ticks\":\"\"}},\"type\":\"scattermapbox\"}],\"scatterpolar\":[{\"marker\":{\"colorbar\":{\"outlinewidth\":0,\"ticks\":\"\"}},\"type\":\"scatterpolar\"}],\"scatterpolargl\":[{\"marker\":{\"colorbar\":{\"outlinewidth\":0,\"ticks\":\"\"}},\"type\":\"scatterpolargl\"}],\"scatterternary\":[{\"marker\":{\"colorbar\":{\"outlinewidth\":0,\"ticks\":\"\"}},\"type\":\"scatterternary\"}],\"surface\":[{\"colorbar\":{\"outlinewidth\":0,\"ticks\":\"\"},\"colorscale\":[[0.0,\"#0d0887\"],[0.1111111111111111,\"#46039f\"],[0.2222222222222222,\"#7201a8\"],[0.3333333333333333,\"#9c179e\"],[0.4444444444444444,\"#bd3786\"],[0.5555555555555556,\"#d8576b\"],[0.6666666666666666,\"#ed7953\"],[0.7777777777777778,\"#fb9f3a\"],[0.8888888888888888,\"#fdca26\"],[1.0,\"#f0f921\"]],\"type\":\"surface\"}],\"table\":[{\"cells\":{\"fill\":{\"color\":\"#EBF0F8\"},\"line\":{\"color\":\"white\"}},\"header\":{\"fill\":{\"color\":\"#C8D4E3\"},\"line\":{\"color\":\"white\"}},\"type\":\"table\"}]},\"layout\":{\"annotationdefaults\":{\"arrowcolor\":\"#2a3f5f\",\"arrowhead\":0,\"arrowwidth\":1},\"autotypenumbers\":\"strict\",\"coloraxis\":{\"colorbar\":{\"outlinewidth\":0,\"ticks\":\"\"}},\"colorscale\":{\"diverging\":[[0,\"#8e0152\"],[0.1,\"#c51b7d\"],[0.2,\"#de77ae\"],[0.3,\"#f1b6da\"],[0.4,\"#fde0ef\"],[0.5,\"#f7f7f7\"],[0.6,\"#e6f5d0\"],[0.7,\"#b8e186\"],[0.8,\"#7fbc41\"],[0.9,\"#4d9221\"],[1,\"#276419\"]],\"sequential\":[[0.0,\"#0d0887\"],[0.1111111111111111,\"#46039f\"],[0.2222222222222222,\"#7201a8\"],[0.3333333333333333,\"#9c179e\"],[0.4444444444444444,\"#bd3786\"],[0.5555555555555556,\"#d8576b\"],[0.6666666666666666,\"#ed7953\"],[0.7777777777777778,\"#fb9f3a\"],[0.8888888888888888,\"#fdca26\"],[1.0,\"#f0f921\"]],\"sequentialminus\":[[0.0,\"#0d0887\"],[0.1111111111111111,\"#46039f\"],[0.2222222222222222,\"#7201a8\"],[0.3333333333333333,\"#9c179e\"],[0.4444444444444444,\"#bd3786\"],[0.5555555555555556,\"#d8576b\"],[0.6666666666666666,\"#ed7953\"],[0.7777777777777778,\"#fb9f3a\"],[0.8888888888888888,\"#fdca26\"],[1.0,\"#f0f921\"]]},\"colorway\":[\"#636efa\",\"#EF553B\",\"#00cc96\",\"#ab63fa\",\"#FFA15A\",\"#19d3f3\",\"#FF6692\",\"#B6E880\",\"#FF97FF\",\"#FECB52\"],\"font\":{\"color\":\"#2a3f5f\"},\"geo\":{\"bgcolor\":\"white\",\"lakecolor\":\"white\",\"landcolor\":\"#E5ECF6\",\"showlakes\":true,\"showland\":true,\"subunitcolor\":\"white\"},\"hoverlabel\":{\"align\":\"left\"},\"hovermode\":\"closest\",\"mapbox\":{\"style\":\"light\"},\"paper_bgcolor\":\"white\",\"plot_bgcolor\":\"#E5ECF6\",\"polar\":{\"angularaxis\":{\"gridcolor\":\"white\",\"linecolor\":\"white\",\"ticks\":\"\"},\"bgcolor\":\"#E5ECF6\",\"radialaxis\":{\"gridcolor\":\"white\",\"linecolor\":\"white\",\"ticks\":\"\"}},\"scene\":{\"xaxis\":{\"backgroundcolor\":\"#E5ECF6\",\"gridcolor\":\"white\",\"gridwidth\":2,\"linecolor\":\"white\",\"showbackground\":true,\"ticks\":\"\",\"zerolinecolor\":\"white\"},\"yaxis\":{\"backgroundcolor\":\"#E5ECF6\",\"gridcolor\":\"white\",\"gridwidth\":2,\"linecolor\":\"white\",\"showbackground\":true,\"ticks\":\"\",\"zerolinecolor\":\"white\"},\"zaxis\":{\"backgroundcolor\":\"#E5ECF6\",\"gridcolor\":\"white\",\"gridwidth\":2,\"linecolor\":\"white\",\"showbackground\":true,\"ticks\":\"\",\"zerolinecolor\":\"white\"}},\"shapedefaults\":{\"line\":{\"color\":\"#2a3f5f\"}},\"ternary\":{\"aaxis\":{\"gridcolor\":\"white\",\"linecolor\":\"white\",\"ticks\":\"\"},\"baxis\":{\"gridcolor\":\"white\",\"linecolor\":\"white\",\"ticks\":\"\"},\"bgcolor\":\"#E5ECF6\",\"caxis\":{\"gridcolor\":\"white\",\"linecolor\":\"white\",\"ticks\":\"\"}},\"title\":{\"x\":0.05},\"xaxis\":{\"automargin\":true,\"gridcolor\":\"white\",\"linecolor\":\"white\",\"ticks\":\"\",\"title\":{\"standoff\":15},\"zerolinecolor\":\"white\",\"zerolinewidth\":2},\"yaxis\":{\"automargin\":true,\"gridcolor\":\"white\",\"linecolor\":\"white\",\"ticks\":\"\",\"title\":{\"standoff\":15},\"zerolinecolor\":\"white\",\"zerolinewidth\":2}}}},                        {\"responsive\": true}                    ).then(function(){\n",
              "                            \n",
              "var gd = document.getElementById('aee45bc9-f4c2-4015-99ac-115bf90c2cc2');\n",
              "var x = new MutationObserver(function (mutations, observer) {{\n",
              "        var display = window.getComputedStyle(gd).display;\n",
              "        if (!display || display === 'none') {{\n",
              "            console.log([gd, 'removed!']);\n",
              "            Plotly.purge(gd);\n",
              "            observer.disconnect();\n",
              "        }}\n",
              "}});\n",
              "\n",
              "// Listen for the removal of the full notebook cells\n",
              "var notebookContainer = gd.closest('#notebook-container');\n",
              "if (notebookContainer) {{\n",
              "    x.observe(notebookContainer, {childList: true});\n",
              "}}\n",
              "\n",
              "// Listen for the clearing of the current output cell\n",
              "var outputEl = gd.closest('.output');\n",
              "if (outputEl) {{\n",
              "    x.observe(outputEl, {childList: true});\n",
              "}}\n",
              "\n",
              "                        })                };                            </script>        </div>\n",
              "</body>\n",
              "</html>"
            ]
          },
          "metadata": {},
          "output_type": "display_data"
        }
      ],
      "source": [
        "fig = go.Figure()\n",
        "fig.add_trace(go.Box(name='kWh amount', y=df.kWh_amount, boxmean='sd'))\n",
        "\n",
        "fig.update_traces(\n",
        "    marker=dict(\n",
        "        color='rgb(8,81,156)',\n",
        "        outliercolor='rgba(219, 64, 82, 0.6)',\n",
        "        line=dict(\n",
        "            outliercolor='rgba(219, 64, 82, 0.6)',\n",
        "            outlierwidth=2)),\n",
        "    line_color='rgb(8,81,156)'\n",
        ")\n",
        "fig.show()"
      ]
    },
    {
      "cell_type": "markdown",
      "id": "FZB1wRrLgFgZ",
      "metadata": {
        "id": "FZB1wRrLgFgZ"
      },
      "source": [
        "Get the outliers cases"
      ]
    },
    {
      "cell_type": "code",
      "execution_count": null,
      "id": "xmm5BNq5huH2",
      "metadata": {
        "id": "xmm5BNq5huH2"
      },
      "outputs": [],
      "source": [
        "def get_outliers(df, series):\n",
        "  q1 = series.quantile(0.25)\n",
        "  q3 = series.quantile(0.75)\n",
        "\n",
        "  if q1*q3 == 0:\n",
        "    iqr = abs(2*(q1+q3))\n",
        "    toprange = iqr\n",
        "    botrange = -toprange\n",
        "  else:\n",
        "    iqr = q3-q1\n",
        "    toprange = q3 + iqr * 1.5\n",
        "    botrange = q1 - iqr * 1.5\n",
        "\n",
        "  outliers_top=df[series > toprange]\n",
        "  outliers_bot= df[series < botrange]\n",
        "  outliers = pd.concat([outliers_bot, outliers_top], axis=0)\n",
        "\n",
        "  return (botrange, toprange, outliers)"
      ]
    },
    {
      "cell_type": "code",
      "execution_count": null,
      "id": "1AVa6YSZh0VD",
      "metadata": {
        "colab": {
          "base_uri": "https://localhost:8080/",
          "height": 398
        },
        "id": "1AVa6YSZh0VD",
        "outputId": "fb86c1c8-73a6-4464-edc2-4a8efd7b2dc2"
      },
      "outputs": [
        {
          "name": "stdout",
          "output_type": "stream",
          "text": [
            "674.4025\n",
            "50.182499999999976\n"
          ]
        },
        {
          "data": {
            "text/html": [
              "\n",
              "  <div id=\"df-6c29924e-b77e-4397-b5e0-994fac534e17\">\n",
              "    <div class=\"colab-df-container\">\n",
              "      <div>\n",
              "<style scoped>\n",
              "    .dataframe tbody tr th:only-of-type {\n",
              "        vertical-align: middle;\n",
              "    }\n",
              "\n",
              "    .dataframe tbody tr th {\n",
              "        vertical-align: top;\n",
              "    }\n",
              "\n",
              "    .dataframe thead th {\n",
              "        text-align: right;\n",
              "    }\n",
              "</style>\n",
              "<table border=\"1\" class=\"dataframe\">\n",
              "  <thead>\n",
              "    <tr style=\"text-align: right;\">\n",
              "      <th></th>\n",
              "      <th>date</th>\n",
              "      <th>hour</th>\n",
              "      <th>kWh_amount</th>\n",
              "    </tr>\n",
              "  </thead>\n",
              "  <tbody>\n",
              "    <tr>\n",
              "      <th>4676</th>\n",
              "      <td>08/04/2021</td>\n",
              "      <td>11:00:00</td>\n",
              "      <td>25.88</td>\n",
              "    </tr>\n",
              "    <tr>\n",
              "      <th>4677</th>\n",
              "      <td>08/04/2021</td>\n",
              "      <td>11:30:00</td>\n",
              "      <td>7.06</td>\n",
              "    </tr>\n",
              "    <tr>\n",
              "      <th>4873</th>\n",
              "      <td>12/04/2021</td>\n",
              "      <td>13:30:00</td>\n",
              "      <td>40.40</td>\n",
              "    </tr>\n",
              "    <tr>\n",
              "      <th>5298</th>\n",
              "      <td>21/04/2021</td>\n",
              "      <td>10:00:00</td>\n",
              "      <td>46.34</td>\n",
              "    </tr>\n",
              "    <tr>\n",
              "      <th>13936</th>\n",
              "      <td>18/10/2021</td>\n",
              "      <td>09:00:00</td>\n",
              "      <td>6.20</td>\n",
              "    </tr>\n",
              "    <tr>\n",
              "      <th>13937</th>\n",
              "      <td>18/10/2021</td>\n",
              "      <td>09:30:00</td>\n",
              "      <td>0.00</td>\n",
              "    </tr>\n",
              "    <tr>\n",
              "      <th>13938</th>\n",
              "      <td>18/10/2021</td>\n",
              "      <td>10:00:00</td>\n",
              "      <td>0.00</td>\n",
              "    </tr>\n",
              "    <tr>\n",
              "      <th>13939</th>\n",
              "      <td>18/10/2021</td>\n",
              "      <td>10:30:00</td>\n",
              "      <td>0.00</td>\n",
              "    </tr>\n",
              "    <tr>\n",
              "      <th>1044</th>\n",
              "      <td>22/01/2021</td>\n",
              "      <td>18:00:00</td>\n",
              "      <td>678.96</td>\n",
              "    </tr>\n",
              "    <tr>\n",
              "      <th>14545</th>\n",
              "      <td>31/10/2021</td>\n",
              "      <td>01:30:00</td>\n",
              "      <td>906.32</td>\n",
              "    </tr>\n",
              "  </tbody>\n",
              "</table>\n",
              "</div>\n",
              "      <button class=\"colab-df-convert\" onclick=\"convertToInteractive('df-6c29924e-b77e-4397-b5e0-994fac534e17')\"\n",
              "              title=\"Convert this dataframe to an interactive table.\"\n",
              "              style=\"display:none;\">\n",
              "        \n",
              "  <svg xmlns=\"http://www.w3.org/2000/svg\" height=\"24px\"viewBox=\"0 0 24 24\"\n",
              "       width=\"24px\">\n",
              "    <path d=\"M0 0h24v24H0V0z\" fill=\"none\"/>\n",
              "    <path d=\"M18.56 5.44l.94 2.06.94-2.06 2.06-.94-2.06-.94-.94-2.06-.94 2.06-2.06.94zm-11 1L8.5 8.5l.94-2.06 2.06-.94-2.06-.94L8.5 2.5l-.94 2.06-2.06.94zm10 10l.94 2.06.94-2.06 2.06-.94-2.06-.94-.94-2.06-.94 2.06-2.06.94z\"/><path d=\"M17.41 7.96l-1.37-1.37c-.4-.4-.92-.59-1.43-.59-.52 0-1.04.2-1.43.59L10.3 9.45l-7.72 7.72c-.78.78-.78 2.05 0 2.83L4 21.41c.39.39.9.59 1.41.59.51 0 1.02-.2 1.41-.59l7.78-7.78 2.81-2.81c.8-.78.8-2.07 0-2.86zM5.41 20L4 18.59l7.72-7.72 1.47 1.35L5.41 20z\"/>\n",
              "  </svg>\n",
              "      </button>\n",
              "      \n",
              "  <style>\n",
              "    .colab-df-container {\n",
              "      display:flex;\n",
              "      flex-wrap:wrap;\n",
              "      gap: 12px;\n",
              "    }\n",
              "\n",
              "    .colab-df-convert {\n",
              "      background-color: #E8F0FE;\n",
              "      border: none;\n",
              "      border-radius: 50%;\n",
              "      cursor: pointer;\n",
              "      display: none;\n",
              "      fill: #1967D2;\n",
              "      height: 32px;\n",
              "      padding: 0 0 0 0;\n",
              "      width: 32px;\n",
              "    }\n",
              "\n",
              "    .colab-df-convert:hover {\n",
              "      background-color: #E2EBFA;\n",
              "      box-shadow: 0px 1px 2px rgba(60, 64, 67, 0.3), 0px 1px 3px 1px rgba(60, 64, 67, 0.15);\n",
              "      fill: #174EA6;\n",
              "    }\n",
              "\n",
              "    [theme=dark] .colab-df-convert {\n",
              "      background-color: #3B4455;\n",
              "      fill: #D2E3FC;\n",
              "    }\n",
              "\n",
              "    [theme=dark] .colab-df-convert:hover {\n",
              "      background-color: #434B5C;\n",
              "      box-shadow: 0px 1px 3px 1px rgba(0, 0, 0, 0.15);\n",
              "      filter: drop-shadow(0px 1px 2px rgba(0, 0, 0, 0.3));\n",
              "      fill: #FFFFFF;\n",
              "    }\n",
              "  </style>\n",
              "\n",
              "      <script>\n",
              "        const buttonEl =\n",
              "          document.querySelector('#df-6c29924e-b77e-4397-b5e0-994fac534e17 button.colab-df-convert');\n",
              "        buttonEl.style.display =\n",
              "          google.colab.kernel.accessAllowed ? 'block' : 'none';\n",
              "\n",
              "        async function convertToInteractive(key) {\n",
              "          const element = document.querySelector('#df-6c29924e-b77e-4397-b5e0-994fac534e17');\n",
              "          const dataTable =\n",
              "            await google.colab.kernel.invokeFunction('convertToInteractive',\n",
              "                                                     [key], {});\n",
              "          if (!dataTable) return;\n",
              "\n",
              "          const docLinkHtml = 'Like what you see? Visit the ' +\n",
              "            '<a target=\"_blank\" href=https://colab.research.google.com/notebooks/data_table.ipynb>data table notebook</a>'\n",
              "            + ' to learn more about interactive tables.';\n",
              "          element.innerHTML = '';\n",
              "          dataTable['output_type'] = 'display_data';\n",
              "          await google.colab.output.renderOutput(dataTable, element);\n",
              "          const docLink = document.createElement('div');\n",
              "          docLink.innerHTML = docLinkHtml;\n",
              "          element.appendChild(docLink);\n",
              "        }\n",
              "      </script>\n",
              "    </div>\n",
              "  </div>\n",
              "  "
            ],
            "text/plain": [
              "             date      hour  kWh_amount\n",
              "4676   08/04/2021  11:00:00       25.88\n",
              "4677   08/04/2021  11:30:00        7.06\n",
              "4873   12/04/2021  13:30:00       40.40\n",
              "5298   21/04/2021  10:00:00       46.34\n",
              "13936  18/10/2021  09:00:00        6.20\n",
              "13937  18/10/2021  09:30:00        0.00\n",
              "13938  18/10/2021  10:00:00        0.00\n",
              "13939  18/10/2021  10:30:00        0.00\n",
              "1044   22/01/2021  18:00:00      678.96\n",
              "14545  31/10/2021  01:30:00      906.32"
            ]
          },
          "execution_count": 37,
          "metadata": {},
          "output_type": "execute_result"
        }
      ],
      "source": [
        "botrange, toprange, outliers = get_outliers(df, df.kWh_amount)\n",
        "print(toprange)\n",
        "print(botrange)\n",
        "\n",
        "outliers"
      ]
    },
    {
      "cell_type": "markdown",
      "id": "SvIJOFvs_br6",
      "metadata": {
        "id": "SvIJOFvs_br6"
      },
      "source": [
        "it's difficult to determine the reason behind these extreme values without additional context. However, there are a few potential reasons why these outliers might occur:\n",
        "1. Meter malfunction: It's possible that the meter used to measure the electricity consumption is faulty, leading to inaccurate readings.\n",
        "2. Data entry errors: The outliers could be a result of errors during data entry, such as typos or incorrect units.\n",
        "3. Extreme weather conditions: The consumption of electricity can vary widely depending on weather conditions. Extremely hot or cold weather can lead to increased usage of air conditioning or heating, respectively.\n",
        "4. Human error: The user could have made a mistake, such as leaving an appliance running for an extended period of time or forgetting to turn off lights.\n"
      ]
    },
    {
      "cell_type": "markdown",
      "id": "TXXGvjUWdPUc",
      "metadata": {
        "id": "TXXGvjUWdPUc"
      },
      "source": [
        "# Save the changes to excel file\n"
      ]
    },
    {
      "cell_type": "code",
      "execution_count": 13,
      "id": "56b3b66b-aef3-4eef-8e84-94b925eb9171",
      "metadata": {
        "id": "56b3b66b-aef3-4eef-8e84-94b925eb9171"
      },
      "outputs": [],
      "source": [
        "df.to_csv('consumer_b.csv', index=False)"
      ]
    }
  ],
  "metadata": {
    "colab": {
      "collapsed_sections": [
        "W2NZ0_te5kuG",
        "9c8GfasE4SRs",
        "0nSBAJow7FI5",
        "wPMlMQFM7PR8",
        "0lLFGN6uC16R",
        "-3NbCDIr7t2o",
        "unJMqJDkcVcm",
        "TXXGvjUWdPUc"
      ],
      "provenance": []
    },
    "kernelspec": {
      "display_name": "Python 3 (ipykernel)",
      "language": "python",
      "name": "python3"
    },
    "language_info": {
      "codemirror_mode": {
        "name": "ipython",
        "version": 3
      },
      "file_extension": ".py",
      "mimetype": "text/x-python",
      "name": "python",
      "nbconvert_exporter": "python",
      "pygments_lexer": "ipython3",
      "version": "3.10.7"
    },
    "vscode": {
      "interpreter": {
        "hash": "66e628c84da382ad7967f4329a61f93910ec7b6691d6661c4d2f609816ca70e1"
      }
    }
  },
  "nbformat": 4,
  "nbformat_minor": 5
}
